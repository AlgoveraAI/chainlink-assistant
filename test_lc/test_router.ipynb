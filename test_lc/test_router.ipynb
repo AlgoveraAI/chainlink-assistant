{
 "cells": [
  {
   "cell_type": "code",
   "execution_count": 1,
   "metadata": {},
   "outputs": [],
   "source": [
    "from dotenv import load_dotenv\n",
    "load_dotenv(\"/home/marshath/play/chainlink/algovate/.env\")\n",
    "\n",
    "import logging\n",
    "logging.basicConfig(level=logging.DEBUG)\n",
    "logger = logging.getLogger(__name__)"
   ]
  },
  {
   "cell_type": "code",
   "execution_count": 20,
   "metadata": {},
   "outputs": [],
   "source": [
    "import time\n",
    "import pickle\n",
    "import pandas as pd\n",
    "from IPython.display import Markdown\n",
    "\n",
    "from langchain.vectorstores import FAISS\n",
    "from langchain.text_splitter import TokenTextSplitter, RecursiveCharacterTextSplitter\n",
    "from langchain.docstore.document import Document\n",
    "from langchain.embeddings import OpenAIEmbeddings\n",
    "from langchain.chains import FlareChain, RetrievalQAWithSourcesChain\n",
    "from langchain.chains.router import MultiRetrievalQAChain\n",
    "from langchain.chat_models import ChatOpenAI\n",
    "from langchain.prompts import PromptTemplate\n",
    "from tqdm.notebook import tqdm\n",
    "\n",
    "from algovate.evaluate import run_eval"
   ]
  },
  {
   "cell_type": "code",
   "execution_count": 17,
   "metadata": {},
   "outputs": [],
   "source": [
    "with open(\"/home/marshath/play/chainlink/algovate/algovate/data/documents.pkl\", \"rb\") as f:\n",
    "    documents = pickle.load(f)"
   ]
  },
  {
   "cell_type": "code",
   "execution_count": 4,
   "metadata": {},
   "outputs": [],
   "source": [
    "def name_desc(\n",
    "    documents\n",
    "):\n",
    "    \n",
    "    splitter = RecursiveCharacterTextSplitter(chunk_size=1500, chunk_overlap=50)\n",
    "    documents = splitter.split_documents(documents)\n",
    "\n",
    "    vectorstore = FAISS.from_documents(documents, embedding=OpenAIEmbeddings())\n",
    "    retriever = vectorstore.as_retriever()\n",
    "\n",
    "    template = \"\"\"\n",
    "    Given the following extracted parts of a long document and a question, create a name for the document in less than 4 words and description in 20 words.\n",
    "\n",
    "    QUESTION: {question}\n",
    "    =========\n",
    "    {summaries}\n",
    "    =========\n",
    "    Name:\n",
    "    Description:\n",
    "    \"\"\"\n",
    "\n",
    "    PROMPT = PromptTemplate(template=template, \n",
    "                            input_variables=[\"summaries\", \"question\"])\n",
    "    \n",
    "    chain = RetrievalQAWithSourcesChain.from_chain_type(ChatOpenAI(temperature=0.), \n",
    "                                                        chain_type=\"stuff\", \n",
    "                                                        retriever=retriever,\n",
    "                                                        chain_type_kwargs={\"prompt\":PROMPT})\n",
    "    result = chain({\n",
    "    \"question\": \"What is this document about\",\n",
    "    }, return_only_outputs=True)\n",
    "\n",
    "    try:\n",
    "        name = result[\"answer\"].split(\":\")[1].split(\"\\n\")[0].strip()\n",
    "        desc = result[\"answer\"].split(\":\")[2].split(\"\\n\")[0].strip()\n",
    "    except:\n",
    "        name = \"\"\n",
    "        desc = \"\"\n",
    "    return name, desc, retriever, vectorstore, documents"
   ]
  },
  {
   "cell_type": "code",
   "execution_count": 23,
   "metadata": {},
   "outputs": [
    {
     "data": {
      "application/vnd.jupyter.widget-view+json": {
       "model_id": "38a2c33ce047417e9f9ba5758d5d17bb",
       "version_major": 2,
       "version_minor": 0
      },
      "text/plain": [
       "  0%|          | 0/151 [00:00<?, ?it/s]"
      ]
     },
     "metadata": {},
     "output_type": "display_data"
    },
    {
     "name": "stderr",
     "output_type": "stream",
     "text": [
      "DEBUG:openai:message='Request to OpenAI API' method=post path=https://api.openai.com/v1/engines/text-embedding-ada-002/embeddings\n",
      "DEBUG:openai:api_version=None data='{\"input\": [[2, 29625, 2125, 54878, 35300, 271, 220, 353, 35907, 198, 220, 353, 11443, 315, 1701, 29625, 2125, 54878, 198, 220, 353, 2650, 64815, 21785, 198, 220, 353, 3161, 81949, 10736, 198, 220, 353, 2360, 2494, 10937, 198, 220, 353, 32025, 8335, 198, 220, 353, 8650, 6727, 323, 21523, 426, 55432, 198, 220, 353, 57152, 12, 24375, 6074, 271, 567, 11443, 315, 1701, 29625, 2125, 54878, 271, 19368, 2125, 54878, 1193, 7612, 459, 11572, 11307, 369, 14463, 389, 66286, 627, 2028, 11307, 5764, 279, 7901, 2853, 11, 264, 11668, 15193, 320, 42260, 311, 279, 198, 60599, 3770, 705, 323, 264, 2678, 8521, 6962, 32115, 24043, 369, 6962, 1990, 279, 198, 17969, 323, 279, 19989, 13, 578, 15193, 14573, 988, 279, 54878, 8304, 369, 198, 33325, 287, 323, 16785, 701, 97196, 13, 578, 15193, 35327, 555, 8957, 323, 374, 198, 32340, 389, 1057, 510, 35736, 39810, 9725, 14, 8995, 2125, 12, 68180, 2754, 12796, 57832, 82, 340, 2964, 2055, 3947, 374, 912, 12506, 11307, 477, 1023, 12718, 369, 904, 1022, 66286, 35547, 382, 334, 13617, 334, 551, 1556, 97196, 7901, 574, 16070, 389, 721, 38719, 1925, 4816, 5056, 1102, 1511, 198, 62, 16, 13, 845, 44, 62, 6962, 520, 264, 6962, 3430, 315, 721, 10750, 13, 18, 342, 28204, 5056, 578, 15193, 11668, 389, 49259, 198, 285, 721, 2031, 4, 62, 320, 300, 315, 6664, 220, 2366, 17, 8, 323, 279, 386, 780, 7586, 11898, 9473, 4478, 374, 721, 15, 13, 9263, 5056, 578, 198, 455, 13397, 596, 41591, 8335, 690, 387, 11293, 555, 264, 11307, 315, 721, 15, 13, 8759, 2721, 41591, 62, 2055, 567, 2650, 64815, 21785, 271, 2378, 441, 7270, 617, 264, 41591, 320, 28534, 12, 24375, 8, 8335, 13, 7357, 892, 459, 389, 66286, 7901, 374, 198, 716, 10365, 369, 701, 97196, 11, 1202, 41591, 8335, 690, 387, 11293, 555, 279, 41591, 11307, 13], [7927, 97196, 596, 8335, 2011, 12771, 279, 8187, 8335, 13, 1442, 420, 16686, 374, 198, 1962, 2322, 11, 279, 54878, 8304, 690, 539, 2804, 389, 66286, 14463, 13, 1472, 198, 4919, 923, 10736, 1701, 279, 510, 19368, 2125, 54878, 198, 2213, 9725, 2485, 1129, 68180, 53141, 18567, 51907, 477, 555, 6089, 8260, 279, 1595, 723, 37, 44050, 368, 4077, 1723, 389, 279, 1595, 99956, 15976, 63, 5226, 13, 33634, 649, 1650, 279, 198, 63, 723, 37, 44050, 55358, 734, 382, 567, 3161, 81949, 10736, 271, 1271, 15142, 264, 41591, 8335, 11, 499, 2011, 9299, 701, 97196, 1176, 13, 5884, 97196, 430, 198, 4752, 539, 7543, 810, 1109, 459, 71922, 3392, 315, 220, 15, 13, 16, 41591, 12718, 927, 279, 9575, 315, 198, 1220, 19569, 374, 3917, 311, 264, 721, 15, 13, 16, 41591, 62, 11307, 13, 1115, 36935, 11307, 36236, 198, 3593, 20197, 505, 993, 43157, 889, 4254, 7032, 430, 2646, 2804, 382, 334, 13617, 220, 16, 334, 551, 4718, 97196, 706, 7543, 721, 19, 13, 23, 41591, 62, 927, 1202, 19569, 323, 706, 264, 198, 22298, 315, 721, 20, 41591, 5056, 3277, 433, 374, 26765, 11, 358, 690, 5371, 721, 20, 41591, 5056, 3146, 13617, 198, 17, 334, 551, 4718, 97196, 706, 7543, 721, 15, 41591, 62, 927, 1202, 19569, 323, 706, 264, 8335, 315, 721, 20, 198, 37056, 5056, 3277, 433, 374, 26765, 11, 358, 690, 5371, 721, 19, 13, 24, 41591, 62, 382, 567, 2360, 2494, 10937, 271, 44259, 54878, 53601, 656, 539, 20874, 449, 832, 2500, 11, 719, 4856, 990, 198, 998, 3522, 311, 6106, 682, 9879, 709, 441, 7270, 527, 10887, 13, 1115, 3727, 7194, 810, 198, 35798, 481, 65451, 11, 28462, 499, 311, 16430, 7194, 3196, 389, 279, 3685, 6962, 198, 67776, 562, 382, 567, 32025, 8335], [567, 32025, 8335, 271, 791, 29625, 2125, 54878, 8304, 374, 6319, 311, 2804, 701, 97196, 1524, 994, 198, 40625, 7729, 37393, 13, 578, 8187, 8335, 304, 41591, 27053, 279, 1888, 16430, 315, 198, 1820, 2853, 311, 2804, 701, 97196, 994, 6962, 7729, 37393, 13, 2057, 6106, 701, 97196, 198, 285, 41223, 323, 10887, 11, 6106, 430, 701, 97196, 596, 8335, 374, 3485, 420, 198, 39088, 8335, 382, 791, 8187, 8335, 374, 16997, 1701, 279, 1510, 5043, 6962, 3430, 11, 279, 6962, 198, 9696, 499, 10862, 369, 701, 97196, 11, 279, 1973, 6962, 31659, 11, 323, 279, 369, 198, 74825, 311, 41591, 13, 2057, 1505, 279, 5652, 907, 369, 279, 1595, 40625, 43270, 8138, 67973, 13188, 4151, 279, 510, 15976, 12499, 9725, 14, 8995, 2125, 12, 68180, 2754, 12796, 57832, 82, 27657, 1710, 22166, 8, 2199, 382, 12763, 510, 67913, 467, 264, 8187, 8335, 9725, 14, 8995, 2125, 12, 68180, 82217, 5352, 441, 7270, 27657, 67913, 467, 7561, 13703, 3375, 1481, 5085, 8, 311, 6106, 430, 701, 97196, 374, 24853, 382, 567, 8650, 6727, 323, 21523, 426, 55432, 271, 99956, 53601, 3373, 279, 6962, 3430, 43111, 3196, 389, 279, 7729, 315, 198, 42944, 2949, 279, 1566, 3892, 10215, 13, 1115, 7706, 4861, 279, 6962, 3430, 198, 31039, 389, 1510, 4009, 4787, 13, 54878, 53601, 527, 20336, 311, 3373, 198, 64, 3430, 3196, 389, 264, 2218, 66257, 382, 2746, 279, 54878, 6146, 1587, 539, 1518, 279, 1595, 29588, 2378, 13397, 63, 7901, 636, 198, 42128, 2949, 279, 1828, 2478, 10215, 11, 433, 9651, 41800, 279, 198, 13838, 323, 65822, 279, 6962, 3430, 13, 1115, 1920, 44694, 3156, 279, 198, 13838, 374, 11007, 382, 567, 57152, 12, 24375, 6074], [567, 57152, 12, 24375, 6074, 271, 2520, 11006, 389, 1925, 4816, 11, 499, 690, 1205, 57152, 12, 24375, 41591, 13, 9176, 4037, 40073, 3041, 198, 9514, 57152, 12, 508, 41591, 11460, 13, 5560, 50766, 47279, 311, 510, 14500, 29625, 2125, 11460, 320, 37056, 8, 311, 387, 198, 28534, 12, 24375, 18641, 9725, 2485, 1129, 10524, 26825, 53141, 18567, 14, 570, 2057, 3887, 389, 264, 7396, 198, 1985, 4816, 11, 636, 510, 37056, 9725, 14, 13035, 56531, 35941, 15204, 37288, 8, 369, 279, 1296, 4816, 499, 527, 198, 985, 505, 1057, 510, 3716, 1791, 295, 9725, 2485, 1129, 3716, 1791, 1441, 53141, 18567, 14, 3677, 567, 3639, 596, 1828, 271, 220, 353, 510, 69209, 87684, 9725, 14, 8995, 2125, 12, 68180, 88662, 27455, 14, 696, 220, 353, 510, 8505, 420, 2199, 2331, 7, 2485, 1129, 5316, 916, 2754, 34572, 20871, 8390, 86686, 64078, 15711, 13743, 30178, 14, 8995, 2125, 12, 68180, 14, 68180, 5773, 81192, 749, 13009, 340, 220, 353, 510, 16877, 1057, 4029, 2331, 7, 2485, 1129, 43679, 916, 14, 57379, 14520, 16074, 19, 96304, 8]], \"encoding_format\": \"base64\"}' message='Post details'\n",
      "DEBUG:urllib3.connectionpool:https://api.openai.com:443 \"POST /v1/engines/text-embedding-ada-002/embeddings HTTP/1.1\" 200 None\n",
      "DEBUG:openai:message='OpenAI API response' path=https://api.openai.com/v1/engines/text-embedding-ada-002/embeddings processing_ms=404 request_id=7d01b917c6e61256d798128cc2a2bd15 response_code=200\n",
      "DEBUG:openai:message='Request to OpenAI API' method=post path=https://api.openai.com/v1/engines/text-embedding-ada-002/embeddings\n",
      "DEBUG:openai:api_version=None data='{\"input\": [\"What is this document about\"], \"encoding_format\": \"base64\"}' message='Post details'\n",
      "DEBUG:urllib3.connectionpool:https://api.openai.com:443 \"POST /v1/engines/text-embedding-ada-002/embeddings HTTP/1.1\" 200 None\n",
      "DEBUG:openai:message='OpenAI API response' path=https://api.openai.com/v1/engines/text-embedding-ada-002/embeddings processing_ms=109 request_id=fb030a9ce716091710f66e446133274b response_code=200\n",
      "DEBUG:openai:message='Request to OpenAI API' method=post path=https://api.openai.com/v1/chat/completions\n",
      "DEBUG:openai:api_version=None data='{\"messages\": [{\"role\": \"user\", \"content\": \"\\\\n    Given the following extracted parts of a long document and a question, create a name for the document in less than 4 words and description in 20 words.\\\\n\\\\n    QUESTION: What is this document about\\\\n    =========\\\\n    Content: ## ERC-677 Link\\\\n\\\\nFor funding on mainnet, you will need ERC-677 LINK. Many token bridges give\\\\nyou ERC-20 LINK tokens. Use PegSwap to [convert Chainlink tokens (LINK) to be\\\\nERC-677 compatible](https://pegswap.chain.link/). To fund on a supported\\\\ntestnet, get [LINK](/resources/link-token-contracts) for the testnet you are\\\\nusing from our [faucet](https://faucets.chain.link/).\\\\n\\\\n## What\\'s next\\\\n\\\\n  * [\\\\u203a FAQs](/chainlink-automation/faqs/)\\\\n\\\\n  * [ Edit this page ](https://github.com/smartcontractkit/documentation/tree/main/src/pages/chainlink-automation/automation-economics.mdx)\\\\n  * [ Join our community ](https://discord.com/invite/aSK4zew)\\\\nSource: https://docs.chain.link/chainlink-automation/automation-economics/\\\\n\\\\nContent: # Chainlink Automation Economics\\\\n\\\\n  * Overview\\\\n  * Cost of using Chainlink Automation\\\\n  * How Funding Works\\\\n  * Withdrawing funds\\\\n  * No node competition\\\\n  * Minimum balance\\\\n  * Price selection and Gas Bumping\\\\n  * ERC-677 Link\\\\n\\\\n## Cost of using Chainlink Automation\\\\n\\\\nChainlink Automation only requires an execution fee for transactions on-chain.\\\\nThis fee includes the transaction cost, a percentage premium (refer to the\\\\nformula below), and a small fixed gas overhead accounting for gas between the\\\\nnetwork and the registry. The premium compensates the Automation Network for\\\\nmonitoring and performing your upkeep. The premium varies by chain and is\\\\nlisted on our [Supported Networks](/chainlink-automation/supported-networks)\\\\npage.\\\\n\\\\n\\\\n\\\\nThere is no registration fee or other fees for any off-chain computation.\\\\n\\\\n**Example** : An upkeep transaction was executed on _Polygon mainnet_. It used\\\\n_1.16M_ gas at a gas price of _183.3 gwei_. The premium percentage on Polygon\\\\nis _70%_ (as of October 2022) and the Matic/LINK exchange rate is _0.131_. The\\\\nupkeep\\'s LINK balance will be reduced by a fee of _0.00495 LINK_.\\\\n\\\\n\\\\n\\\\n## How Funding Works\\\\n\\\\nUpkeeps have a LINK (ERC-677) balance. Every time an on-chain transaction is\\\\nperformed for your upkeep, its LINK balance will be reduced by the LINK fee.\\\\nSource: https://docs.chain.link/chainlink-automation/automation-economics/\\\\n\\\\nContent: ## Minimum balance\\\\n\\\\nThe Chainlink Automation Network is designed to perform your upkeep even when\\\\ngas prices spike. The minimum balance in LINK reflects the best estimate of\\\\nthe cost to perform your upkeep when gas prices spike. To ensure your upkeep\\\\nis monitored and performed, ensure that your upkeep\\'s balance is above this\\\\nminimum balance.\\\\n\\\\nThe minimum balance is calculated using the current fast gas price, the gas\\\\nlimit you entered for your upkeep, the max gas multiplier, and the for\\\\nconversion to LINK. To find the latest value for the `gasCeilingMultiplier`,\\\\nsee the [Registry Configuration](/chainlink-automation/supported-networks/#configurations) page.\\\\n\\\\nFollow [maintain a minimum balance](/chainlink-automation/manage-upkeeps/#maintain-a-minimum-balance) to ensure that your upkeep is funded.\\\\n\\\\n## Price selection and Gas Bumping\\\\n\\\\nAutomation Nodes select the gas price dynamically based on the prices of\\\\ntransactions within the last several blocks. This optimizes the gas price\\\\nbased on current network conditions. Automation Nodes are configured to select\\\\na price based on a target percentile.\\\\n\\\\nIf the Automation Node does not see the `performUpkeep` transaction get\\\\nconfirmed within the next few blocks, it automatically replaces the\\\\ntransaction and bumps the gas price. This process repeats until the\\\\ntransaction is confirmed.\\\\n\\\\n## ERC-677 Link\\\\nSource: https://docs.chain.link/chainlink-automation/automation-economics/\\\\n\\\\nContent: Your upkeep\\'s balance must exceed the minimum balance. If this requirement is\\\\nnot met, the Automation Network will not perform on-chain transactions. You\\\\ncan add funds using the [Chainlink Automation\\\\nApp](https://automation.chain.link/) or by directly calling the `addFunds()`\\\\nfunction on the `AutomationRegistry` contract. Anyone can call the\\\\n`addFunds()` function.\\\\n\\\\n## Withdrawing funds\\\\n\\\\nTo withdraw a LINK balance, you must cancel your upkeep first. Any upkeep that\\\\nhas not spent more than an aggregated amount of 0.1 LINK fees over the span of\\\\nits lifetime is subject to a _0.1 LINK_ fee. This cancellation fee protects\\\\nnode operators from spammers who register jobs that never perform.\\\\n\\\\n**Example 1** : Your upkeep has spent _4.8 LINK_ over its lifetime and has a\\\\nbalance of _5 LINK_. When it is cancelled, I will receive _5 LINK_. **Example\\\\n2** : Your upkeep has spent _0 LINK_ over its lifetime and has a balance of _5\\\\nLINK_. When it is cancelled, I will receive _4.9 LINK_.\\\\n\\\\n## No node competition\\\\n\\\\nIndividual Automation Nodes do not compete with one another, but rather work\\\\ntogether to ensure all registered upkeeps are performed. This makes costs more\\\\npredictable upfront, enabling you to estimate costs based on the expected gas\\\\nconsumption.\\\\n\\\\n## Minimum balance\\\\nSource: https://docs.chain.link/chainlink-automation/automation-economics/\\\\n    =========\\\\n    Name:\\\\n    Description:\\\\n    \"}], \"model\": \"gpt-3.5-turbo\", \"max_tokens\": null, \"stream\": false, \"n\": 1, \"temperature\": 0.0}' message='Post details'\n",
      "DEBUG:urllib3.connectionpool:https://api.openai.com:443 \"POST /v1/chat/completions HTTP/1.1\" 200 None\n",
      "DEBUG:openai:message='OpenAI API response' path=https://api.openai.com/v1/chat/completions processing_ms=4734 request_id=e71a6f399fd49fb07b6edd63c88c0fa1 response_code=200\n"
     ]
    }
   ],
   "source": [
    "retriever_infos = []\n",
    "for doc in tqdm(documents[15:], total=len(documents)):\n",
    "    name, desc, retriever, vectorstore, d = name_desc([doc])\n",
    "    retriever_infos.append(\n",
    "                            {\"name\":name, \n",
    "                            \"description\":desc, \n",
    "                            \"retriever\":retriever}\n",
    "                        )\n",
    "    break"
   ]
  },
  {
   "cell_type": "code",
   "execution_count": 27,
   "metadata": {},
   "outputs": [
    {
     "data": {
      "text/markdown": [
       "## Minimum balance\n",
       "\n",
       "The Chainlink Automation Network is designed to perform your upkeep even when\n",
       "gas prices spike. The minimum balance in LINK reflects the best estimate of\n",
       "the cost to perform your upkeep when gas prices spike. To ensure your upkeep\n",
       "is monitored and performed, ensure that your upkeep's balance is above this\n",
       "minimum balance.\n",
       "\n",
       "The minimum balance is calculated using the current fast gas price, the gas\n",
       "limit you entered for your upkeep, the max gas multiplier, and the for\n",
       "conversion to LINK. To find the latest value for the `gasCeilingMultiplier`,\n",
       "see the [Registry Configuration](/chainlink-automation/supported-networks/#configurations) page.\n",
       "\n",
       "Follow [maintain a minimum balance](/chainlink-automation/manage-upkeeps/#maintain-a-minimum-balance) to ensure that your upkeep is funded.\n",
       "\n",
       "## Price selection and Gas Bumping\n",
       "\n",
       "Automation Nodes select the gas price dynamically based on the prices of\n",
       "transactions within the last several blocks. This optimizes the gas price\n",
       "based on current network conditions. Automation Nodes are configured to select\n",
       "a price based on a target percentile.\n",
       "\n",
       "If the Automation Node does not see the `performUpkeep` transaction get\n",
       "confirmed within the next few blocks, it automatically replaces the\n",
       "transaction and bumps the gas price. This process repeats until the\n",
       "transaction is confirmed.\n",
       "\n",
       "## ERC-677 Link"
      ],
      "text/plain": [
       "<IPython.core.display.Markdown object>"
      ]
     },
     "execution_count": 27,
     "metadata": {},
     "output_type": "execute_result"
    }
   ],
   "source": [
    "Markdown(d[2].page_content)"
   ]
  },
  {
   "cell_type": "code",
   "execution_count": null,
   "metadata": {},
   "outputs": [],
   "source": []
  },
  {
   "attachments": {},
   "cell_type": "markdown",
   "metadata": {},
   "source": [
    "### Count number of token"
   ]
  },
  {
   "attachments": {},
   "cell_type": "markdown",
   "metadata": {},
   "source": [
    " "
   ]
  }
 ],
 "metadata": {
  "kernelspec": {
   "display_name": "chainlink",
   "language": "python",
   "name": "python3"
  },
  "language_info": {
   "codemirror_mode": {
    "name": "ipython",
    "version": 3
   },
   "file_extension": ".py",
   "mimetype": "text/x-python",
   "name": "python",
   "nbconvert_exporter": "python",
   "pygments_lexer": "ipython3",
   "version": "3.10.11"
  },
  "orig_nbformat": 4
 },
 "nbformat": 4,
 "nbformat_minor": 2
}
