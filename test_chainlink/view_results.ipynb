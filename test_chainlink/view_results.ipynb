{
 "cells": [
  {
   "cell_type": "code",
   "execution_count": 2,
   "metadata": {},
   "outputs": [],
   "source": [
    "import pandas as pd\n",
    "import ipywidgets as widgets\n",
    "from IPython.display import display, Markdown, clear_output"
   ]
  },
  {
   "cell_type": "code",
   "execution_count": 4,
   "metadata": {},
   "outputs": [],
   "source": [
    "def evaluate_dataframe_answer(df):\n",
    "    # Add right_or_wrong column if it doesn't exist\n",
    "    if 'right_or_wrong' not in df.columns:\n",
    "        df['right_or_wrong'] = ''\n",
    "\n",
    "    # Widgets\n",
    "    button_right = widgets.Button(description=\"Right\")\n",
    "    button_wrong = widgets.Button(description=\"Wrong\")\n",
    "    button_partial = widgets.Button(description=\"partial\")\n",
    "    out = widgets.Output()\n",
    "\n",
    "    # Starting index\n",
    "    index = [0]  # Use list to allow mutation inside functions\n",
    "\n",
    "    def display_row(row):\n",
    "        \"\"\"\n",
    "        Display the row data in markdown\n",
    "        \"\"\"\n",
    "        with out:\n",
    "            display(Markdown(f\"**Question**: {row['question']}\"))\n",
    "            display(Markdown(f\"**Answer**: {row['answer']}\"))\n",
    "            display(Markdown(f\"**Result**: {row['result']}\\n\"))\n",
    "\n",
    "    def on_button_right_clicked(b):\n",
    "        \"\"\"\n",
    "        Update right_or_wrong column with 'right' and go to next row\n",
    "        \"\"\"\n",
    "        df.at[index[0], 'right_or_wrong'] = 'right'\n",
    "        index[0] += 1\n",
    "        out.clear_output()\n",
    "        if index[0] < len(df):\n",
    "            display_row(df.iloc[index[0]])\n",
    "\n",
    "    def on_button_wrong_clicked(b):\n",
    "        \"\"\"\n",
    "        Update right_or_wrong column with 'wrong' and go to next row\n",
    "        \"\"\"\n",
    "        df.at[index[0], 'right_or_wrong'] = 'wrong'\n",
    "        index[0] += 1\n",
    "        out.clear_output()\n",
    "        if index[0] < len(df):\n",
    "            display_row(df.iloc[index[0]])\n",
    "\n",
    "    def on_button_partial_clicked(b):\n",
    "        \"\"\"\n",
    "        Update right_or_wrong column with 'partial' and go to next row\n",
    "        \"\"\"\n",
    "        df.at[index[0], 'right_or_wrong'] = 'partial'\n",
    "        index[0] += 1\n",
    "        out.clear_output()\n",
    "        if index[0] < len(df):\n",
    "            display_row(df.iloc[index[0]])\n",
    "\n",
    "    button_right.on_click(on_button_right_clicked)\n",
    "    button_wrong.on_click(on_button_wrong_clicked)\n",
    "    button_partial.on_click(on_button_partial_clicked)\n",
    "\n",
    "    display(out)\n",
    "    display(button_right, button_wrong, button_partial)\n",
    "\n",
    "    # Start by displaying the first row\n",
    "    display_row(df.iloc[0])"
   ]
  },
  {
   "cell_type": "code",
   "execution_count": 3,
   "metadata": {},
   "outputs": [],
   "source": [
    "df = pd.read_csv(\"/home/marshath/play/chainlink/algovate/test_chainlink/16kmodel.csv\")"
   ]
  },
  {
   "cell_type": "code",
   "execution_count": 6,
   "metadata": {},
   "outputs": [],
   "source": [
    "# drop existing right_or_wrong column\n",
    "df = df.drop(columns=['right_or_wrong'])"
   ]
  },
  {
   "cell_type": "code",
   "execution_count": 7,
   "metadata": {},
   "outputs": [
    {
     "data": {
      "application/vnd.jupyter.widget-view+json": {
       "model_id": "81b258451d2f4fc5ad2dbe7b44f5c6ea",
       "version_major": 2,
       "version_minor": 0
      },
      "text/plain": [
       "Output()"
      ]
     },
     "metadata": {},
     "output_type": "display_data"
    },
    {
     "data": {
      "application/vnd.jupyter.widget-view+json": {
       "model_id": "7c2859ae4dfe47ad85f3dcf2df3c8b37",
       "version_major": 2,
       "version_minor": 0
      },
      "text/plain": [
       "Button(description='Right', style=ButtonStyle())"
      ]
     },
     "metadata": {},
     "output_type": "display_data"
    },
    {
     "data": {
      "application/vnd.jupyter.widget-view+json": {
       "model_id": "19c0d61fc74f493aa50cc85e97eb0729",
       "version_major": 2,
       "version_minor": 0
      },
      "text/plain": [
       "Button(description='Wrong', style=ButtonStyle())"
      ]
     },
     "metadata": {},
     "output_type": "display_data"
    },
    {
     "data": {
      "application/vnd.jupyter.widget-view+json": {
       "model_id": "675dd235fd7f468ea8dcbe13ce42c599",
       "version_major": 2,
       "version_minor": 0
      },
      "text/plain": [
       "Button(description='partial', style=ButtonStyle())"
      ]
     },
     "metadata": {},
     "output_type": "display_data"
    }
   ],
   "source": [
    "evaluate_dataframe_answer(df)"
   ]
  },
  {
   "cell_type": "code",
   "execution_count": null,
   "metadata": {},
   "outputs": [],
   "source": []
  }
 ],
 "metadata": {
  "kernelspec": {
   "display_name": "chainlink",
   "language": "python",
   "name": "python3"
  },
  "language_info": {
   "codemirror_mode": {
    "name": "ipython",
    "version": 3
   },
   "file_extension": ".py",
   "mimetype": "text/x-python",
   "name": "python",
   "nbconvert_exporter": "python",
   "pygments_lexer": "ipython3",
   "version": "3.10.11"
  },
  "orig_nbformat": 4
 },
 "nbformat": 4,
 "nbformat_minor": 2
}
