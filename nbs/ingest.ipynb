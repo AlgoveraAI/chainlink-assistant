{
 "cells": [
  {
   "cell_type": "code",
   "execution_count": 52,
   "metadata": {},
   "outputs": [],
   "source": [
    "import re\n",
    "import bs4\n",
    "import time\n",
    "import pickle\n",
    "import requests\n",
    "import html2text\n",
    "import pandas as pd\n",
    "from tqdm import tqdm\n",
    "from pathlib import Path\n",
    "import concurrent.futures\n",
    "from datetime import datetime\n",
    "from bs4 import BeautifulSoup\n",
    "from urllib.parse import urljoin\n",
    "from typing import List, Optional, Set\n",
    "from requests.exceptions import RequestException\n",
    "\n",
    "from selenium import webdriver\n",
    "from selenium.webdriver.chrome.service import Service\n",
    "from webdriver_manager.chrome import ChromeDriverManager\n",
    "from selenium.webdriver.chrome.options import Options\n",
    "\n",
    "from langchain.docstore.document import Document\n",
    "\n",
    "# Settings for requests\n",
    "MAX_THREADS = 10\n",
    "REQUEST_DELAY = 0.1\n",
    "SESSION = requests.Session()\n",
    "\n",
    "# Set up Chrome options\n",
    "chrome_options = Options()\n",
    "chrome_options.add_argument(\"--headless\")  # Ensure GUI is off\n",
    "chrome_options.add_argument(\"--no-sandbox\")\n",
    "chrome_options.add_argument(\"--disable-dev-shm-usage\")\n",
    "\n",
    "# Set up the webdriver\n",
    "s=Service(ChromeDriverManager().install())\n",
    "driver = webdriver.Chrome(service=s, options=chrome_options)"
   ]
  },
  {
   "cell_type": "code",
   "execution_count": 53,
   "metadata": {},
   "outputs": [],
   "source": [
    "import time\n",
    "import logging\n",
    "\n",
    "logger = logging.getLogger(__name__)"
   ]
  },
  {
   "cell_type": "code",
   "execution_count": 54,
   "metadata": {},
   "outputs": [],
   "source": [
    "def filter_links(soup, filter_str='/polygon/mainnet/'):\n",
    "    # Get all links\n",
    "    links = soup.find_all('a')\n",
    "    \n",
    "    # Filter links to only those that are for polygon mainnet\n",
    "    hrefs = [link.get('href') for link in links]\n",
    "    filtered_hrefs = [href for href in hrefs if href is not None and filter_str in href and href.count('/') == 4]\n",
    "\n",
    "    return filtered_hrefs"
   ]
  },
  {
   "cell_type": "code",
   "execution_count": 55,
   "metadata": {},
   "outputs": [],
   "source": [
    "def get_links(url):\n",
    "    \"\"\"\n",
    "    Get all links from a given url\n",
    "    \"\"\"\n",
    "\n",
    "    filter_sub_url = url.split(\"link\")[1]\n",
    "\n",
    "    all_links = []\n",
    "    for i in range(10):\n",
    "        if i == 0:\n",
    "            driver.get(url)\n",
    "            driver.implicitly_wait(7)\n",
    "            time.sleep(7)\n",
    "\n",
    "        else:\n",
    "            driver.find_element(by=\"xpath\", value=\"/html/body/div[1]/main/section[2]/div/div[2]/button[2]\").click()\n",
    "            driver.implicitly_wait(7)\n",
    "            time.sleep(7)\n",
    "\n",
    "        soup = BeautifulSoup(driver.page_source, 'html.parser')\n",
    "        hrefs = filter_links(soup, filter_sub_url)\n",
    "        all_links.extend(hrefs)\n",
    "        logger.info(f\"Page {i+1} scraped\")\n",
    "    \n",
    "    # Add base url\n",
    "    all_links = [f\"https://data.chain.link{link}\" for link in all_links]\n",
    "    \n",
    "    # Remove duplicates\n",
    "    all_links = list(set(all_links))\n",
    "\n",
    "    return all_links\n"
   ]
  },
  {
   "cell_type": "code",
   "execution_count": 71,
   "metadata": {},
   "outputs": [],
   "source": [
    "def get_details(url):\n",
    "    driver.get(u)\n",
    "    driver.implicitly_wait(3)\n",
    "    time.sleep(3)\n",
    "    soup = BeautifulSoup(driver.page_source, 'html.parser')\n",
    "    details = {}\n",
    "\n",
    "    # Get the title\n",
    "    details[\"pair\"] = soup.find(\"h1\").text\n",
    "\n",
    "    # Get the details\n",
    "    infos = soup.findAll(\"p\")\n",
    "\n",
    "    # Match pattern\n",
    "    match = r'Minimum of (\\d+)'\n",
    "\n",
    "    prev_word = \"\"\n",
    "    for info in infos:\n",
    "        if prev_word == \"Asset Name\":\n",
    "            details[\"asset_name\"] = info.text\n",
    "        elif prev_word == \"Asset Class\":\n",
    "            details[\"asset_class\"] = info.text\n",
    "        elif prev_word == \"Tier\":\n",
    "            details[\"tier\"] = info.text\n",
    "        elif prev_word == \"Network\":\n",
    "            details[\"network\"] = info.text\n",
    "        elif prev_word == \"Deviation threshold\":\n",
    "            details[\"deviation\"] = info.text\n",
    "        if re.search(match, prev_word):\n",
    "            details[\"num_oracles\"] = info.text\n",
    "        prev_word = info.text\n",
    "\n",
    "    try:\n",
    "        for each in soup.find(\"div\", class_=\"sc-d6e7e954-0 sc-e3a5e58-0 teTjm\"):\n",
    "            if each.name != \"div\":\n",
    "                details[\"contract_address\"] = each.a.text\n",
    "    except:\n",
    "        pass\n",
    "\n",
    "    try:\n",
    "        for each in soup.find(\"div\", class_=\"sc-d6e7e954-0 sc-3ba96657-0 sc-b8182c9f-1 hRpMsk iSLEhf\"):\n",
    "                details[\"ens_address\"] = each.div.next_sibling.text\n",
    "    except:\n",
    "        pass\n",
    "\n",
    "    return details"
   ]
  },
  {
   "cell_type": "code",
   "execution_count": 97,
   "metadata": {},
   "outputs": [],
   "source": [
    "all_base_urls = [\n",
    "    \"https://data.chain.link/ethereum/mainnet\",\n",
    "    \"https://data.chain.link/polygon/mainnet\",\n",
    "    \"https://data.chain.link/optimism/mainnet\",\n",
    "    \"https://data.chain.link/fantom/mainnet\",\n",
    "    \"https://data.chain.link/moonriver/mainnet\",\n",
    "    \"https://data.chain.link/metis/mainnet\",\n",
    "    \"https://data.chain.link/bsc/mainnet\",\n",
    "    \"https://data.chain.link/arbitrum/mainnet\",\n",
    "    \"https://data.chain.link/avalanche/mainnet\",\n",
    "    \"https://data.chain.link/harmony/mainnet\",\n",
    "    \"https://data.chain.link/moonbeam/mainnet\",\n",
    "]\n",
    "\n",
    "eth_urls = get_links(all_base_urls[6])"
   ]
  },
  {
   "cell_type": "code",
   "execution_count": 98,
   "metadata": {},
   "outputs": [
    {
     "name": "stderr",
     "output_type": "stream",
     "text": [
      "100%|██████████| 10/10 [00:46<00:00,  4.65s/it]\n"
     ]
    }
   ],
   "source": [
    "eth_details = []\n",
    "\n",
    "for u in tqdm(eth_urls[:10], total=len(eth_urls[:10])):\n",
    "    try:\n",
    "        eth_details.append(get_details(u))\n",
    "    except Exception as e:\n",
    "        logger.error(f'Failed to get details for {u}')\n",
    "        logger.error(e)"
   ]
  },
  {
   "cell_type": "code",
   "execution_count": 99,
   "metadata": {},
   "outputs": [],
   "source": [
    "def make_sentence(details):\n",
    "    \"\"\"Make a sentence from the details\"\"\"\n",
    "\n",
    "    first_sentence = \"\"\"The following is the details for the pair {pair} which operates on the {network}.\"\"\"\n",
    "    second_sentence = \"\"\"This asset is named \"{asset_name}\".\"\"\" \n",
    "    third_sentence = \"\"\"and falls under the \"{asset_class}\" asset class.\"\"\"\n",
    "    fourth_sentence = \"\"\"It has a tier status of \"{tier}\".\"\"\" \n",
    "    fifth_sentence = \"\"\"The deviation threshold for this asset is set at {deviation}.\"\"\" \n",
    "    sixth_sentence = \"\"\"{num_oracles} oracles carries and support this asset.\"\"\" \n",
    "    seventh_sentence = \"\"\"You can find its contract at the address \"{contract_address}\"\"\"\n",
    "    eigth_sentence = \"\"\", and its ENS address is \"{ens_address}\".\"\"\"\n",
    "\n",
    "    sentence = first_sentence.format(pair=details[\"pair\"], network=details[\"network\"])\n",
    "\n",
    "    if \"asset_name\" in details.keys():\n",
    "        sentence += f\" {second_sentence.format(asset_name=details['asset_name'])}\"\n",
    "\n",
    "    if \"asset_class\" in details.keys():\n",
    "        sentence += f\" {third_sentence.format(asset_class=details['asset_class'])}\"\n",
    "\n",
    "    if \"tier\" in details.keys():\n",
    "        sentence += f\" {fourth_sentence.format(tier=details['tier'])}\"\n",
    "\n",
    "    if \"deviation\" in details.keys():\n",
    "        sentence += f\" {fifth_sentence.format(deviation=details['deviation'])}\"\n",
    "\n",
    "    if \"num_oracles\" in details.keys():\n",
    "        sentence += f\" {sixth_sentence.format(num_oracles=details['num_oracles'])}\"\n",
    "\n",
    "    if \"contract_address\" in details.keys():\n",
    "        sentence += f\" {seventh_sentence.format(contract_address=details['contract_address'])}\"\n",
    "\n",
    "    if \"ens_address\" in details.keys():\n",
    "        sentence += f\" {eigth_sentence.format(ens_address=details['ens_address'])}\"\n",
    "\n",
    "    return sentence"
   ]
  },
  {
   "cell_type": "code",
   "execution_count": 100,
   "metadata": {},
   "outputs": [],
   "source": [
    "sentences = []\n",
    "\n",
    "for det in eth_details:\n",
    "    sentences.append(make_sentence(det))"
   ]
  },
  {
   "cell_type": "code",
   "execution_count": 101,
   "metadata": {},
   "outputs": [
    {
     "data": {
      "text/plain": [
       "['The following is the details for the pair FXS / USD which operates on the BNB Chain Mainnet. This asset is named \"Frax Share\". and falls under the \"Crypto\" asset class. It has a tier status of \"Verified\". The deviation threshold for this asset is set at 0.5%. 15 / 15 oracles carries and support this asset. You can find its contract at the address \"0x0e9d55932893fb1308882c7857285b2b0bcc4f4a',\n",
       " 'The following is the details for the pair BAND / BNB which operates on the BNB Chain Mainnet. This asset is named \"Band Protocol\". and falls under the \"Crypto\" asset class. It has a tier status of \"Verified\". The deviation threshold for this asset is set at 0.5%. 15 / 15 oracles carries and support this asset. You can find its contract at the address \"0x3334bf7ec892ca03d1378b51769b7782eaf318c4',\n",
       " 'The following is the details for the pair MASK / USD which operates on the BNB Chain Mainnet. This asset is named \"Mask Network\". and falls under the \"Crypto\" asset class. It has a tier status of \"Verified\". The deviation threshold for this asset is set at 0.5%. 16 / 16 oracles carries and support this asset. You can find its contract at the address \"0x4978c0abe6899178c1a74838ee0062280888e2cf',\n",
       " 'The following is the details for the pair ONG / USD which operates on the BNB Chain Mainnet. This asset is named \"Ontology Gas\". and falls under the \"Crypto\" asset class. It has a tier status of \"Verified\". The deviation threshold for this asset is set at 0.5%. 15 / 15 oracles carries and support this asset. You can find its contract at the address \"0xcf95796f3016801a1da5c518fc7a59c51dcef793',\n",
       " 'The following is the details for the pair CAKE / USD which operates on the BNB Chain Mainnet. This asset is named \"PancakeSwap\". and falls under the \"Crypto\" asset class. It has a tier status of \"Verified\". The deviation threshold for this asset is set at 0.2%. 15 / 15 oracles carries and support this asset. You can find its contract at the address \"0xb6064ed41d4f67e353768aa239ca86f4f73665a1',\n",
       " 'The following is the details for the pair AUD / USD which operates on the BNB Chain Mainnet. This asset is named \"Australian Dollar\". and falls under the \"Forex\" asset class. It has a tier status of \"Verified\". The deviation threshold for this asset is set at 0.2%. 15 / 15 oracles carries and support this asset. You can find its contract at the address \"0x498f912b09b5df618c77fcc9e8da503304df92bf',\n",
       " 'The following is the details for the pair FIL / USD which operates on the BNB Chain Mainnet. This asset is named \"Filecoin\". and falls under the \"Crypto\" asset class. It has a tier status of \"Verified\". The deviation threshold for this asset is set at 0.3%. 15 / 15 oracles carries and support this asset. You can find its contract at the address \"0xe5dbfd9003bff9df5feb2f4f445ca00fb121fb83',\n",
       " 'The following is the details for the pair CAKE / BNB which operates on the BNB Chain Mainnet. This asset is named \"PancakeSwap\". and falls under the \"Crypto\" asset class. It has a tier status of \"Verified\". The deviation threshold for this asset is set at 0.5%. 16 / 16 oracles carries and support this asset. You can find its contract at the address \"0xcb23da9ea243f53194cbc2380a6d4d9bc046161f',\n",
       " 'The following is the details for the pair DODO / USD which operates on the BNB Chain Mainnet. This asset is named \"Dodo\". and falls under the \"Crypto\" asset class. It has a tier status of \"Verified\". The deviation threshold for this asset is set at 0.5%. 16 / 16 oracles carries and support this asset. You can find its contract at the address \"0x87701b15c08687341c2a847ca44ecfbc8d7873e1',\n",
       " 'The following is the details for the pair FTT / USD which operates on the BNB Chain Mainnet. This asset is named \"FTX Token\". and falls under the \"Crypto\" asset class. It has a tier status of \"Monitored\". The deviation threshold for this asset is set at 0.5%. 15 / 15 oracles carries and support this asset. You can find its contract at the address \"0x38e05754eb00171cbe72ba1ee792933d6e8d2891']"
      ]
     },
     "execution_count": 101,
     "metadata": {},
     "output_type": "execute_result"
    }
   ],
   "source": [
    "sentences"
   ]
  },
  {
   "cell_type": "code",
   "execution_count": null,
   "metadata": {},
   "outputs": [],
   "source": []
  },
  {
   "cell_type": "code",
   "execution_count": null,
   "metadata": {},
   "outputs": [],
   "source": []
  }
 ],
 "metadata": {
  "kernelspec": {
   "display_name": "chainlink",
   "language": "python",
   "name": "python3"
  },
  "language_info": {
   "codemirror_mode": {
    "name": "ipython",
    "version": 3
   },
   "file_extension": ".py",
   "mimetype": "text/x-python",
   "name": "python",
   "nbconvert_exporter": "python",
   "pygments_lexer": "ipython3",
   "version": "3.10.11"
  },
  "orig_nbformat": 4
 },
 "nbformat": 4,
 "nbformat_minor": 2
}
