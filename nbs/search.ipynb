{
 "cells": [
  {
   "cell_type": "code",
   "execution_count": 1,
   "metadata": {},
   "outputs": [],
   "source": [
    "import pickle\n",
    "import re\n",
    "import tiktoken\n",
    "from tqdm import tqdm\n",
    "from pydantic import BaseModel\n",
    "from typing import Any, Dict, List\n",
    "from langchain.chains import LLMChain\n",
    "from langchain.vectorstores import FAISS\n",
    "from langchain.schema import BaseRetriever\n",
    "from langchain.chat_models import ChatOpenAI\n",
    "from langchain.docstore.document import Document\n",
    "from langchain.embeddings import OpenAIEmbeddings\n",
    "from langchain.callbacks.manager import AsyncCallbackManager\n",
    "from langchain.text_splitter import TokenTextSplitter, RecursiveCharacterTextSplitter\n",
    "\n",
    "import logging\n",
    "\n",
    "logger = logging.getLogger(__name__)"
   ]
  },
  {
   "cell_type": "code",
   "execution_count": 2,
   "metadata": {},
   "outputs": [
    {
     "data": {
      "text/plain": [
       "True"
      ]
     },
     "execution_count": 2,
     "metadata": {},
     "output_type": "execute_result"
    }
   ],
   "source": [
    "from dotenv import load_dotenv\n",
    "load_dotenv()"
   ]
  },
  {
   "cell_type": "code",
   "execution_count": 3,
   "metadata": {},
   "outputs": [],
   "source": [
    "from langchain.retrievers import TFIDFRetriever\n",
    "from langchain.chat_models import ChatOpenAI\n",
    "from langchain.chains import LLMChain\n",
    "\n",
    "from langchain.prompts import (\n",
    "    ChatPromptTemplate,\n",
    "    SystemMessagePromptTemplate,\n",
    "    HumanMessagePromptTemplate,\n",
    ")"
   ]
  },
  {
   "cell_type": "code",
   "execution_count": 4,
   "metadata": {},
   "outputs": [],
   "source": [
    "system_template = \"\"\"\n",
    "Please summarize the context below in one sentence (no more than 15 words). This will be used as the description of the article in the search results.\n",
    "\n",
    "Response should be NO MORE THAN 15 words.\n",
    "\"\"\"\n",
    "\n",
    "human_template = \"\"\"{context}\"\"\"\n",
    "\n",
    "PROMPT = ChatPromptTemplate.from_messages(\n",
    "    [\n",
    "        SystemMessagePromptTemplate.from_template(system_template),\n",
    "        HumanMessagePromptTemplate.from_template(human_template),\n",
    "    ]\n",
    ")\n",
    "\n",
    "llm = ChatOpenAI(temperature=0.)\n",
    "chain = LLMChain(llm=llm, prompt=PROMPT)"
   ]
  },
  {
   "cell_type": "code",
   "execution_count": 5,
   "metadata": {},
   "outputs": [],
   "source": [
    "with open(\"/home/marshath/play/chainlink/chainlink-assistant/data/blog_2023-08-14.pkl\", \"rb\") as f:\n",
    "    blogs = pickle.load(f)"
   ]
  },
  {
   "cell_type": "code",
   "execution_count": 6,
   "metadata": {},
   "outputs": [
    {
     "name": "stderr",
     "output_type": "stream",
     "text": [
      "  0%|          | 0/500 [00:00<?, ?it/s]"
     ]
    },
    {
     "name": "stderr",
     "output_type": "stream",
     "text": [
      " 21%|██        | 103/500 [01:46<07:36,  1.15s/it]"
     ]
    }
   ],
   "source": [
    "blog_docs = []\n",
    "for blog in tqdm(blogs, total=len(blogs)):\n",
    "    title = blog.page_content.split(\"\\n\\n\")[0].replace(\"#\", \"\").strip()\n",
    "    description = chain.predict(context=blog.page_content[:500])\n",
    "    metadata = {\n",
    "        \"title\": title,\n",
    "        \"description\": description,\n",
    "        \"source\": blog.metadata[\"source\"],\n",
    "        \"source_type\": \"blog\",\n",
    "    }\n",
    "    logger.info(f\"Title: {title}\")\n",
    "    logger.info(f\"Description: {description}\")\n",
    "\n",
    "    blog.metadata = metadata\n",
    "\n",
    "    blog_docs.append(blog)"
   ]
  },
  {
   "cell_type": "code",
   "execution_count": null,
   "metadata": {},
   "outputs": [],
   "source": [
    "with open(\"../data/search_blogs.pkl\", 'wb') as f:\n",
    "    pickle.dump(blog_docs, f)"
   ]
  },
  {
   "cell_type": "code",
   "execution_count": null,
   "metadata": {},
   "outputs": [],
   "source": [
    "with open(\"/home/marshath/play/chainlink/chainlink-assistant/data/techdocs_2023-08-14.pkl\", \"rb\") as f:\n",
    "    techdocs = pickle.load(f)"
   ]
  },
  {
   "cell_type": "code",
   "execution_count": null,
   "metadata": {},
   "outputs": [
    {
     "name": "stderr",
     "output_type": "stream",
     "text": [
      "  0%|          | 0/172 [00:00<?, ?it/s]"
     ]
    },
    {
     "name": "stderr",
     "output_type": "stream",
     "text": [
      "100%|██████████| 172/172 [04:46<00:00,  1.66s/it]\n"
     ]
    }
   ],
   "source": [
    "tech_docs = []\n",
    "for doc in tqdm(techdocs, total=len(techdocs)):\n",
    "    title = doc.page_content.split(\"\\n\\n\")[0].replace(\"#\", \"\").strip()\n",
    "    description = chain.predict(context=doc.page_content[:1500])\n",
    "    metadata = {\n",
    "        \"title\": title,\n",
    "        \"description\": description,\n",
    "        \"source\": doc.metadata[\"source\"],\n",
    "        \"source_type\": \"technical_document\",\n",
    "    }\n",
    "    logger.info(f\"Title: {title}\")\n",
    "    logger.info(f\"Description: {description}\")\n",
    "\n",
    "    doc.metadata = metadata\n",
    "\n",
    "    tech_docs.append(doc)"
   ]
  },
  {
   "cell_type": "code",
   "execution_count": null,
   "metadata": {},
   "outputs": [],
   "source": [
    "with open(\"../data/search_docs.pkl\", \"wb\") as f:\n",
    "    pickle.dump(tech_docs, f)"
   ]
  },
  {
   "cell_type": "code",
   "execution_count": 11,
   "metadata": {},
   "outputs": [],
   "source": [
    "with open(\"../data/search_docs.pkl\", \"rb\") as f:\n",
    "    docs = pickle.load(f)\n",
    "\n",
    "with open(\"../data/search_blogs.pkl\", \"rb\") as f:\n",
    "    blogs = pickle.load(f)"
   ]
  },
  {
   "cell_type": "code",
   "execution_count": 12,
   "metadata": {},
   "outputs": [],
   "source": [
    "blog_ret = TFIDFRetriever.from_documents(blogs, k=30)\n",
    "techdocs_ret = TFIDFRetriever.from_documents(techdocs, k=30)"
   ]
  },
  {
   "cell_type": "code",
   "execution_count": 13,
   "metadata": {},
   "outputs": [],
   "source": [
    "class SearchRetriever(BaseRetriever, BaseModel):\n",
    "    # blog_docs: List[Document]\n",
    "    # tech_docs: List[Document]\n",
    "    blog_retriever: BaseRetriever = None\n",
    "    tech_retriever: BaseRetriever = None\n",
    "    k_final: int = 4\n",
    "    logger: Any = None\n",
    "\n",
    "    class Config:\n",
    "        \"\"\"Configuration for this pydantic object.\"\"\"\n",
    "\n",
    "        arbitrary_types_allowed = True\n",
    "\n",
    "    @classmethod\n",
    "    def from_documents(\n",
    "        cls,\n",
    "        blog_docs: List[Document],\n",
    "        tech_docs: List[Document],\n",
    "        k_final: int = 4,\n",
    "        logger: Any = None,\n",
    "        **kwargs: Any,\n",
    "    ):\n",
    "        blog_ret = TFIDFRetriever.from_documents(blog_docs, k=30)\n",
    "        tech_ret = TFIDFRetriever.from_documents(tech_docs, k=30)\n",
    "\n",
    "        return cls(\n",
    "            blog_retriever=blog_ret,\n",
    "            tech_retriever=tech_ret,\n",
    "            k_final=k_final,\n",
    "            logger=logger,\n",
    "        )\n",
    "\n",
    "    def get_relevant_documents(self, query: str, type_:str='all') -> List[Document]:\n",
    "        \"\"\"\n",
    "        Get relevant documents for a given query.\n",
    "\n",
    "        param query: The query to search for.\n",
    "        param type_: The type of documents to search for. Can be 'blog', 'tech', or 'all'.\n",
    "        \"\"\"\n",
    "\n",
    "        if type_ == \"blog\":\n",
    "            r_docs = self.blog_retriever.get_relevant_documents(query)\n",
    "\n",
    "            # Get only the metadata from the original documents\n",
    "            r_docs = [doc.metadata for doc in r_docs][:self.k_final]\n",
    "\n",
    "            return r_docs\n",
    "\n",
    "        if type_ == \"technical_document\":\n",
    "            r_docs = self.tech_retriever.get_relevant_documents(query)\n",
    "\n",
    "            # Get only the metadata from the original documents\n",
    "            r_docs = [doc.metadata for doc in r_docs][:self.k_final]\n",
    "\n",
    "            return r_docs\n",
    "\n",
    "        if type_ == \"all\":\n",
    "            r_docs_1 = self.blog_retriever.get_relevant_documents(query)\n",
    "            r_docs_2 = self.tech_retriever.get_relevant_documents(query)\n",
    "\n",
    "            # Merge the two lists; one object per document\n",
    "            r_docs = []\n",
    "            for doc1, doc2 in zip(r_docs_1, r_docs_2):\n",
    "                r_docs.append(doc1.metadata)\n",
    "                r_docs.append(doc2.metadata)\n",
    "\n",
    "            return r_docs[:self.k_final]\n",
    "\n",
    "        raise ValueError(\"type_ must be one of 'blog', 'technical_document', or 'all'\")\n",
    "    \n",
    "    def aget_relevant_documents(self):\n",
    "        raise NotImplementedError(\"This method is not implemented yet.\")"
   ]
  },
  {
   "cell_type": "code",
   "execution_count": 14,
   "metadata": {},
   "outputs": [],
   "source": [
    "ret = SearchRetriever.from_documents(blog_docs=blogs, tech_docs=techdocs, k_final=10, logger=logger)"
   ]
  },
  {
   "cell_type": "code",
   "execution_count": 17,
   "metadata": {},
   "outputs": [
    {
     "data": {
      "text/plain": [
       "[{'title': 'Introducing the Chainlink On-Chain Data Directory: Data.eth',\n",
       "  'description': 'Chainlink has launched the Chainlink On-Chain Data Directory using the Ethereum Name Service (ENS), creating an on-chain index of Chainlink Price Feed addresses to provide users with additional assurances and decentralization when relying on or sending funds to the correct on-chain address.',\n",
       "  'source': 'https://blog.chain.link/introducing-the-chainlink-on-chain-data-directory/',\n",
       "  'source_type': 'blog'},\n",
       " {'title': 'Call an API with HTTP Query Parameters',\n",
       "  'description': 'This tutorial explains how to call an API using HTTP query parameters in a decentralized oracle network. It provides step-by-step instructions and code examples.',\n",
       "  'source': 'https://docs.chain.link/chainlink-functions/tutorials/api-query-parameters/',\n",
       "  'source_type': 'technical_document'},\n",
       " {'title': 'Analyze Decentralized Oracles in Real-Time With Chainlink’s Price Feed Visualizations',\n",
       "  'description': \"Chainlink's Price Feed visualizations provide transparency and verification of decentralized oracle networks that validate and provide price reference data to smart contracts in the DeFi ecosystem.\",\n",
       "  'source': 'https://blog.chain.link/analyze-decentralized-oracles-in-real-time/',\n",
       "  'source_type': 'blog'},\n",
       " {'title': 'Consuming Data Feeds',\n",
       "  'description': 'This tutorial explains how to consume data feeds in smart contracts using Chainlink on Ethereum.',\n",
       "  'source': 'https://docs.chain.link/getting-started/consuming-data-feeds/',\n",
       "  'source_type': 'technical_document'},\n",
       " {'title': 'Off-Chain Computation: Statistical Analysis With Chainlink',\n",
       "  'description': \"This article discusses the importance of off-chain computation in smart contracts and how Chainlink's highly configurable oracle networks can be used to perform statistical analysis on weather data.\",\n",
       "  'source': 'https://blog.chain.link/off-chain-computation-statistical-analysis-with-chainlink/',\n",
       "  'source_type': 'blog'},\n",
       " {'title': 'Using Data Feeds on EVM Chains',\n",
       "  'description': 'This tutorial explains how to use data feeds on EVM chains to connect smart contracts to real-world services or off-chain data, using Chainlink as an example.',\n",
       "  'source': 'https://docs.chain.link/data-feeds/using-data-feeds/',\n",
       "  'source_type': 'technical_document'},\n",
       " {'title': 'How to Build a Parametric Insurance Smart Contract',\n",
       "  'description': 'This technical tutorial explains how to build a decentralized parametric insurance smart contract using blockchain technology and Chainlink oracles. The tutorial covers the main features of decentralized insurance contracts, the role of Chainlink oracles, the advantages of using Chainlink Price Feeds, and provides a step-by-step guide to creating a parametric crop insurance contract.',\n",
       "  'source': 'https://blog.chain.link/parametric-insurance-smart-contract/',\n",
       "  'source_type': 'blog'},\n",
       " {'title': 'Return Custom Data Types',\n",
       "  'description': 'This tutorial explains how to send a request to a Decentralized Oracle Network to retrieve asset price data, and how to configure and simulate the request using Chainlink Functions.',\n",
       "  'source': 'https://docs.chain.link/chainlink-functions/tutorials/api-custom-response/',\n",
       "  'source_type': 'technical_document'},\n",
       " {'title': 'Using Chainlink Oracles on Polygon',\n",
       "  'description': \"This technical article explains how to use Chainlink oracles and price feeds on the Polygon network for DeFi applications, highlighting the need for scalable and secure protocols and the advantages of using Chainlink's decentralized architecture and high-quality data sources to mitigate risks such as oracle exploits and flash loan attacks.\",\n",
       "  'source': 'https://blog.chain.link/matic-defi-price-feeds/',\n",
       "  'source_type': 'blog'},\n",
       " {'title': 'Fulfilling Requests',\n",
       "  'description': 'This guide explains how to use a Chainlink node to fulfill requests and provide data to smart contracts by deploying an operator contract and adding jobs to the node.',\n",
       "  'source': 'https://docs.chain.link/chainlink-nodes/v1/fulfilling-requests/',\n",
       "  'source_type': 'technical_document'}]"
      ]
     },
     "execution_count": 17,
     "metadata": {},
     "output_type": "execute_result"
    }
   ],
   "source": [
    "ret.get_relevant_documents(\"What is the deviation threshold for the pair ETH/USD on the mainnet?\")"
   ]
  },
  {
   "cell_type": "code",
   "execution_count": 5,
   "metadata": {},
   "outputs": [],
   "source": [
    "import requests"
   ]
  },
  {
   "cell_type": "code",
   "execution_count": 7,
   "metadata": {},
   "outputs": [
    {
     "data": {
      "text/plain": [
       "{'results': [{'title': 'Chainlink Functions Resources',\n",
       "   'description': 'A collection of resources for understanding and using Chainlink functions.',\n",
       "   'source': 'https://docs.chain.link/chainlink-functions/resources/',\n",
       "   'source_type': 'technical_document'},\n",
       "  {'title': 'Performing System Maintenance',\n",
       "   'description': 'This article provides an overview of performing system maintenance and includes examples of maintenance and image updates as well as failover node scenarios.',\n",
       "   'source': 'https://docs.chain.link/chainlink-nodes/resources/performing-system-maintenance/',\n",
       "   'source_type': 'technical_document'},\n",
       "  {'title': 'What is Chainlink Functions?',\n",
       "   'description': 'Chainlink Functions are a feature that allows developers to create custom computations and data transformations for smart contracts on the Chainlink network.',\n",
       "   'source': 'https://docs.chain.link/chainlink-functions/',\n",
       "   'source_type': 'technical_document'},\n",
       "  {'title': 'Running a Chainlink Node',\n",
       "   'description': 'This article provides a guide on how to run a Chainlink node, including requirements and configuration.',\n",
       "   'source': 'https://docs.chain.link/chainlink-nodes/v1/running-a-chainlink-node/',\n",
       "   'source_type': 'technical_document'},\n",
       "  {'title': 'Chainlink Functions Tutorials',\n",
       "   'description': 'Chainlink Functions Tutorials cover various topics related to using functions in the Chainlink platform.',\n",
       "   'source': 'https://docs.chain.link/chainlink-functions/tutorials/',\n",
       "   'source_type': 'technical_document'},\n",
       "  {'title': 'Learning Resources',\n",
       "   'description': 'A comprehensive list of learning resources for smart contract development, including tutorials, videos, and coding bootcamps.',\n",
       "   'source': 'https://docs.chain.link/getting-started/other-tutorials/',\n",
       "   'source_type': 'technical_document'},\n",
       "  {'title': 'Welcome to the Chainlink Documentation',\n",
       "   'description': 'Introduction to Chainlink and smart contracts.',\n",
       "   'source': 'http://docs.chain.link/',\n",
       "   'source_type': 'technical_document'},\n",
       "  {'title': 'Introduction to Chainlink Automation',\n",
       "   'description': 'An introduction to Chainlink Automation, including an overview, trigger selection, supported networks, costs, and examples.',\n",
       "   'source': 'https://docs.chain.link/chainlink-automation/introduction/',\n",
       "   'source_type': 'technical_document'},\n",
       "  {'title': 'Forwarder tutorial',\n",
       "   'description': 'A tutorial on setting up a forwarder for a Chainlink node and testing its functionality.',\n",
       "   'source': 'https://docs.chain.link/chainlink-nodes/v1/using-forwarder/',\n",
       "   'source_type': 'technical_document'},\n",
       "  {'title': 'Configuring Nodes',\n",
       "   'description': 'This article provides instructions on configuring Chainlink nodes using TOML files and multiple config files.',\n",
       "   'source': 'https://docs.chain.link/chainlink-nodes/configuring-nodes/',\n",
       "   'source_type': 'technical_document'},\n",
       "  {'title': 'Security and Operation Best Practices',\n",
       "   'description': 'This article discusses best practices for security and operations, including access restrictions, failover capabilities, and active monitoring.',\n",
       "   'source': 'https://docs.chain.link/chainlink-nodes/resources/best-security-practices/',\n",
       "   'source_type': 'technical_document'},\n",
       "  {'title': 'Contributing to Chainlink',\n",
       "   'description': 'Ways to contribute to Chainlink include raising issues, submitting pull requests, and creating community content.',\n",
       "   'source': 'https://docs.chain.link/resources/contributing-to-chainlink?parent=anyApi/',\n",
       "   'source_type': 'technical_document'},\n",
       "  {'title': 'Chainlink Nodes',\n",
       "   'description': 'Chainlink Nodes are decentralized oracle networks that provide real-world data to smart contracts on the blockchain.',\n",
       "   'source': 'https://docs.chain.link/chainlink-nodes/',\n",
       "   'source_type': 'technical_document'},\n",
       "  {'title': 'Enabling HTTPS Connections',\n",
       "   'description': 'Enabling HTTPS connections for websites and applications.',\n",
       "   'source': 'https://docs.chain.link/chainlink-nodes/resources/enabling-https-connections/',\n",
       "   'source_type': 'technical_document'},\n",
       "  {'title': 'Node Versions and Upgrades',\n",
       "   'description': 'This is a list of changes and updates made to different versions of Node.',\n",
       "   'source': 'https://docs.chain.link/chainlink-nodes/node-versions/',\n",
       "   'source_type': 'technical_document'},\n",
       "  {'title': 'Miscellaneous',\n",
       "   'description': 'This is a list of miscellaneous tasks related to Docker, transferring funds, changing passwords, and key management.',\n",
       "   'source': 'https://docs.chain.link/chainlink-nodes/resources/miscellaneous/',\n",
       "   'source_type': 'technical_document'},\n",
       "  {'title': 'Receiver',\n",
       "   'description': 'The context is about the receiver, including an overview, API reference, methods, and events.',\n",
       "   'source': 'https://docs.chain.link/chainlink-nodes/contracts/receiver/',\n",
       "   'source_type': 'technical_document'},\n",
       "  {'title': 'Automate your Functions',\n",
       "   'description': 'This article provides a tutorial on automating functions using Chainlink Automation.',\n",
       "   'source': 'https://docs.chain.link/chainlink-functions/tutorials/automate-functions/',\n",
       "   'source_type': 'technical_document'},\n",
       "  {'title': 'Chainlink Automation Example Contracts',\n",
       "   'description': 'A collection of example contracts showcasing automation using Chainlink technology.',\n",
       "   'source': 'https://docs.chain.link/chainlink-automation/util-overview/',\n",
       "   'source_type': 'technical_document'},\n",
       "  {'title': 'Chainlink Automation Architecture',\n",
       "   'description': 'Chainlink Automation Architecture provides an overview of automation contracts, how it works, internal monitoring, supported networks, and cost.',\n",
       "   'source': 'https://docs.chain.link/chainlink-automation/overview/',\n",
       "   'source_type': 'technical_document'}]}"
      ]
     },
     "execution_count": 7,
     "metadata": {},
     "output_type": "execute_result"
    }
   ],
   "source": [
    "res = requests.post(\n",
    "    url=\"https://api.algoverai.link/chainlink/search\",\n",
    "    json={\n",
    "        \"query\": \"chainlink\",\n",
    "        \"type_\": \"technical_document\",\n",
    "    },\n",
    "    headers={ \"X-API-Key\": \"7a08c35c471a0c4e9a7e3485acc601639a07694588fb2e78a67d48c3926d1837\"}\n",
    ")\n",
    "res.raise_for_status()\n",
    "res.json()"
   ]
  },
  {
   "cell_type": "code",
   "execution_count": null,
   "metadata": {},
   "outputs": [],
   "source": []
  }
 ],
 "metadata": {
  "kernelspec": {
   "display_name": "chainlink",
   "language": "python",
   "name": "python3"
  },
  "language_info": {
   "codemirror_mode": {
    "name": "ipython",
    "version": 3
   },
   "file_extension": ".py",
   "mimetype": "text/x-python",
   "name": "python",
   "nbconvert_exporter": "python",
   "pygments_lexer": "ipython3",
   "version": "3.10.11"
  },
  "orig_nbformat": 4
 },
 "nbformat": 4,
 "nbformat_minor": 2
}
