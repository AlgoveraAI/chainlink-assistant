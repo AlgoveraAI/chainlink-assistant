{
 "cells": [
  {
   "cell_type": "code",
   "execution_count": 1,
   "metadata": {},
   "outputs": [],
   "source": [
    "import pickle\n",
    "import re\n",
    "import tiktoken\n",
    "from tqdm import tqdm\n",
    "from pydantic import BaseModel\n",
    "from typing import Any, Dict, List\n",
    "from langchain.chains import LLMChain\n",
    "from langchain.vectorstores import FAISS\n",
    "from langchain.schema import BaseRetriever\n",
    "from langchain.chat_models import ChatOpenAI\n",
    "from langchain.docstore.document import Document\n",
    "from langchain.embeddings import OpenAIEmbeddings\n",
    "from langchain.callbacks.manager import AsyncCallbackManager\n",
    "from langchain.text_splitter import TokenTextSplitter, RecursiveCharacterTextSplitter\n",
    "\n",
    "import logging\n",
    "\n",
    "logger = logging.getLogger(__name__)"
   ]
  },
  {
   "cell_type": "code",
   "execution_count": 2,
   "metadata": {},
   "outputs": [
    {
     "data": {
      "text/plain": [
       "True"
      ]
     },
     "execution_count": 2,
     "metadata": {},
     "output_type": "execute_result"
    }
   ],
   "source": [
    "from dotenv import load_dotenv\n",
    "load_dotenv()"
   ]
  },
  {
   "cell_type": "code",
   "execution_count": 3,
   "metadata": {},
   "outputs": [],
   "source": [
    "from langchain.retrievers import TFIDFRetriever\n",
    "from langchain.chat_models import ChatOpenAI\n",
    "from langchain.chains import LLMChain\n",
    "\n",
    "from langchain.prompts import (\n",
    "    ChatPromptTemplate,\n",
    "    SystemMessagePromptTemplate,\n",
    "    HumanMessagePromptTemplate,\n",
    ")"
   ]
  },
  {
   "cell_type": "code",
   "execution_count": 4,
   "metadata": {},
   "outputs": [],
   "source": [
    "system_template = \"\"\"\n",
    "Please summarize the context below in one sentence (no more than 15 words). This will be used as the description of the article in the search results.\n",
    "\n",
    "Response should be NO MORE THAN 15 words.\n",
    "\"\"\"\n",
    "\n",
    "human_template = \"\"\"{context}\"\"\"\n",
    "\n",
    "PROMPT = ChatPromptTemplate.from_messages(\n",
    "    [\n",
    "        SystemMessagePromptTemplate.from_template(system_template),\n",
    "        HumanMessagePromptTemplate.from_template(human_template),\n",
    "    ]\n",
    ")\n",
    "\n",
    "llm = ChatOpenAI(temperature=0.)\n",
    "chain = LLMChain(llm=llm, prompt=PROMPT)"
   ]
  },
  {
   "cell_type": "code",
   "execution_count": 5,
   "metadata": {},
   "outputs": [],
   "source": [
    "with open(\"/home/marshath/play/chainlink/chainlink-assistant/data/blog_2023-08-14.pkl\", \"rb\") as f:\n",
    "    blogs = pickle.load(f)"
   ]
  },
  {
   "cell_type": "code",
   "execution_count": 6,
   "metadata": {},
   "outputs": [
    {
     "name": "stderr",
     "output_type": "stream",
     "text": [
      "  0%|          | 0/500 [00:00<?, ?it/s]"
     ]
    },
    {
     "name": "stderr",
     "output_type": "stream",
     "text": [
      " 21%|██        | 103/500 [01:46<07:36,  1.15s/it]"
     ]
    }
   ],
   "source": [
    "blog_docs = []\n",
    "for blog in tqdm(blogs, total=len(blogs)):\n",
    "    title = blog.page_content.split(\"\\n\\n\")[0].replace(\"#\", \"\").strip()\n",
    "    description = chain.predict(context=blog.page_content[:500])\n",
    "    metadata = {\n",
    "        \"title\": title,\n",
    "        \"description\": description,\n",
    "        \"source\": blog.metadata[\"source\"],\n",
    "        \"source_type\": \"blog\",\n",
    "    }\n",
    "    logger.info(f\"Title: {title}\")\n",
    "    logger.info(f\"Description: {description}\")\n",
    "\n",
    "    blog.metadata = metadata\n",
    "\n",
    "    blog_docs.append(blog)"
   ]
  },
  {
   "cell_type": "code",
   "execution_count": null,
   "metadata": {},
   "outputs": [],
   "source": [
    "with open(\"../data/search_blogs.pkl\", 'wb') as f:\n",
    "    pickle.dump(blog_docs, f)"
   ]
  },
  {
   "cell_type": "code",
   "execution_count": null,
   "metadata": {},
   "outputs": [],
   "source": [
    "with open(\"/home/marshath/play/chainlink/chainlink-assistant/data/techdocs_2023-08-14.pkl\", \"rb\") as f:\n",
    "    techdocs = pickle.load(f)"
   ]
  },
  {
   "cell_type": "code",
   "execution_count": null,
   "metadata": {},
   "outputs": [
    {
     "name": "stderr",
     "output_type": "stream",
     "text": [
      "  0%|          | 0/172 [00:00<?, ?it/s]"
     ]
    },
    {
     "name": "stderr",
     "output_type": "stream",
     "text": [
      "100%|██████████| 172/172 [04:46<00:00,  1.66s/it]\n"
     ]
    }
   ],
   "source": [
    "tech_docs = []\n",
    "for doc in tqdm(techdocs, total=len(techdocs)):\n",
    "    title = doc.page_content.split(\"\\n\\n\")[0].replace(\"#\", \"\").strip()\n",
    "    description = chain.predict(context=doc.page_content[:1500])\n",
    "    metadata = {\n",
    "        \"title\": title,\n",
    "        \"description\": description,\n",
    "        \"source\": doc.metadata[\"source\"],\n",
    "        \"source_type\": \"technical_document\",\n",
    "    }\n",
    "    logger.info(f\"Title: {title}\")\n",
    "    logger.info(f\"Description: {description}\")\n",
    "\n",
    "    doc.metadata = metadata\n",
    "\n",
    "    tech_docs.append(doc)"
   ]
  },
  {
   "cell_type": "code",
   "execution_count": null,
   "metadata": {},
   "outputs": [],
   "source": [
    "with open(\"../data/search_docs.pkl\", \"wb\") as f:\n",
    "    pickle.dump(tech_docs, f)"
   ]
  },
  {
   "cell_type": "code",
   "execution_count": 11,
   "metadata": {},
   "outputs": [],
   "source": [
    "with open(\"../data/search_docs.pkl\", \"rb\") as f:\n",
    "    docs = pickle.load(f)\n",
    "\n",
    "with open(\"../data/search_blogs.pkl\", \"rb\") as f:\n",
    "    blogs = pickle.load(f)"
   ]
  },
  {
   "cell_type": "code",
   "execution_count": 5,
   "metadata": {},
   "outputs": [],
   "source": [
    "with open('/home/marshath/play/chainlink/chainlink-assistant/data/blog_2023-08-18.pkl', 'rb') as f:\n",
    "    blog_docs = pickle.load(f)\n",
    "\n",
    "with open('/home/marshath/play/chainlink/chainlink-assistant/data/techdocs_2023-08-18.pkl', 'rb') as f:\n",
    "    tech_docs = pickle.load(f)\n",
    "\n",
    "with open('/home/marshath/play/chainlink/chainlink-assistant/data/datadocs_2023-08-18.pkl', 'rb') as f:\n",
    "    data_docs = pickle.load(f)\n",
    "\n",
    "with open('/home/marshath/play/chainlink/chainlink-assistant/data/chain_link_main_docs_2023-08-18.pkl', 'rb') as f:\n",
    "    chain_link_docs = pickle.load(f)\n",
    "\n",
    "with open('/home/marshath/play/chainlink/chainlink-assistant/data/chain_link_you_tube_docs_2023-08-18.pkl', 'rb') as f:\n",
    "    chain_link_youtube_docs = pickle.load(f)\n",
    "\n"
   ]
  },
  {
   "cell_type": "code",
   "execution_count": 12,
   "metadata": {},
   "outputs": [],
   "source": [
    "class SearchRetriever(BaseRetriever, BaseModel):\n",
    "    blog_retriever: BaseRetriever = None\n",
    "    tech_retriever: BaseRetriever = None\n",
    "    data_retriever: BaseRetriever = None\n",
    "    chain_link_retriever: BaseRetriever = None\n",
    "    chain_link_youtube_retriever: BaseRetriever = None\n",
    "    k_final: int = 4\n",
    "    logger: Any = None\n",
    "\n",
    "    class Config:\n",
    "        \"\"\"Configuration for this pydantic object.\"\"\"\n",
    "\n",
    "        arbitrary_types_allowed = True\n",
    "\n",
    "    @classmethod\n",
    "    def from_documents(\n",
    "        cls,\n",
    "        blog_docs: List[Document],\n",
    "        tech_docs: List[Document],\n",
    "        data_docs: List[Document],\n",
    "        chain_link_docs: List[Document],\n",
    "        chain_link_youtube_docs: List[Document],\n",
    "        k_final: int = 4,\n",
    "        logger: Any = None,\n",
    "        **kwargs: Any,\n",
    "    ):\n",
    "        blog_ret = TFIDFRetriever.from_documents(blog_docs, k=30)\n",
    "        tech_ret = TFIDFRetriever.from_documents(tech_docs, k=30)\n",
    "        data_ret = TFIDFRetriever.from_documents(data_docs, k=30)\n",
    "        chain_link_ret = TFIDFRetriever.from_documents(chain_link_docs, k=30)\n",
    "        chain_link_youtube_ret = TFIDFRetriever.from_documents(chain_link_youtube_docs, k=30)\n",
    "\n",
    "        return cls(\n",
    "            blog_retriever=blog_ret,\n",
    "            tech_retriever=tech_ret,\n",
    "            data_retriever=data_ret,\n",
    "            chain_link_retriever=chain_link_ret,\n",
    "            chain_link_youtube_retriever=chain_link_youtube_ret,\n",
    "            k_final=k_final,\n",
    "            logger=logger,\n",
    "        )\n",
    "\n",
    "    def get_relevant_documents(self, query: str, type_:str='all') -> List[Document]:\n",
    "        \"\"\"\n",
    "        Get relevant documents for a given query.\n",
    "\n",
    "        param query: The query to search for.\n",
    "        param type_: The type of documents to search for. Can be 'blog', 'tech', or 'all'.\n",
    "        \"\"\"\n",
    "\n",
    "        if type_ == \"blog\":\n",
    "            r_docs = self.blog_retriever.get_relevant_documents(query)\n",
    "\n",
    "            # Get only the metadata from the original documents\n",
    "            r_docs = [doc.metadata for doc in r_docs][:self.k_final]\n",
    "\n",
    "            return r_docs\n",
    "\n",
    "        if type_ == \"technical_document\":\n",
    "            r_docs = self.tech_retriever.get_relevant_documents(query)\n",
    "\n",
    "            # Get only the metadata from the original documents\n",
    "            r_docs = [doc.metadata for doc in r_docs][:self.k_final]\n",
    "\n",
    "            return r_docs\n",
    "\n",
    "        if type_ == \"all\":\n",
    "            r_docs_1 = self.blog_retriever.get_relevant_documents(query)\n",
    "            r_docs_2 = self.tech_retriever.get_relevant_documents(query)\n",
    "            r_docs_3 = self.data_retriever.get_relevant_documents(query)\n",
    "            r_docs_4 = self.chain_link_retriever.get_relevant_documents(query)\n",
    "            r_docs_5 = self.chain_link_youtube_retriever.get_relevant_documents(query)\n",
    "\n",
    "            # Merge the two lists; one object per document\n",
    "            r_docs = []\n",
    "            for d1, d2, d3, d4, d5 in zip(r_docs_1, r_docs_2, r_docs_3, r_docs_4, r_docs_5):\n",
    "                r_docs.append(d1)\n",
    "                r_docs.append(d2)\n",
    "                r_docs.append(d3)\n",
    "                r_docs.append(d4)\n",
    "                r_docs.append(d5)\n",
    "\n",
    "                if len(r_docs) >= self.k_final:\n",
    "                    break\n",
    "\n",
    "            return r_docs[:self.k_final]\n",
    "\n",
    "        raise ValueError(\"type_ must be one of 'blog', 'technical_document', or 'all'\")\n",
    "    \n",
    "    def aget_relevant_documents(self):\n",
    "        raise NotImplementedError(\"This method is not implemented yet.\")"
   ]
  },
  {
   "cell_type": "code",
   "execution_count": 13,
   "metadata": {},
   "outputs": [],
   "source": [
    "ret = SearchRetriever.from_documents(\n",
    "    blog_docs=blog_docs, \n",
    "    tech_docs=tech_docs,\n",
    "    data_docs=data_docs,\n",
    "    chain_link_docs=chain_link_docs,\n",
    "    chain_link_youtube_docs=chain_link_youtube_docs, \n",
    "    k_final=10, logger=logger)"
   ]
  },
  {
   "cell_type": "code",
   "execution_count": 15,
   "metadata": {},
   "outputs": [],
   "source": [
    "rs = ret.get_relevant_documents(\"What is the deviation threshold for the pair ETH/USD on the mainnet?\")"
   ]
  },
  {
   "cell_type": "code",
   "execution_count": 16,
   "metadata": {},
   "outputs": [
    {
     "name": "stdout",
     "output_type": "stream",
     "text": [
      "{'source': 'https://blog.chain.link/introducing-the-chainlink-on-chain-data-directory/', 'source_type': 'blog', 'title': 'Introducing the Chainlink On-Chain Data Directory: Data.eth', 'description': 'Chainlink introduces the Chainlink On-Chain Data Directory, Data.eth, to enhance security features for DeFi applications.'}\n",
      "{'source': 'https://docs.chain.link/chainlink-functions/tutorials/api-query-parameters/', 'source_type': 'technical_document', 'title': 'Call an API with HTTP Query Parameters', 'description': 'This is a tutorial on how to call an API using HTTP query parameters.'}\n",
      "{'title': 'WBTC / USD on Harmony Mainnet', 'description': 'Details for WBTC / USD on Harmony Mainnet', 'source_type': 'data', 'source': 'https://data.chain.link/harmony/mainnet/crypto-usd/wbtc-usd'}\n",
      "{'source': 'https://chain.link/education-hub/defi-ecosystem/', 'title': 'The DeFi Ecosystem', 'description': 'October 15, 2021', 'source_type': 'main'}\n",
      "{'source': 'https://youtu.be/VH2Kj1mPCcQ', 'source_type': 'video', 'title': 'Swingby: Securing Blockchain Bridges for Bitcoin With Chainlink Proof of Reserve | Tech Talk #18', 'description': \"The article discusses the importance of securing blockchain bridges and wrap Bitcoin with proof of Reserve, specifically highlighting Swingby's solution.\"}\n",
      "{'source': 'https://blog.chain.link/analyze-decentralized-oracles-in-real-time/', 'source_type': 'blog', 'title': 'Analyze Decentralized Oracles in Real-Time With Chainlink’s Price Feed Visualizations', 'description': \"Chainlink's Price Feed visualizations promote transparency in the DeFi space by showing the composition of decentralized oracle networks and allowing users to audit price data.\"}\n",
      "{'source': 'https://docs.chain.link/getting-started/consuming-data-feeds/', 'source_type': 'technical_document', 'title': 'Consuming Data Feeds', 'description': 'An overview of consuming data feeds.'}\n",
      "{'title': 'BRL / USD on Ethereum Mainnet', 'description': 'Details for BRL / USD on Ethereum Mainnet', 'source_type': 'data', 'source': 'https://data.chain.link/ethereum/mainnet/fiat/brl-usd'}\n",
      "{'source': 'https://chain.link/education-hub/oracle-problem/', 'title': 'What Is the Blockchain Oracle Problem?', 'description': 'The blockchain oracle problem refers to the challenge of obtaining external data and verifying its accuracy on a blockchain.', 'source_type': 'main'}\n",
      "{'source': 'https://www.youtube.com/watch?v=flHWMXLDHD4', 'source_type': 'video', 'title': 'How bZx Automates Smart Contracts with Chainlink Automation | Chainlink Tech Talk #1', 'description': 'BZX automates their smart contracts with Chainlink Keepers to overcome the limitations of smart contracts not being fully automated.'}\n"
     ]
    }
   ],
   "source": [
    "for r in rs:\n",
    "    print(r.metadata)"
   ]
  },
  {
   "cell_type": "code",
   "execution_count": 17,
   "metadata": {},
   "outputs": [],
   "source": [
    "import requests"
   ]
  },
  {
   "cell_type": "code",
   "execution_count": 20,
   "metadata": {},
   "outputs": [
    {
     "data": {
      "text/plain": [
       "{'results': [{'source': 'https://blog.chain.link/three-years-on-mainnet/',\n",
       "   'source_type': 'blog',\n",
       "   'title': 'Three Years on Mainnet',\n",
       "   'description': 'Chainlink has become a critical oracle infrastructure for Web3 since launching on Ethereum mainnet three years ago.'},\n",
       "  {'source': 'https://docs.chain.link/chainlink-functions/resources/',\n",
       "   'source_type': 'technical_document',\n",
       "   'title': 'Chainlink Functions Resources',\n",
       "   'description': 'A collection of resources for understanding and using Chainlink functions.'},\n",
       "  {'title': 'LINK / USD on Polygon Mainnet',\n",
       "   'description': 'Details for LINK / USD on Polygon Mainnet',\n",
       "   'source_type': 'data',\n",
       "   'source': 'https://data.chain.link/polygon/mainnet/crypto-usd/link-usd'},\n",
       "  {'source': 'https://chain.link/ecosystem/',\n",
       "   'title': 'Open-source development and a growing ecosystem of users',\n",
       "   'description': 'Chainlink has a thriving open-source community and ecosystem of users.',\n",
       "   'source_type': 'main'},\n",
       "  {'source': 'https://www.youtube.com/watch?v=flHWMXLDHD4',\n",
       "   'source_type': 'video',\n",
       "   'title': 'How bZx Automates Smart Contracts with Chainlink Automation | Chainlink Tech Talk #1',\n",
       "   'description': 'BZX automates their smart contracts with Chainlink Keepers to overcome the limitations of smart contracts not being fully automated.'},\n",
       "  {'source': 'https://blog.chain.link/linkpool-awarded-chainlink-community-grant/',\n",
       "   'source_type': 'blog',\n",
       "   'title': 'LinkPool Awarded Chainlink Community Grant',\n",
       "   'description': 'LinkPool has been awarded a Chainlink Community Grant to support the growth of the Chainlink ecosystem.'},\n",
       "  {'source': 'https://docs.chain.link/chainlink-nodes/resources/performing-system-maintenance/',\n",
       "   'source_type': 'technical_document',\n",
       "   'title': 'Performing System Maintenance',\n",
       "   'description': 'A guide on performing system maintenance, including examples of maintenance and image updates and failover nodes.'},\n",
       "  {'title': 'LINK / ETH on Polygon Mainnet',\n",
       "   'description': 'Details for LINK / ETH on Polygon Mainnet',\n",
       "   'source_type': 'data',\n",
       "   'source': 'https://data.chain.link/polygon/mainnet/crypto-eth/link-eth'},\n",
       "  {'source': 'https://chain.link/faqs/',\n",
       "   'title': 'Frequently asked questions',\n",
       "   'description': 'NO MORE THAN 15 words.',\n",
       "   'source_type': 'main'},\n",
       "  {'source': 'https://www.youtube.com/watch?v=kI4iYM3rAeI',\n",
       "   'source_type': 'video',\n",
       "   'title': 'DeFi Money Legos and Composability | Chainlink Tech Talk #6',\n",
       "   'description': 'This is an introduction to a tech talk about DeFi, money legos, and composability in the blockchain ecosystem.'},\n",
       "  {'source': 'https://blog.chain.link/chainlink-build-program/',\n",
       "   'source_type': 'blog',\n",
       "   'title': 'Introducing Chainlink BUILD: Supercharging dApp Growth Through Cross-Ecosystem Incentives',\n",
       "   'description': 'Chainlink Labs has launched Chainlink BUILD, a program that aims to boost the growth of projects within the Chainlink ecosystem by offering access to Chainlink services and technical support in exchange for commitments of network fees and other incentives to Chainlink service providers.'},\n",
       "  {'source': 'https://docs.chain.link/chainlink-functions/',\n",
       "   'source_type': 'technical_document',\n",
       "   'title': 'What is Chainlink Functions?',\n",
       "   'description': 'Chainlink Functions are a feature of the Chainlink network that allow for the execution of off-chain computations.'},\n",
       "  {'title': 'LINK / USD on Avalanche Mainnet',\n",
       "   'description': 'Details for LINK / USD on Avalanche Mainnet',\n",
       "   'source_type': 'data',\n",
       "   'source': 'https://data.chain.link/avalanche/mainnet/crypto-usd/link-usd'},\n",
       "  {'source': 'https://chain.link/faqs',\n",
       "   'title': 'Frequently asked questions',\n",
       "   'description': 'NO MORE THAN 15 words.',\n",
       "   'source_type': 'main'},\n",
       "  {'source': 'https://www.youtube.com/watch?v=yevAqH0iPOw',\n",
       "   'source_type': 'video',\n",
       "   'title': 'CyberKongz: Randomizing NFT Traits Using Chainlink VRF | Chainlink Tech Talks',\n",
       "   'description': \"The article is about a tech talk discussing the integration of Chainlink's VRF (Verifiable Random Function) with Cyber Cons, featuring guests from both companies.\"},\n",
       "  {'source': 'https://blog.chain.link/expanding-the-chainlink-bug-bounty-program/',\n",
       "   'source_type': 'blog',\n",
       "   'title': 'Expanding the Chainlink Bug Bounty Program',\n",
       "   'description': 'Chainlink is expanding its Bug Bounty Program to offer $100,000 for the responsible disclosure of critical vulnerabilities.'},\n",
       "  {'source': 'https://docs.chain.link/chainlink-nodes/v1/running-a-chainlink-node/',\n",
       "   'source_type': 'technical_document',\n",
       "   'title': 'Running a Chainlink Node',\n",
       "   'description': 'This article provides a guide on how to run a Chainlink node, including requirements and configuration steps.'},\n",
       "  {'title': 'LINK / USD on Arbitrum Mainnet',\n",
       "   'description': 'Details for LINK / USD on Arbitrum Mainnet',\n",
       "   'source_type': 'data',\n",
       "   'source': 'https://data.chain.link/arbitrum/mainnet/crypto-usd/link-usd'},\n",
       "  {'source': 'https://chain.link/economics/',\n",
       "   'title': 'Chainlink Economics 2.0',\n",
       "   'description': 'Chainlink is introducing Chainlink Economics 2.0 to enhance growth, security, and value in its network.',\n",
       "   'source_type': 'main'},\n",
       "  {'source': 'https://www.youtube.com/watch?v=t-Cpd9Oukac',\n",
       "   'source_type': 'video',\n",
       "   'title': 'What Is the Metaverse? A Deep Dive Into NFTs & Blockchain Gaming | Chainlink Tech Talk #7',\n",
       "   'description': 'This is a tech talk about the metaverse, NFTs, and blockchain gaming, featuring experts from PolyChain Monsters, Chain Guardians, and Treasure Down.'}]}"
      ]
     },
     "execution_count": 20,
     "metadata": {},
     "output_type": "execute_result"
    }
   ],
   "source": [
    "res = requests.post(\n",
    "    url=\"https://api.algoverai.link/chainlink/search\",\n",
    "    json={\n",
    "        \"query\": \"chainlink\",\n",
    "        \"type_\": \"all\",\n",
    "    },\n",
    "    headers={ \"X-API-Key\": \"7a08c35c471a0c4e9a7e3485acc601639a07694588fb2e78a67d48c3926d1837\"}\n",
    ")\n",
    "res.raise_for_status()\n",
    "res.json()"
   ]
  },
  {
   "cell_type": "code",
   "execution_count": 1,
   "metadata": {},
   "outputs": [],
   "source": [
    "### add title and description chain.link"
   ]
  },
  {
   "cell_type": "code",
   "execution_count": 16,
   "metadata": {},
   "outputs": [],
   "source": [
    "with open(\"/home/marshath/play/chainlink/chainlink-assistant/data/chain_link_main_docs_2023-08-18.pkl\", 'rb') as f:\n",
    "    chain_link_docs = pickle.load(f)\n",
    "\n",
    "with open(\"/home/marshath/play/chainlink/chainlink-assistant/data/chain_link_you_tube_docs_2023-08-18.pkl\", 'rb') as f:\n",
    "    chain_link_youtube_docs = pickle.load(f)"
   ]
  },
  {
   "cell_type": "code",
   "execution_count": 17,
   "metadata": {},
   "outputs": [
    {
     "name": "stdout",
     "output_type": "stream",
     "text": [
      "page_content=\"[](/)\\n\\nMenu\\n\\n[Start building](https://docs.chain.link/docs)\\n\\n# Integrate Chainlink  \\ntrust-minimized services\\n\\n## Get started:\\n\\nOutline your use case and product requirements.\\n\\nFind the right solutions for your company\\n\\nReceive guidance and technical expertise integrating Chainlink\\n\\nNew to Chainlink and smart contracts?\\n\\n[Read the docs](https://docs.chain.link/)\\n\\n### Talk to an expert\\n\\nEmail address*\\n\\nWhat’s the website of your project/company?*\\n\\nWhat brought you to Chainlink?*Select one...Integrate Market and Data\\nFeedsIntegrate FunctionsIntegrate AutomationIntegrate Verifiable Random\\nFunction (VRF)Integrate Proof of Reserve (PoR)Build Cross-Chain\\nApplicationsBecome a Node OperatorBecome a Data ProviderOther/I don't know\\n\\nWhat blockchain(s) are you building on?* Select one...ArbitrumAvalancheBNB\\nChainEthereumFantomOptimismPolygonSolanaMulti-ChainOther\\n\\nOther\\n\\nEstimated launch time frame*Select one...Within 1 month1-3 months3-6 months6+\\nmonthsAlready live\\n\\nThank you! Your submission has been received!\\n\\nOops! Something went wrong while submitting the form.\\n\\nSlide 2 of 7.\\n\\nTransaction Value Enabled:\\n\\n$\\n\\n8,361,867,147,590\\n\\nChainlink TVE is calculated by taking the sum of the USD value associated with\\neach transaction utilizing Price Feeds since the start of 2022, currently\\ncovering Arbitrum, Avalanche, BNB Chain, Ethereum, Fantom, Gnosis Chain, HECO\\nChain, Metis, Moonbeam, Moonriver, Optimism, and Polygon.\\n\\nUpdated\\n\\nAugust 1, 2023\\n\\n  * [](https://zh.chain.link/contact?ref_id=faq/)\\n\\n\" metadata={'source': 'https://chain.link/contact?ref_id=faq/'}\n",
      "page_content='[](/)\\n\\nMenu\\n\\n[Start building](https://docs.chain.link/docs)\\n\\nSmartCon is LIVE right now. Discover 200+ leading DeFi, NFT, and blockchain\\nprojects.  \\n\\n[Sign up today](https://hopin.com/events/smart-contract-\\nsummit-1?ref=99e0a4e499f0)\\n\\n[Join us for the Web3 event of the yearGet\\ntickets](https://smartcon.chain.link/?utm_medium=referral&utm_source=chainlink-\\nside-banner&utm_campaign=smartcon-2023&agid=zan3efmpwkqv)\\n\\nChainlink Labs is hiring. Come join an industry-leading team.\\n\\n[See current\\nopenings](https://www.chainlinklabs.com/jobs?utm_source=chainlink&utm_medium=side-\\nbanner&utm_campaign=careers)\\n\\nThe FAQ link was copied to your clipboard.\\n\\n[Home](/)\\n\\n/\\n\\n# Frequently asked questions\\n\\nLast updated:\\n\\nMay, 2023\\n\\nThank you! Your submission has been received!\\n\\nOops! Something went wrong while submitting the form.\\n\\nClear\\n\\nFundamentalsUse Cases & IntegrationsProductsChainlink Updates\\n\\nThank you! Your submission has been received!\\n\\nOops! Something went wrong while submitting the form.\\n\\nFundamentals\\n\\n## Basics\\n\\n## Fundamentals\\n\\n### Fundamentals\\n\\n[ ](https://chain.link/faqs#fundamentals)\\n\\n## What is Chainlink?\\n\\n### What is Chainlink?\\n\\n[ ](https://chain.link/faqs#what-is-chainlink)\\n\\nChainlink is the industry standard for building, accessing, and selling oracle\\nservices needed to power hybrid smart contracts on any blockchain. Chainlink\\noracle networks provide smart contracts with a way to reliably connect to any\\nexternal API and leverage secure off-chain computations for enabling feature-\\nrich applications. Chainlink currently secures tens of billions of dollars\\nacross DeFi, insurance, gaming, and other major industries, and offers global\\nenterprises and leading data providers a universal gateway to all blockchains.  \\n\\n## What is a blockchain oracle?\\n\\n### What is a blockchain oracle?\\n\\n[ ](https://chain.link/faqs#what-is-a-blockchain-oracle)\\n\\nA [blockchain oracle](https://chain.link/education/blockchain-oracles) is any\\nsystem that services a smart contract by providing it with data from an off-\\nchain source or connecting it with an off-chain system. Oracles enable\\nconnectivity between blockchains and real-world data by interfacing with\\nexternal APIs and data feeds, allowing them to pull data for or push data from\\na smart contract.  \\n\\n## Why do blockchains need oracles?\\n\\n### Why do blockchains need oracles?\\n\\n[ ](https://chain.link/faqs#why-do-blockchains-need-oracles)\\n\\nOracles enable smart contracts to interact with off-chain resources. Without\\noracles, smart contracts can only access data within a blockchain, severely\\nlimiting their potential applications. The majority of industry-changing\\n[real-world use cases](https://blog.chain.link/smart-contract-use-cases/) for\\nsmart contracts require off-chain data and computation for proper execution\\nand often an integration with existing payment rails to settle a contract. For\\nexample, a smart contract may require high-quality weather data from a\\nreputable source like AccuWeather to trigger a transaction. It may also\\nrequire the ability to pay out escrowed fiat currency through existing\\nfinancial infrastructure, such as a bank checking account.  \\n\\n## What is \"real-world data\"?\\n\\n### What is \"real-world data\"?\\n\\n[ ](https://chain.link/faqs#what-is-real-world-data)\\n\\nReal-world data, also known as off-chain data or external data, refers to the\\ncurrent global data infrastructure that exists outside of the blockchain that\\nmust be brought on-chain via oracles to be used by smart contract\\napplications. Like a computer without the Internet, blockchain-based smart\\ncontracts have inherent value on their own, such as creating and swapping\\ntokens. However, they become exponentially more powerful when externally\\nconnected to the vast and accelerating [data and API\\neconomy](https://blog.chain.link/understanding-how-data-and-apis-power-next-\\ngeneration-economies/) taking root outside the blockchain ecosystem.  \\n\\n## What is the oracle problem?\\n\\n### What is the oracle problem?\\n\\n[ ](https://chain.link/faqs#what-is-the-oracle-problem)\\n\\nThe [oracle problem](https://blog.chain.link/what-is-the-blockchain-oracle-\\nproblem/), also known as the “smart contract connectivity problem”, refers to\\na blockchain’s inability to natively pull data from or push data to any\\nexternal [off-chain system](https://chain.link/education-hub/oracle-\\ncomputation) due to the strong security properties created by a blockchain’s\\nconsensus mechanism.\\n\\nBlockchain nodes are designed to perform standardized and uniform operations\\nto generate consensus on a set of transactions (solving the double-spend\\nproblem). However, they are not suited to answer subjective questions about\\nprobabilistic real-world data, as blockchain nodes do not always have access\\nto the same information, making generating consensus on even the most basic\\ndata requests challenging and source quality enforcement impossible. It is for\\nthis reason blockchains focus on generating definitive truth about the\\nvalidity of transactions, but limit connections to any off-chain systems to\\nensure the network always remains live and produces deterministic results for\\nincoming transactions.\\n\\nIn order to create a bridge between the blockchain (on-chain) and the outside\\nworld (off-chain), an additional and separate piece of infrastructure known as\\nan “oracle” is required. However, the use of a centralized oracle can result\\nin manipulated data inputs and outputs, meaning the oracle mechanism itself\\nneeds to be highly decentralized to ensure the security of a smart contract’s\\nexecution is maintained end-to-end.\\n\\n## What is the Chainlink Network?\\n\\n### What is the Chainlink Network?\\n\\n[ ](https://chain.link/faqs#what-is-the-chainlink-network)\\n\\nThe Chainlink Network refers to all of the decentralized oracle networks\\nactively operating using the Chainlink protocol, including individual oracles,\\n[data providers running their own node](https://blog.chain.link/easily-sell-\\nyour-apis-and-data-to-any-blockchain-via-chainlink/), and [node\\noperators.](https://blog.chain.link/what-is-a-chainlink-node-operator/) By\\nenabling smart contracts to quickly and securely connect to off-chain data\\nsources using decentralized oracle networks, the Chainlink Network helps\\ndevelopers build more robust and diverse blockchain applications using real-\\nworld inputs and outputs. Additionally, as middleware between low-level\\nblockchain protocols and external, off-chain data sources, the Chainlink\\nNetwork serves as an abstraction layer for data providers to easily sell their\\nexisting APIs to any blockchain network.  \\n\\n## What is a decentralized oracle network?\\n\\n### What is a decentralized oracle network?\\n\\n[ ](https://chain.link/faqs#what-is-a-decentralized-oracle-network)\\n\\nA decentralized oracle network consists of multiple blockchain oracles run by\\nindependent node operators that are chosen to retrieve and validate data from\\nseveral different off-chain sources. Each of the oracles’ responses within a\\ndecentralized oracle network are aggregated together to form a single trusted\\ndata point, which can be used to trigger [smart\\ncontracts](https://chain.link/education/smart-contracts) on any blockchain and\\nreally any system that needs highly reliable data that’s provably accurate.\\nThe data delivered on-chain can be hosted in a Reference Contract (pull\\nmodel), and/or delivered directly to consuming smart contracts (push model).\\n\\nThe Chainlink Network is made up of multiple decentralized oracle networks\\nrunning simultaneously and independently of one another. For example, if a\\nsmart contract requires data about the [price of\\nETH/USD](https://data.chain.link/ethereum/mainnet/crypto-usd/eth-usd), instead\\nof relying on one individual blockchain oracle to pull price data from one API\\nsource, the smart contract can use a decentralized oracle network to have\\nmultiple oracle nodes pull data from several different API sources and then\\naggregate the result.\\n\\nThrough decentralized computation, Chainlink-powered decentralized oracle\\nnetworks provide users superior security and reliability guarantees on the\\ninputs and outputs of their smart contract, ensuring that both on-chain and\\noff-chain components of a decentralized application are tamper-proof end-to-\\nend.  \\n\\n## What is a node operator?\\n\\n### What is a node operator?\\n\\n[ ](https://chain.link/faqs#what-is-a-node-operator)\\n\\nNode operators are the entities that maintain and run the blockchain oracles\\nthat make up each Chainlink oracle network providing smart contracts on\\nvarious blockchains access to external data and resources. These operators\\nconsist of professional validators for various blockchain networks, teams of\\nhighly experienced DevOps engineers, and leading organizations such as\\n[Accuweather](https://www.accuweather.com/en/press/chainlink-and-accuweather-\\nto-bring-world-class-weather-data-on-to-blockchains/994046), the [Associated\\nPress](https://www.ap.org/press-releases/2021/ap-chainlink-to-bring-trusted-\\ndata-onto-leading-blockchains), and [Deutsche Telekom\\nMMS](https://www.t-systems-mms.com/en/company/newsroom/detail-eng/t-systems-\\nmultimedia-solutions-becomes-chainlink-node-operator.html) that focus\\nspecifically on building infrastructure for the Chainlink ecosystem.\\nAdditionally, external data vendors and API providers can monetize their data\\nsets by running a Chainlink Node and providing signed data directly to smart\\ncontracts. Node operators are able to configure their blockchain oracle node\\nto connect to any off-chain data source and on-chain blockchain environment,\\nproviding a high degree of flexibility.\\n\\nNode operators within the Chainlink Network strictly adhere to the best\\nsecurity practices and use external monitoring systems to ensure a secure and\\nreliable operation is maintained around the clock. Third-party marketplaces\\nlike [market.link](https://market.link/) provide users insight into the\\ncurrent and historical performance of each individual node operator.\\nAdditionally, anybody can become a Chainlink node operator and immediately\\nbegin providing smart contracts access to off-chain data. If you are\\ninterested in running a node, please navigate to our\\n[documentation](https://docs.chain.link/docs/running-a-chainlink-node).\\n\\n## What is Transaction Value Enabled (TVE)?\\n\\n### What is Transaction Value Enabled (TVE)?\\n\\n[ ](https://chain.link/faqs#what-is-transaction-value-enabled-tve)\\n\\nTransaction Value Enabled (TVE) is a cumulative flow metric that measures the\\naggregate monetary value of transactions facilitated by a protocol over a\\ngiven time period. Chainlink TVE is measured as the total US dollar volume of\\ntransactions enabled by Chainlink oracles, specifically every transaction\\nwhere a Chainlink Price Feed reference contract was called across 11\\nblockchains that have integrated Chainlink (Avalanche, BNB Chain, Ethereum,\\nFantom, Gnosis Chain, HECO Chain, Metis, Moonbeam, Moonriver, Optimism, and\\nPolygon). TVE is calculated across millions of transactions using on-chain\\ndata and resolved across thousands of token prices.\\n\\nTVE measures both volume and facilitated flow, capturing not only input and\\noutput values but also how a protocol is used within transactions to\\nfacilitate value securely. Chainlink TVE encompasses a wide variety of\\ntransactions and movements within transactions that require Chainlink oracles\\nfor accurate price updates, including trading, lending, rebalancing, automated\\nyield farming, stablecoin minting, and many more DeFi use cases.\\n\\n## Why choose Chainlink to aggregate data for a smart contract rather than\\nbuilding one’s own oracle?\\n\\n### Why choose Chainlink to aggregate data for a smart contract rather than\\nbuilding one’s own oracle?\\n\\n[ ](https://chain.link/faqs#why-choose-chainlink-to-aggregate-data-for-a-\\nsmart-contract-rather-than-building-ones-own-oracle)\\n\\nChainlink provides users with a simple to integrate and [pre-built\\ndecentralized oracle solution](https://chain.link/data-feeds) that can be\\nutilized today by any smart contract on any blockchain. A Chainlink\\nintegration allows developers to focus on their application’s core business\\nlogic without needing to allocate precious resources to rebuilding\\ninfrastructure. Rolling your own oracle is extremely difficult and\\nprobabilistic as the oracle problem is complicated, technical, nuanced, and\\nrequires constant monitoring, upkeep, funding, and resources to maintain\\nproperly.\\n\\nThe ability to easily integrate a project with Chainlink’s decentralized\\noracle network has enabled numerous teams to avoid the hassle of building\\ntheir own oracle, allowing them to instead focus on innovating and building\\nuse cases. Additionally, as Chainlink users collectively fund oracle networks\\nas a public good, the costs of using Chainlink are far lower than attempting\\nto build and manage your own solution. For example, a [growing\\nlist](https://data.chain.link/) of DeFi applications now use and collectively\\nfund Chainlink Price Feeds. If you are interested in integrating with\\nChainlink, please [reach out](https://chain.link/contact?ref_id=faq).\\n\\n## Who participates in the Chainlink network?\\n\\n### Who participates in the Chainlink network?\\n\\n[ ](https://chain.link/faqs#who-participates-in-the-chainlink-network)\\n\\nThe [Chainlink ecosystem](http://www.chainlinkecosystem.com/ecosystem)\\nincludes hundreds of dApps, blockchains, node operators, and data providers,\\nas well as an expansive research and open-source development community. The\\nChainlink Network powers the leading DeFi applications including\\n[Aave](https://aave.com/), [Synthetix](https://www.synthetix.io/), and\\n[Compound](https://compound.finance/), securing billions of dollars in user\\nfunds. As Chainlink is a permissionless framework for building oracles,\\nanybody can join the network at any time and immediately start contributing to\\nthe growing ecosystem. See the [Chainlink Data\\nFeeds](https://data.chain.link/) page for a more in-depth list of users,\\nsponsors, and node operators.  \\n\\n## What is Chainlink’s economic model?\\n\\n### What is Chainlink’s economic model?\\n\\n[ ](https://chain.link/faqs#what-is-chainlinks-economic-model)\\n\\nChainlink’s economic model revolves around the use of the LINK token to pay\\nfor the operation of a wide variety of oracle services in demand by smart\\ncontract developers and Web2 systems, as well as around using LINK as a\\ncryptoeconomic mechanism for incentivizing the correct performance of oracle\\nservices and providing user assurances.\\n\\nThe supply side of Chainlink economics involves launching new oracle services\\nand continually optimizing existing ones to further the adoption of\\nChainlinked smart contracts and trust-minimized Web2 systems with the aim of\\ncapturing new fee opportunities. It also includes continually provisioning\\nhigher security guarantees on oracle services through staking and other\\nsecurity assurances to enable more advanced and higher-value smart contracts\\nto exist.\\n\\nOn the demand side, users pay node operators in LINK to access oracle\\nservices. Node operators and community members will also be able to stake LINK\\nin the future as a form of service-level guarantee around oracle node\\nperformance, providing a powerful incentive and penalty mechanism for\\nChainlink nodes to generate accurate and timely oracle reports. Continued\\nChainlink adoption incentivizes oracle nodes to compete for growing user fees\\nfrom Chainlinked dApps. This competition encourages oracle nodes to strengthen\\ntheir reputation and increase their LINK stake, showcasing their commitment to\\nhonest behavior and maximizing the cost of attack for malicious actors.\\nIncreased stake can also drive increased opportunities for nodes to earn user\\nfees from Chainlinked dApps since they are viewed as having greater incentive\\nto perform jobs in a timely and accurate manner.\\n\\nWithin Chainlink’s economic model, the increased availability and adoption of\\noracle services cultivates more fee opportunities for node operators who\\nsupport the protocol. This creates a virtuous cycle in which oracle networks\\ncan sustain themselves on user fees alone by providing new trust-minimized\\nservices, increasing security guarantees, and capturing new fee opportunities\\nfrom growing adoption.\\n\\nFor more information on Chainlink economics, see the following resources:\\n\\n  * [Chainlink Staking: Long-Term Goals, Roadmap, and Initial Implementation](https://blog.chain.link/chainlink-staking-roadmap/)\\n  * [Chainlink Economics 2.0 and the Market for Trust-Minimized Apps | Sergey Nazarov](https://www.youtube.com/watch?v=KSS8Gk5UxE4)\\n  * [The Security Impact Curve and Future Fee Opportunity in Chainlink Oracle Networks](https://blog.chain.link/understanding-the-security-impact-curve-and-future-fee-opportunity/)\\n  * [The Chainlink 2.0 Whitepaper](https://chain.link/whitepaper)\\n\\n## What makes the Chainlink oracle network more reliable than other oracle\\nnetworks?\\n\\n### What makes the Chainlink oracle network more reliable than other oracle\\nnetworks?\\n\\n[ ](https://chain.link/faqs#what-makes-the-chainlink-oracle-network-more-\\nreliable-than-other-oracle-networks)\\n\\nThe Chainlink Network is composed of the highest-quality, Sybil-resistant\\noracle nodes that are operated by leading DevOps and security teams, such as\\nDeutsche Telekom MMS, who have decades of experience running mission-critical\\ninfrastructure. The security-reviewed and tamper-resistant nodes that comprise\\nChainlink [oracle networks](https://data.chain.link/) are highly transparent:\\nTheir performance metadata is made publicly available to users and can be\\nfound on-chain or on third-party sites such as\\n[market.link](http://market.link/).\\n\\nChainlink also employs a defense in depth approach where multiple security\\nsolutions are used in combination to increase oracle network robustness and\\nreliability. This includes privacy-preserving cryptography like\\n[DECO](https://www.youtube.com/watch?v=zWTx1iQOCDM), trusted hardware such as\\n[Town Crier](https://blog.chain.link/town-crier-and-chainlink/),\\ncryptoeconomic security through implicit/explicit staking, and much more.\\n\\n## How decentralized is the Chainlink Network?\\n\\n### How decentralized is the Chainlink Network?\\n\\n[ ](https://chain.link/faqs#how-decentralized-is-the-chainlink-network)\\n\\nThe Chainlink Network consists of hundreds of professionally-operated and\\ncommunity-run [nodes](https://blog.chain.link/what-is-a-chainlink-node-\\noperator/), allowing for the creation of numerous Sybil-resistant and tamper-\\nproof oracle networks that can scale up in decentralization as the value being\\nsecured rises. Chainlink nodes are operated by professional DevOps and\\nsecurity teams with decades of experience operating mission-critical\\ninfrastructure and are already securing tens of billions of dollars of value\\nacross multiple blockchain networks. The performance data about each Chainlink\\nnode can be found on-chain or on independent sites such as\\n[market.link](http://market.link/).  \\n\\n## How are Chainlink services updated?\\n\\n### How are Chainlink services updated?\\n\\n[ ](https://chain.link/faqs#how-are-chainlink-services-updated)\\n\\nIn order to meet user demand and continuously improve performance, Chainlink\\nservices are updated from time to time to introduce new features and\\nfunctionalities. Additionally, due to the dynamic nature of off-chain\\nenvironments, swift updates may also be required in response to various\\nexternalities. Examples may include, but are not limited to, token migrations,\\nprotocol rebrands, extreme market events, and upstream issues with data or\\nnode operations.\\n\\nIn alignment with software development best practices, updates can encompass\\noff-chain and/or on-chain processes as Chainlink services are composed of both\\non-chain smart contract logic and off-chain infrastructure such as the\\nChainlink node client and data provider end-points.\\n\\nOff-chain updates commonly take place at the node operator level, where each\\nindividual operator manages their own Chainlink node configuration. Updates\\ncan include upgrading to a new Chainlink node software version to improve\\nperformance or changing API endpoints in a job specification if a data\\nprovider becomes unreliable. Off-chain updates can also take place at the data\\nprovider level, such as responding to a token migration event or other\\nexternalities.\\n\\nOn-chain updates take place at the smart contract level, where a [multi-\\nsignature safe](https://docs.gnosis-safe.io/introduction/the-programmable-\\naccount/gnosis-safe) (multisig) is used to modify on-chain parameters relating\\nto a Chainlink service. This can include replacing faulty nodes on a specific\\noracle network, introducing new features such as [Off-Chain\\nReporting](https://docs.chain.link/docs/off-chain-reporting/), or resolving a\\nsmart contract logic error. The multisig-coordinated upgradability of\\nChainlink services involves time-tested processes that balance collusion-\\nresistance with the flexibility required to implement improvements and adjust\\nparameters.\\n\\nSpecifically, the use of a multisig to modify the on-chain parameters of\\nChainlink services allows for a safe, secure, and rapid response to black swan\\nevents and other potential incidents on the order of minutes, minimizing\\nservice interruption for users. Alternative methods to incident response that\\ndon’t utilize a multisig can introduce severe risk to users. For instance,\\noracle services with immutable on-chain logic require a full contract\\nredeployment if any on-chain parameter requires modification. This can delay\\nincident response times, introduces significant coordination friction, and\\nnecessitates additional actions from users who may not respond in a timely\\nenough manner.\\n\\nMoreover, Chainlink is a generalized and modular protocol that enables oracle\\nnetworks to be customized to meet the exact requirements of users. This\\nincludes the ability of users to set up and launch their own Chainlink oracle\\nnetworks with custom configurations and upgradability processes.\\n\\nThe approach taken to the upgradability of Chainlink services will continue to\\nevolve over time in response to user requirements. Information on the\\nupgradability of Chainlink Data Feeds can be found in the [Chainlink\\nDocumentation](https://docs.chain.link/docs/using-chainlink-reference-\\ncontracts/#updates-to-proxy-and-aggregator-contracts).\\n\\n## Is Chainlink’s source code public?\\n\\n### Is Chainlink’s source code public?\\n\\n[ ](https://chain.link/faqs#is-chainlinks-source-code-public)\\n\\nYes. The Chainlink source code can be viewed at\\n<https://github.com/smartcontractkit>.\\n\\n## How is Chainlink\\'s oracle solution unique?\\n\\n### How is Chainlink\\'s oracle solution unique?\\n\\n[ ](https://chain.link/faqs#how-is-chainlinks-oracle-solution-unique)\\n\\n**High-quality data with premium APIs** \\\\- The Chainlink Network has\\ncredential management capabilities, meaning it can fetch and deliver data to\\nsmart contracts from premium, password-protected data sources. While free data\\nAPIs are useful, most inputs that trigger transactions related to secure user\\nfunds will likely need to come from premium APIs.\\n\\n**\\u200dFlexibility** \\\\- The Chainlink Network is a highly flexible and\\n[blockchain-agnostic](https://blog.chain.link/chainlinks-blockchain-agnostic-\\ndesign/) oracle framework utilized by DeFi applications, web services, and\\ntraditional enterprises alike. By acting as a universal blockchain abstraction\\nlayer, users can leverage Chainlink to transmit any kind of data to and from\\nany blockchain environment as desired.\\n\\n**\\u200dHighly secure and transparent nodes** \\\\- Chainlink oracle networks consist\\nof security-reviewed and tamper-resistant nodes, such as Deutsche Telekom MMS.\\nThese nodes are highly transparent, and their performance data are publicly\\navailable to all users at [market.link](https://market.link/overview).\\n\\n**Decentralized and Sybil-resistant networks** \\\\- Chainlink is the most\\ndecentralized oracle network, consisting of security-reviewed nodes that are\\nbacked by professional teams, allowing for the creation of numerous Sybil-\\nresistant and tamper-proof oracle networks that can scale up as the value\\nbeing secured rises.\\n\\n**Defense in depth** \\\\- Chainlink employs a defense in depth approach where\\nmultiple security solutions are used in combination to increase oracle network\\nrobustness and reliability. This includes privacy-preserving cryptography like\\n[DECO](https://www.prnewswire.com/news-releases/chainlink-acquires-deco-from-\\ncornell-university-301120614.html), trusted hardware such as [Town\\nCrier](https://blog.chain.link/town-crier-and-chainlink/), cryptoeconomic\\nsecurity through implicit/explicit staking, reputation systems, and much more.\\nThis multi-layered approach to security increases Chainlink’s end-to-end\\nreliability.\\n\\n **Adoption and network effects** \\\\- Chainlink is the most widely used and\\nadopted oracle solution in DeFi, securing billions in value in production for\\ninnovative DeFi protocols such as Aave, Synthetix, Compound, and creating a\\ngrowing network effect attracting more users. Chainlink has undergone numerous\\nsecurity audits and has been time-tested on mainnet.\\n\\n\\u200d **Solid security foundation and world-class research** \\\\- Chainlink is\\nsupported by a multitude of leading engineers and academics, such as Chainlink\\nLabs Chief Scientist Ari Juels, Chainlink Labs Chief Research Officer Dahlia\\nMalkhi, and Chainlink Labs Chief Product Officer Kemal El Moujahid. The\\nresearchers working on the Chainlink protocol are industry experts in\\nblockchain oracles and are responsible for some of the most innovative\\ndevelopments in the space, such as\\n[DECO](https://arxiv.org/pdf/1909.00938.pdf),\\n[VRF](https://blog.chain.link/chainlink-vrf-on-chain-verifiable-randomness/),\\n[Mixicles](https://chain.link/mixicles.pdf), [Town\\nCrier](https://eprint.iacr.org/2016/168.pdf), and more.\\n\\n## How does the Chainlink Network access high-quality data?\\n\\n### How does the Chainlink Network access high-quality data?\\n\\n[ ](https://chain.link/faqs#how-does-the-chainlink-network-access-high-\\nquality-data)\\n\\nChainlink nodes can access any authenticated or premium data source API\\nthrough the use of modular [external\\nadapters](https://docs.chain.link/docs/external-adapters). External adapters\\ncan be written in any programming language and hosted as a serverless function\\non any cloud provider or web server. These adapters allow Chainlink nodes to\\naccess a wide array of data sources, including authenticated and private APIs\\nthat require sensitive password keys, such as enterprise backends and\\nsubscription-based sources. Thus, Chainlink nodes have a high degree of\\nflexibility as API credentials can be kept off-chain and stored securely,\\nseparate from the node itself.  \\n\\n## What are the benefits of having multiple layers of data aggregation?\\n\\n### What are the benefits of having multiple layers of data aggregation?\\n\\n[ ](https://chain.link/faqs#what-are-the-benefits-of-having-multiple-layers-\\nof-data-aggregation)\\n\\nChainlink oracle networks operate using multiple layers of data aggregation to\\nensure there is no single point of failure or any reliance on a single source\\nof truth that could be corrupted. This redundancy is not only required to\\nensure high-value smart contracts consume highly refined data, but also to\\nensure [Chainlink Price Feeds](https://data.chain.link/) provide full market\\ncoverage that reflects the true market price of assets. With Price Feeds\\nsecuring tens of billions in user funds, these layers of aggregation secure\\nthe DeFi ecosystem.\\n\\n _Chainlink uses multiple layers of aggregation to ensure broad market\\ncoverage and data quality._\\n\\n  \\n\\nThe first aggregation layer is at the data source level where professional\\ndata aggregation firms (e.g. BraveNewCoin, CoinGecko) fetch market data from\\nhundreds of exchanges, taking into account volume and liquidity differences,\\nand generate a single weighted reference price point. The second aggregation\\nlayer is at the node operator level where each individual Chainlink oracle\\nnode sources price data from multiple data aggregation firms and takes the\\nmedian, mitigating outliers, API downtime, and ensuring nodes do not rely on\\nany one source. The third aggregation layer is at the oracle network level\\nwhere the responses from multiple oracle nodes are aggregated by taking the\\nmedian, ensuring no individual node has control over the resulting data point\\ndelivered to contracts. All of this together ensures smart contracts consume\\nonly the highest quality data that reflects the true market-wide price.  \\n\\nFor more information on secure oracle design, refer to our articles on [the\\nimportance of data quality for DeFi smart\\ncontracts](https://blog.chain.link/the-importance-of-data-quality-for-defi/)\\nand [the three levels of data aggregation in Chainlink Price\\nFeeds.](https://blog.chain.link/levels-of-data-aggregation-in-chainlink-price-\\nfeeds/)  \\n\\n## Where can I explore the performance and reliability of the Chainlink\\nNetwork?\\n\\n### Where can I explore the performance and reliability of the Chainlink\\nNetwork?\\n\\n[ ](https://chain.link/faqs#where-can-i-explore-the-performance-and-\\nreliability-of-the-chainlink-network)\\n\\nThe [Chainlink Price Feeds page](https://data.chain.link/) provides real-time\\nvisualizations of each decentralized price feed that provides on-chain\\nexchange rates for cryptocurrencies, stablecoins, commodities, and indices.\\nUsers can explore each individual price feed, which offers transparency around\\nwhich nodes power each feed, each node’s latest response, how often feed\\nupdates occur, the gas price paid by each node, the users sponsoring each\\nfeed, and hyperlinks to on-chain transactions.\\n\\nLinkPool’s [market.link ](https://market.link/)is a permissionless marketplace\\nthat allows node operators to display their historical performance and list\\nwhat oracle services they offer. Users can use this data to filter and analyze\\neach node’s revenue, gas costs, and response times. Developers can also query\\nthe Chainlink Market’s [Metrics\\nAPI](https://docs.linkpool.io/docs/market_metrics_api_overview) to access all\\nof this raw data themselves and build their own analysis framework using real-\\ntime data regarding the performance of the Chainlink Network.\\n\\n## How will Chainlink scale?\\n\\n### How will Chainlink scale?\\n\\n[ ](https://chain.link/faqs#how-will-chainlink-scale)\\n\\nThrough off-chain reporting and [threshold\\nsignatures](https://blog.chain.link/threshold-signatures-in-chainlink/),\\nChainlink oracle networks can scale to thousands of secure nodes within a\\nnetwork. Instead of each node making their own on-chain transaction for each\\nupdate, node responses are aggregated off-chain, and only a single transaction\\nneeds to be submitted on-chain. The security of data is cryptographically\\nmaintained throughout the entire process. This allows for the creation of\\nChainlink oracle networks that are highly decentralized while remaining cost-\\nefficient and secure against manipulation through a defense in depth approach.\\nAdditionally, unlike other oracle projects, each Chainlink oracle network is\\nentirely independent of one another and does not affect the scalability or\\nthroughput of any other Chainlink Network.  \\n\\n## What is Chainlink Off-Chain Reporting (OCR)?\\n\\n### What is Chainlink Off-Chain Reporting (OCR)?\\n\\n[ ](https://chain.link/faqs#what-is-chainlink-off-chain-reporting-ocr)\\n\\n[Off-Chain Reporting (OCR)](https://docs.chain.link/docs/off-chain-reporting/)\\nis the third and latest version of the Chainlink Core software client run by\\nChainlink nodes, which significantly improves the efficiency of how data is\\naggregated by Chainlink oracles. OCR reduces operating costs by up to 90% and\\nenables the Chainlink Network to generate a 10x increase in the amount of\\nsecure, real-world data available to smart contract applications.\\n\\nOCR allows Chainlink nodes to communicate off-chain and aggregate data at zero\\ngas costs using a distributed, peer-to-peer network. In OCR’s computation\\nmodel, each node fetches data from one or multiple data sources, signs it with\\ntheir unique private key, and broadcasts it to the rest of the oracle network\\noff-chain. Once a sufficient number of responses have been generated, a single\\ntransaction is transmitted on-chain containing every node’s observation. The\\noracle report and node signatures are then validated on-chain by a smart\\ncontract, providing the transparency and end-to-end security guarantees that\\nare fundamental to Chainlink oracle networks.\\n\\nAll Chainlink nodes operating in-production run the OCR and FluxMonitor\\nclients in parallel to achieve multi-client diversity and security through\\nredundancy. For a deeper dive into OCR’s design goals and report generation\\nprocess, read the [OCR protocol paper](https://research.chain.link/ocr.pdf).\\n\\n## What is off-chain computation?\\n\\n### What is off-chain computation?\\n\\n[ ](https://chain.link/faqs#what-is-off-chain-computation)\\n\\n[Off-chain computation](https://blog.chain.link/how-chainlink-supports-any-\\noff-chain-data-resource-and-computation/) refers to trust-minimized executions\\nthat are performed outside of a blockchain environment by Decentralized Oracle\\nNetworks (DONs). The Chainlink Network provides a wide range of off-chain\\ncomputations that significantly enhance the capabilities of smart contracts\\nand blockchain networks, including scalable code execution, oracle update\\ntransaction batching, random number generation, privacy-preserving contracts,\\nfair transaction ordering, and more. The off-chain computations performed by\\nDONs extend Chainlink’s functionality far beyond secure data delivery while\\nmeeting the decentralized computation guarantees that are fundamental to\\nblockchain technology.\\n\\n## What are hybrid smart contracts?\\n\\n### What are hybrid smart contracts?\\n\\n[ ](https://chain.link/faqs#what-are-hybrid-smart-contracts)\\n\\n[Hybrid smart contracts](https://blog.chain.link/hybrid-smart-contracts-\\nexplained/) are an evolution of smart contract design that was pioneered in\\nthe [Chainlink 2.0 Whitepaper](https://research.chain.link/whitepaper-v2.pdf),\\nin which contracts are securely composed of both on-chain and off-chain\\ncomputing resources. Hybrid smart contracts are made possible by Chainlink\\nDecentralized Oracle Networks (DONs), which provide a multiplicity of off-\\nchain services to existing and future blockchain networks, enabling feature-\\nrich, privacy-preserving, and scalable smart contract applications.\\n\\n## How will Chainlink support the Ethereum merge?\\n\\n### How will Chainlink support the Ethereum merge?\\n\\n[ ](https://chain.link/faqs#how-will-chainlink-support-the-ethereum-merge)\\n\\nThe [Ethereum Merge](https://ethereum.org/en/upgrades/merge/) is an upcoming\\nnetwork upgrade in which the Proof-of-Work (PoW) consensus layer of the\\nEthereum blockchain will be replaced with a new Proof-of-Stake (PoS) consensus\\nlayer. To ensure continuity for Chainlink protocol users on Ethereum,\\nChainlink Labs is following a rigorous quality assurance process in\\npreparation of the Merge.\\n\\nThe Chainlink protocol and its services will remain operational on the\\nEthereum blockchain during and after the Merge to the PoS consensus layer.\\nUsers should be aware that forked versions of the Ethereum blockchain,\\nincluding PoW forks, will not be supported by the Chainlink protocol. This is\\naligned with both the Ethereum Foundation’s and broader Ethereum community’s\\ndecision, achieved via social consensus, to upgrade the Ethereum blockchain to\\nPoS consensus.\\n\\nMore information can be found in the [Chainlink\\nDocumentation](https://docs.chain.link/docs/ethereum-proof-of-stake-merge/).\\n\\n## Products\\n\\n### Products\\n\\n[ ](https://chain.link/faqs#products)\\n\\n## What are Chainlink Data Feeds?\\n\\n### What are Chainlink Data Feeds?\\n\\n[ ](https://chain.link/faqs#what-are-chainlink-data-feeds)\\n\\n[Chainlink Data Feeds](https://data.chain.link/) are decentralized oracle\\nnetworks that provide aggregated financial market data used by leading DeFi\\napplications such as Aave, Synthetic, Compound, and more. Powered by a\\nmultitude of professional, security-reviewed oracle nodes and premium data\\naggregators, these purpose-built price feeds provide [broad market\\ncoverage](https://blog.chain.link/chainlink-price-feeds-secure-defi/) on a\\nwide array of assets and enable developers to rapidly create innovative smart\\ncontract applications that require a secure source of external market data.\\n\\nChainlink Data Feeds are a community resource sponsored by a large collection\\nof users and Chainlink, creating highly secure and decentralized oracle\\nnetworks through the aggregation of user fees. With each additional user,\\nexisting and future users gain the benefits of a more cost-efficient and\\nsecure oracle network than they could afford on their own. As the DeFi\\necosystem has grown, Chainlink Data Feeds have become a widely adopted\\nsolution that is lowering the barrier to creating highly secure financial\\nsmart contract applications.  \\n\\n## What is the deprecation policy for Chainlink Data Feeds?\\n\\n### What is the deprecation policy for Chainlink Data Feeds?\\n\\n[ ](https://chain.link/faqs#what-is-the-deprecation-policy-for-chainlink-data-\\nfeeds)\\n\\nThe smart contract ecosystem is constantly evolving. As a result, Data Feeds\\nwithin the Chainlink ecosystem are continuously evaluated for their usage and\\neconomic viability across all the blockchains and layer-2 networks they are\\ndeployed on.\\n\\nData Feeds without publicly known active users may be scheduled for\\ndeprecation. Doing so not only helps preserve blockchains as public goods by\\noptimizing blockspace usage, but it helps reduce unnecessary costs incurred by\\nChainlink node operators. This process is part of a broader ecosystem shift\\ntowards Chainlink Economics 2.0, designed to maximize the adoption of the\\nChainlink protocol while optimizing for cost-efficiency and long-term economic\\nsustainability. Over time, new Data Feeds may be launched or relocated to\\nalternative blockchains/layer-2s that better reflect current user demand.\\n\\nA list of Data Feeds designated for deprecation along with their corresponding\\nshutdown date can be found in the Chainlink Documentation:\\n<https://docs.chain.link/docs/deprecating-feeds/>\\n\\nFor status updates regarding Data Feeds, users should join the official\\nChainlink Discord and subscribe to the _data-feeds-user-notifications_\\nchannel: <https://discord.gg/Dqy5N9UbsR>\\n\\n## What is Chainlink Verifiable Random Function (VRF)?\\n\\n### What is Chainlink Verifiable Random Function (VRF)?\\n\\n[ ](https://chain.link/faqs#what-is-chainlink-verifiable-random-function-vrf)\\n\\n[Chainlink VRF](https://blog.chain.link/chainlink-vrf-on-chain-verifiable-\\nrandomness/) brings secure random number generation to the blockchain.\\nChainlink VRF solves the difficult problem of providing an on-chain source of\\nrandomness that is publicly verifiable to be authentic and tamper-proof. Many\\nsmart contracts are augmenting the value they can create by utilizing\\nChainlink VRF, specifically applications such as gaming dApps that must prove\\nto their users that their source of randomness is provably fair and resistant\\nto manipulation from any external entity. Chainlink VRF enables and\\naccelerates the development of smart contracts focused on blockchain gaming,\\nsecurity, layer-two protocols, and various other use cases.\\n\\n## What is Chainlink Automation?\\n\\n### What is Chainlink Automation?\\n\\n[ ](https://chain.link/faqs#what-are-chainlink-keepers)\\n\\n[Chainlink Automation](/automation) is a decentralized solution that enables\\nprojects to perform key smart contract functions and DevOps tasks in a highly\\nreliable, trust-minimized, and cost-efficient manner. Individual developers,\\nteams, and DAOs can utilize Chainlink Automation as an off-chain computation\\nlayer to reliably perform key functions and unlock advanced utility.\\n\\nA decentralized network of nodes provides trust-minimized and reliable\\nautomation with no single point of failure, mitigating risks around manual\\ninterventions or centralized servers. Projects using Chainlink Automation are\\nable to reduce time spent on DevOps, eliminate automation infrastructure\\ncosts, and build faster and more efficiently.\\n\\n## What is Chainlink Proof of Reserve?\\n\\n### What is Chainlink Proof of Reserve?\\n\\n[ ](https://chain.link/faqs#what-is-chainlink-proof-of-reserve)\\n\\n[Chainlink Proof of Reserve](https://chain.link/education-hub/proof-of-\\nreserves) provides smart contracts with the data required to calculate the\\ntrue collateralization of any on-chain asset backed by off-chain reserves such\\nas stablecoins and cross-chain assets. Operated by a decentralized network of\\noracles, Chainlink Proof of Reserve enables the autonomous auditing of\\ncollateral used within DeFi in real-time, ensuring users’ funds are protected\\nfrom unforeseen fractional reserve practices and other fraudulent activity\\nfrom off-chain custodians. This provides both the growing DeFi ecosystem and\\nthe traditional financial system a way to increase the transparency of\\noperations with definitive on-chain proof of any asset’s true\\ncollateralization.\\n\\n## What is the Cross-Chain Interoperability Protocol (CCIP)?\\n\\n### What is the Cross-Chain Interoperability Protocol (CCIP)?\\n\\n[ ](https://chain.link/faqs#what-is-the-cross-chain-interoperability-protocol-\\nccip)\\n\\nThe [Cross-Chain Interoperability Protocol\\n(CCIP)](https://blog.chain.link/unlocking-cross-chain-smart-contract-\\ninnovation-with-ccip/) provides a universal, open standard for developers to\\nbuild secure services and applications that can send messages, transfer\\ntokens, and initiate actions across multiple blockchain networks.\\n\\nCCIP provides smart contract developers a generalized, compute-enabled\\ninfrastructure for transferring data and smart contract commands across\\nblockchain networks. CCIP will underpin a variety of cross-chain services,\\nsuch as the Chainlink Programmable Token Bridge, which will empower users to\\nmove their tokens across any blockchain network in a highly secure, scalable,\\nand cost-efficient manner.\\n\\n## What is DECO?\\n\\n### What is DECO?\\n\\n[ ](https://chain.link/faqs#what-is-deco)\\n\\n[DECO](https://www.prnewswire.com/news-releases/chainlink-acquires-deco-from-\\ncornell-university-301120614.html) is a novel privacy-preserving oracle\\nprotocol that allows users to prove facts about their web (TLS) sessions to\\noracles without unveiling any confidential information on-chain.\\n\\nDeveloped by researchers at Cornell University and acquired by Chainlink, this\\ntechnology extends the data security capabilities of HTTPS and TLS,\\nguaranteeing that data remains private and tamper-proof during its delivery\\nfrom various private and premium data sources. It does so by employing\\nadvanced cryptography and zero-knowledge proofs from any server using\\nHTTPS/TLS, without revealing that data to the outside world or even to the\\nfinal computation using the data. DECO creates a new method of providing\\nprivate and premium data across the internet while maintaining its\\nconfidentiality and security at previously unachievable levels.\\n\\nThis additional level of data security enables previously inaccessible data to\\nbe made accessible to both existing web systems and various blockchains and\\nsmart contracts through Chainlink oracles. Using DECO-enabled Chainlink nodes:\\n\\n  * Premium data sources that have so far been unable to place high-quality data on public blockchains due to confidentiality concerns will be able to provide data to various blockchains and DeFi protocols. \\n  * Enterprises will be able to prove the state of private data to other enterprises and blockchain records without revealing internal data on-chain.\\n  * Consumers will be able to prove personal data like identity or bank balances to smart contracts without giving applications full access to their personal accounts, maintaining their privacy.\\n\\n## Use Cases and Integrations\\n\\n### Use Cases and Integrations\\n\\n[ ](https://chain.link/faqs#use-cases-and-integrations)\\n\\n## Who can use Chainlink?\\n\\n### Who can use Chainlink?\\n\\n[ ](https://chain.link/faqs#who-can-use-chainlink)\\n\\nAny individual or group that needs real-world data to power and secure the\\nexecution of their smart contracts can benefit from Chainlink’s robust and\\ncustomizable framework for creating decentralized oracle networks. Today,\\nhundreds of teams working on dApps, blockchains, industry consortiums,\\nenterprise projects, and more rely on Chainlink to provide tamper-proof inputs\\nand outputs for their smart contracts. Chainlink has become the de facto\\noracle solution for the DeFi space, supporting top projects like\\n[Aave](https://aave.com/), [Synthetix](https://www.synthetix.io/), and\\n[Compound](https://compound.finance/), and securing billions in value across\\nthe sector.\\n\\nIf you’d like more information on how Chainlink could provide solutions for\\nyour project, join us in the [Official Discord\\nChannel](https://discord.gg/aSK4zew) and reach out through the [integrations\\nsubmission form.](https://chain.link/contact?ref_id=faq)\\n\\n## What are smart contract use cases enabled by Chainlink?\\n\\n### What are smart contract use cases enabled by Chainlink?\\n\\n[ ](https://chain.link/faqs#what-are-smart-contract-use-cases-enabled-by-\\nchainlink)\\n\\nSecure oracles that provide tamper-proof inputs and outputs for smart\\ncontracts are required for the vast majority of valuable smart contract use\\ncases.\\n\\nRobust and decentralized [Chainlink Price Feeds](https://data.chain.link/) for\\npowering DeFi, [verifiable randomness](https://blog.chain.link/chainlink-vrf-\\non-chain-verifiable-randomness/) for on-chain gaming, smart contract execution\\nwith [Chainlink Automation](/automation), additional security and transparency\\nwith [Chainlink Proof of Reserve](https://blog.chain.link/proof-of-reserves/),\\npremium weather data for [parametric insurance](https://chain.link/use-\\ncases/insurance), cross-chain communication with\\n[CCIP](https://chain.link/cross-chain), and [enterprise blockchain\\nmiddleware](https://chain.link/use-cases/enterprise) are just a small handful\\nof applications powered by Chainlink’s oracle infrastructure.\\n\\nAdditionally, Chainlink oracle networks not only benefit on-chain smart\\ncontracts but also benefit off-chain systems, providing them with a reliable\\nsource of censorship-resistant and tamper-proof data that is\\ncryptoeconomically secured. High-value enterprise backend systems can use\\nChainlink’s data as inputs to ensure only the highest quality data is being\\nutilized to trigger mission-critical business functions. This greatly broadens\\nthe use case of oracles and can provide the global economy with even more\\nverifiable data sources around the definitive state of the world.\\n\\nExplore the blog post [77+ Smart Contract Use Cases Enabled by\\nChainlink](https://blog.chain.link/smart-contract-use-cases/) and the\\ncategories below for a deeper dive into applications of decentralized oracles:\\n\\n  * [Decentralized finance](https://blog.chain.link/smart-contract-use-cases/#decentralized-finance)\\n  * [External payments](https://blog.chain.link/smart-contract-use-cases/#external-payments)\\n  * [NFTs, gaming and randomness](https://blog.chain.link/smart-contract-use-cases/#gaming-and-randomness)\\n  * [Insurance](https://blog.chain.link/smart-contract-use-cases/#insurance)\\n  * [Enterprise systems](https://blog.chain.link/smart-contract-use-cases/#enterprise-systems)\\n  * [Supply chain](https://blog.chain.link/smart-contract-use-cases/#supply-chain)\\n  * [Utilities](https://blog.chain.link/smart-contract-use-cases/#utilities)\\n  * [Authorization and identity](https://blog.chain.link/smart-contract-use-cases/#authorization-and-identity)\\n  * [Government](https://blog.chain.link/smart-contract-use-cases/#government)\\n  * [Sustainability](https://blog.chain.link/smart-contract-use-cases/#sustainability)\\n  * [Off-chain computation](https://blog.chain.link/smart-contract-use-cases/#other)\\n\\n## How does Chainlink help secure DeFi?\\n\\n### How does Chainlink help secure DeFi?\\n\\n[ ](https://chain.link/faqs#how-does-chainlink-secure-defi)\\n\\n[Decentralized finance](https://chain.link/education/defi) (often referred to\\nas DeFi) is a growing movement around recreating common financial instruments\\nfrom traditional finance using decentralized infrastructure. Rather than\\nneeding centralized entities to facilitate the movement of financial markets,\\nusers can access, trade, and lend assets using open-source software running on\\ndecentralized networks. The result is self-running, peer-to-peer financial\\nmarkets based on transparency, open access, and data-driven automation.\\n\\nChainlink oracle networks enable tamper-resistant and sustainable [price\\nfeeds](https://chain.link/data-feeds) that are currently in use by several top\\nDeFi applications to secure billions of dollars worth of locked value. By\\nenabling smart contracts to access new forms of data as inputs, while\\nretaining the underlying security and reliability guarantees of the smart\\ncontract, Chainlink plays a crucial role in the DeFi industry’s growth.\\n\\nIn the current price reference feed model, independent nodes in the Chainlink\\nNetwork monitor for price changes off-chain, trigger an update when the price\\nchange hits a defined threshold (e.g. 1%), fetch aggregated market prices from\\nhigh-quality data providers, and then aggregate node responses to generate a\\nhighly available and manipulation-resistant price update on-chain. Smart\\ncontracts can then access an extremely accurate price using a simple function\\ncall.\\n\\nSome examples of price feed users include:\\n\\n  * Synthetic asset platforms that require the price of real-world assets in order to mint their representation on-chain. These platforms use Chainlink [reference contracts](https://docs.chain.link/docs/using-chainlink-reference-contracts/) to create tokens tied to real-world assets, such as gold, indices, or even car loans.\\n  * Lending and borrowing platforms that require a price feed to ensure the total value of the collateral. These platforms use Chainlink to issue and settle loans, liquidate collateral, and calculate interest payments.\\n  * [Stablecoins](https://chain.link/education-hub/stablecoins) that require a price feed to assert the value of the underlying collateral backing the asset. These platforms use Chainlink to create stablecoins pegged to fiat currency, currency baskets, or commodities.\\n  * Asset management platforms that require a reliable price feed for the critical rebalancing of asset ratios. These platforms use Chainlink to power a [decentralized exchange (DEX)](https://chain.link/education-hub/what-is-decentralized-exchange-dex), adjust capital pools, or facilitate multiple forms of payment.\\n\\nExplore the expansive collection of Chainlink Price Feeds:\\n[data.chain.link](https://data.chain.link/)\\n\\n## Chainlink Updates\\n\\n### Chainlink Updates\\n\\n[ ](https://chain.link/faqs#chainlink-updates)\\n\\n## How can I stay up-to-date with official Chainlink news?\\n\\n### How can I stay up-to-date with official Chainlink news?\\n\\n[ ](https://chain.link/faqs#how-can-i-stay-up-to-date-with-official-chainlink-\\nnews)\\n\\nChainlink has a variety of active channels where you can find more information\\nabout the latest Chainlink announcements, discover helpful technical\\nresources, and connect with other members of our rapidly growing community.\\nBelow is a list of official Chainlink channels. As a security best practice,\\nalways double-check the URL that you are visiting to ensure you are accessing\\nofficial Chainlink properties. Chainlink will never ask for your passwords,\\nseed phrases, private keys, or other confidential information.\\n\\n  * Blog: <https://blog.chain.link/>\\n  * Discord: <https://discord.com/invite/chainlink>\\n  * Docs: <https://docs.chain.link/>\\n  * Events: <https://events.chain.link/>\\n  * GitHub: <https://github.com/smartcontractkit/chainlink>\\n  * Kakao: <https://open.kakao.com/o/gWXAAf0b>\\n  * Lens Protocol: <https://lenster.xyz/u/chainlink>\\n  * LinkedIn: <https://www.linkedin.com/company/chainlink-labs/>\\n  * Newsletter: <https://pages.chain.link/subscribe>\\n  * Reddit: <https://www.reddit.com/r/Chainlink/>\\n  * TikTok: <https://www.tiktok.com/@chainlinkofficial>\\n  * Twitch: <https://www.twitch.tv/chainlinklabs>\\n  * @Chainlink Twitter: <https://twitter.com/chainlink>\\n  * @ChainlinkLabs Twitter: <https://twitter.com/chainlinklabs>\\n  * @SmartContract Twitter: <https://twitter.com/SmartContract>\\n  * WeChat: <https://blog.chain.link/chainlink-chinese-communities/>\\n  * YouTube: <https://www.youtube.com/c/chainlink>\\n  * Telegram: <https://t.me/chainlinkofficial>\\n\\nFor status updates regarding Chainlink Data Feeds, users should join the\\nofficial Chainlink Discord and follow the _data-feeds_ channel:\\n<https://discord.gg/Dqy5N9UbsR>\\n\\n## How do I keep up with current protocol development?\\n\\n### How do I keep up with current protocol development?\\n\\n[ ](https://chain.link/faqs#how-do-i-keep-up-with-current-protocol-\\ndevelopment)\\n\\nThe Chainlink development team is continuously building the network and\\nprotocol. To keep up to date with current progress you can follow the\\n[Chainlink Github](https://github.com/smartcontractkit/chainlink). You can\\nfind a full list of open roles on the [Chainlink Labs careers\\npage](https://chainlinklabs.com/careers).\\n\\n## How can I reach out to Chainlink for support?\\n\\n### How can I reach out to Chainlink for support?\\n\\n[ ](https://chain.link/faqs#how-can-i-reach-out-to-chainlink-for-support)\\n\\nFor inquiries related to security and support, please reach out to the admins\\nof official Chainlink channels or email support@chain.link\\u200d. You can also find\\nmore technical information in the [documentation](https://docs.chain.link/).\\n\\nAlways practice a security mindset and ensure that users you are interacting\\nwith on community channels have verifiable trusted identities. You can confirm\\nthe accounts of official Chainlink community admin by clicking their names in\\nthe chat or viewing their handles under the official channel info.  \\n\\n## How do I participate in building Chainlink?\\n\\n### How do I participate in building Chainlink?\\n\\n[ ](https://chain.link/faqs#how-can-i-participate-in-developing-the-chainlink-\\necosystem)\\n\\nThere are numerous projects working on the development of the Chainlink\\necosystem, including Chainlink Labs. You can find a full list of open roles on\\nthe [Chainlink Labs careers page](https://chainlinklabs.com/careers).  \\n\\nNo results found.  \\n  \\nOur [blog](https://blog.chain.link) is updated daily and features a host of\\nin-depth Chainlink content. You can also reach us at\\n[press@chain.link](mailto:press@chain.link)\\n\\nClear search\\n\\n[\\n\\n### Community\\n\\nJoin a forward-thinking group of smart contract enthusiasts.\\n\\n](/community)[\\n\\n### Press\\n\\nRead the latest Chainlink news and media features.\\n\\n](/press)\\n\\n  * [](https://zh.chain.link/faqs)\\n\\n' metadata={'source': 'https://chain.link/faqs/'}\n"
     ]
    }
   ],
   "source": [
    "for doc in chain_link_docs:\n",
    "    if 'faq' in doc.metadata['source']:\n",
    "        print(doc)"
   ]
  },
  {
   "cell_type": "code",
   "execution_count": 20,
   "metadata": {},
   "outputs": [],
   "source": [
    "title_system_template = \"\"\"\n",
    "Please summarize the context below in one sentence (no more than 5 words) as the title for the context\n",
    "\n",
    "Response should be NO MORE THAN 5 words.\n",
    "\"\"\"\n",
    "\n",
    "title_human_template = \"\"\"{context}\"\"\"\n",
    "\n",
    "TITLE_PROMPT = ChatPromptTemplate.from_messages(\n",
    "    [\n",
    "        SystemMessagePromptTemplate.from_template(system_template),\n",
    "        HumanMessagePromptTemplate.from_template(human_template),\n",
    "    ]\n",
    ")\n",
    "\n",
    "description_system_template = \"\"\"\n",
    "Please summarize the context below in one sentence (no more than 15 words). This will be used as the description of the article in the search results.\n",
    "\n",
    "Response should be NO MORE THAN 15 words.\n",
    "\"\"\"\n",
    "\n",
    "description_human_template = \"\"\"{context}\"\"\"\n",
    "\n",
    "DESCRIPTION_PROMPT = ChatPromptTemplate.from_messages(\n",
    "    [\n",
    "        SystemMessagePromptTemplate.from_template(system_template),\n",
    "        HumanMessagePromptTemplate.from_template(human_template),\n",
    "    ]\n",
    ")\n",
    "\n",
    "llm = ChatOpenAI(temperature=0.)\n",
    "chain_title = LLMChain(llm=llm, prompt=TITLE_PROMPT)\n",
    "chain_description = LLMChain(llm=llm, prompt=DESCRIPTION_PROMPT)"
   ]
  },
  {
   "cell_type": "code",
   "execution_count": 21,
   "metadata": {},
   "outputs": [],
   "source": [
    "def extract_first_n_paragraphs(content, num_para=2):\n",
    "\n",
    "    # Split by two newline characters to denote paragraphs\n",
    "    paragraphs = content.split('\\n\\n')\n",
    "    \n",
    "    # Return the first num_para paragraphs or whatever is available\n",
    "    return '\\n\\n'.join(paragraphs[:num_para])"
   ]
  },
  {
   "cell_type": "code",
   "execution_count": 25,
   "metadata": {},
   "outputs": [
    {
     "name": "stderr",
     "output_type": "stream",
     "text": [
      "100%|██████████| 155/155 [03:35<00:00,  1.39s/it]\n"
     ]
    }
   ],
   "source": [
    "chain_link_docs_2 = []\n",
    "for doc in tqdm(chain_link_docs, total=len(chain_link_docs)):\n",
    "    para = extract_first_n_paragraphs(doc.page_content, num_para=2)\n",
    "    title = chain_title.predict(context=para)\n",
    "    description = chain_description.predict(context=para)\n",
    "    metadata = {\n",
    "        \"title\": title,\n",
    "        \"description\": description,\n",
    "        \"source\": doc.metadata[\"source\"],\n",
    "        \"source_type\": \"main_website\",\n",
    "    }\n",
    "    logger.info(f\"Title: {title}\")\n",
    "    logger.info(f\"Description: {description}\")\n",
    "\n",
    "    doc.metadata = metadata\n",
    "\n",
    "    chain_link_docs_2.append(doc)"
   ]
  },
  {
   "cell_type": "code",
   "execution_count": 33,
   "metadata": {},
   "outputs": [
    {
     "name": "stderr",
     "output_type": "stream",
     "text": [
      "100%|██████████| 19/19 [00:44<00:00,  2.36s/it]\n"
     ]
    }
   ],
   "source": [
    "chain_link_youtube_docs_2 = []\n",
    "for doc in tqdm(chain_link_youtube_docs, total=len(chain_link_youtube_docs)):\n",
    "    title = chain_title.predict(context=doc.page_content[:500])\n",
    "    description = chain_description.predict(context=doc.page_content[:500])\n",
    "    metadata = {\n",
    "        \"title\": title,\n",
    "        \"description\": description,\n",
    "        \"source\": doc.metadata[\"source\"],\n",
    "        \"source_type\": \"videos\",\n",
    "    }\n",
    "    logger.info(f\"Title: {title}\")\n",
    "    logger.info(f\"Description: {description}\")\n",
    "\n",
    "    doc.metadata = metadata\n",
    "\n",
    "    chain_link_youtube_docs_2.append(doc)"
   ]
  },
  {
   "cell_type": "code",
   "execution_count": 34,
   "metadata": {},
   "outputs": [
    {
     "name": "stdout",
     "output_type": "stream",
     "text": [
      "{'title': 'The article discusses the concept of composability in the blockchain ecosystem and its impact on decentralized finance.', 'description': 'The article discusses the concept of composability in the blockchain ecosystem and its impact on decentralized finance.', 'source': 'https://www.youtube.com/watch?v=kI4iYM3rAeI', 'source_type': 'videos'}\n",
      "{'title': 'The discussion in the Chainlink Tech Talk 15 is about tokenized gold, with a focus on Cash and their Cash Gold token, featuring a deep dive by Diaz London, the CTO of Cash, on how they work with Chainlink Proof of Reserve.', 'description': 'The discussion in the Chainlink Tech Talk 15 is about tokenized gold, with a focus on Cash and their Cash Gold token, featuring a deep dive by Diaz London, the CTO of Cash, on how they work with Chainlink Proof of Reserve.', 'source': 'https://www.youtube.com/watch?v=tPURU6Sq2yo', 'source_type': 'videos'}\n",
      "{'title': 'Foreign music communities use charging stations to rent batteries, buy water or ice, access internet via Starlink, and mine cryptocurrencies using solar power.', 'description': 'A community provides charging stations, battery rentals, water, ice, internet access, and cryptocurrency mining using solar energy.', 'source': 'https://www.youtube.com/watch?v=xoLoLZrrsjs', 'source_type': 'videos'}\n",
      "{'title': 'Introduction of William Riley, a solutions architect for Chainlink Labs, and Frank from Gemini, discussing their roles in supporting users and blockchain integration.', 'description': 'Introduction of William Riley, a solutions architect for Chainlink Labs, and Frank from Gemini, discussing their roles in supporting users and blockchain integration.', 'source': 'https://youtu.be/--oCI_cV66A', 'source_type': 'videos'}\n",
      "{'title': 'A tech talk discussing the metaverse, NFTs, and blockchain gaming with an opportunity for audience questions.', 'description': 'A tech talk discussing the metaverse, NFTs, and blockchain gaming, with an opportunity for audience questions.', 'source': 'https://www.youtube.com/watch?v=t-Cpd9Oukac', 'source_type': 'videos'}\n",
      "{'title': 'Interoperable blockchain systems allow for seamless parametric coverage in new regions and among new groups of insurers.', 'description': 'Interoperable blockchain systems allow for seamless parametric coverage in new regions and among new groups of insurers.', 'source': 'https://www.youtube.com/watch?v=XOMmo4HTboU', 'source_type': 'videos'}\n",
      "{'title': 'Webinar about to start, waiting for everyone to join before beginning.', 'description': 'Summary: The speaker is thanking everyone for joining a webinar and mentions that they will start soon once everyone is settled.', 'source': 'https://www.youtube.com/watch?v=K3YmflNXbEc', 'source_type': 'videos'}\n",
      "{'title': 'Chainlink Tech Talk #2 discusses interest-free borrowing on the liquidity protocol with speakers from Chainlink Labs and Liquidy.', 'description': 'Chainlink Tech Talk #2 discusses interest-free borrowing on the liquidity protocol with speakers from Chainlink Labs and Liquidy.', 'source': 'https://www.youtube.com/watch?v=4eFMSc_VNwE', 'source_type': 'videos'}\n",
      "{'title': 'BZX automates smart contracts with Chainlink Keepers.', 'description': 'BZX automates smart contracts with Chainlink Keepers.', 'source': 'https://www.youtube.com/watch?v=flHWMXLDHD4', 'source_type': 'videos'}\n",
      "{'title': 'Product marketing manager for VRF at Chainlink Labs hosting a webinar on VRF V2 with internal team members.', 'description': 'Product marketing manager for VRF at Chainlink Labs hosting a webinar on VRF V2 with internal team members.', 'source': 'https://www.youtube.com/watch?v=nC79l82QjDo', 'source_type': 'videos'}\n",
      "{'title': 'are able to utilize and build upon it, allowing for global collaboration and innovation.', 'description': 'are able to utilize and build upon it, allowing for global collaboration and innovation.', 'source': 'https://www.youtube.com/watch?v=stlthc2U0rM', 'source_type': 'videos'}\n",
      "{'title': 'Chainlink Tech Talk #17 discusses securing the Avigachi metaverse with on-chain randomness, featuring a panel of experts including Avigachi Coda Dan Jesse Johnson and a surprise guest.', 'description': 'Chainlink Tech Talk #17 discusses securing the Avigachi metaverse with on-chain randomness, featuring a panel of experts including Avigachi Coda Dan Jesse Johnson and a surprise guest.', 'source': 'https://www.youtube.com/watch?v=f2g2nlhVFBA', 'source_type': 'videos'}\n",
      "{'title': \"The Tech Talk will discuss securing blockchain Bridges and wrap Bitcoin with proof of Reserve, focusing on swing by's solution.\", 'description': \"The Tech Talk will discuss securing blockchain Bridges and wrap Bitcoin with proof of Reserve, focusing on swing by's solution.\", 'source': 'https://youtu.be/VH2Kj1mPCcQ', 'source_type': 'videos'}\n",
      "{'title': 'A discussion with Coinbase about their new open-source product offering for NFT pricing feeds.', 'description': 'A discussion with Coinbase about their new open-source product offering for NFT pricing feeds.', 'source': 'https://www.youtube.com/watch?v=eev3kEU1bAM', 'source_type': 'videos'}\n",
      "{'title': 'Chainlink VRF technology and we have Al, a Solidity developer from Cybercons, as a guest.', 'description': 'Chainlink VRF technology and we have Al from Cybercons as a guest.', 'source': 'https://www.youtube.com/watch?v=yevAqH0iPOw', 'source_type': 'videos'}\n",
      "{'title': 'about redefining DeFi self-repaying loans on Alchemix.', 'description': 'about redefining DeFi self-repaying loans on Alchemix.', 'source': 'https://www.youtube.com/watch?v=zsKuhlbyORs', 'source_type': 'videos'}\n",
      "{'title': 'Announcement of a smart con event happening in late September, with the option to attend virtually or in-person in New York.', 'description': 'Announcement of a smart con event happening in late September, with the option to attend virtually or in-person in New York.', 'source': 'https://www.youtube.com/watch?v=u5J3TYkdpvM', 'source_type': 'videos'}\n",
      "{'title': 'Webinar on tokenizing real world assets on blockchain is about to begin.', 'description': 'Webinar on tokenizing real world assets on blockchain is about to begin.', 'source': 'https://www.youtube.com/watch?v=3_uDuZ9Pbu0', 'source_type': 'videos'}\n",
      "{'title': 'Chainlink Tech Talk #3 discusses how dYdX built a decentralized exchange using Chainlink oracles on layer two.', 'description': 'Chainlink Tech Talk #3 discusses how dYdX built a decentralized exchange using Chainlink oracles on layer two.', 'source': 'https://www.youtube.com/watch?v=Ym_suRQcApU', 'source_type': 'videos'}\n"
     ]
    }
   ],
   "source": [
    "for d in chain_link_youtube_docs_2:\n",
    "    print(d.metadata)"
   ]
  },
  {
   "cell_type": "code",
   "execution_count": null,
   "metadata": {},
   "outputs": [],
   "source": []
  }
 ],
 "metadata": {
  "kernelspec": {
   "display_name": "chainlink",
   "language": "python",
   "name": "python3"
  },
  "language_info": {
   "codemirror_mode": {
    "name": "ipython",
    "version": 3
   },
   "file_extension": ".py",
   "mimetype": "text/x-python",
   "name": "python",
   "nbconvert_exporter": "python",
   "pygments_lexer": "ipython3",
   "version": "3.10.11"
  },
  "orig_nbformat": 4
 },
 "nbformat": 4,
 "nbformat_minor": 2
}
