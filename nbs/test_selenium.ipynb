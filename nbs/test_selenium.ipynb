{
 "cells": [
  {
   "cell_type": "code",
   "execution_count": 1,
   "metadata": {},
   "outputs": [],
   "source": [
    "\n",
    "from selenium import webdriver\n",
    "from selenium.webdriver.chrome.service import Service\n",
    "from webdriver_manager.chrome import ChromeDriverManager\n",
    "from selenium.webdriver.chrome.options import Options"
   ]
  },
  {
   "cell_type": "code",
   "execution_count": 4,
   "metadata": {},
   "outputs": [],
   "source": [
    "def get_driver():\n",
    "    # Path to your chromedriver (change this to your path)\n",
    "    CHROMEDRIVER_PATH = \"/usr/local/bin/chromedriver\"\n",
    "\n",
    "    # Set up Chrome options\n",
    "    chrome_options = Options()\n",
    "    chrome_options.add_argument(\"--headless\")  # Ensure GUI is off\n",
    "    chrome_options.add_argument(\"--no-sandbox\")\n",
    "    chrome_options.add_argument(\"--disable-dev-shm-usage\")\n",
    "\n",
    "    # Multiple potential paths for Chrome binary\n",
    "    CHROME_PATHS = [\n",
    "        \"/opt/google/chrome/chrome-linux64/chrome\",\n",
    "        \"/opt/google/chrome/chrome/chrome\",\n",
    "    ]\n",
    "\n",
    "    # Set the binary location to the first existing path\n",
    "    for path in CHROME_PATHS:\n",
    "        if os.path.exists(path):\n",
    "            chrome_options.binary_location = path\n",
    "            break\n",
    "\n",
    "    # Check if chromedriver exists at the specified path\n",
    "    if not os.path.exists(CHROMEDRIVER_PATH):\n",
    "        try:\n",
    "            CHROMEDRIVER_PATH = ChromeDriverManager().install()\n",
    "        except:\n",
    "            CHROMEDRIVER_PATH = \"/opt/homebrew/bin/chromedriver\"\n",
    "\n",
    "    # Set up the webdriver using the determined path\n",
    "    s = Service(CHROMEDRIVER_PATH)\n",
    "    driver = webdriver.Chrome(options=chrome_options, service=s)\n",
    "\n",
    "    return driver"
   ]
  },
  {
   "cell_type": "code",
   "execution_count": 7,
   "metadata": {},
   "outputs": [],
   "source": [
    "driver.get(\"https://www.google.com\")"
   ]
  },
  {
   "cell_type": "code",
   "execution_count": null,
   "metadata": {},
   "outputs": [],
   "source": []
  }
 ],
 "metadata": {
  "kernelspec": {
   "display_name": "chainlink",
   "language": "python",
   "name": "python3"
  },
  "language_info": {
   "codemirror_mode": {
    "name": "ipython",
    "version": 3
   },
   "file_extension": ".py",
   "mimetype": "text/x-python",
   "name": "python",
   "nbconvert_exporter": "python",
   "pygments_lexer": "ipython3",
   "version": "3.10.12"
  },
  "orig_nbformat": 4
 },
 "nbformat": 4,
 "nbformat_minor": 2
}
