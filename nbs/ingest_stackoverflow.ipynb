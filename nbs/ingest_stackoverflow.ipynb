{
 "cells": [
  {
   "cell_type": "code",
   "execution_count": 3,
   "metadata": {},
   "outputs": [
    {
     "data": {
      "text/plain": [
       "True"
      ]
     },
     "execution_count": 3,
     "metadata": {},
     "output_type": "execute_result"
    }
   ],
   "source": [
    "import sys\n",
    "sys.path.append('../')\n",
    "\n",
    "from dotenv import load_dotenv\n",
    "load_dotenv()"
   ]
  },
  {
   "cell_type": "code",
   "execution_count": 4,
   "metadata": {},
   "outputs": [],
   "source": [
    "import os\n",
    "import re\n",
    "import time\n",
    "import pickle\n",
    "import requests\n",
    "import html2text\n",
    "from tqdm import tqdm\n",
    "from pathlib import Path\n",
    "from datetime import datetime\n",
    "from langchain.docstore.document import Document\n",
    "\n",
    "from config import get_logger\n",
    "\n",
    "logger = get_logger(__name__)\n",
    "\n",
    "\n",
    "# Settings for stackoverflow requests\n",
    "key = os.getenv('SO_KEY')\n",
    "tag = 'chainlink'\n",
    "pagesize = 99\n",
    "from_date = \"1609459200\"\n",
    "to_date = \"1685577600\"\n",
    "\n",
    "#https://api.stackexchange.com/docs/questions\n",
    "def get_questions(tag, page, pagesize, from_date, to_date, key, access_token):\n",
    "    # url = f'https://api.stackexchange.com/2.3/questions?order=desc&sort=creation&tagged={tag}&site={site}&pagesize={pagesize}&key={key}&access_token={access_token}&filter=withbody'\n",
    "    url = f\"https://api.stackexchange.com/2.3/questions?page={page}&pagesize={pagesize}&tagged={tag}&fromdate={from_date}&todate={to_date}&key={key}&access_token={access_token}&order=desc&sort=activity&site=stackoverflow&filter=withbody\"\n",
    "    response = requests.get(url)\n",
    "    return response.json()['items']\n",
    "\n",
    "def get_answers(question_id, key, access_token):\n",
    "    url = f'https://api.stackexchange.com/2.3/questions/{question_id}/answers?order=desc&sort=activity&site=stackoverflow&key={key}&access_token={access_token}&filter=withbody'\n",
    "    response = requests.get(url)\n",
    "    return response.json()['items']\n",
    "\n",
    "def get_all_questions(access_token):\n",
    "    all_questions = None\n",
    "    for i in range(1, 5):\n",
    "        page = i\n",
    "        if all_questions is None:\n",
    "            all_questions = get_questions(\n",
    "                tag=tag, pagesize=pagesize, key=key, \n",
    "                access_token=access_token, from_date=from_date, \n",
    "                to_date=to_date, page=page\n",
    "            )\n",
    "        else:\n",
    "            all_questions.extend(get_questions(\n",
    "                tag=tag, pagesize=pagesize, key=key, \n",
    "                access_token=access_token, from_date=from_date, \n",
    "                to_date=to_date, page=page\n",
    "                )\n",
    "            )\n",
    "        time.sleep(3)\n",
    "\n",
    "    all_questions = sorted(all_questions, key=lambda x: x['creation_date'], reverse=True)\n",
    "\n",
    "    # Only consider questions from user with reputation > 50. Some questions don't have reputation field. They should be removed\n",
    "    all_questions = [question for question in all_questions if 'reputation' in question['owner'].keys() and question['owner']['reputation'] > 50]\n",
    "\n",
    "    h = html2text.HTML2Text()\n",
    "    h.ignore_links = False\n",
    "    h.ignore_images = True\n",
    "    h.ignore_emphasis = False\n",
    "    h.ignore_tables = False\n",
    "    questions_and_answers = {}\n",
    "\n",
    "    for question in tqdm(all_questions, total=len(all_questions)):\n",
    "        answers = get_answers(question['question_id'], key, access_token)\n",
    "        if not answers:  # Skip questions with no answers\n",
    "            continue\n",
    "        \n",
    "        # Only keep accepted answer\n",
    "        answers = [answer for answer in answers if answer['is_accepted'] == True]\n",
    "\n",
    "        # Only keep answer from user with reputation > 50; some answers don't have reputation field. they should be removed\n",
    "        answers = [answer for answer in answers if 'reputation' in answer['owner'].keys() and answer['owner']['reputation'] > 50]\n",
    "\n",
    "        question_body = re.sub(r'!\\[.*?\\]\\(.*?\\)', '', h.handle(question['body']))\n",
    "        question_str = \"Question: (Asked on: \" + datetime.utcfromtimestamp(question['creation_date']).strftime('%Y-%m-%d %H:%M:%S') + \")\\n\" + question['title'] + \"\\n\"\n",
    "        question_url = \"URL: \" + question['link'] + \"\\n\\n\"\n",
    "        question_body_str = \"Question Body:\\n\" + question_body + \"\\n\\n\"\n",
    "        answers_str = \"Answers:\\n\" + \"\\n---\\n\".join([\"(Answered on: \" + datetime.utcfromtimestamp(answer['creation_date']).strftime('%Y-%m-%d %H:%M:%S') + \")\\n\" + re.sub(r'!\\[.*?\\]\\(.*?\\)', '', h.handle(answer['body'])) for answer in answers]) + \"\\n\\n\"\n",
    "        text = question_str + question_url + question_body_str + answers_str\n",
    "\n",
    "        questions_and_answers[question['question_id']] = Document(page_content=text, metadata={\"source\":question['link'], \"type\":\"stackoverflow\"})\n",
    "\n",
    "    logger.info(\"Scrapped stackoverflow\")\n",
    "\n",
    "    return questions_and_answers\n",
    "\n",
    "\n",
    "def scrap_stackoverflow(access_token):\n",
    "    logger.info(f\"Key: {key}\")\n",
    "    logger.info(f\"{access_token}\")\n",
    "\n",
    "    so_docs = get_all_questions(access_token)\n",
    "\n",
    "    # Make sure data directory exists\n",
    "    Path(\"./data\").mkdir(parents=True, exist_ok=True)\n",
    "\n",
    "    # Convert to list\n",
    "    so_docs = list(so_docs.values())\n",
    "\n",
    "    # Log first document\n",
    "    logger.info(f\"First document SO: {so_docs[0]}\")\n",
    "\n",
    "    # Save to disk\n",
    "    with open(\"./data/stackoverflow_documents.pkl\", \"wb\") as f:\n",
    "        pickle.dump(so_docs, f)\n",
    "\n",
    "    logger.info(\"Scrapped stackoverflow\")\n",
    "\n",
    "    return so_docs"
   ]
  },
  {
   "cell_type": "code",
   "execution_count": 5,
   "metadata": {},
   "outputs": [],
   "source": [
    "code = \"vmafUYae6trV9Bhsib4XAA))\""
   ]
  },
  {
   "cell_type": "code",
   "execution_count": 6,
   "metadata": {},
   "outputs": [],
   "source": [
    "# https://stackoverflow.com/oauth?client_id=26442&scope=read_inbox&redirect_uri=https://stackapps.com\n",
    "# curl -d \"client_id=26442&client_secret=JtQuve9sdjhmgAdyOY3nKg((&code=vmafUYae6trV9Bhsib4XAA))&redirect_uri=https://stackapps.com\" -X POST https://stackoverflow.com/oauth/access_token"
   ]
  },
  {
   "cell_type": "code",
   "execution_count": 7,
   "metadata": {},
   "outputs": [],
   "source": [
    "access_token = \"RqtrFkJZxBsVETNbooIb(A))\""
   ]
  },
  {
   "cell_type": "code",
   "execution_count": 8,
   "metadata": {},
   "outputs": [
    {
     "name": "stderr",
     "output_type": "stream",
     "text": [
      "100%|██████████| 154/154 [02:58<00:00,  1.16s/it]\n",
      "2023-08-31 11:15:49,569 - __main__ - INFO - Scrapped stackoverflow\n",
      "2023-08-31 11:15:49,569 - __main__ - INFO - Scrapped stackoverflow\n",
      "INFO:__main__:Scrapped stackoverflow\n"
     ]
    }
   ],
   "source": [
    "qanda = get_all_questions(access_token)"
   ]
  },
  {
   "cell_type": "code",
   "execution_count": 9,
   "metadata": {},
   "outputs": [],
   "source": [
    "so_docs = list(qanda.values())"
   ]
  },
  {
   "cell_type": "code",
   "execution_count": 11,
   "metadata": {},
   "outputs": [],
   "source": [
    "with open(\"../data/stackoverflow_documents.pkl\", \"wb\") as f:\n",
    "    pickle.dump(so_docs, f)"
   ]
  },
  {
   "cell_type": "code",
   "execution_count": null,
   "metadata": {},
   "outputs": [],
   "source": []
  },
  {
   "cell_type": "code",
   "execution_count": 1,
   "metadata": {},
   "outputs": [],
   "source": [
    "from selenium import webdriver\n",
    "from selenium.webdriver.chrome.service import Service\n",
    "from webdriver_manager.chrome import ChromeDriverManager\n",
    "from selenium.webdriver.chrome.options import Options"
   ]
  },
  {
   "cell_type": "code",
   "execution_count": 5,
   "metadata": {},
   "outputs": [
    {
     "ename": "WebDriverException",
     "evalue": "Message: unknown error: Chrome failed to start: crashed.\n  (unknown error: DevToolsActivePort file doesn't exist)\n  (The process started from chrome location /usr/bin/google-chrome is no longer running, so ChromeDriver is assuming that Chrome has crashed.)\nStacktrace:\n#0 0x0040006a7783 <unknown>\n#1 0x0040003d3917 <unknown>\n#2 0x0040003fe978 <unknown>\n#3 0x0040003fb9c9 <unknown>\n#4 0x00400043ba13 <unknown>\n#5 0x00400043b15f <unknown>\n#6 0x004000432bd3 <unknown>\n#7 0x004000406a7b <unknown>\n#8 0x00400040781e <unknown>\n#9 0x004000668e98 <unknown>\n#10 0x00400066cd67 <unknown>\n#11 0x00400067732c <unknown>\n#12 0x00400066d993 <unknown>\n#13 0x00400063c827 <unknown>\n#14 0x0040006918a8 <unknown>\n#15 0x004000691a36 <unknown>\n#16 0x0040006a05f3 <unknown>\n#17 0x004002552609 start_thread\n",
     "output_type": "error",
     "traceback": [
      "\u001b[0;31m---------------------------------------------------------------------------\u001b[0m",
      "\u001b[0;31mWebDriverException\u001b[0m                        Traceback (most recent call last)",
      "Cell \u001b[0;32mIn[5], line 9\u001b[0m\n\u001b[1;32m      5\u001b[0m chrome_options\u001b[39m.\u001b[39madd_argument(\u001b[39m\"\u001b[39m\u001b[39m--disable-dev-shm-usage\u001b[39m\u001b[39m\"\u001b[39m)\n\u001b[1;32m      7\u001b[0m \u001b[39m# Set up the webdriver\u001b[39;00m\n\u001b[1;32m      8\u001b[0m \u001b[39m# s=Service(ChromeDriverManager().install())\u001b[39;00m\n\u001b[0;32m----> 9\u001b[0m driver \u001b[39m=\u001b[39m webdriver\u001b[39m.\u001b[39;49mChrome(options\u001b[39m=\u001b[39;49mchrome_options)\n",
      "File \u001b[0;32m~/.local/lib/python3.8/site-packages/selenium/webdriver/chrome/webdriver.py:84\u001b[0m, in \u001b[0;36mWebDriver.__init__\u001b[0;34m(self, executable_path, port, options, service_args, desired_capabilities, service_log_path, chrome_options, service, keep_alive)\u001b[0m\n\u001b[1;32m     81\u001b[0m     service \u001b[39m=\u001b[39m Service(executable_path, port, service_args, service_log_path)\n\u001b[1;32m     82\u001b[0m service\u001b[39m.\u001b[39mpath \u001b[39m=\u001b[39m DriverFinder\u001b[39m.\u001b[39mget_path(service, options)\n\u001b[0;32m---> 84\u001b[0m \u001b[39msuper\u001b[39;49m()\u001b[39m.\u001b[39;49m\u001b[39m__init__\u001b[39;49m(\n\u001b[1;32m     85\u001b[0m     DesiredCapabilities\u001b[39m.\u001b[39;49mCHROME[\u001b[39m\"\u001b[39;49m\u001b[39mbrowserName\u001b[39;49m\u001b[39m\"\u001b[39;49m],\n\u001b[1;32m     86\u001b[0m     \u001b[39m\"\u001b[39;49m\u001b[39mgoog\u001b[39;49m\u001b[39m\"\u001b[39;49m,\n\u001b[1;32m     87\u001b[0m     port,\n\u001b[1;32m     88\u001b[0m     options,\n\u001b[1;32m     89\u001b[0m     service_args,\n\u001b[1;32m     90\u001b[0m     desired_capabilities,\n\u001b[1;32m     91\u001b[0m     service_log_path,\n\u001b[1;32m     92\u001b[0m     service,\n\u001b[1;32m     93\u001b[0m     keep_alive,\n\u001b[1;32m     94\u001b[0m )\n",
      "File \u001b[0;32m~/.local/lib/python3.8/site-packages/selenium/webdriver/chromium/webdriver.py:104\u001b[0m, in \u001b[0;36mChromiumDriver.__init__\u001b[0;34m(self, browser_name, vendor_prefix, port, options, service_args, desired_capabilities, service_log_path, service, keep_alive)\u001b[0m\n\u001b[1;32m    101\u001b[0m \u001b[39mself\u001b[39m\u001b[39m.\u001b[39mservice\u001b[39m.\u001b[39mstart()\n\u001b[1;32m    103\u001b[0m \u001b[39mtry\u001b[39;00m:\n\u001b[0;32m--> 104\u001b[0m     \u001b[39msuper\u001b[39;49m()\u001b[39m.\u001b[39;49m\u001b[39m__init__\u001b[39;49m(\n\u001b[1;32m    105\u001b[0m         command_executor\u001b[39m=\u001b[39;49mChromiumRemoteConnection(\n\u001b[1;32m    106\u001b[0m             remote_server_addr\u001b[39m=\u001b[39;49m\u001b[39mself\u001b[39;49m\u001b[39m.\u001b[39;49mservice\u001b[39m.\u001b[39;49mservice_url,\n\u001b[1;32m    107\u001b[0m             browser_name\u001b[39m=\u001b[39;49mbrowser_name,\n\u001b[1;32m    108\u001b[0m             vendor_prefix\u001b[39m=\u001b[39;49mvendor_prefix,\n\u001b[1;32m    109\u001b[0m             keep_alive\u001b[39m=\u001b[39;49mkeep_alive,\n\u001b[1;32m    110\u001b[0m             ignore_proxy\u001b[39m=\u001b[39;49m_ignore_proxy,\n\u001b[1;32m    111\u001b[0m         ),\n\u001b[1;32m    112\u001b[0m         options\u001b[39m=\u001b[39;49moptions,\n\u001b[1;32m    113\u001b[0m     )\n\u001b[1;32m    114\u001b[0m \u001b[39mexcept\u001b[39;00m \u001b[39mException\u001b[39;00m:\n\u001b[1;32m    115\u001b[0m     \u001b[39mself\u001b[39m\u001b[39m.\u001b[39mquit()\n",
      "File \u001b[0;32m~/.local/lib/python3.8/site-packages/selenium/webdriver/remote/webdriver.py:286\u001b[0m, in \u001b[0;36mWebDriver.__init__\u001b[0;34m(self, command_executor, desired_capabilities, browser_profile, proxy, keep_alive, file_detector, options)\u001b[0m\n\u001b[1;32m    284\u001b[0m \u001b[39mself\u001b[39m\u001b[39m.\u001b[39m_authenticator_id \u001b[39m=\u001b[39m \u001b[39mNone\u001b[39;00m\n\u001b[1;32m    285\u001b[0m \u001b[39mself\u001b[39m\u001b[39m.\u001b[39mstart_client()\n\u001b[0;32m--> 286\u001b[0m \u001b[39mself\u001b[39;49m\u001b[39m.\u001b[39;49mstart_session(capabilities, browser_profile)\n",
      "File \u001b[0;32m~/.local/lib/python3.8/site-packages/selenium/webdriver/remote/webdriver.py:378\u001b[0m, in \u001b[0;36mWebDriver.start_session\u001b[0;34m(self, capabilities, browser_profile)\u001b[0m\n\u001b[1;32m    376\u001b[0m w3c_caps \u001b[39m=\u001b[39m _make_w3c_caps(capabilities)\n\u001b[1;32m    377\u001b[0m parameters \u001b[39m=\u001b[39m {\u001b[39m\"\u001b[39m\u001b[39mcapabilities\u001b[39m\u001b[39m\"\u001b[39m: w3c_caps}\n\u001b[0;32m--> 378\u001b[0m response \u001b[39m=\u001b[39m \u001b[39mself\u001b[39;49m\u001b[39m.\u001b[39;49mexecute(Command\u001b[39m.\u001b[39;49mNEW_SESSION, parameters)\n\u001b[1;32m    379\u001b[0m \u001b[39mif\u001b[39;00m \u001b[39m\"\u001b[39m\u001b[39msessionId\u001b[39m\u001b[39m\"\u001b[39m \u001b[39mnot\u001b[39;00m \u001b[39min\u001b[39;00m response:\n\u001b[1;32m    380\u001b[0m     response \u001b[39m=\u001b[39m response[\u001b[39m\"\u001b[39m\u001b[39mvalue\u001b[39m\u001b[39m\"\u001b[39m]\n",
      "File \u001b[0;32m~/.local/lib/python3.8/site-packages/selenium/webdriver/remote/webdriver.py:440\u001b[0m, in \u001b[0;36mWebDriver.execute\u001b[0;34m(self, driver_command, params)\u001b[0m\n\u001b[1;32m    438\u001b[0m response \u001b[39m=\u001b[39m \u001b[39mself\u001b[39m\u001b[39m.\u001b[39mcommand_executor\u001b[39m.\u001b[39mexecute(driver_command, params)\n\u001b[1;32m    439\u001b[0m \u001b[39mif\u001b[39;00m response:\n\u001b[0;32m--> 440\u001b[0m     \u001b[39mself\u001b[39;49m\u001b[39m.\u001b[39;49merror_handler\u001b[39m.\u001b[39;49mcheck_response(response)\n\u001b[1;32m    441\u001b[0m     response[\u001b[39m\"\u001b[39m\u001b[39mvalue\u001b[39m\u001b[39m\"\u001b[39m] \u001b[39m=\u001b[39m \u001b[39mself\u001b[39m\u001b[39m.\u001b[39m_unwrap_value(response\u001b[39m.\u001b[39mget(\u001b[39m\"\u001b[39m\u001b[39mvalue\u001b[39m\u001b[39m\"\u001b[39m, \u001b[39mNone\u001b[39;00m))\n\u001b[1;32m    442\u001b[0m     \u001b[39mreturn\u001b[39;00m response\n",
      "File \u001b[0;32m~/.local/lib/python3.8/site-packages/selenium/webdriver/remote/errorhandler.py:245\u001b[0m, in \u001b[0;36mErrorHandler.check_response\u001b[0;34m(self, response)\u001b[0m\n\u001b[1;32m    243\u001b[0m         alert_text \u001b[39m=\u001b[39m value[\u001b[39m\"\u001b[39m\u001b[39malert\u001b[39m\u001b[39m\"\u001b[39m]\u001b[39m.\u001b[39mget(\u001b[39m\"\u001b[39m\u001b[39mtext\u001b[39m\u001b[39m\"\u001b[39m)\n\u001b[1;32m    244\u001b[0m     \u001b[39mraise\u001b[39;00m exception_class(message, screen, stacktrace, alert_text)  \u001b[39m# type: ignore[call-arg]  # mypy is not smart enough here\u001b[39;00m\n\u001b[0;32m--> 245\u001b[0m \u001b[39mraise\u001b[39;00m exception_class(message, screen, stacktrace)\n",
      "\u001b[0;31mWebDriverException\u001b[0m: Message: unknown error: Chrome failed to start: crashed.\n  (unknown error: DevToolsActivePort file doesn't exist)\n  (The process started from chrome location /usr/bin/google-chrome is no longer running, so ChromeDriver is assuming that Chrome has crashed.)\nStacktrace:\n#0 0x0040006a7783 <unknown>\n#1 0x0040003d3917 <unknown>\n#2 0x0040003fe978 <unknown>\n#3 0x0040003fb9c9 <unknown>\n#4 0x00400043ba13 <unknown>\n#5 0x00400043b15f <unknown>\n#6 0x004000432bd3 <unknown>\n#7 0x004000406a7b <unknown>\n#8 0x00400040781e <unknown>\n#9 0x004000668e98 <unknown>\n#10 0x00400066cd67 <unknown>\n#11 0x00400067732c <unknown>\n#12 0x00400066d993 <unknown>\n#13 0x00400063c827 <unknown>\n#14 0x0040006918a8 <unknown>\n#15 0x004000691a36 <unknown>\n#16 0x0040006a05f3 <unknown>\n#17 0x004002552609 start_thread\n"
     ]
    }
   ],
   "source": [
    "# Set up Chrome options\n",
    "chrome_options = Options()\n",
    "chrome_options.add_argument(\"--headless\")  # Ensure GUI is off\n",
    "chrome_options.add_argument(\"--no-sandbox\")\n",
    "chrome_options.add_argument(\"--disable-dev-shm-usage\")\n",
    "\n",
    "# Set up the webdriver\n",
    "# s=Service(ChromeDriverManager().install())\n",
    "driver = webdriver.Chrome(options=chrome_options)"
   ]
  },
  {
   "cell_type": "code",
   "execution_count": 1,
   "metadata": {},
   "outputs": [],
   "source": [
    "import requests"
   ]
  },
  {
   "cell_type": "code",
   "execution_count": 14,
   "metadata": {},
   "outputs": [],
   "source": [
    "res = requests.get(\"http://localhost:8000/oauth\")"
   ]
  },
  {
   "cell_type": "code",
   "execution_count": 12,
   "metadata": {},
   "outputs": [
    {
     "data": {
      "text/plain": [
       "b'<!DOCTYPE html>\\r\\n\\r\\n\\r\\n    <html class=\"html__responsive html__unpinned-leftnav\" lang=\"en\">\\r\\n\\r\\n    <head>\\r\\n\\r\\n        <title>Log In - Stack Overflow</title>\\r\\n        <link rel=\"shortcut icon\" href=\"https://cdn.sstatic.net/Sites/stackoverflow/Img/favicon.ico?v=ec617d715196\">\\r\\n        <link rel=\"apple-touch-icon\" href=\"https://cdn.sstatic.net/Sites/stackoverflow/Img/apple-touch-icon.png?v=c78bd457575a\">\\r\\n        <link rel=\"image_src\" href=\"https://cdn.sstatic.net/Sites/stackoverflow/Img/apple-touch-icon.png?v=c78bd457575a\"> \\r\\n        <link rel=\"search\" type=\"application/opensearchdescription+xml\" title=\"Stack Overflow\" href=\"/opensearch.xml\">\\r\\n    <meta name=\"viewport\" content=\"width=device-width, height=device-height, initial-scale=1.0, minimum-scale=1.0\">\\r\\n        <meta property=\"og:type\" content= \"website\" />\\r\\n        <meta property=\"og:url\" content=\"https://stackoverflow.com/users/login?returnurl=https%3A%2F%2Fstackoverflow.com%2Foauth%3Fclient_id%3D26442%26scope%3Dread_inbox%26redirect_uri%3Dhttp%3A%2F%2F127.0.0.1%3A8000%2Fouth\"/>\\r\\n        <meta property=\"og:site_name\" content=\"Stack Overflow\" />\\r\\n        <meta property=\"og:image\" itemprop=\"image primaryImageOfPage\" content=\"https://cdn.sstatic.net/Sites/stackoverflow/Img/apple-touch-icon@2.png?v=73d79a89bded\" />\\r\\n        <meta name=\"twitter:card\" content=\"summary\"/>\\r\\n        <meta name=\"twitter:domain\" content=\"stackoverflow.com\"/>\\r\\n        <meta name=\"twitter:title\" property=\"og:title\" itemprop=\"name\" content=\"Log In\" />\\r\\n        <meta name=\"twitter:description\" property=\"og:description\" itemprop=\"description\" content=\"Stack Overflow | The World&#x2019;s Largest Online Community for Developers\" />\\r\\n    <script id=\"webpack-public-path\" type=\"text/uri-list\">https://cdn.sstatic.net/</script>\\r\\n    <script src=\"https://ajax.googleapis.com/ajax/libs/jquery/1.12.4/jquery.min.js\"></script>\\r\\n    <script defer src=\"https://cdn.sstatic.net/Js/third-party/npm/@stackoverflow/stacks/dist/js/stacks.min.js?v=935b5e6f1844\"></script>\\r\\n    <script src=\"https://cdn.sstatic.net/Js/stub.en.js?v=98d9f62851ed\"></script>\\r\\n\\r\\n    <link rel=\"stylesheet\" type=\"text/css\" href=\"https://cdn.sstatic.net/Shared/stacks.css?v=85feea4d403d\">\\r\\n    <link rel=\"stylesheet\" type=\"text/css\" href=\"https://cdn.sstatic.net/Sites/stackoverflow/primary.css?v=e062e4544ec5\">\\r\\n\\r\\n        <link rel=\"stylesheet\" type=\"text/css\" href=\"https://cdn.sstatic.net/Sites/stackoverflow/secondary.css?v=6793be5668e3\">\\r\\n\\r\\n    \\r\\n    <script src=\"https://cdn.sstatic.net/Js/auth.en.js?v=7ea57d6b2df2\"></script>\\r\\n\\r\\n        \\r\\n        \\r\\n        \\r\\n        <link rel=\"stylesheet\" type=\"text/css\" href=\"https://cdn.sstatic.net/Shared/Channels/channels.css?v=a4d77abedec3\">\\r\\n\\r\\n        \\r\\n        \\r\\n\\r\\n\\r\\n    <script type=\"application/json\" data-role=\"module-args\" data-module-name=\"Shared/options.mod\">{\"options\":{\"locale\":\"en\",\"serverTime\":1694078121,\"routeName\":\"Users/Login\",\"stackAuthUrl\":\"https://stackauth.com\",\"networkMetaHostname\":\"meta.stackexchange.com\",\"site\":{\"name\":\"Stack Overflow\",\"description\":\"Q\\\\u0026A for professional and enthusiast programmers\",\"isNoticesTabEnabled\":true,\"enableNewTagCreationWarning\":true,\"insertSpaceAfterNameTabCompletion\":false,\"id\":1,\"cookieDomain\":\".stackoverflow.com\",\"childUrl\":\"https://meta.stackoverflow.com\",\"negativeVoteScoreFloor\":null,\"enableSocialMediaInSharePopup\":true,\"protocol\":\"https\"},\"user\":{\"fkey\":\"b1005758afff23034e3ca1fdf132c832df51555c59fcf9f68dc94fc174e32403\",\"tid\":\"ee50d36b-e960-0723-5b9e-f40b0f3d9d3c\",\"rep\":0,\"isAnonymous\":true,\"isAnonymousNetworkWide\":true,\"ab\":{\"collectives_survey\":{\"v\":\"coso_survey\",\"g\":1}}},\"events\":{\"postType\":{\"question\":1},\"postEditionSection\":{\"title\":1,\"body\":2,\"tags\":3}}}}</script>\\r\\n<script type=\"application/json\" data-role=\"module-args\" data-module-name=\"Shared/settings.mod\">{\"settings\":{\"userMessaging\":{\"showNewFeatureNotice\":true},\"tags\":{},\"subscriptions\":{\"defaultBasicMaxTrueUpSeats\":250,\"defaultFreemiumMaxTrueUpSeats\":50,\"defaultMaxTrueUpSeats\":1000},\"snippets\":{\"renderDomain\":\"stacksnippets.net\",\"snippetsEnabled\":true},\"site\":{\"allowImageUploads\":true,\"enableImgurHttps\":true,\"enableUserHovercards\":true,\"forceHttpsImages\":true,\"stacksEditorPreviewEnabled\":true,\"styleCode\":true},\"search\":{},\"questions\":{\"enableQuestionTitleLengthLiveWarning\":true,\"enableSavesFeature\":true,\"maxTitleSize\":150,\"questionTitleLengthStartLiveWarningChars\":50},\"intercom\":{\"appId\":\"inf0secd\",\"enableJavascriptImplementationFor\":true,\"hostBaseUrl\":\"https://stacksnippets.net\"},\"paths\":{\"jQueryUICSSPath\":\"https://ajax.googleapis.com/ajax/libs/jqueryui/1.12.0/themes/smoothness/jquery-ui.css\",\"jQueryUIJSPath\":\"https://ajax.googleapis.com/ajax/libs/jqueryui/1.12.0/jquery-ui.min.js\"},\"mentions\":{\"maxNumUsersInDropdown\":50},\"markdown\":{\"enableTables\":true},\"legal\":{\"oneTrustConfigId\":\"c3d9f1e3-55f3-4eba-b268-46cee4c6789c\"},\"flags\":{\"allowRetractingCommentFlags\":true,\"allowRetractingFlags\":true},\"elections\":{\"opaVoteResultsBaseUrl\":\"https://www.opavote.com/results/\"},\"comments\":{},\"accounts\":{\"currentPasswordRequiredForChangingStackIdPassword\":true}}}</script>\\r\\n<script>StackExchange.init();</script>\\r\\n\\r\\n    <script>\\r\\n        StackExchange.using.setCacheBreakers({\"Js/adops.en.js\":\"6da43f5e0a84\",\"Js/ask.en.js\":\"\",\"Js/begin-edit-event.en.js\":\"20edbaccceae\",\"Js/copy-transpiled.en.js\":\"d31dc7eba3bc\",\"Js/events.en.js\":\"\",\"Js/explore-qlist.en.js\":\"2b1f34938b8b\",\"Js/full-anon.en.js\":\"3538fadb9d5d\",\"Js/full.en.js\":\"671b39aa9dc9\",\"Js/highlightjs-loader.en.js\":\"510e2f94c2bf\",\"Js/inline-tag-editing.en.js\":\"db4721cf46fa\",\"Js/keyboard-shortcuts.en.js\":\"107c2ac31497\",\"Js/markdown-it-loader.en.js\":\"5818ef89ff9d\",\"Js/mentions-transpiled.en.js\":\"aaeac2684aa8\",\"Js/moderator.en.js\":\"d92c9a4ed501\",\"Js/postCollections-transpiled.en.js\":\"216ffeda5016\",\"Js/post-validation.en.js\":\"cce75daddbbd\",\"Js/question-editor.en.js\":\"\",\"Js/review-v2-transpiled.en.js\":\"69c0e3530e0b\",\"Js/revisions.en.js\":\"e6acc03fd5b5\",\"Js/stacks-editor.en.js\":\"146f5c06067a\",\"Js/tageditor.en.js\":\"dc13482a67f8\",\"Js/tageditornew.en.js\":\"cebacb19d403\",\"Js/tagsuggestions.en.js\":\"bd6ec908f2a7\",\"Js/unlimited-transpiled.en.js\":\"e776ac1beccb\",\"Js/wmd.en.js\":\"8c0f9d3b0a66\",\"Js/snippet-javascript-codemirror.en.js\":\"ae1dcf38deb7\"});\\r\\n        StackExchange.using(\"gps\", function() {\\r\\n             StackExchange.gps.init(false);\\r\\n        });\\r\\n    </script>\\r\\n    <noscript id=\"noscript-css\"><style>body,.s-topbar{margin-top:1.9em}</style></noscript>\\r\\n    </head>\\r\\n    <body class=\"universal-auth-page unified-theme floating-content\">\\r\\n    <div id=\"notify-container\"></div>\\r\\n    <div id=\"custom-header\"></div>\\r\\n        \\r\\n<header class=\"s-topbar ps-fixed t0 l0 js-top-bar\">\\r\\n\\t<div class=\"s-topbar--container\">\\r\\n\\t\\t\\t<a href=\"#\" class=\"s-topbar--menu-btn js-left-sidebar-toggle\" role=\"menuitem\" aria-haspopup=\"true\" aria-controls=\"left-sidebar\" aria-expanded=\"false\"><span></span></a>\\r\\n\\t\\t\\t<div class=\"topbar-dialog leftnav-dialog js-leftnav-dialog dno\">\\r\\n\\t\\t\\t\\t<div class=\"left-sidebar js-unpinned-left-sidebar\" data-can-be=\"left-sidebar\" data-is-here-when=\"sm md lg\"></div>\\r\\n\\t\\t\\t</div>\\r\\n\\t\\t\\t\\t<a href=\"https://stackoverflow.com\" class=\"s-topbar--logo js-gps-track\"\\r\\n\\t\\t   data-gps-track=\"top_nav.click({is_current:false, location:22, destination:8})\">\\r\\n\\t\\t\\t\\t\\t<span class=\"-img _glyph\">Stack Overflow</span>\\r\\n\\t\\t\\t\\t</a>\\r\\n\\r\\n\\r\\n\\r\\n\\t\\t\\t<ol class=\"s-navigation\" role=\"presentation\">\\r\\n\\r\\n\\t\\t\\t\\t\\t<li class=\"md:d-none\">\\r\\n\\t\\t\\t\\t\\t\\t<a href=\"https://stackoverflow.co/\" class=\"s-navigation--item js-gps-track\"\\r\\n\\t\\t\\t\\t   data-gps-track=\"top_nav.products.click({location:22, destination:7})\"\\r\\n\\t\\t\\t\\t   data-ga=\"[&quot;top navigation&quot;,&quot;about menu click&quot;,null,null,null]\">About</a>\\r\\n\\t\\t\\t\\t\\t</li>\\r\\n\\r\\n\\t\\t\\t\\t<li>\\r\\n\\t\\t\\t\\t\\t<a href=\"#\"\\r\\n\\t\\t\\t\\t   class=\"s-navigation--item js-gps-track js-products-menu\"\\r\\n\\t\\t\\t\\t   aria-controls=\"products-popover\"\\r\\n\\t\\t\\t\\t   data-controller=\"s-popover\"\\r\\n\\t\\t\\t\\t   data-action=\"s-popover#toggle\"\\r\\n\\t\\t\\t\\t   data-s-popover-placement=\"bottom\"\\r\\n\\t\\t\\t\\t   data-s-popover-toggle-class=\"is-selected\"\\r\\n\\t\\t\\t\\t   data-gps-track=\"top_nav.products.click({location:22, destination:1})\"\\r\\n\\t\\t\\t\\t   data-ga=\"[&quot;top navigation&quot;,&quot;products menu click&quot;,null,null,null]\">\\r\\n\\t\\t\\t\\t\\t\\tProducts\\r\\n\\t\\t\\t\\t\\t</a>\\r\\n\\t\\t\\t\\t</li>\\r\\n\\r\\n\\t\\t\\t\\t\\t<li class=\"md:d-none\">\\r\\n\\t\\t\\t\\t\\t\\t<a href=\"https://stackoverflow.co/teams/\" class=\"s-navigation--item js-gps-track\"\\r\\n\\t\\t\\t\\t   data-gps-track=\"top_nav.products.click({location:22, destination:7})\"\\r\\n\\t\\t\\t\\t   data-ga=\"[&quot;top navigation&quot;,&quot;learn more - teams&quot;,null,null,null]\">For Teams</a>\\r\\n\\t\\t\\t\\t\\t</li>\\r\\n\\t\\t\\t</ol>\\r\\n\\t\\t\\t<div class=\"s-popover ws2 mtn2 p0\"\\r\\n\\t\\t\\t id=\"products-popover\"\\r\\n\\t\\t\\t role=\"menu\"\\r\\n\\t\\t\\t aria-hidden=\"true\">\\r\\n\\t\\t\\t\\t<div class=\"s-popover--arrow\"></div>\\r\\n\\t\\t\\t\\t<ol class=\"list-reset s-anchors s-anchors__inherit\">\\r\\n\\t\\t\\t\\t\\t<li class=\"m6\">\\r\\n\\t\\t\\t\\t\\t\\t<a href=\"/questions\" class=\"bar-sm p6 d-block h:bg-black-100 js-gps-track\"\\r\\n\\t\\t\\t\\t\\t   data-gps-track=\"top_nav.products.click({location:22, destination:2})\"\\r\\n\\t\\t\\t\\t\\t   data-ga=\"[&quot;top navigation&quot;,&quot;public qa submenu click&quot;,null,null,null]\">\\r\\n\\t\\t\\t\\t\\t\\t\\t<span class=\"fs-body1 d-block\">Stack Overflow</span>\\r\\n\\t\\t\\t\\t\\t\\t\\t<span class=\"fs-caption d-block fc-light\">Public questions &amp; answers</span>\\r\\n\\t\\t\\t\\t\\t\\t</a>\\r\\n\\t\\t\\t\\t\\t</li>\\r\\n\\t\\t\\t\\t\\t<li class=\"m6\">\\r\\n\\t\\t\\t\\t\\t\\t<a href=\"https://stackoverflow.co/teams/\" class=\"bar-sm p6 d-block h:bg-black-100 js-gps-track\"\\r\\n\\t\\t\\t\\t\\t   data-gps-track=\"top_nav.products.click({location:22, destination:3})\"\\r\\n\\t\\t\\t\\t\\t   data-ga=\"[&quot;top navigation&quot;,&quot;teams submenu click&quot;,null,null,null]\">\\r\\n\\t\\t\\t\\t\\t\\t\\t<span class=\"fs-body1 d-block\">Stack Overflow for Teams</span>\\r\\n\\t\\t\\t\\t\\t\\t\\t<span class=\"fs-caption d-block fc-light\">Where developers &amp; technologists share private knowledge with coworkers</span>\\r\\n\\t\\t\\t\\t\\t\\t</a>\\r\\n\\t\\t\\t\\t\\t</li>\\r\\n\\t\\t\\t\\t\\t<li class=\"m6\">\\r\\n\\t\\t\\t\\t\\t\\t<a href=\"https://stackoverflow.co/talent/\" class=\"bar-sm p6 d-block h:bg-black-100 js-gps-track\"\\r\\n\\t\\t\\t\\t\\t   data-gps-track=\"top_nav.products.click({location:22, destination:5})\"\\r\\n\\t\\t\\t\\t\\t   data-ga=\"[&quot;top navigation&quot;,&quot;talent submenu click&quot;,null,null,null]\">\\r\\n\\t\\t\\t\\t\\t\\t\\t<span class=\"fs-body1 d-block\">Talent</span>\\r\\n\\t\\t\\t\\t\\t\\t\\t<span class=\"fs-caption d-block fc-light\">\\r\\n\\t\\t\\t\\t\\t\\t\\t\\tBuild your employer brand\\r\\n\\t\\t\\t\\t\\t\\t\\t</span>\\r\\n\\t\\t\\t\\t\\t\\t</a>\\r\\n\\t\\t\\t\\t\\t</li>\\r\\n\\t\\t\\t\\t\\t<li class=\"m6\">\\r\\n\\t\\t\\t\\t\\t\\t<a href=\"https://stackoverflow.co/advertising/\" class=\"bar-sm p6 d-block h:bg-black-100 js-gps-track\"\\r\\n\\t\\t\\t\\t\\t   data-gps-track=\"top_nav.products.click({location:22, destination:6})\"\\r\\n\\t\\t\\t\\t\\t   data-ga=\"[&quot;top navigation&quot;,&quot;advertising submenu click&quot;,null,null,null]\">\\r\\n\\t\\t\\t\\t\\t\\t\\t<span class=\"fs-body1 d-block\">Advertising</span>\\r\\n\\t\\t\\t\\t\\t\\t\\t<span class=\"fs-caption d-block fc-light\">Reach developers &amp; technologists worldwide</span>\\r\\n\\t\\t\\t\\t\\t\\t</a>\\r\\n\\t\\t\\t\\t\\t</li>\\r\\n\\t\\t\\t\\t\\t<li class=\"bt bc-black-075 py6 px6 bbr-md\">\\r\\n\\t\\t\\t\\t\\t\\t<a href=\"https://stackoverflow.co/labs/\" class=\"bar-sm p6 d-block h:bg-black-100 js-gps-track\"\\r\\n\\t\\t\\t\\t\\t   data-gps-track=\"top_nav.products.click({location:22, destination:7})\"\\r\\n\\t\\t\\t\\t\\t   data-ga=\"[&quot;top navigation&quot;,&quot;labs submenu click&quot;,null,null,null]\">\\r\\n\\t\\t\\t\\t\\t\\t \\t<span class=\"fs-body1 d-block\">Labs</span>\\r\\n\\t\\t\\t\\t\\t\\t\\t<span class=\"fs-caption d-block fc-light\">The future of collective knowledge sharing</span>\\r\\n\\t\\t\\t\\t\\t\\t </a>\\r\\n\\t\\t\\t\\t\\t</li>\\r\\n\\t\\t\\t\\t\\t<li class=\"bg-black-025 bt bc-black-075 py6 px6 bbr-md\">\\r\\n\\t\\t\\t\\t\\t\\t<a href=\"https://stackoverflow.co/\" class=\"fc-light d-block py6 px6 h:fc-black-800 js-gps-track\"\\r\\n\\t\\t\\t\\t\\t   data-gps-track=\"top_nav.products.click({location:22, destination:7})\"\\r\\n\\t\\t\\t\\t\\t   data-ga=\"[&quot;top navigation&quot;,&quot;about submenu click&quot;,null,null,null]\">About the company</a>\\r\\n\\t\\t\\t\\t\\t</li>\\r\\n\\t\\t\\t\\t</ol>\\r\\n\\t\\t\\t</div>\\r\\n\\r\\n\\r\\n\\t\\t        <form id=\"search\" role=\"search\" action=/search class=\"s-topbar--searchbar js-searchbar \" autocomplete=\"off\">\\r\\n                        <div class=\"s-topbar--searchbar--input-group\"\\r\\n\\t\\t\\t\\t\\t\\t\\t \\r\\n\\t\\t\\t\\t\\t\\t\\t \\r\\n\\t\\t\\t\\t\\t\\t\\t \\r\\n\\t\\t\\t\\t\\t\\t\\t \\r\\n\\t\\t\\t\\t\\t\\t\\t >\\r\\n                            <input name=\"q\"\\r\\n                                   type=\"text\"\\r\\n                                   role=\"combobox\"\\r\\n                                   placeholder=\"Search&#x2026;\"\\r\\n                                   value=\"\"\\r\\n                                   autocomplete=\"off\"\\r\\n                                   maxlength=\"240\"\\r\\n                                   class=\"s-input s-input__search js-search-field \"\\r\\n                                   aria-label=\"Search\"\\r\\n                                   aria-controls=\"top-search\" \\r\\n                                   data-controller=\"s-popover\"\\r\\n                                   data-action=\"focus->s-popover#show\"\\r\\n                                   data-s-popover-placement=\"bottom-start\" />\\r\\n                            <svg aria-hidden=\"true\" class=\"s-input-icon s-input-icon__search svg-icon iconSearch\" width=\"18\" height=\"18\"  viewBox=\"0 0 18 18\"><path  d=\"m18 16.5-5.14-5.18h-.35a7 7 0 1 0-1.19 1.19v.35L16.5 18l1.5-1.5ZM12 7A5 5 0 1 1 2 7a5 5 0 0 1 10 0Z\"/></svg>\\r\\n                            <div class=\"s-popover p0 wmx100 wmn4 sm:wmn-initial js-top-search-popover\" id=\"top-search\" role=\"menu\">\\r\\n    <div class=\"s-popover--arrow\"></div>\\r\\n    <div class=\"js-spinner p24 d-flex ai-center jc-center d-none\">\\r\\n        <div class=\"s-spinner s-spinner__sm fc-orange-400\">\\r\\n            <div class=\"v-visible-sr\">Loading&#x2026;</div>\\r\\n        </div>\\r\\n    </div>\\r\\n\\r\\n    <span class=\"v-visible-sr js-screen-reader-info\"></span>\\r\\n    <div class=\"js-ac-results overflow-y-auto hmx3 d-none\"></div>\\r\\n\\r\\n    <div class=\"js-search-hints\" aria-describedby=\"Tips for searching\"></div>\\r\\n</div>\\r\\n                        </div>\\r\\n                </form>\\r\\n\\t\\t\\r\\n<nav class=\"h100 ml-auto overflow-x-auto pr12\">\\r\\n    <ol class=\"s-topbar--content\" role=\"menubar\">\\r\\n    \\r\\n    \\r\\n    \\r\\n        <li class=\"js-topbar-dialog-corral\" role=\"presentation\">\\r\\n                \\r\\n\\r\\n    <div class=\"topbar-dialog siteSwitcher-dialog dno\" role=\"menu\">\\r\\n        <div class=\"header fw-wrap\">\\r\\n            <h3 class=\"flex--item\">\\r\\n                <a href=\"https://stackoverflow.com\">current community</a>\\r\\n            </h3>\\r\\n            <div class=\"flex--item fl1\">\\r\\n                <div class=\"ai-center d-flex jc-end\">\\r\\n                    <button\\r\\n                        class=\"js-close-button s-btn s-btn__muted p0 ml8 d-none sm:d-block\"\\r\\n                        type=\"button\"\\r\\n                        aria-label=\"Close\"\\r\\n                    >\\r\\n                        <svg aria-hidden=\"true\" class=\"svg-icon iconClear\" width=\"18\" height=\"18\"  viewBox=\"0 0 18 18\"><path  d=\"M15 4.41 13.59 3 9 7.59 4.41 3 3 4.41 7.59 9 3 13.59 4.41 15 9 10.41 13.59 15 15 13.59 10.41 9 15 4.41Z\"/></svg>\\r\\n                    </button>\\r\\n                </div>\\r\\n            </div>\\r\\n        </div>\\r\\n        <div class=\"modal-content bg-powder-050 current-site-container\">\\r\\n            <ul class=\"current-site \">\\r\\n                    <li class=\"d-flex\">\\r\\n                            <div class=\"fl1\">\\r\\n                <a href=\"https://stackoverflow.com\"\\r\\n       class=\"current-site-link site-link js-gps-track d-flex gs8 gsx\"\\r\\n       data-id=\"1\"\\r\\n       data-gps-track=\"site_switcher.click({ item_type:3 })\">\\r\\n        <div class=\"favicon favicon-stackoverflow site-icon flex--item\" title=\"Stack Overflow\"></div>\\r\\n        <span class=\"flex--item fl1\">\\r\\n            Stack Overflow\\r\\n        </span>\\r\\n    </a>\\r\\n\\r\\n    </div>\\r\\n    <div class=\"related-links\">\\r\\n            <a href=\"https://stackoverflow.com/help\" class=\"js-gps-track\" data-gps-track=\"site_switcher.click({ item_type:14 })\">help</a>\\r\\n            <a href=\"https://chat.stackoverflow.com/?tab=site&amp;host=stackoverflow.com\" class=\"js-gps-track\" data-gps-track=\"site_switcher.click({ item_type:6 })\">chat</a>\\r\\n    </div>\\r\\n\\r\\n                    </li>\\r\\n                    <li class=\"related-site d-flex\">\\r\\n                            <div class=\"L-shaped-icon-container\">\\r\\n        <span class=\"L-shaped-icon\"></span>\\r\\n    </div>\\r\\n\\r\\n                            <a href=\"https://meta.stackoverflow.com\"\\r\\n       class=\" site-link js-gps-track d-flex gs8 gsx\"\\r\\n       data-id=\"552\"\\r\\n       data-gps-track=\"site.switch({ target_site:552, item_type:3 }),site_switcher.click({ item_type:4 })\">\\r\\n        <div class=\"favicon favicon-stackoverflowmeta site-icon flex--item\" title=\"Meta Stack Overflow\"></div>\\r\\n        <span class=\"flex--item fl1\">\\r\\n            Meta Stack Overflow\\r\\n        </span>\\r\\n    </a>\\r\\n\\r\\n                    </li>\\r\\n            </ul>\\r\\n        </div>\\r\\n\\r\\n        <div class=\"header\" id=\"your-communities-header\">\\r\\n            <h3>\\r\\nyour communities            </h3>\\r\\n\\r\\n        </div>\\r\\n        <div class=\"modal-content\" id=\"your-communities-section\">\\r\\n\\r\\n                <div class=\"call-to-login\">\\r\\n<a href=\"https://stackoverflow.com/users/signup?ssrc=site_switcher\" class=\"login-link js-gps-track\" data-gps-track=\"site_switcher.click({ item_type:10 })\">Sign up</a> or <a href=\"https://stackoverflow.com/users/login?ssrc=site_switcher\" class=\"login-link js-gps-track\" data-gps-track=\"site_switcher.click({ item_type:11 })\">log in</a> to customize your list.                </div>\\r\\n        </div>\\r\\n\\r\\n        <div class=\"header\">\\r\\n            <h3><a href=\"https://stackexchange.com/sites\">more stack exchange communities</a>\\r\\n            </h3>\\r\\n            <a href=\"https://stackoverflow.blog\" class=\"float-right\">company blog</a>\\r\\n        </div>\\r\\n        <div class=\"modal-content\">\\r\\n                <div class=\"child-content\"></div>\\r\\n        </div>        \\r\\n    </div>\\r\\n\\r\\n        </li>\\r\\n    \\r\\n            <li role=\"none\"><button class=\"s-topbar--item s-btn s-btn__icon s-btn__muted d-none sm:d-inline-flex js-searchbar-trigger\" role=\"menuitem\" aria-label=\"Search\" aria-haspopup=\"true\" aria-controls=\"search\" title=\"Click to show search\"><svg aria-hidden=\"true\" class=\"svg-icon iconSearch\" width=\"18\" height=\"18\"  viewBox=\"0 0 18 18\"><path  d=\"m18 16.5-5.14-5.18h-.35a7 7 0 1 0-1.19 1.19v.35L16.5 18l1.5-1.5ZM12 7A5 5 0 1 1 2 7a5 5 0 0 1 10 0Z\"/></svg></button></li>\\r\\n                        <li role=\"none\">\\r\\n                            <a href=\"https://stackoverflow.com/users/login?ssrc=head\" class=\"s-topbar--item s-topbar--item__unset s-btn s-btn__filled ws-nowrap js-gps-track\" role=\"menuitem\" rel=\"nofollow\"\\r\\n               data-gps-track=\"login.click\" data-ga=\"[&quot;top navigation&quot;,&quot;login button click&quot;,null,null,null]\">Log in</a>\\r\\n                        </li>\\r\\n                        <li role=\"none\"><a href=\"https://stackoverflow.com/users/signup?ssrc=head\" class=\"s-topbar--item s-topbar--item__unset ml4 s-btn s-btn__primary ws-nowrap\" role=\"menuitem\" rel=\"nofollow\" data-ga=\"[&quot;sign up&quot;,&quot;Sign Up Navigation&quot;,&quot;Header&quot;,null,null]\">Sign up</a></li>\\r\\n    </ol>\\r\\n</nav>\\r\\n\\r\\n\\r\\n\\t</div>\\r\\n</header>\\r\\n\\r\\n\\t<script>\\r\\n\\t\\tStackExchange.ready(function () { StackExchange.topbar.init(); });\\r\\n\\t\\tStackExchange.scrollPadding.setPaddingTop(50, 10); \\r\\n\\t</script>\\r\\n\\r\\n\\r\\n\\r\\n\\r\\n\\r\\n    <div class=\"container\">\\r\\n                \\r\\n\\r\\n<div id=\"left-sidebar\" data-is-here-when=\"\" class=\"left-sidebar js-pinned-left-sidebar ps-relative\">\\r\\n    <div class=\"left-sidebar--sticky-container js-sticky-leftnav\">\\r\\n        <nav role=\"navigation\">\\r\\n\\r\\n            <ol class=\"nav-links\">\\r\\n                \\r\\n\\r\\n<li class=\"ps-relative\"  aria-current=\"false\">\\r\\n\\r\\n\\r\\n    <a\\r\\n       href=\"/\"\\r\\n       class=\"pl8 js-gps-track nav-links--link\"\\r\\n       \\r\\n       data-gps-track=\"top_nav.click({is_current: false, location:22, destination:8})\"\\r\\n       aria-controls=\"\" data-controller=\"\" data-s-popover-placement=\"right\"\\r\\n       aria-current=\"false\"\\r\\n       data-s-popover-auto-show=\"true\" data-s-popover-hide-on-outside-click=\"never\">\\r\\n            <div class=\"d-flex ai-center\">\\r\\n                <div class=\"flex--item truncate\">\\r\\n                    Home\\r\\n                </div>\\r\\n            </div>\\r\\n    </a>\\r\\n</li>\\r\\n\\r\\n                \\r\\n                <li>\\r\\n                    <ol class=\"nav-links\">\\r\\n\\r\\n                        <li class=\"fs-fine tt-uppercase ml8 mt16 mb4 fc-light\">Public</li>\\r\\n\\r\\n                            \\r\\n\\r\\n<li class=\"ps-relative\"  aria-current=\"false\">\\r\\n\\r\\n\\r\\n    <a id=\"nav-questions\"\\r\\n       href=\"/questions\"\\r\\n       class=\"pl8 js-gps-track nav-links--link -link__with-icon\"\\r\\n       \\r\\n       data-gps-track=\"top_nav.click({is_current: false, location:22, destination:1})\"\\r\\n       aria-controls=\"\" data-controller=\"\" data-s-popover-placement=\"right\"\\r\\n       aria-current=\"false\"\\r\\n       data-s-popover-auto-show=\"true\" data-s-popover-hide-on-outside-click=\"never\">\\r\\n<svg aria-hidden=\"true\" class=\"svg-icon iconGlobe\" width=\"18\" height=\"18\"  viewBox=\"0 0 18 18\"><path  d=\"M9 1C4.64 1 1 4.64 1 9c0 4.36 3.64 8 8 8 4.36 0 8-3.64 8-8 0-4.36-3.64-8-8-8ZM8 15.32a6.46 6.46 0 0 1-4.3-2.74 6.46 6.46 0 0 1-.93-5.01L7 11.68v.8c0 .88.12 1.32 1 1.32v1.52Zm5.72-2c-.2-.66-1-1.32-1.72-1.32h-1v-2c0-.44-.56-1-1-1H6V7h1c.44 0 1-.56 1-1V5h2c.88 0 1.4-.72 1.4-1.6v-.33a6.45 6.45 0 0 1 3.83 4.51 6.45 6.45 0 0 1-1.51 5.73v.01Z\"/></svg>            <span class=\"-link--channel-name\">Questions</span>\\r\\n    </a>\\r\\n</li>\\r\\n\\r\\n                        \\r\\n\\r\\n                        \\r\\n\\r\\n<li class=\"ps-relative\"  aria-current=\"false\">\\r\\n\\r\\n\\r\\n    <a id=\"nav-tags\"\\r\\n       href=\"/tags\"\\r\\n       class=\" js-gps-track nav-links--link\"\\r\\n       \\r\\n       data-gps-track=\"top_nav.click({is_current: false, location:22, destination:2})\"\\r\\n       aria-controls=\"\" data-controller=\"\" data-s-popover-placement=\"right\"\\r\\n       aria-current=\"false\"\\r\\n       data-s-popover-auto-show=\"true\" data-s-popover-hide-on-outside-click=\"never\">\\r\\n            <div class=\"d-flex ai-center\">\\r\\n                <div class=\"flex--item truncate\">\\r\\n                    Tags\\r\\n                </div>\\r\\n            </div>\\r\\n    </a>\\r\\n</li>\\r\\n\\r\\n\\r\\n                        \\r\\n\\r\\n<li class=\"ps-relative  youarehere\"  aria-current=\"true\">\\r\\n\\r\\n\\r\\n    <a id=\"nav-users\"\\r\\n       href=\"/users\"\\r\\n       class=\" js-gps-track nav-links--link\"\\r\\n       \\r\\n       data-gps-track=\"top_nav.click({is_current: true, location:22, destination:3})\"\\r\\n       aria-controls=\"\" data-controller=\"\" data-s-popover-placement=\"right\"\\r\\n       aria-current=\"false\"\\r\\n       data-s-popover-auto-show=\"true\" data-s-popover-hide-on-outside-click=\"never\">\\r\\n            <div class=\"d-flex ai-center\">\\r\\n                <div class=\"flex--item truncate\">\\r\\n                    Users\\r\\n                </div>\\r\\n            </div>\\r\\n    </a>\\r\\n</li>\\r\\n\\r\\n\\r\\n                            \\r\\n\\r\\n<li class=\"ps-relative\"  aria-current=\"false\">\\r\\n\\r\\n\\r\\n    <a id=\"nav-companies\"\\r\\n       href=\"https://stackoverflow.com/jobs/companies?so_medium=stackoverflow&amp;so_source=SiteNav\"\\r\\n       class=\" js-gps-track nav-links--link\"\\r\\n       \\r\\n       data-gps-track=\"top_nav.click({is_current: false, location:22, destination:12})\"\\r\\n       aria-controls=\"\" data-controller=\"\" data-s-popover-placement=\"right\"\\r\\n       aria-current=\"false\"\\r\\n       data-s-popover-auto-show=\"true\" data-s-popover-hide-on-outside-click=\"never\">\\r\\n            <div class=\"d-flex ai-center\">\\r\\n                <div class=\"flex--item truncate\">\\r\\n                    Companies\\r\\n                </div>\\r\\n            </div>\\r\\n    </a>\\r\\n</li>\\r\\n\\r\\n\\r\\n\\r\\n                            <li class=\"ml8 mt16\">\\r\\n                                <div class=\"d-flex jc-space-between fl-grow1\">\\r\\n                                    <div class=\"flex--item tt-uppercase tt-uppercase fs-fine fc-light\">Collectives</div>\\r\\n                                    <div class=\"flex--item fs-fine fc-light\">\\r\\n                                        <a href=\"javascript:void(0)\" class=\"s-link p12 fc-black-500 h:fc-black-800 js-gps-track js-collectives-navcta-toggle\"\\r\\n                                        role=\"button\"\\r\\n                                        aria-controls=\"popover-discover-collectives\"\\r\\n                                        data-controller=\"s-popover\"\\r\\n                                        data-action=\"s-popover#toggle\"\\r\\n                                        data-s-popover-placement=\"top\"\\r\\n                                        data-s-popover-toggle-class=\"is-selected\"\\r\\n                                        data-gps-track=\"top_nav.click({is_current:false, location:22, destination:17})\">\\r\\n                                            <svg aria-hidden=\"true\" class=\"svg-icon iconInfoSm\" width=\"14\" height=\"14\"  viewBox=\"0 0 14 14\"><path  d=\"M7 1a6 6 0 1 1 0 12A6 6 0 0 1 7 1Zm1 10V6H6v5h2Zm0-6V3H6v2h2Z\"/></svg>\\r\\n                                        </a>\\r\\n                                    </div>\\r\\n                                </div>\\r\\n                            </li>\\r\\n                                \\r\\n\\r\\n<li class=\"ps-relative\"  aria-current=\"false\">\\r\\n\\r\\n\\r\\n    <a id=\"nav-collective-discover\"\\r\\n       href=\"/collectives\"\\r\\n       class=\"pl8 ai-center js-collectives-navcta-toggle js-gps-track nav-links--link -link__with-icon\"\\r\\n       \\r\\n       data-gps-track=\"top_nav.click({is_current: false, location:22, destination:18})\"\\r\\n       aria-controls=\"\" data-controller=\"\" data-s-popover-placement=\"right\"\\r\\n       aria-current=\"false\"\\r\\n       data-s-popover-auto-show=\"true\" data-s-popover-hide-on-outside-click=\"never\">\\r\\n<svg aria-hidden=\"true\" class=\"mt-auto fc-orange-400 svg-icon iconStarVerified\" width=\"18\" height=\"18\"  viewBox=\"0 0 18 18\"><path  d=\"M9.86.89a1.14 1.14 0 0 0-1.72 0l-.5.58c-.3.35-.79.48-1.23.33l-.72-.25a1.14 1.14 0 0 0-1.49.85l-.14.76c-.1.45-.45.8-.9.9l-.76.14c-.67.14-1.08.83-.85 1.49l.25.72c.15.44.02.92-.33 1.23l-.58.5a1.14 1.14 0 0 0 0 1.72l.58.5c.35.3.48.79.33 1.23l-.25.72c-.23.66.18 1.35.85 1.49l.76.14c.45.1.8.45.9.9l.14.76c.14.67.83 1.08 1.49.85l.72-.25c.44-.15.92-.02 1.23.33l.5.58c.46.52 1.26.52 1.72 0l.5-.58c.3-.35.79-.48 1.23-.33l.72.25c.66.23 1.35-.18 1.49-.85l.14-.76c.1-.45.45-.8.9-.9l.76-.14c.67-.14 1.08-.83.85-1.49l-.25-.72c-.15-.44-.02-.92.33-1.23l.58-.5c.52-.46.52-1.26 0-1.72l-.58-.5c-.35-.3-.48-.79-.33-1.23l.25-.72a1.14 1.14 0 0 0-.85-1.49l-.76-.14c-.45-.1-.8-.45-.9-.9l-.14-.76a1.14 1.14 0 0 0-1.49-.85l-.72.25c-.44.15-.92.02-1.23-.33l-.5-.58Zm-.49 2.67L10.6 6.6c.05.15.19.24.34.25l3.26.22c.36.03.5.48.23.71l-2.5 2.1a.4.4 0 0 0-.14.4l.8 3.16a.4.4 0 0 1-.6.44L9.2 12.13a.4.4 0 0 0-.42 0l-2.77 1.74a.4.4 0 0 1-.6-.44l.8-3.16a.4.4 0 0 0-.13-.4l-2.5-2.1a.4.4 0 0 1 .22-.7l3.26-.23a.4.4 0 0 0 .34-.25l1.22-3.03a.4.4 0 0 1 .74 0Z\"/></svg>            <span class=\"-link--channel-name\">Explore Collectives</span>\\r\\n    </a>\\r\\n</li>\\r\\n\\r\\n                    </ol>\\r\\n                </li>\\r\\n                \\r\\n                \\r\\n\\r\\n        \\r\\n\\r\\n<li class=\"js-freemium-cta ps-relative\">\\r\\n\\r\\n    <div class=\"fs-fine tt-uppercase ml8 mt16 mb8 fc-light\">Teams</div>\\r\\n\\r\\n    <div class=\"px32 pt16 pb0 fc-black-600 blr-sm overflow-hidden\">\\r\\n        <strong class=\"fc-black-750 mb6\">Stack Overflow for Teams</strong>\\r\\n        \\xe2\\x80\\x93 Start collaborating and sharing organizational knowledge.\\r\\n        \\r\\n        <img class=\"wmx100 mx-auto my8 h-auto d-block\" width=\"139\" height=\"114\" src=\"https://cdn.sstatic.net/Img/teams/teams-illo-free-sidebar-promo.svg?v=47faa659a05e\" alt=\"\">\\r\\n\\r\\n        <a href=\"https://try.stackoverflow.co/why-teams/?utm_source=so-owned&amp;utm_medium=side-bar&amp;utm_campaign=campaign-38&amp;utm_content=cta\" \\r\\n           class=\"w100 s-btn s-btn__primary s-btn__xs bg-orange-400 js-gps-track\"\\r\\n           data-gps-track=\"teams.create.left-sidenav.click({ Action: 6 })\"\\r\\n           data-ga=\"[&quot;teams left navigation - anonymous&quot;,&quot;left nav free cta&quot;,&quot;stackoverflow.com/teams/create/free&quot;,null,null]\">Create a free Team</a>\\r\\n        <a href=\"https://stackoverflow.co/teams/\" \\r\\n           class=\"w100 s-btn s-btn__muted s-btn__xs js-gps-track\"\\r\\n           data-gps-track=\"teams.create.left-sidenav.click({ Action: 5 })\"\\r\\n           data-ga=\"[&quot;teams left navigation - anonymous&quot;,&quot;left nav free cta&quot;,&quot;stackoverflow.com/teams&quot;,null,null]\">Why Teams?</a>\\r\\n\\r\\n    </div>\\r\\n</li>\\r\\n\\r\\n\\r\\n    <li class=\"d-flex ai-center jc-space-between ml8 mt24 mb4 js-create-team-cta d-none\">\\r\\n        <div class=\"flex--item tt-uppercase fs-fine fc-light\">Teams</div>\\r\\n        <div class=\"flex--item\">\\r\\n            <a href=\"javascript:void(0)\" class=\"s-link p12 fc-black-500 h:fc-black-800 js-gps-track\"\\r\\n            role=\"button\"\\r\\n            aria-controls=\"popover-teams-create-cta\"\\r\\n            data-controller=\"s-popover\"\\r\\n            data-action=\"s-popover#toggle\"\\r\\n            data-s-popover-placement=\"bottom-start\"\\r\\n            data-s-popover-toggle-class=\"is-selected\"\\r\\n            data-gps-track=\"teams.create.left-sidenav.click({ Action: ShowInfo })\"\\r\\n            data-ga=\"[&quot;teams left navigation - anonymous&quot;,&quot;left nav show teams info&quot;,null,null,null]\">\\r\\n                <svg aria-hidden=\"true\" class=\"svg-icon iconInfoSm\" width=\"14\" height=\"14\"  viewBox=\"0 0 14 14\"><path  d=\"M7 1a6 6 0 1 1 0 12A6 6 0 0 1 7 1Zm1 10V6H6v5h2Zm0-6V3H6v2h2Z\"/></svg>\\r\\n            </a>\\r\\n\\r\\n        </div>\\r\\n    </li>\\r\\n    <li class=\"ps-relative js-create-team-cta d-none\">\\r\\n        <a href=\"https://stackoverflowteams.com/teams/create/free/?utm_source=so-owned&amp;utm_medium=side-bar&amp;utm_campaign=campaign-38&amp;utm_content=cta\"\\r\\n        class=\"pl8 js-gps-track nav-links--link\"\\r\\n        title=\"Stack Overflow for Teams is a private, secure spot for your organization\\'s questions and answers.\"\\r\\n        data-gps-track=\"teams.create.left-sidenav.click({ Action: FreemiumTeamsCreateClick })\"\\r\\n        data-ga=\"[&quot;teams left navigation - anonymous&quot;,&quot;left nav team click&quot;,&quot;stackoverflow.com/teams/create/free&quot;,null,null]\">\\r\\n            <div class=\"d-flex ai-center\">\\r\\n                <div class=\"flex--item s-avatar va-middle bg-orange-400\">\\r\\n                    <div class=\"s-avatar--letter mtn1\">\\r\\n                        <svg aria-hidden=\"true\" class=\"svg-icon iconBriefcaseSm\" width=\"14\" height=\"14\"  viewBox=\"0 0 14 14\"><path  d=\"M4 3a1 1 0 0 1 1-1h4a1 1 0 0 1 1 1v1h.5c.83 0 1.5.67 1.5 1.5v5c0 .83-.67 1.5-1.5 1.5h-7A1.5 1.5 0 0 1 2 10.5v-5C2 4.67 2.67 4 3.5 4H4V3Zm5 1V3H5v1h4Z\"/></svg>\\r\\n                    </div>\\r\\n                    <svg aria-hidden=\"true\" class=\"native s-avatar--badge svg-icon iconShieldXSm\" width=\"9\" height=\"10\"  viewBox=\"0 0 9 10\"><path fill=\"var(--white)\" d=\"M0 1.84 4.5 0 9 1.84v3.17C9 7.53 6.3 10 4.5 10 2.7 10 0 7.53 0 5.01V1.84Z\"/><path fill=\"var(--black-500)\" d=\"M1 2.5 4.5 1 8 2.5v2.51C8 7.34 5.34 9 4.5 9 3.65 9 1 7.34 1 5.01V2.5Zm2.98 3.02L3.2 7h2.6l-.78-1.48a.4.4 0 0 1 .15-.38c.34-.24.73-.7.73-1.14 0-.71-.5-1.23-1.41-1.23-.92 0-1.39.52-1.39 1.23 0 .44.4.9.73 1.14.12.08.18.23.15.38Z\"/></svg>\\r\\n                </div>\\r\\n                <div class=\"flex--item pl6\">\\r\\n                    Create free Team\\r\\n                </div>\\r\\n            </div>\\r\\n        </a>\\r\\n    </li>\\r\\n\\r\\n\\r\\n            </ol>\\r\\n        </nav>\\r\\n    </div>\\r\\n\\r\\n\\r\\n        <div class=\"s-popover ws2\" id=\"popover-discover-collectives\" role=\"menu\">\\r\\n            <div class=\"s-popover--arrow\"></div>\\r\\n            <div>\\r\\n                <svg aria-hidden=\"true\" class=\"fc-orange-500 float-right ml24 svg-spot spotCollective\" width=\"48\" height=\"48\"  viewBox=\"0 0 48 48\"><path  d=\"M25.5 7a2.5 2.5 0 1 0 0-5 2.5 2.5 0 0 0 0 5ZM14 18.25c0-.69.56-1.25 1.25-1.25h22.5c.69 0 1.25.56 1.25 1.25V37.5a1 1 0 0 1-1.6.8l-4.07-3.05a1.25 1.25 0 0 0-.75-.25H15.25c-.69 0-1.25-.56-1.25-1.25v-15.5ZM7 24.5a2.5 2.5 0 1 1-5 0 2.5 2.5 0 0 1 5 0ZM25.5 48a2.5 2.5 0 1 0 0-5 2.5 2.5 0 0 0 0 5ZM48 24.5a2.5 2.5 0 1 1-5 0 2.5 2.5 0 0 1 5 0Z\" opacity=\".2\"/><path  d=\"M21 3.5a3.5 3.5 0 1 1 7 0 3.5 3.5 0 0 1-7 0ZM24.5 2a1.5 1.5 0 1 0 0 3 1.5 1.5 0 0 0 0-3ZM0 23.5a3.5 3.5 0 1 1 7 0 3.5 3.5 0 0 1-7 0ZM3.5 22a1.5 1.5 0 1 0 0 3 1.5 1.5 0 0 0 0-3ZM21 44.5a3.5 3.5 0 1 1 7 0 3.5 3.5 0 0 1-7 0Zm3.5-1.5a1.5 1.5 0 1 0 0 3 1.5 1.5 0 0 0 0-3Zm20-23a3.5 3.5 0 1 0 0 7 3.5 3.5 0 0 0 0-7ZM43 23.5a1.5 1.5 0 1 1 3 0 1.5 1.5 0 0 1-3 0Zm-23.23-3.14a1 1 0 0 1-.13 1.4l-2.08 1.74 2.08 1.73a1 1 0 1 1-1.28 1.54l-2.42-2.02a1.63 1.63 0 0 1 0-2.5l2.42-2.02a1 1 0 0 1 1.4.13Zm7.59 1.41a1 1 0 1 1 1.28-1.54l2.42 2.02c.78.65.78 1.85 0 2.5l-2.42 2.02a1 1 0 1 1-1.28-1.54l2.08-1.73-2.08-1.73ZM24.12 18a1 1 0 0 1 .87 1.12l-1 8a1 1 0 1 1-1.98-.24l1-8a1 1 0 0 1 1.11-.87Zm-11.87-5C11.01 13 10 14 10 15.25v15.5c0 1.24 1 2.25 2.25 2.25h17.33c.06 0 .11.02.15.05l4.07 3.05a2 2 0 0 0 3.2-1.6V15.25c0-1.24-1-2.25-2.25-2.25h-22.5ZM12 15.25c0-.14.11-.25.25-.25h22.5c.14 0 .25.11.25.25V34.5l-4.07-3.05a2.2 2.2 0 0 0-1.35-.45H12.25a.25.25 0 0 1-.25-.25v-15.5Zm7.24-10.68a1 1 0 1 0-.48-1.94A22.04 22.04 0 0 0 2.91 17.7a1 1 0 1 0 1.92.58 20.04 20.04 0 0 1 14.4-13.72Zm11.05-1.66a1 1 0 0 0-.58 1.92c6.45 1.92 11.54 7 13.46 13.46a1 1 0 1 0 1.92-.58 22.05 22.05 0 0 0-14.8-14.8ZM4.57 28.76a1 1 0 0 0-1.94.48 22.03 22.03 0 0 0 16.13 16.13 1 1 0 1 0 .48-1.94A20.03 20.03 0 0 1 4.57 28.76Zm40.8.48a1 1 0 1 0-1.94-.48 20.04 20.04 0 0 1-13.72 14.41 1 1 0 0 0 .58 1.92 22.04 22.04 0 0 0 15.08-15.85Z\"/></svg>\\r\\n                <h5 class=\"pt4 fw-bold\">Collectives\\xe2\\x84\\xa2 on Stack Overflow</h5>\\r\\n                <p class=\"my16 fs-caption fc-medium\">Find centralized, trusted content and collaborate around the technologies you use most.</p>\\r\\n                <a href=\"/collectives\"\\r\\n            class=\"js-gps-track s-btn s-btn__primary s-btn__xs\"\\r\\n            data-gps-track=\"top_nav.click({is_current:false, location:22, destination:18})\">\\r\\n                    Learn more about Collectives\\r\\n                </a>\\r\\n            </div>\\r\\n        </div>\\r\\n\\r\\n        <div class=\"s-popover ws2\"\\r\\n        id=\"popover-teams-create-cta\"\\r\\n        role=\"menu\"\\r\\n        aria-hidden=\"true\">\\r\\n            <div class=\"s-popover--arrow\"></div>\\r\\n\\r\\n            <div class=\"ps-relative overflow-hidden\">\\r\\n                <p class=\"mb2\"><strong>Teams</strong></p>\\r\\n                <p class=\"mb12 fs-caption fc-black-400\">Q&amp;A for work</p>\\r\\n                <p class=\"mb12 fs-caption fc-medium\">Connect and share knowledge within a single location that is structured and easy to search.</p>\\r\\n                <a href=\"https://stackoverflow.co/teams/\"\\r\\n            class=\"js-gps-track s-btn s-btn__primary s-btn__xs\"\\r\\n            data-gps-track=\"teams.create.left-sidenav.click({ Action: CtaClick })\"\\r\\n            data-ga=\"[&quot;teams left navigation - anonymous&quot;,&quot;left nav cta&quot;,&quot;stackoverflow.com/teams&quot;,null,null]\">\\r\\n                    Learn more about Teams\\r\\n                </a>\\r\\n            </div>\\r\\n\\r\\n            <div class=\"ps-absolute t8 r8\">\\r\\n                <svg aria-hidden=\"true\" class=\"fc-orange-500 svg-spot spotPeople\" width=\"48\" height=\"48\"  viewBox=\"0 0 48 48\"><path  d=\"M13.5 28a4.5 4.5 0 1 0 0-9 4.5 4.5 0 0 0 0 9ZM7 30a1 1 0 0 1 1-1h11a1 1 0 0 1 1 1v5h11v-5a1 1 0 0 1 1-1h12a1 1 0 0 1 1 1v10a2 2 0 0 1-2 2H33v5a1 1 0 0 1-1 1H20a1 1 0 0 1-1-1v-5H8a1 1 0 0 1-1-1V30Zm25-6.5a4.5 4.5 0 1 0 9 0 4.5 4.5 0 0 0-9 0ZM24.5 34a4.5 4.5 0 1 0 0-9 4.5 4.5 0 0 0 0 9Z\" opacity=\".2\"/><path  d=\"M16.4 26.08A6 6 0 1 0 7.53 26C5.64 26.06 4 27.52 4 29.45V40a1 1 0 0 0 1 1h9a1 1 0 1 0 0-2h-4v-7a1 1 0 1 0-2 0v7H6v-9.55c0-.73.67-1.45 1.64-1.45H16a1 1 0 0 0 .4-1.92ZM12 18a4 4 0 1 1 0 8 4 4 0 0 1 0-8Zm16.47 14a6 6 0 1 0-8.94 0A3.6 3.6 0 0 0 16 35.5V46a1 1 0 0 0 1 1h14a1 1 0 0 0 1-1V35.5c0-1.94-1.64-3.42-3.53-3.5ZM20 28a4 4 0 1 1 8 0 4 4 0 0 1-8 0Zm-.3 6h8.6c1 0 1.7.75 1.7 1.5V45h-2v-7a1 1 0 1 0-2 0v7h-4v-7a1 1 0 1 0-2 0v7h-2v-9.5c0-.75.7-1.5 1.7-1.5ZM42 22c0 1.54-.58 2.94-1.53 4A3.5 3.5 0 0 1 44 29.45V40a1 1 0 0 1-1 1h-9a1 1 0 1 1 0-2h4v-7a1 1 0 1 1 2 0v7h2v-9.55A1.5 1.5 0 0 0 40.48 28H32a1 1 0 0 1-.4-1.92A6 6 0 1 1 42 22Zm-2 0a4 4 0 1 0-8 0 4 4 0 0 0 8 0Z\"/><g  opacity=\".35\"><path d=\"M17 10a1 1 0 011-1h12a1 1 0 110 2H18a1 1 0 01-1-1Zm1-5a1 1 0 100 2h12a1 1 0 100-2H18ZM14 1a1 1 0 00-1 1v12a1 1 0 001 1h5.09l4.2 4.2a1 1 0 001.46-.04l3.7-4.16H34a1 1 0 001-1V2a1 1 0 00-1-1H14Zm1 12V3h18v10h-5a1 1 0 00-.75.34l-3.3 3.7-3.74-3.75a1 1 0 00-.71-.29H15Z\"/></g></svg>\\r\\n            </div>\\r\\n        </div>\\r\\n\\r\\n\\r\\n\\r\\n</div>\\r\\n\\r\\n\\r\\n\\r\\n        <div id=\"content\" class=\"d-flex flex__center snippet-hidden\">\\r\\n\\r\\n            \\r\\n\\r\\n<div class=\"flex--item\">\\r\\n\\r\\n        <div class=\"ta-center fs-title mx-auto mb24\">\\r\\n                    <a href=\"https://stackoverflow.com\">\\r\\n<svg aria-hidden=\"true\" class=\"native svg-icon iconLogoGlyphMd\" width=\"32\" height=\"37\" viewBox=\"0 0 32 37\"><path d=\"M26 33v-9h4v13H0V24h4v9h22Z\" fill=\"#BCBBBB\"/><path d=\"m21.5 0-2.7 2 9.9 13.3 2.7-2L21.5 0ZM26 18.4 13.3 7.8l2.1-2.5 12.7 10.6-2.1 2.5ZM9.1 15.2l15 7 1.4-3-15-7-1.4 3Zm14 10.79.68-2.95-16.1-3.35L7 23l16.1 2.99ZM23 30H7v-3h16v3Z\" fill=\"#F48024\"/></svg>                    </a>\\r\\n        </div>\\r\\n        \\r\\n\\r\\n\\r\\n\\r\\n<div id=\"openid-buttons\" class=\"mx-auto d-flex flex__fl-grow1 fd-column gs8 gsy mb16 wmx3\">\\r\\n        <button class=\"flex--item s-btn s-btn__icon s-btn__google bar-md ba bc-black-100\" data-provider=\\'google\\' data-oauthserver=\\'https://accounts.google.com/o/oauth2/auth\\' data-oauthversion=\\'2.0\\'>\\r\\n            <svg aria-hidden=\"true\" class=\"native svg-icon iconGoogle\" width=\"18\" height=\"18\"  viewBox=\"0 0 18 18\"><path fill=\"#4285F4\" d=\"M16.51 8H8.98v3h4.3c-.18 1-.74 1.48-1.6 2.04v2.01h2.6a7.8 7.8 0 0 0 2.38-5.88c0-.57-.05-.66-.15-1.18Z\"/><path fill=\"#34A853\" d=\"M8.98 17c2.16 0 3.97-.72 5.3-1.94l-2.6-2a4.8 4.8 0 0 1-7.18-2.54H1.83v2.07A8 8 0 0 0 8.98 17Z\"/><path fill=\"#FBBC05\" d=\"M4.5 10.52a4.8 4.8 0 0 1 0-3.04V5.41H1.83a8 8 0 0 0 0 7.18l2.67-2.07Z\"/><path fill=\"#EA4335\" d=\"M8.98 4.18c1.17 0 2.23.4 3.06 1.2l2.3-2.3A8 8 0 0 0 1.83 5.4L4.5 7.49a4.77 4.77 0 0 1 4.48-3.3Z\"/></svg>\\r\\nLog in with Google        </button>\\r\\n        <button class=\"flex--item s-btn s-btn__icon s-btn__github bar-md ba bc-black-100\" data-provider=\\'github\\' data-oauthserver=\\'https://github.com/login/oauth/authorize\\' data-oauthversion=\\'2.0\\'>\\r\\n            <svg aria-hidden=\"true\" class=\"svg-icon iconGitHub\" width=\"18\" height=\"18\"  viewBox=\"0 0 18 18\"><path fill=\"#010101\" d=\"M9 1a8 8 0 0 0-2.53 15.59c.4.07.55-.17.55-.38l-.01-1.49c-2.01.37-2.53-.49-2.69-.94-.09-.23-.48-.94-.82-1.13-.28-.15-.68-.52-.01-.53.63-.01 1.08.58 1.23.82.72 1.21 1.87.87 2.33.66.07-.52.28-.87.51-1.07-1.78-.2-3.64-.89-3.64-3.95 0-.87.31-1.59.82-2.15-.08-.2-.36-1.02.08-2.12 0 0 .67-.21 2.2.82a7.42 7.42 0 0 1 4 0c1.53-1.04 2.2-.82 2.2-.82.44 1.1.16 1.92.08 2.12.51.56.82 1.27.82 2.15 0 3.07-1.87 3.75-3.65 3.95.29.25.54.73.54 1.48l-.01 2.2c0 .21.15.46.55.38A8.01 8.01 0 0 0 9 1Z\"/></svg>\\r\\nLog in with GitHub        </button>\\r\\n        <button class=\"flex--item s-btn s-btn__icon s-btn__facebook bar-md\" data-provider=\\'facebook\\' data-oauthserver=\\'https://www.facebook.com/v2.0/dialog/oauth\\' data-oauthversion=\\'2.0\\'>\\r\\n            <svg aria-hidden=\"true\" class=\"svg-icon iconFacebook\" width=\"18\" height=\"18\"  viewBox=\"0 0 18 18\"><path fill=\"#4167B2\" d=\"M3 1a2 2 0 0 0-2 2v12c0 1.1.9 2 2 2h12a2 2 0 0 0 2-2V3a2 2 0 0 0-2-2H3Zm6.55 16v-6.2H7.46V8.4h2.09V6.61c0-2.07 1.26-3.2 3.1-3.2.88 0 1.64.07 1.87.1v2.16h-1.29c-1 0-1.19.48-1.19 1.18V8.4h2.39l-.31 2.42h-2.08V17h-2.5Z\"/></svg>\\r\\nLog in with Facebook        </button>\\r\\n</div>\\r\\n\\r\\n<div id=\"formContainer\" class=\"mx-auto mb24 p24 wmx3 bg-white bar-lg bs-xl mb24\">\\r\\n    <form id=\"login-form\" class=\"d-flex fd-column gs12 gsy\" action=\"/users/login?returnurl=https%3a%2f%2fstackoverflow.com%2foauth%3fclient_id%3d26442%26scope%3dread_inbox%26redirect_uri%3dhttp%3a%2f%2f127.0.0.1%3a8000%2fouth\" method=\"POST\">\\r\\n        <input type=\"hidden\" name=\"fkey\" value=\"b1005758afff23034e3ca1fdf132c832df51555c59fcf9f68dc94fc174e32403\">\\r\\n            <input type=\"hidden\" name=\"ssrc\" value=\"login\" />\\r\\n                <div class=\"d-flex fd-column gs4 gsy js-auth-item \">\\r\\n                    <label class=\"flex--item s-label\" for=\"email\">Email</label>\\r\\n                    <div class=\"d-flex ps-relative\">\\r\\n                        <input class=\"s-input\" id=\"email\" type=\"email\" size=\"30\" maxlength=\"100\" name=\"email\" />\\r\\n                        <svg aria-hidden=\"true\" class=\"s-input-icon js-alert-icon d-none svg-icon iconAlertCircle\" width=\"18\" height=\"18\"  viewBox=\"0 0 18 18\"><path  d=\"M9 17c-4.36 0-8-3.64-8-8 0-4.36 3.64-8 8-8 4.36 0 8 3.64 8 8 0 4.36-3.64 8-8 8ZM8 4v6h2V4H8Zm0 8v2h2v-2H8Z\"/></svg>\\r\\n                    </div>\\r\\n                            <p class=\"flex--item s-input-message js-error-message d-none\">\\r\\n            \\r\\n        </p>\\r\\n\\r\\n                </div>\\r\\n                <div class=\"d-flex fd-column-reverse gs4 gsy js-auth-item \">\\r\\n                            <p class=\"flex--item s-input-message js-error-message d-none\">\\r\\n            \\r\\n        </p>\\r\\n\\r\\n                    <div class=\"d-flex ps-relative js-password\">\\r\\n                        <input class=\"flex--item s-input\" type=\"password\" autocomplete=\"off\" name=\"password\" id=\"password\" />\\r\\n                        <svg aria-hidden=\"true\" class=\"s-input-icon js-alert-icon d-none svg-icon iconAlertCircle\" width=\"18\" height=\"18\"  viewBox=\"0 0 18 18\"><path  d=\"M9 17c-4.36 0-8-3.64-8-8 0-4.36 3.64-8 8-8 4.36 0 8 3.64 8 8 0 4.36-3.64 8-8 8ZM8 4v6h2V4H8Zm0 8v2h2v-2H8Z\"/></svg>\\r\\n                    </div>\\r\\n                    <div class=\"d-flex ai-center ps-relative jc-space-between\">\\r\\n                        <label class=\"flex--item s-label\" for=\"password\">Password</label>\\r\\n\\r\\n                            <a class=\"flex--item s-link fs-caption\" href=\"/users/account-recovery\">Forgot password?</a>\\r\\n                    </div>\\r\\n                </div>\\r\\n            <div class=\"d-flex gs4 gsy fd-column js-auth-item \">\\r\\n                <button class=\"flex--item s-btn s-btn__primary\" id=\"submit-button\" name=\"submit-button\">Log in</button>\\r\\n                        <p class=\"flex--item s-input-message js-error-message d-none\">\\r\\n            \\r\\n        </p>\\r\\n\\r\\n            </div>\\r\\n\\r\\n        <input type=\"hidden\" id=\"oauth_version\" name=\"oauth_version\" />\\r\\n        <input type=\"hidden\" id=\"oauth_server\" name=\"oauth_server\" />\\r\\n\\r\\n\\r\\n    </form>\\r\\n</div>\\r\\n\\r\\n<script>\\r\\n    StackExchange.ready(function () {\\r\\n\\r\\n        StackExchange.using(\"gps\", function() { StackExchange.gps.sendPending(); });\\r\\n\\r\\n\\r\\n    });\\r\\n\\r\\n</script>\\r\\n\\r\\n            <div class=\"mx-auto ta-center fs-body1 p16 pb0 mb24 w100 wmx3\">\\r\\n                Don\\xe2\\x80\\x99t have an account? <a href=\"/users/signup?returnurl=https%3a%2f%2fstackoverflow.com%2foauth%3fclient_id%3d26442%26scope%3dread_inbox%26redirect_uri%3dhttp%3a%2f%2f127.0.0.1%3a8000%2fouth\">Sign up</a>\\r\\n\\r\\n                    <div class=\"mt12\">\\r\\n                        Are you an employer? <a href=\\'https://careers.stackoverflow.com/employer/login\\' name=\\'talent\\'>Sign up on Talent <svg aria-hidden=\"true\" class=\"va-text-bottom sm:d-none svg-icon iconShareSm\" width=\"14\" height=\"14\"  viewBox=\"0 0 14 14\"><path  d=\"M5 1H3a2 2 0 0 0-2 2v8c0 1.1.9 2 2 2h8a2 2 0 0 0 2-2V9h-2v2H3V3h2V1Zm2 0h6v6h-2V4.5L6.5 9 5 7.5 9.5 3H7V1Z\"/></svg></a>\\r\\n                    </div>\\r\\n            </div>\\r\\n</div>\\r\\n\\r\\n<script>\\r\\n    StackExchange.ready(function () {\\r\\n        auth.init(auth.pages.Login);\\r\\n    });\\r\\n</script>\\r\\n        </div>\\r\\n    </div>\\r\\n\\r\\n\\r\\n    \\r\\n\\r\\n            <!-- Google tag (gtag.js) -->\\r\\n            <script async src=\"https://www.googletagmanager.com/gtag/js?id=G-WCZ03SZFCQ\"></script>\\r\\n            <script>\\r\\n                window.dataLayer = window.dataLayer || [];\\r\\n                function gtag() { dataLayer.push(arguments); }\\r\\n            </script>\\r\\n        <script>\\r\\n            StackExchange.ready(function() {\\r\\n\\r\\n                var ga3Settings = {\\r\\n                    autoLink: [\"stackoverflow.blog\",\"info.stackoverflowsolutions.com\",\"stackoverflowsolutions.com\"],\\r\\n                    sendTitles: true,\\r\\n                    tracker: window.ga,\\r\\n                    trackingCodes: [\\r\\n                        \\'UA-108242619-1\\'\\r\\n                    ],\\r\\n                    checkDimension: \\'dimension42\\'\\r\\n                                                    };\\r\\n\\r\\n                var customGA4Dimensions = {};\\r\\n\\r\\n\\r\\n\\r\\n                var ga4Settings = {\\r\\n                    tracker: gtag,\\r\\n                    trackingCodes: [\\r\\n                        \\'G-WCZ03SZFCQ\\'\\r\\n                    ],\\r\\n                    consentsToPerformanceCookies: \"denied\",\\r\\n                    consentsToTargetingCookies: \"denied\",\\r\\n                    eventParameters: customGA4Dimensions,\\r\\n                    checkForAdBlock: true,\\r\\n                    sendTitles: true,\\r\\n                    trackClicks: false,\\r\\n                };\\r\\n\\r\\n                StackExchange.ga.init({ GA3: ga3Settings, GA4: ga4Settings });\\r\\n\\r\\n\\r\\n\\r\\n\\r\\n                StackExchange.ga.setDimension(\\'dimension3\\', \\'Users/Login\\');\\r\\n\\r\\n\\r\\n                StackExchange.ga.setDimension(\\'dimension7\\', \"1694078121.1550256836\");\\r\\n\\r\\n                StackExchange.ga.trackPageView();\\r\\n            });\\r\\n        </script>\\r\\n\\r\\n        \\r\\n                <div class=\"ff-sans ps-fixed z-nav-fixed ws4 sm:w-auto p32 sm:p16 bg-black-750 fc-white bar-lg b16 l16 r16 js-consent-banner\">\\r\\n                    <svg aria-hidden=\"true\" class=\"mln4 mb24 sm:d-none svg-spot spotCookieLg\" style=\"color: var(--theme-button-filled-background-color)\" width=\"96\" height=\"96\" viewBox=\"0 0 96 96\">\\r\\n                        <path d=\"M35 45.5a7.5 7.5 0 11-15 0 7.5 7.5 0 0115 0zM63.5 63a7.5 7.5 0 100-15 7.5 7.5 0 000 15zm-19 19a7.5 7.5 0 100-15 7.5 7.5 0 000 15z\" opacity=\".2\" />\\r\\n                        <path d=\"M56.99 2.53a23.1 23.1 0 0114.66 6.15h.01l.01.02c.57.55.61 1.27.5 1.74v.07a10.95 10.95 0 01-3.07 4.77 9 9 0 01-6.9 2.5 10.34 10.34 0 01-9.72-10.44v-.08a10 10 0 011.03-3.74l.01-.03.02-.02c.28-.5.82-.92 1.52-.95.63-.02 1.27-.02 1.93.01zm12.04 7.83a20.1 20.1 0 00-12.2-4.83l-.92-.03c-.23.6-.38 1.25-.43 1.94a7.34 7.34 0 006.95 7.34 6 6 0 004.64-1.7c.94-.88 1.6-1.9 1.96-2.72zm15.3 8.76a6.84 6.84 0 00-5.09-.24 7.9 7.9 0 00-3.28 2.05 1.8 1.8 0 00-.3 1.95l.02.02v.02a15.16 15.16 0 008.74 7.47c.64.23 1.32.08 1.8-.33a6.63 6.63 0 001.63-1.97l.01-.03.01-.03c1.67-3.5-.12-7.32-3.54-8.91zm-5.5 3.28c.36-.25.82-.5 1.35-.67.92-.3 1.92-.35 2.89.1 2.14 1 2.92 3.14 2.11 4.88-.12.21-.26.41-.43.6l-.26-.1a12.29 12.29 0 01-5.66-4.81zM32 24a2 2 0 11-4 0 2 2 0 014 0zm12 21a2 2 0 11-4 0 2 2 0 014 0zm36 4a2 2 0 11-4 0 2 2 0 014 0zm-7 21a2 2 0 11-4 0 2 2 0 014 0zM59 81a2 2 0 11-4 0 2 2 0 014 0zM22 63a2 2 0 11-4 0 2 2 0 014 0zm27 7a9 9 0 11-18 0 9 9 0 0118 0zm-3 0a6 6 0 10-12 0 6 6 0 0012 0zM33 41a9 9 0 11-18 0 9 9 0 0118 0zm-15 0a6 6 0 1012 0 6 6 0 00-12 0zm50 11a9 9 0 11-18 0 9 9 0 0118 0zm-3 0a6 6 0 10-12 0 6 6 0 0012 0zM44.08 4.24c.31.48.33 1.09.05 1.58a17.46 17.46 0 00-2.36 8.8c0 9.55 7.58 17.24 16.85 17.24 2.97 0 5.75-.78 8.16-2.15a1.5 1.5 0 012.1.66 12.08 12.08 0 0011 6.74 12.4 12.4 0 007.85-2.75 1.5 1.5 0 012.38.74A45.76 45.76 0 0192 48.16c0 24.77-19.67 44.9-44 44.9S4 72.93 4 48.16C4 25.23 20.84 6.28 42.64 3.58a1.5 1.5 0 011.44.66zM40.22 7C21.32 10.71 7 27.7 7 48.16c0 23.17 18.39 41.9 41 41.9s41-18.73 41-41.9c0-3.52-.42-6.93-1.22-10.2a15.5 15.5 0 01-7.9 2.15c-5.5 0-10.36-2.83-12.97-7.1a19.46 19.46 0 01-8.28 1.85c-11 0-19.86-9.1-19.86-20.24 0-2.7.52-5.26 1.45-7.62zM92 91a2 2 0 100-4 2 2 0 000 4zM7 8.5a2.5 2.5 0 11-5 0 2.5 2.5 0 015 0zM82.5 90a1.5 1.5 0 100-3 1.5 1.5 0 000 3zm9.5-7.5a1.5 1.5 0 11-3 0 1.5 1.5 0 013 0zM13.5 8a1.5 1.5 0 100-3 1.5 1.5 0 000 3zM80 14.5a1.5 1.5 0 11-3 0 1.5 1.5 0 013 0zM53.5 20a1.5 1.5 0 100-3 1.5 1.5 0 000 3z\" />\\r\\n                    </svg>\\r\\n                    <p class=\"fs-body2 fw-bold mb4\">\\r\\n                        Your privacy\\r\\n                    </p>\\r\\n                    <p class=\"mb16 s-anchors s-anchors__inherit s-anchors__underlined\">\\r\\n                        By clicking \\xe2\\x80\\x9cAccept all cookies\\xe2\\x80\\x9d, you agree Stack Exchange can store cookies on your device and disclose information in accordance with our <a href=\"https://stackoverflow.com/legal/cookie-policy\">Cookie Policy</a>.\\r\\n                    </p>\\r\\n                    <div class=\"d-flex gs8 sm:fd-column\">\\r\\n                        <button class=\"flex--item6 s-btn s-btn__primary js-accept-cookies js-consent-banner-hide\">\\r\\n                            Accept all cookies\\r\\n                        </button>\\r\\n\\r\\n                        <button class=\"flex--item6 s-btn s-btn__primary js-reject-cookies js-consent-banner-hide\">\\r\\n                            Necessary cookies only\\r\\n                        </button>\\r\\n                    </div>\\r\\n\\r\\n                    <div class=\"d-flex mt8 sm:fd-column\">\\r\\n                        <button class=\"flex--item12 s-btn s-btn__filled js-cookie-settings\" data-consent-popup-loader=\"banner\">\\r\\n                            Customize settings\\r\\n                        </button>\\r\\n                    </div>\\r\\n                </div>\\r\\n    <div id=\"onetrust-consent-sdk\" class=\"d-none\"></div>\\r\\n    <div id=\"onetrust-banner-sdk\" data-controller=\"s-modal\"></div>\\r\\n    <div id=\"ot-pc-content\" class=\"d-none\"></div>\\r\\n    <div id=\"onetrust-style\" class=\"d-none\">&nbsp;</div>\\r\\n    <div class=\"d-none js-consent-banner-version\" data-consent-banner-version=\"1\"></div>\\r\\n\\r\\n\\r\\n    \\r\\n    </body>\\r\\n    </html>\\r\\n'"
      ]
     },
     "execution_count": 12,
     "metadata": {},
     "output_type": "execute_result"
    }
   ],
   "source": [
    "res.content"
   ]
  },
  {
   "cell_type": "code",
   "execution_count": 1,
   "metadata": {},
   "outputs": [],
   "source": [
    "import os\n",
    "import requests\n",
    "from bs4 import BeautifulSoup\n",
    "from dotenv import load_dotenv\n",
    "load_dotenv()\n",
    "\n",
    "# Configuration\n",
    "CLIENT_ID=os.getenv(\"CLIENT_ID\")\n",
    "CLIENT_SECRET=os.getenv(\"CLIENT_SECRET\")\n",
    "LOGIN_URL = \"https://stackoverflow.com/users/login\"\n",
    "REDIRECT_URI = \"http://localhost\"\n",
    "OAUTH_URL = f\"https://stackoverflow.com/oauth?client_id={CLIENT_ID}&scope=read_inbox&redirect_uri={REDIRECT_URI}\"\n",
    "\n",
    "session = requests.Session()"
   ]
  },
  {
   "cell_type": "code",
   "execution_count": 2,
   "metadata": {},
   "outputs": [
    {
     "name": "stdout",
     "output_type": "stream",
     "text": [
      "Login response: 200\n",
      "Authorize response: 200\n",
      "Authorize response URL: https://stackoverflow.com/users/login?returnurl=https%3a%2f%2fstackoverflow.com%2foauth%3fclient_id%3d27148%26scope%3dread_inbox%26redirect_uri%3dhttp%3a%2f%2flocalhost\n"
     ]
    }
   ],
   "source": [
    "# 1. Log in\n",
    "login_data = {\n",
    "    \"email\": os.getenv(\"SO_LOGIN_EMAIL\"),\n",
    "    \"password\": os.getenv(\"SO_LOGIN_PASSWORD\"),\n",
    "    # You might need to fetch and provide any CSRF token or similar security token\n",
    "    # This is just a basic example, and the exact form fields might differ\n",
    "}\n",
    "response = session.post(LOGIN_URL, data=login_data)\n",
    "print(f\"Login response: {response.status_code}\")\n",
    "\n"
   ]
  },
  {
   "cell_type": "code",
   "execution_count": 8,
   "metadata": {},
   "outputs": [
    {
     "name": "stdout",
     "output_type": "stream",
     "text": [
      "Authorize response: 302\n",
      "Authorize response URL: https://stackoverflow.com/oauth?client_id=27148&scope=read_inbox&redirect_uri=http://localhost\n"
     ]
    }
   ],
   "source": [
    "# 2. Authorize the app\n",
    "response = session.get(OAUTH_URL, allow_redirects=False)\n",
    "print(f\"Authorize response: {response.status_code}\")\n",
    "print(f\"Authorize response URL: {response.url}\")"
   ]
  },
  {
   "cell_type": "code",
   "execution_count": 10,
   "metadata": {},
   "outputs": [
    {
     "data": {
      "text/plain": [
       "{'Connection': 'keep-alive', 'cache-control': 'private', 'location': '/users/login?returnurl=https%3a%2f%2fstackoverflow.com%2foauth%3fclient_id%3d27148%26scope%3dread_inbox%26redirect_uri%3dhttp%3a%2f%2flocalhost', 'strict-transport-security': 'max-age=15552000', 'x-frame-options': 'SAMEORIGIN', 'x-request-guid': '06cba4b3-cc17-4d83-a79f-6a753d9b7be9', 'set-cookie': 'prov=0e8d7f3c-0821-748c-a2ff-84c4387d66f4; expires=Sat, 07 Sep 2024 09:53:44 GMT; domain=.stackoverflow.com; path=/; secure; samesite=none; httponly', 'feature-policy': \"microphone 'none'; speaker 'none'\", 'content-security-policy': \"upgrade-insecure-requests; frame-ancestors 'self' https://stackexchange.com\", 'Accept-Ranges': 'bytes', 'Date': 'Thu, 07 Sep 2023 09:53:44 GMT', 'Via': '1.1 varnish', 'X-Served-By': 'cache-qpg1272-QPG', 'X-Cache': 'MISS', 'X-Cache-Hits': '0', 'X-Timer': 'S1694080425.689701,VS0,VE247', 'Vary': 'Fastly-SSL', 'X-DNS-Prefetch-Control': 'off', 'transfer-encoding': 'chunked'}"
      ]
     },
     "execution_count": 10,
     "metadata": {},
     "output_type": "execute_result"
    }
   ],
   "source": [
    "response.headers"
   ]
  },
  {
   "cell_type": "code",
   "execution_count": 4,
   "metadata": {},
   "outputs": [
    {
     "name": "stdout",
     "output_type": "stream",
     "text": [
      "Unable to find the authorization form. Please inspect the page content.\n"
     ]
    }
   ],
   "source": [
    "# 1. Check the URL for the code parameter\n",
    "if \"code=\" in response.url:\n",
    "    code = response.url.split(\"code=\")[1].split(\"&\")[0]  # Assuming code is not the last parameter\n",
    "    print(f\"Extracted code: {code}\")\n",
    "else:\n",
    "    # 2. Check if there's an authorization form on the page\n",
    "    soup = BeautifulSoup(response.text, 'html.parser')\n",
    "    form = soup.find('form', {'id': 'oauth-authorize-form'})  # Placeholder form ID, inspect the actual page\n",
    "    \n",
    "    if form:\n",
    "        action_url = form['action']\n",
    "        payload = {}\n",
    "        for input_tag in form.find_all('input'):\n",
    "            payload[input_tag['name']] = input_tag['value']\n",
    "        \n",
    "        # Submit the authorization form\n",
    "        response = session.post(action_url, data=payload, allow_redirects=False)\n",
    "        \n",
    "        # Now, check the response or the redirected URL for the code\n",
    "        if \"code=\" in response.url:\n",
    "            code = response.url.split(\"code=\")[1].split(\"&\")[0]\n",
    "            print(f\"Extracted code: {code}\")\n",
    "        else:\n",
    "            print(\"Code not found after application authorization.\")\n",
    "    else:\n",
    "        print(\"Unable to find the authorization form. Please inspect the page content.\")\n"
   ]
  },
  {
   "cell_type": "code",
   "execution_count": 2,
   "metadata": {},
   "outputs": [],
   "source": [
    "# Create a session to maintain cookies\n",
    "session = requests.Session()\n",
    "\n",
    "# Try to access OAuth URL\n",
    "response = session.get(OAUTH_URL, allow_redirects=False)\n",
    "if response.status_code == 302 and 'location' in response.headers and '/users/login' in response.headers['location']:\n",
    "    # We're being redirected to login\n",
    "    \n",
    "    login_data = {\n",
    "        \"email\": os.getenv(\"SO_LOGIN_EMAIL\"),\n",
    "        \"password\": os.getenv(\"SO_LOGIN_PASSWORD\")\n",
    "    }\n",
    "    response = session.post(LOGIN_URL, data=login_data)\n",
    "    \n",
    "    # Check if login was successful by looking at the response content or URL. This might require additional inspection.\n",
    "\n",
    "    # Try to access OAuth URL again\n",
    "    response = session.get(OAUTH_URL, allow_redirects=False)\n",
    "\n",
    "# From here, you should handle the possibility of an authorization page or directly look for the code in the redirect URL."
   ]
  },
  {
   "cell_type": "code",
   "execution_count": 4,
   "metadata": {},
   "outputs": [
    {
     "data": {
      "text/plain": [
       "'https://stackoverflow.com/oauth?client_id=27148&scope=read_inbox&redirect_uri=http://localhost'"
      ]
     },
     "execution_count": 4,
     "metadata": {},
     "output_type": "execute_result"
    }
   ],
   "source": [
    "response.url"
   ]
  },
  {
   "cell_type": "code",
   "execution_count": 7,
   "metadata": {},
   "outputs": [
    {
     "data": {
      "text/plain": [
       "'2RaFzOHFe5bQG0Q(KZ8(rQ))'"
      ]
     },
     "execution_count": 7,
     "metadata": {},
     "output_type": "execute_result"
    }
   ],
   "source": [
    "response.headers.get(\"Location\").split(\"code=\")[1].split(\"&\")[0]"
   ]
  },
  {
   "cell_type": "code",
   "execution_count": 23,
   "metadata": {},
   "outputs": [],
   "source": [
    "import requests"
   ]
  },
  {
   "cell_type": "code",
   "execution_count": 33,
   "metadata": {},
   "outputs": [],
   "source": [
    "res = requests.get(\"http://localhost:8000/get_access_token\")"
   ]
  },
  {
   "cell_type": "code",
   "execution_count": 34,
   "metadata": {},
   "outputs": [
    {
     "data": {
      "text/plain": [
       "b'{\"access_token\":\"pNcNuGzj4*OgipiAz(MWkw))\"}'"
      ]
     },
     "execution_count": 34,
     "metadata": {},
     "output_type": "execute_result"
    }
   ],
   "source": [
    "res.content"
   ]
  },
  {
   "cell_type": "code",
   "execution_count": null,
   "metadata": {},
   "outputs": [],
   "source": []
  }
 ],
 "metadata": {
  "kernelspec": {
   "display_name": "chainlink",
   "language": "python",
   "name": "python3"
  },
  "language_info": {
   "codemirror_mode": {
    "name": "ipython",
    "version": 3
   },
   "file_extension": ".py",
   "mimetype": "text/x-python",
   "name": "python",
   "nbconvert_exporter": "python",
   "pygments_lexer": "ipython3",
   "version": "3.10.11"
  },
  "orig_nbformat": 4
 },
 "nbformat": 4,
 "nbformat_minor": 2
}
