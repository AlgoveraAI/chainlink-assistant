{
 "cells": [
  {
   "cell_type": "code",
   "execution_count": 3,
   "metadata": {},
   "outputs": [
    {
     "data": {
      "text/plain": [
       "True"
      ]
     },
     "execution_count": 3,
     "metadata": {},
     "output_type": "execute_result"
    }
   ],
   "source": [
    "import sys\n",
    "sys.path.append('../')\n",
    "\n",
    "from dotenv import load_dotenv\n",
    "load_dotenv()"
   ]
  },
  {
   "cell_type": "code",
   "execution_count": 4,
   "metadata": {},
   "outputs": [],
   "source": [
    "import os\n",
    "import re\n",
    "import time\n",
    "import pickle\n",
    "import requests\n",
    "import html2text\n",
    "from tqdm import tqdm\n",
    "from pathlib import Path\n",
    "from datetime import datetime\n",
    "from langchain.docstore.document import Document\n",
    "\n",
    "from config import get_logger\n",
    "\n",
    "logger = get_logger(__name__)\n",
    "\n",
    "\n",
    "# Settings for stackoverflow requests\n",
    "key = os.getenv('SO_KEY')\n",
    "tag = 'chainlink'\n",
    "pagesize = 99\n",
    "from_date = \"1609459200\"\n",
    "to_date = \"1685577600\"\n",
    "\n",
    "#https://api.stackexchange.com/docs/questions\n",
    "def get_questions(tag, page, pagesize, from_date, to_date, key, access_token):\n",
    "    # url = f'https://api.stackexchange.com/2.3/questions?order=desc&sort=creation&tagged={tag}&site={site}&pagesize={pagesize}&key={key}&access_token={access_token}&filter=withbody'\n",
    "    url = f\"https://api.stackexchange.com/2.3/questions?page={page}&pagesize={pagesize}&tagged={tag}&fromdate={from_date}&todate={to_date}&key={key}&access_token={access_token}&order=desc&sort=activity&site=stackoverflow&filter=withbody\"\n",
    "    response = requests.get(url)\n",
    "    return response.json()['items']\n",
    "\n",
    "def get_answers(question_id, key, access_token):\n",
    "    url = f'https://api.stackexchange.com/2.3/questions/{question_id}/answers?order=desc&sort=activity&site=stackoverflow&key={key}&access_token={access_token}&filter=withbody'\n",
    "    response = requests.get(url)\n",
    "    return response.json()['items']\n",
    "\n",
    "def get_all_questions(access_token):\n",
    "    all_questions = None\n",
    "    for i in range(1, 5):\n",
    "        page = i\n",
    "        if all_questions is None:\n",
    "            all_questions = get_questions(\n",
    "                tag=tag, pagesize=pagesize, key=key, \n",
    "                access_token=access_token, from_date=from_date, \n",
    "                to_date=to_date, page=page\n",
    "            )\n",
    "        else:\n",
    "            all_questions.extend(get_questions(\n",
    "                tag=tag, pagesize=pagesize, key=key, \n",
    "                access_token=access_token, from_date=from_date, \n",
    "                to_date=to_date, page=page\n",
    "                )\n",
    "            )\n",
    "        time.sleep(3)\n",
    "\n",
    "    all_questions = sorted(all_questions, key=lambda x: x['creation_date'], reverse=True)\n",
    "\n",
    "    # Only consider questions from user with reputation > 50. Some questions don't have reputation field. They should be removed\n",
    "    all_questions = [question for question in all_questions if 'reputation' in question['owner'].keys() and question['owner']['reputation'] > 50]\n",
    "\n",
    "    h = html2text.HTML2Text()\n",
    "    h.ignore_links = False\n",
    "    h.ignore_images = True\n",
    "    h.ignore_emphasis = False\n",
    "    h.ignore_tables = False\n",
    "    questions_and_answers = {}\n",
    "\n",
    "    for question in tqdm(all_questions, total=len(all_questions)):\n",
    "        answers = get_answers(question['question_id'], key, access_token)\n",
    "        if not answers:  # Skip questions with no answers\n",
    "            continue\n",
    "        \n",
    "        # Only keep accepted answer\n",
    "        answers = [answer for answer in answers if answer['is_accepted'] == True]\n",
    "\n",
    "        # Only keep answer from user with reputation > 50; some answers don't have reputation field. they should be removed\n",
    "        answers = [answer for answer in answers if 'reputation' in answer['owner'].keys() and answer['owner']['reputation'] > 50]\n",
    "\n",
    "        question_body = re.sub(r'!\\[.*?\\]\\(.*?\\)', '', h.handle(question['body']))\n",
    "        question_str = \"Question: (Asked on: \" + datetime.utcfromtimestamp(question['creation_date']).strftime('%Y-%m-%d %H:%M:%S') + \")\\n\" + question['title'] + \"\\n\"\n",
    "        question_url = \"URL: \" + question['link'] + \"\\n\\n\"\n",
    "        question_body_str = \"Question Body:\\n\" + question_body + \"\\n\\n\"\n",
    "        answers_str = \"Answers:\\n\" + \"\\n---\\n\".join([\"(Answered on: \" + datetime.utcfromtimestamp(answer['creation_date']).strftime('%Y-%m-%d %H:%M:%S') + \")\\n\" + re.sub(r'!\\[.*?\\]\\(.*?\\)', '', h.handle(answer['body'])) for answer in answers]) + \"\\n\\n\"\n",
    "        text = question_str + question_url + question_body_str + answers_str\n",
    "\n",
    "        questions_and_answers[question['question_id']] = Document(page_content=text, metadata={\"source\":question['link'], \"type\":\"stackoverflow\"})\n",
    "\n",
    "    logger.info(\"Scrapped stackoverflow\")\n",
    "\n",
    "    return questions_and_answers\n",
    "\n",
    "\n",
    "def scrap_stackoverflow(access_token):\n",
    "    logger.info(f\"Key: {key}\")\n",
    "    logger.info(f\"{access_token}\")\n",
    "\n",
    "    so_docs = get_all_questions(access_token)\n",
    "\n",
    "    # Make sure data directory exists\n",
    "    Path(\"./data\").mkdir(parents=True, exist_ok=True)\n",
    "\n",
    "    # Convert to list\n",
    "    so_docs = list(so_docs.values())\n",
    "\n",
    "    # Log first document\n",
    "    logger.info(f\"First document SO: {so_docs[0]}\")\n",
    "\n",
    "    # Save to disk\n",
    "    with open(\"./data/stackoverflow_documents.pkl\", \"wb\") as f:\n",
    "        pickle.dump(so_docs, f)\n",
    "\n",
    "    logger.info(\"Scrapped stackoverflow\")\n",
    "\n",
    "    return so_docs"
   ]
  },
  {
   "cell_type": "code",
   "execution_count": 5,
   "metadata": {},
   "outputs": [],
   "source": [
    "code = \"vmafUYae6trV9Bhsib4XAA))\""
   ]
  },
  {
   "cell_type": "code",
   "execution_count": 6,
   "metadata": {},
   "outputs": [],
   "source": [
    "# curl -d \"client_id=26442&client_secret=JtQuve9sdjhmgAdyOY3nKg((&code=vmafUYae6trV9Bhsib4XAA))&redirect_uri=https://stackapps.com\" -X POST https://stackoverflow.com/oauth/access_token"
   ]
  },
  {
   "cell_type": "code",
   "execution_count": 7,
   "metadata": {},
   "outputs": [],
   "source": [
    "access_token = \"RqtrFkJZxBsVETNbooIb(A))\""
   ]
  },
  {
   "cell_type": "code",
   "execution_count": 8,
   "metadata": {},
   "outputs": [
    {
     "name": "stderr",
     "output_type": "stream",
     "text": [
      "100%|██████████| 154/154 [02:58<00:00,  1.16s/it]\n",
      "2023-08-31 11:15:49,569 - __main__ - INFO - Scrapped stackoverflow\n",
      "2023-08-31 11:15:49,569 - __main__ - INFO - Scrapped stackoverflow\n",
      "INFO:__main__:Scrapped stackoverflow\n"
     ]
    }
   ],
   "source": [
    "qanda = get_all_questions(access_token)"
   ]
  },
  {
   "cell_type": "code",
   "execution_count": 9,
   "metadata": {},
   "outputs": [],
   "source": [
    "so_docs = list(qanda.values())"
   ]
  },
  {
   "cell_type": "code",
   "execution_count": 11,
   "metadata": {},
   "outputs": [],
   "source": [
    "with open(\"../data/stackoverflow_documents.pkl\", \"wb\") as f:\n",
    "    pickle.dump(so_docs, f)"
   ]
  },
  {
   "cell_type": "code",
   "execution_count": null,
   "metadata": {},
   "outputs": [],
   "source": []
  },
  {
   "cell_type": "code",
   "execution_count": 1,
   "metadata": {},
   "outputs": [],
   "source": [
    "from selenium import webdriver\n",
    "from selenium.webdriver.chrome.service import Service\n",
    "from webdriver_manager.chrome import ChromeDriverManager\n",
    "from selenium.webdriver.chrome.options import Options"
   ]
  },
  {
   "cell_type": "code",
   "execution_count": 5,
   "metadata": {},
   "outputs": [
    {
     "ename": "WebDriverException",
     "evalue": "Message: unknown error: Chrome failed to start: crashed.\n  (unknown error: DevToolsActivePort file doesn't exist)\n  (The process started from chrome location /usr/bin/google-chrome is no longer running, so ChromeDriver is assuming that Chrome has crashed.)\nStacktrace:\n#0 0x0040006a7783 <unknown>\n#1 0x0040003d3917 <unknown>\n#2 0x0040003fe978 <unknown>\n#3 0x0040003fb9c9 <unknown>\n#4 0x00400043ba13 <unknown>\n#5 0x00400043b15f <unknown>\n#6 0x004000432bd3 <unknown>\n#7 0x004000406a7b <unknown>\n#8 0x00400040781e <unknown>\n#9 0x004000668e98 <unknown>\n#10 0x00400066cd67 <unknown>\n#11 0x00400067732c <unknown>\n#12 0x00400066d993 <unknown>\n#13 0x00400063c827 <unknown>\n#14 0x0040006918a8 <unknown>\n#15 0x004000691a36 <unknown>\n#16 0x0040006a05f3 <unknown>\n#17 0x004002552609 start_thread\n",
     "output_type": "error",
     "traceback": [
      "\u001b[0;31m---------------------------------------------------------------------------\u001b[0m",
      "\u001b[0;31mWebDriverException\u001b[0m                        Traceback (most recent call last)",
      "Cell \u001b[0;32mIn[5], line 9\u001b[0m\n\u001b[1;32m      5\u001b[0m chrome_options\u001b[39m.\u001b[39madd_argument(\u001b[39m\"\u001b[39m\u001b[39m--disable-dev-shm-usage\u001b[39m\u001b[39m\"\u001b[39m)\n\u001b[1;32m      7\u001b[0m \u001b[39m# Set up the webdriver\u001b[39;00m\n\u001b[1;32m      8\u001b[0m \u001b[39m# s=Service(ChromeDriverManager().install())\u001b[39;00m\n\u001b[0;32m----> 9\u001b[0m driver \u001b[39m=\u001b[39m webdriver\u001b[39m.\u001b[39;49mChrome(options\u001b[39m=\u001b[39;49mchrome_options)\n",
      "File \u001b[0;32m~/.local/lib/python3.8/site-packages/selenium/webdriver/chrome/webdriver.py:84\u001b[0m, in \u001b[0;36mWebDriver.__init__\u001b[0;34m(self, executable_path, port, options, service_args, desired_capabilities, service_log_path, chrome_options, service, keep_alive)\u001b[0m\n\u001b[1;32m     81\u001b[0m     service \u001b[39m=\u001b[39m Service(executable_path, port, service_args, service_log_path)\n\u001b[1;32m     82\u001b[0m service\u001b[39m.\u001b[39mpath \u001b[39m=\u001b[39m DriverFinder\u001b[39m.\u001b[39mget_path(service, options)\n\u001b[0;32m---> 84\u001b[0m \u001b[39msuper\u001b[39;49m()\u001b[39m.\u001b[39;49m\u001b[39m__init__\u001b[39;49m(\n\u001b[1;32m     85\u001b[0m     DesiredCapabilities\u001b[39m.\u001b[39;49mCHROME[\u001b[39m\"\u001b[39;49m\u001b[39mbrowserName\u001b[39;49m\u001b[39m\"\u001b[39;49m],\n\u001b[1;32m     86\u001b[0m     \u001b[39m\"\u001b[39;49m\u001b[39mgoog\u001b[39;49m\u001b[39m\"\u001b[39;49m,\n\u001b[1;32m     87\u001b[0m     port,\n\u001b[1;32m     88\u001b[0m     options,\n\u001b[1;32m     89\u001b[0m     service_args,\n\u001b[1;32m     90\u001b[0m     desired_capabilities,\n\u001b[1;32m     91\u001b[0m     service_log_path,\n\u001b[1;32m     92\u001b[0m     service,\n\u001b[1;32m     93\u001b[0m     keep_alive,\n\u001b[1;32m     94\u001b[0m )\n",
      "File \u001b[0;32m~/.local/lib/python3.8/site-packages/selenium/webdriver/chromium/webdriver.py:104\u001b[0m, in \u001b[0;36mChromiumDriver.__init__\u001b[0;34m(self, browser_name, vendor_prefix, port, options, service_args, desired_capabilities, service_log_path, service, keep_alive)\u001b[0m\n\u001b[1;32m    101\u001b[0m \u001b[39mself\u001b[39m\u001b[39m.\u001b[39mservice\u001b[39m.\u001b[39mstart()\n\u001b[1;32m    103\u001b[0m \u001b[39mtry\u001b[39;00m:\n\u001b[0;32m--> 104\u001b[0m     \u001b[39msuper\u001b[39;49m()\u001b[39m.\u001b[39;49m\u001b[39m__init__\u001b[39;49m(\n\u001b[1;32m    105\u001b[0m         command_executor\u001b[39m=\u001b[39;49mChromiumRemoteConnection(\n\u001b[1;32m    106\u001b[0m             remote_server_addr\u001b[39m=\u001b[39;49m\u001b[39mself\u001b[39;49m\u001b[39m.\u001b[39;49mservice\u001b[39m.\u001b[39;49mservice_url,\n\u001b[1;32m    107\u001b[0m             browser_name\u001b[39m=\u001b[39;49mbrowser_name,\n\u001b[1;32m    108\u001b[0m             vendor_prefix\u001b[39m=\u001b[39;49mvendor_prefix,\n\u001b[1;32m    109\u001b[0m             keep_alive\u001b[39m=\u001b[39;49mkeep_alive,\n\u001b[1;32m    110\u001b[0m             ignore_proxy\u001b[39m=\u001b[39;49m_ignore_proxy,\n\u001b[1;32m    111\u001b[0m         ),\n\u001b[1;32m    112\u001b[0m         options\u001b[39m=\u001b[39;49moptions,\n\u001b[1;32m    113\u001b[0m     )\n\u001b[1;32m    114\u001b[0m \u001b[39mexcept\u001b[39;00m \u001b[39mException\u001b[39;00m:\n\u001b[1;32m    115\u001b[0m     \u001b[39mself\u001b[39m\u001b[39m.\u001b[39mquit()\n",
      "File \u001b[0;32m~/.local/lib/python3.8/site-packages/selenium/webdriver/remote/webdriver.py:286\u001b[0m, in \u001b[0;36mWebDriver.__init__\u001b[0;34m(self, command_executor, desired_capabilities, browser_profile, proxy, keep_alive, file_detector, options)\u001b[0m\n\u001b[1;32m    284\u001b[0m \u001b[39mself\u001b[39m\u001b[39m.\u001b[39m_authenticator_id \u001b[39m=\u001b[39m \u001b[39mNone\u001b[39;00m\n\u001b[1;32m    285\u001b[0m \u001b[39mself\u001b[39m\u001b[39m.\u001b[39mstart_client()\n\u001b[0;32m--> 286\u001b[0m \u001b[39mself\u001b[39;49m\u001b[39m.\u001b[39;49mstart_session(capabilities, browser_profile)\n",
      "File \u001b[0;32m~/.local/lib/python3.8/site-packages/selenium/webdriver/remote/webdriver.py:378\u001b[0m, in \u001b[0;36mWebDriver.start_session\u001b[0;34m(self, capabilities, browser_profile)\u001b[0m\n\u001b[1;32m    376\u001b[0m w3c_caps \u001b[39m=\u001b[39m _make_w3c_caps(capabilities)\n\u001b[1;32m    377\u001b[0m parameters \u001b[39m=\u001b[39m {\u001b[39m\"\u001b[39m\u001b[39mcapabilities\u001b[39m\u001b[39m\"\u001b[39m: w3c_caps}\n\u001b[0;32m--> 378\u001b[0m response \u001b[39m=\u001b[39m \u001b[39mself\u001b[39;49m\u001b[39m.\u001b[39;49mexecute(Command\u001b[39m.\u001b[39;49mNEW_SESSION, parameters)\n\u001b[1;32m    379\u001b[0m \u001b[39mif\u001b[39;00m \u001b[39m\"\u001b[39m\u001b[39msessionId\u001b[39m\u001b[39m\"\u001b[39m \u001b[39mnot\u001b[39;00m \u001b[39min\u001b[39;00m response:\n\u001b[1;32m    380\u001b[0m     response \u001b[39m=\u001b[39m response[\u001b[39m\"\u001b[39m\u001b[39mvalue\u001b[39m\u001b[39m\"\u001b[39m]\n",
      "File \u001b[0;32m~/.local/lib/python3.8/site-packages/selenium/webdriver/remote/webdriver.py:440\u001b[0m, in \u001b[0;36mWebDriver.execute\u001b[0;34m(self, driver_command, params)\u001b[0m\n\u001b[1;32m    438\u001b[0m response \u001b[39m=\u001b[39m \u001b[39mself\u001b[39m\u001b[39m.\u001b[39mcommand_executor\u001b[39m.\u001b[39mexecute(driver_command, params)\n\u001b[1;32m    439\u001b[0m \u001b[39mif\u001b[39;00m response:\n\u001b[0;32m--> 440\u001b[0m     \u001b[39mself\u001b[39;49m\u001b[39m.\u001b[39;49merror_handler\u001b[39m.\u001b[39;49mcheck_response(response)\n\u001b[1;32m    441\u001b[0m     response[\u001b[39m\"\u001b[39m\u001b[39mvalue\u001b[39m\u001b[39m\"\u001b[39m] \u001b[39m=\u001b[39m \u001b[39mself\u001b[39m\u001b[39m.\u001b[39m_unwrap_value(response\u001b[39m.\u001b[39mget(\u001b[39m\"\u001b[39m\u001b[39mvalue\u001b[39m\u001b[39m\"\u001b[39m, \u001b[39mNone\u001b[39;00m))\n\u001b[1;32m    442\u001b[0m     \u001b[39mreturn\u001b[39;00m response\n",
      "File \u001b[0;32m~/.local/lib/python3.8/site-packages/selenium/webdriver/remote/errorhandler.py:245\u001b[0m, in \u001b[0;36mErrorHandler.check_response\u001b[0;34m(self, response)\u001b[0m\n\u001b[1;32m    243\u001b[0m         alert_text \u001b[39m=\u001b[39m value[\u001b[39m\"\u001b[39m\u001b[39malert\u001b[39m\u001b[39m\"\u001b[39m]\u001b[39m.\u001b[39mget(\u001b[39m\"\u001b[39m\u001b[39mtext\u001b[39m\u001b[39m\"\u001b[39m)\n\u001b[1;32m    244\u001b[0m     \u001b[39mraise\u001b[39;00m exception_class(message, screen, stacktrace, alert_text)  \u001b[39m# type: ignore[call-arg]  # mypy is not smart enough here\u001b[39;00m\n\u001b[0;32m--> 245\u001b[0m \u001b[39mraise\u001b[39;00m exception_class(message, screen, stacktrace)\n",
      "\u001b[0;31mWebDriverException\u001b[0m: Message: unknown error: Chrome failed to start: crashed.\n  (unknown error: DevToolsActivePort file doesn't exist)\n  (The process started from chrome location /usr/bin/google-chrome is no longer running, so ChromeDriver is assuming that Chrome has crashed.)\nStacktrace:\n#0 0x0040006a7783 <unknown>\n#1 0x0040003d3917 <unknown>\n#2 0x0040003fe978 <unknown>\n#3 0x0040003fb9c9 <unknown>\n#4 0x00400043ba13 <unknown>\n#5 0x00400043b15f <unknown>\n#6 0x004000432bd3 <unknown>\n#7 0x004000406a7b <unknown>\n#8 0x00400040781e <unknown>\n#9 0x004000668e98 <unknown>\n#10 0x00400066cd67 <unknown>\n#11 0x00400067732c <unknown>\n#12 0x00400066d993 <unknown>\n#13 0x00400063c827 <unknown>\n#14 0x0040006918a8 <unknown>\n#15 0x004000691a36 <unknown>\n#16 0x0040006a05f3 <unknown>\n#17 0x004002552609 start_thread\n"
     ]
    }
   ],
   "source": [
    "# Set up Chrome options\n",
    "chrome_options = Options()\n",
    "chrome_options.add_argument(\"--headless\")  # Ensure GUI is off\n",
    "chrome_options.add_argument(\"--no-sandbox\")\n",
    "chrome_options.add_argument(\"--disable-dev-shm-usage\")\n",
    "\n",
    "# Set up the webdriver\n",
    "# s=Service(ChromeDriverManager().install())\n",
    "driver = webdriver.Chrome(options=chrome_options)"
   ]
  },
  {
   "cell_type": "code",
   "execution_count": null,
   "metadata": {},
   "outputs": [],
   "source": []
  }
 ],
 "metadata": {
  "kernelspec": {
   "display_name": "chainlink",
   "language": "python",
   "name": "python3"
  },
  "language_info": {
   "codemirror_mode": {
    "name": "ipython",
    "version": 3
   },
   "file_extension": ".py",
   "mimetype": "text/x-python",
   "name": "python",
   "nbconvert_exporter": "python",
   "pygments_lexer": "ipython3",
   "version": "3.8.10"
  },
  "orig_nbformat": 4
 },
 "nbformat": 4,
 "nbformat_minor": 2
}
