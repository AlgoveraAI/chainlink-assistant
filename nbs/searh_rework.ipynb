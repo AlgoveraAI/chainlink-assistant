{
 "cells": [
  {
   "cell_type": "code",
   "execution_count": 1,
   "metadata": {},
   "outputs": [
    {
     "name": "stderr",
     "output_type": "stream",
     "text": [
      "[nltk_data] Downloading package stopwords to\n",
      "[nltk_data]     /Users/arshath/nltk_data...\n",
      "[nltk_data]   Package stopwords is already up-to-date!\n"
     ]
    },
    {
     "data": {
      "text/plain": [
       "True"
      ]
     },
     "execution_count": 1,
     "metadata": {},
     "output_type": "execute_result"
    }
   ],
   "source": [
    "import sys\n",
    "sys.path.append('../')\n",
    "\n",
    "import pickle\n",
    "import numpy as np\n",
    "import pandas as pd\n",
    "\n",
    "from langchain.docstore.document import Document\n",
    "from nltk.corpus import stopwords\n",
    "import nltk\n",
    "nltk.download('stopwords')\n"
   ]
  },
  {
   "cell_type": "code",
   "execution_count": 8,
   "metadata": {},
   "outputs": [],
   "source": [
    "priority_words = [\n",
    "    'cache', 'gold', 'reserve', 'reserves', 'efil', 'gbpt por', 'hbtc por', 'tusd', 'stbt por', 'swell eth por', 'hope por',\n",
    "    'mutant ape', 'yacht', 'world of women', 'cryptoadz', 'bored ape', 'veefriends', 'personal consumption', 'sushi por',\n",
    "    'doodles', 'clonex', 'cool cats', 'cryptopunks', 'cryptoadz', 'cryptokitties', 'cryptopunks', 'cryptoadz', 'cryptoadz',\n",
    "    'moonbirds', 'beanz official', 'pudgy penguins', 'otherdeed for otherside', 'nft blue chip', 'por', 'btc.b', 'usdt.e', 'usdc.e',\n",
    "    'link.e', 'dai.e', 'aave.e'\n",
    "\n",
    "]\n",
    "\n",
    "# remove duplicates\n",
    "priority_words = list(set(priority_words))\n",
    "\n"
   ]
  },
  {
   "cell_type": "code",
   "execution_count": 9,
   "metadata": {},
   "outputs": [],
   "source": [
    "with open('../data/priority_words.pkl', 'wb') as f:\n",
    "    pickle.dump(list(priority_words), f)"
   ]
  },
  {
   "cell_type": "markdown",
   "metadata": {},
   "source": [
    "### Test"
   ]
  },
  {
   "cell_type": "code",
   "execution_count": 10,
   "metadata": {},
   "outputs": [],
   "source": [
    "from chat.utils import get_search_retriever"
   ]
  },
  {
   "cell_type": "code",
   "execution_count": 11,
   "metadata": {},
   "outputs": [],
   "source": [
    "ret = get_search_retriever()"
   ]
  },
  {
   "cell_type": "code",
   "execution_count": 13,
   "metadata": {},
   "outputs": [
    {
     "name": "stderr",
     "output_type": "stream",
     "text": [
      "2023-10-03 21:41:55,113 - search.search - INFO - Query: cache gold\n",
      "INFO:search.search:Query: cache gold\n"
     ]
    },
    {
     "data": {
      "text/plain": [
       "[{'title': 'PAXG / ETH on Ethereum Mainnet',\n",
       "  'description': 'Details for PAXG / ETH on Ethereum Mainnet',\n",
       "  'source_type': 'data',\n",
       "  'source': 'https://data.chain.link/ethereum/mainnet/crypto-eth/paxg-eth'},\n",
       " {'title': 'CACHE Gold Reserves on Ethereum Mainnet',\n",
       "  'description': 'Details for CACHE Gold Reserves on Ethereum Mainnet',\n",
       "  'source_type': 'data',\n",
       "  'source': 'https://data.chain.link/ethereum/mainnet/reserves/cachegold-por-usd'},\n",
       " {'title': 'XAU / USD on Ethereum Mainnet',\n",
       "  'description': 'Details for XAU / USD on Ethereum Mainnet',\n",
       "  'source_type': 'data',\n",
       "  'source': 'https://data.chain.link/ethereum/mainnet/commodities/xau-usd'},\n",
       " {'source': 'https://chain.link/case-studies/cache-gold/',\n",
       "  'title': 'CACHE Gold Uses Chainlink Proof of Reserve To Monitor Physical Gold Reserves',\n",
       "  'description': 'CACHE Gold is using Chainlink Proof of Reserve to ensure transparency and monitor its physical gold reserves.',\n",
       "  'source_type': 'main'},\n",
       " {'source': 'https://chain.link/techtalks/tokenizing-gold/',\n",
       "  'title': 'Tokenizing Gold With Chainlink Proof of Reserve',\n",
       "  'description': 'Chainlink Proof of Reserve is being used to tokenize gold, ensuring transparency and security.',\n",
       "  'source_type': 'main'},\n",
       " {'source': 'https://chain.link/techtalks/tokenization/',\n",
       "  'title': 'Tokenizing Real-World Assets On-Chain',\n",
       "  'description': 'Tokenizing real-world assets on the blockchain.',\n",
       "  'source_type': 'main'},\n",
       " {'source': 'https://www.youtube.com/watch?v=tPURU6Sq2yo',\n",
       "  'source_type': 'video',\n",
       "  'title': 'Tokenizing Gold With Chainlink Proof of Reserve | Chainlink Tech Talk #15',\n",
       "  'description': 'The discussion in the Chainlink Tech Talk 15 revolves around tokenized assets, specifically focusing on Cash Gold Token and its collaboration with Chainlink Proof of Reserve.'},\n",
       " {'source': 'https://chain.link/education-hub/proof-of-reserves/',\n",
       "  'title': 'What Are Proof of Reserves?',\n",
       "  'description': 'Proof of Reserves is a method used by financial institutions to prove that they hold the required amount of assets to cover their liabilities.',\n",
       "  'source_type': 'main'},\n",
       " {'source': 'https://docs.chain.link/data-feeds/proof-of-reserve/addresses/',\n",
       "  'source_type': 'technical_document',\n",
       "  'title': 'Proof of Reserve Feed Addresses',\n",
       "  'description': 'Addresses for verifying the proof of reserve on Ethereum Mainnet and Goerli Testnet.'},\n",
       " {'source': 'https://docs.chain.link/chainlink-nodes/v1/node-config/',\n",
       "  'source_type': 'technical_document',\n",
       "  'title': 'Node Config (TOML)',\n",
       "  'description': 'This is a configuration file for a Node application, with various settings and options listed.'},\n",
       " {'source': 'https://docs.chain.link/ccip/architecture/',\n",
       "  'source_type': 'technical_document',\n",
       "  'title': 'CCIP Architecture and Billing',\n",
       "  'description': 'This article provides an overview of CCIP architecture and billing, including terminology, components, fees, and rate limits.'},\n",
       " {'source': 'https://docs.chain.link/vrf/v2/subscription/ui/',\n",
       "  'source_type': 'technical_document',\n",
       "  'title': 'Subscription Manager User Interface',\n",
       "  'description': 'This article provides an overview of the Subscription Manager User Interface and its various features.'},\n",
       " {'source': 'https://docs.chain.link/chainlink-functions/getting-started/',\n",
       "  'source_type': 'technical_document',\n",
       "  'title': 'Getting Started',\n",
       "  'description': 'A guide on how to get started with setting up your environment and running example requests.'},\n",
       " {'source': 'https://docs.chain.link/chainlink-functions/resources/service-limits/',\n",
       "  'source_type': 'technical_document',\n",
       "  'title': 'Chainlink Functions Service Limits',\n",
       "  'description': 'Chainlink has service limits for functions, which are used to prevent abuse and ensure fair usage.'},\n",
       " {'source': 'https://docs.chain.link/chainlink-functions/resources/subscriptions/',\n",
       "  'source_type': 'technical_document',\n",
       "  'title': 'Managing Subscriptions',\n",
       "  'description': 'This article provides an overview of managing subscriptions, including creating, funding, and canceling subscriptions.'},\n",
       " {'source': 'https://docs.chain.link/chainlink-functions/resources/billing/',\n",
       "  'source_type': 'technical_document',\n",
       "  'title': 'Chainlink Functions Billing',\n",
       "  'description': 'This article provides an overview of Chainlink Functions billing, including concepts, cost simulation, cost calculation, and fees.'},\n",
       " {'source': 'https://docs.chain.link/chainlink-functions/resources/concepts/',\n",
       "  'source_type': 'technical_document',\n",
       "  'title': 'Chainlink Functions Concepts',\n",
       "  'description': 'An overview of Chainlink Functions and how to request and receive data from the decentralized oracle network.'},\n",
       " {'source': 'https://docs.chain.link/chainlink-functions/resources/architecture/',\n",
       "  'source_type': 'technical_document',\n",
       "  'title': 'Chainlink Functions Architecture',\n",
       "  'description': 'This article provides an overview of the architecture and functions of Chainlink, including data request, subscription management, and ownership transfer.'},\n",
       " {'source': 'https://docs.chain.link/chainlink-functions/resources/add-functions-to-projects/',\n",
       "  'source_type': 'technical_document',\n",
       "  'title': 'Adding Chainlink Functions to an Existing Project',\n",
       "  'description': 'This article provides a step-by-step guide on how to add Chainlink functions to an existing project.'},\n",
       " {'source': 'https://docs.chain.link/chainlink-functions/resources/',\n",
       "  'source_type': 'technical_document',\n",
       "  'title': 'Chainlink Functions Resources',\n",
       "  'description': 'A collection of resources for understanding and using Chainlink functions.'},\n",
       " {'source': 'https://blog.chain.link/chainlink-staking-v0-2-overview/',\n",
       "  'source_type': 'blog',\n",
       "  'title': 'Introducing the Chainlink Staking Platform: v0.2 Upgrade and Launch Details',\n",
       "  'description': 'Chainlink is launching its staking platform to enhance the security of its network and reward participants.'}]"
      ]
     },
     "execution_count": 13,
     "metadata": {},
     "output_type": "execute_result"
    }
   ],
   "source": [
    "ret.get_relevant_documents('cache gold')"
   ]
  },
  {
   "cell_type": "code",
   "execution_count": null,
   "metadata": {},
   "outputs": [],
   "source": []
  }
 ],
 "metadata": {
  "kernelspec": {
   "display_name": "chainlink",
   "language": "python",
   "name": "python3"
  },
  "language_info": {
   "codemirror_mode": {
    "name": "ipython",
    "version": 3
   },
   "file_extension": ".py",
   "mimetype": "text/x-python",
   "name": "python",
   "nbconvert_exporter": "python",
   "pygments_lexer": "ipython3",
   "version": "3.10.12"
  },
  "orig_nbformat": 4
 },
 "nbformat": 4,
 "nbformat_minor": 2
}
