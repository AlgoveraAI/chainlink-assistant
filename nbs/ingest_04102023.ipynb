{
 "cells": [
  {
   "cell_type": "code",
   "execution_count": 1,
   "metadata": {},
   "outputs": [
    {
     "name": "stderr",
     "output_type": "stream",
     "text": [
      "2023-10-25 07:47:35,908 - config - WARNING - WS_HOST not set. Defaulting to ws://localhost:8000\n",
      "2023-10-25 07:47:35,908 - config - WARNING - HTTP_HOST not set. Defaulting to http://localhost:8000\n"
     ]
    }
   ],
   "source": [
    "import sys\n",
    "\n",
    "sys.path.append('../')\n",
    "\n",
    "import os\n",
    "import faiss\n",
    "import pickle\n",
    "from chat.utils import CustomeSplitter\n",
    "from langchain.text_splitter import RecursiveCharacterTextSplitter\n",
    "from langchain.vectorstores import FAISS\n",
    "from langchain.embeddings import OpenAIEmbeddings\n",
    "DATA_DIR = '/Users/arshath/play/chainlink-assistant/data'\n",
    "\n",
    "os.environ['DATA_DIR'] = DATA_DIR"
   ]
  },
  {
   "cell_type": "code",
   "execution_count": 17,
   "metadata": {},
   "outputs": [],
   "source": [
    "with open('/Users/arshath/play/chainlink-assistant/data/chain_link_main_documents.pkl', 'rb') as f:\n",
    "    main_documents = pickle.load(f)\n",
    "\n",
    "with open('/Users/arshath/play/chainlink-assistant/data/blog_documents.pkl', 'rb') as f:\n",
    "    blog_documents = pickle.load(f)"
   ]
  },
  {
   "cell_type": "code",
   "execution_count": 18,
   "metadata": {},
   "outputs": [],
   "source": [
    "filtered_main_documents = []\n",
    "for doc in main_documents:\n",
    "    if not 'https://chain.link/terms' in doc.metadata['source']:\n",
    "        filtered_main_documents.append(doc)"
   ]
  },
  {
   "cell_type": "code",
   "execution_count": 19,
   "metadata": {},
   "outputs": [],
   "source": [
    "for doc in filtered_main_documents:\n",
    "    if 'https://chain.link/terms' in doc.metadata['source']:\n",
    "        print(doc.metadata['source'])"
   ]
  },
  {
   "cell_type": "code",
   "execution_count": 20,
   "metadata": {},
   "outputs": [],
   "source": [
    "with open('/Users/arshath/play/chainlink-assistant/data/chain_link_main_documents.pkl', 'wb') as f:\n",
    "    pickle.dump(filtered_main_documents, f)"
   ]
  },
  {
   "cell_type": "code",
   "execution_count": 21,
   "metadata": {},
   "outputs": [],
   "source": [
    "with open('/Users/arshath/play/chainlink-assistant/data/tech_documents.pkl', 'rb') as f:\n",
    "    tech_documents = pickle.load(f)\n",
    "\n",
    "with open('/Users/arshath/play/chainlink-assistant/data/blog_documents.pkl', 'rb') as f:\n",
    "    blog_documents = pickle.load(f)\n",
    "\n",
    "with open('/Users/arshath/play/chainlink-assistant/data/chain_link_main_documents.pkl', 'rb') as f:\n",
    "    main_documents = pickle.load(f)\n",
    "\n",
    "with open('/Users/arshath/play/chainlink-assistant/data/chain_link_you_tube_documents.pkl', 'rb') as f:\n",
    "    you_tube_documents = pickle.load(f)\n",
    "\n",
    "with open('/Users/arshath/play/chainlink-assistant/data/education_documents.pkl', 'rb') as f:\n",
    "    education_documents = pickle.load(f)\n",
    "\n",
    "with open('/Users/arshath/play/chainlink-assistant/data/stackoverflow_documents.pkl', 'rb') as f:\n",
    "    stackoverflow_documents = pickle.load(f)\n",
    "\n",
    "with open('/Users/arshath/play/chainlink-assistant/data/data_documents.pkl', 'rb') as f:\n",
    "    data_documents = pickle.load(f)"
   ]
  },
  {
   "cell_type": "code",
   "execution_count": 22,
   "metadata": {},
   "outputs": [],
   "source": [
    "# Create all documents\n",
    "\n",
    "all_documents = []\n",
    "all_documents.extend(tech_documents)\n",
    "all_documents.extend(blog_documents)\n",
    "all_documents.extend(main_documents)\n",
    "all_documents.extend(you_tube_documents)\n",
    "all_documents.extend(education_documents)\n",
    "all_documents.extend(stackoverflow_documents)\n",
    "\n",
    "with open('/Users/arshath/play/chainlink-assistant/data/documents.pkl', 'wb') as f:\n",
    "    pickle.dump(all_documents, f)"
   ]
  },
  {
   "cell_type": "code",
   "execution_count": 23,
   "metadata": {},
   "outputs": [
    {
     "name": "stderr",
     "output_type": "stream",
     "text": [
      "WARNING:urllib3.connectionpool:Retrying (Retry(total=1, connect=None, read=None, redirect=None, status=None)) after connection broken by 'SSLError(SSLEOFError(8, 'EOF occurred in violation of protocol (_ssl.c:2426)'))': /v1/embeddings\n"
     ]
    }
   ],
   "source": [
    "# Split documents into chunks for 16k model\n",
    "full_doc_splitter = CustomeSplitter()\n",
    "chunked_full_documents = full_doc_splitter.split(all_documents)\n",
    "\n",
    "splitter = RecursiveCharacterTextSplitter(chunk_size=1200, chunk_overlap=50)\n",
    "split_docs = splitter.split_documents(all_documents)\n",
    "\n",
    "# Create vectorstore for all documents\n",
    "vectorstore_all = FAISS.from_documents(split_docs, embedding=OpenAIEmbeddings())\n",
    "\n",
    "# Split documents into chunks using datadocs\n",
    "split_docs_data = splitter.split_documents(data_documents)\n",
    "\n",
    "# Create vectorstore for datadocs\n",
    "vectorstore_data = FAISS.from_documents(\n",
    "    split_docs_data, embedding=OpenAIEmbeddings()\n",
    ")\n",
    "\n",
    "# Save vectorstores to disk\n",
    "faiss.write_index(vectorstore_all.index, f\"{DATA_DIR}/docs_all.index\")\n",
    "vectorstore_all.index = None\n",
    "with open(f\"{DATA_DIR}/faiss_store_all.pkl\", \"wb\") as f:\n",
    "    pickle.dump(vectorstore_all, f)\n",
    "\n",
    "# Save vectorstore_data\n",
    "faiss.write_index(vectorstore_data.index, f\"{DATA_DIR}/docs_data.index\")\n",
    "vectorstore_data.index = None\n",
    "with open(f\"{DATA_DIR}/faiss_store_data.pkl\", \"wb\") as f:\n",
    "    pickle.dump(vectorstore_data, f)"
   ]
  },
  {
   "cell_type": "markdown",
   "metadata": {},
   "source": [
    "### Test new search\n"
   ]
  },
  {
   "cell_type": "code",
   "execution_count": 6,
   "metadata": {},
   "outputs": [],
   "source": [
    "from chat.utils import get_search_retriever"
   ]
  },
  {
   "cell_type": "code",
   "execution_count": 7,
   "metadata": {},
   "outputs": [],
   "source": [
    "ret = get_search_retriever()"
   ]
  },
  {
   "cell_type": "code",
   "execution_count": 8,
   "metadata": {},
   "outputs": [
    {
     "name": "stderr",
     "output_type": "stream",
     "text": [
      "2023-10-13 11:14:06,320 - search.search - INFO - Query: test\n",
      "INFO:search.search:Query: test\n"
     ]
    }
   ],
   "source": [
    "res = ret.get_relevant_documents(\"test\")"
   ]
  },
  {
   "cell_type": "code",
   "execution_count": 9,
   "metadata": {},
   "outputs": [
    {
     "data": {
      "text/plain": [
       "{'source': 'https://blog.chain.link/hardhat-starter-kit-typescript/',\n",
       " 'source_type': 'blog',\n",
       " 'title': 'The Chainlink Hardhat Starter Kit Now Supports TypeScript',\n",
       " 'description': 'The Chainlink Hardhat Starter Kit now supports TypeScript, offering new features for developers.'}"
      ]
     },
     "execution_count": 9,
     "metadata": {},
     "output_type": "execute_result"
    }
   ],
   "source": [
    "res[0]"
   ]
  },
  {
   "cell_type": "code",
   "execution_count": 10,
   "metadata": {},
   "outputs": [
    {
     "data": {
      "text/plain": [
       "{'source': 'https://blog.chain.link/testing-chainlink-smart-contracts/',\n",
       " 'source_type': 'blog',\n",
       " 'title': 'Testing Chainlink Smart Contracts',\n",
       " 'description': 'Developers have a couple of options for writing automated tests for Chainlink smart contracts.'}"
      ]
     },
     "execution_count": 10,
     "metadata": {},
     "output_type": "execute_result"
    }
   ],
   "source": [
    "res[1]"
   ]
  },
  {
   "cell_type": "code",
   "execution_count": 11,
   "metadata": {},
   "outputs": [
    {
     "data": {
      "text/plain": [
       "{'source': 'https://blog.chain.link/how-to-create-an-nft-game/',\n",
       " 'source_type': 'blog',\n",
       " 'title': 'How To Create an NFT Game',\n",
       " 'description': 'The tutorial explains how to create a blockchain-based game using NFTs.'}"
      ]
     },
     "execution_count": 11,
     "metadata": {},
     "output_type": "execute_result"
    }
   ],
   "source": [
    "res[2]"
   ]
  },
  {
   "cell_type": "code",
   "execution_count": 12,
   "metadata": {},
   "outputs": [
    {
     "data": {
      "text/plain": [
       "{'source': 'https://blog.chain.link/timelock-smart-contracts/',\n",
       " 'source_type': 'blog',\n",
       " 'title': 'How To Build Timelock Smart Contracts',\n",
       " 'description': 'Learn how to build timelock smart contracts that enable queueing ERC-20 token minting into a time-based window.'}"
      ]
     },
     "execution_count": 12,
     "metadata": {},
     "output_type": "execute_result"
    }
   ],
   "source": [
    "res[3]"
   ]
  },
  {
   "cell_type": "code",
   "execution_count": 13,
   "metadata": {},
   "outputs": [
    {
     "data": {
      "text/plain": [
       "{'source': 'https://blog.chain.link/how-to-build-a-crypto-game/',\n",
       " 'source_type': 'blog',\n",
       " 'title': 'How To Build A Crypto Game',\n",
       " 'description': 'Learn how to build and deploy a full-stack dApp crypto game on the Ethereum Goerli test network.'}"
      ]
     },
     "execution_count": 13,
     "metadata": {},
     "output_type": "execute_result"
    }
   ],
   "source": [
    "res[4]"
   ]
  },
  {
   "cell_type": "code",
   "execution_count": 14,
   "metadata": {},
   "outputs": [
    {
     "data": {
      "text/plain": [
       "{'source': 'https://docs.chain.link/vrf/v2/subscription/examples/test-locally/',\n",
       " 'source_type': 'technical_document',\n",
       " 'title': 'Local testing using a Mock contract',\n",
       " 'description': 'The article discusses local testing using a mock contract for the VRF v2 subscription method.'}"
      ]
     },
     "execution_count": 14,
     "metadata": {},
     "output_type": "execute_result"
    }
   ],
   "source": [
    "res[5]"
   ]
  },
  {
   "cell_type": "code",
   "execution_count": 15,
   "metadata": {},
   "outputs": [
    {
     "data": {
      "text/plain": [
       "{'source': 'https://docs.chain.link/chainlink-automation/compatible-contract-best-practice/',\n",
       " 'source_type': 'technical_document',\n",
       " 'title': 'Automation Best Practices',\n",
       " 'description': 'Best practices for using Chainlink Automation to create secure and reliable Automation-compatible contracts.'}"
      ]
     },
     "execution_count": 15,
     "metadata": {},
     "output_type": "execute_result"
    }
   ],
   "source": [
    "res[6]"
   ]
  },
  {
   "cell_type": "code",
   "execution_count": 35,
   "metadata": {},
   "outputs": [
    {
     "data": {
      "text/plain": [
       "{'source': 'https://docs.chain.link/ccip/test-tokens/',\n",
       " 'source_type': 'technical_document',\n",
       " 'title': 'CCIP Test Tokens',\n",
       " 'description': 'CCIP supports two test tokens for thorough application testing on testnet.'}"
      ]
     },
     "execution_count": 35,
     "metadata": {},
     "output_type": "execute_result"
    }
   ],
   "source": [
    "res[7]"
   ]
  },
  {
   "cell_type": "code",
   "execution_count": 36,
   "metadata": {},
   "outputs": [
    {
     "data": {
      "text/plain": [
       "{'source': 'https://docs.chain.link/vrf/v2/direct-funding/examples/test-locally/',\n",
       " 'source_type': 'technical_document',\n",
       " 'title': 'Local testing using a Mock contract',\n",
       " 'description': 'The article discusses local testing using a mock contract for the VRF v2 guide.'}"
      ]
     },
     "execution_count": 36,
     "metadata": {},
     "output_type": "execute_result"
    }
   ],
   "source": [
    "res[8]"
   ]
  },
  {
   "cell_type": "code",
   "execution_count": 37,
   "metadata": {},
   "outputs": [
    {
     "data": {
      "text/plain": [
       "{'source': 'https://docs.chain.link/getting-started/deploy-your-first-contract?parent=dataStreams/',\n",
       " 'source_type': 'technical_document',\n",
       " 'title': 'You can write your first smart contract and run it in your browser without any\\nknowledge about Ethereum or blockchains. This guide shows you how easy it is\\nto develop smart contracts using the [Solidity\\nlanguage](https://soliditylang.org/), a [MetaMask wallet](https://metamask.io)\\nand the [Remix Development Environment](https://remix.ethereum.org/). You can\\nuse all of these tools in your browser for free with no signup required.',\n",
       " 'description': 'Develop smart contracts using Solidity language, MetaMask wallet, and Remix Development Environment in the browser.'}"
      ]
     },
     "execution_count": 37,
     "metadata": {},
     "output_type": "execute_result"
    }
   ],
   "source": [
    "res[9]"
   ]
  },
  {
   "cell_type": "code",
   "execution_count": 38,
   "metadata": {},
   "outputs": [
    {
     "data": {
      "text/plain": [
       "{'source': 'https://docs.chain.link/ccip/best-practices/',\n",
       " 'source_type': 'technical_document',\n",
       " 'title': 'CCIP Best Practices',\n",
       " 'description': 'Best practices for deploying secure and reliable cross-chain dApps on mainnet.'}"
      ]
     },
     "execution_count": 38,
     "metadata": {},
     "output_type": "execute_result"
    }
   ],
   "source": [
    "res[10]"
   ]
  },
  {
   "cell_type": "code",
   "execution_count": 39,
   "metadata": {},
   "outputs": [
    {
     "data": {
      "text/plain": [
       "{'source': 'https://docs.chain.link/chainlink-nodes/external-initiators/external-initiators-in-nodes/',\n",
       " 'source_type': 'technical_document',\n",
       " 'title': 'Adding External Initiators to Nodes',\n",
       " 'description': 'This article discusses the process of adding external initiators to nodes in a network.'}"
      ]
     },
     "execution_count": 39,
     "metadata": {},
     "output_type": "execute_result"
    }
   ],
   "source": [
    "res[11]"
   ]
  },
  {
   "cell_type": "code",
   "execution_count": 40,
   "metadata": {},
   "outputs": [
    {
     "data": {
      "text/plain": [
       "{'source': 'https://docs.chain.link/any-api/find-oracle/',\n",
       " 'source_type': 'technical_document',\n",
       " 'title': 'Find Existing Jobs',\n",
       " 'description': 'This page provides guidance on finding an Oracle Job for your API call.'}"
      ]
     },
     "execution_count": 40,
     "metadata": {},
     "output_type": "execute_result"
    }
   ],
   "source": [
    "res[12]"
   ]
  },
  {
   "cell_type": "code",
   "execution_count": 41,
   "metadata": {},
   "outputs": [
    {
     "data": {
      "text/plain": [
       "{'source': 'https://docs.chain.link/chainlink-nodes/external-adapters/node-operators/',\n",
       " 'source_type': 'technical_document',\n",
       " 'title': 'Bridges: Adding External Adapters to Nodes',\n",
       " 'description': 'Adding external adapters to Chainlink nodes is done by creating a bridge in the Node Operators Interface.'}"
      ]
     },
     "execution_count": 41,
     "metadata": {},
     "output_type": "execute_result"
    }
   ],
   "source": [
    "res[13]"
   ]
  },
  {
   "cell_type": "code",
   "execution_count": 42,
   "metadata": {},
   "outputs": [
    {
     "data": {
      "text/plain": [
       "{'source': 'https://docs.chain.link/getting-started/conceptual-overview/',\n",
       " 'source_type': 'technical_document',\n",
       " 'title': 'Smart Contract Overview',\n",
       " 'description': 'An overview of smart contract development and oracle networks.'}"
      ]
     },
     "execution_count": 42,
     "metadata": {},
     "output_type": "execute_result"
    }
   ],
   "source": [
    "res[14]"
   ]
  },
  {
   "cell_type": "code",
   "execution_count": 43,
   "metadata": {},
   "outputs": [
    {
     "data": {
      "text/plain": [
       "{'source': 'https://docs.chain.link/data-feeds/solana/',\n",
       " 'source_type': 'technical_document',\n",
       " 'title': 'Data Feeds on Solana',\n",
       " 'description': 'Chainlink provides data feeds on the Solana network using Off-Chain Reporting (OCR) to aggregate data from centralized and decentralized exchanges, with no dependencies on external blockchain networks like Ethereum.'}"
      ]
     },
     "execution_count": 43,
     "metadata": {},
     "output_type": "execute_result"
    }
   ],
   "source": [
    "res[15]"
   ]
  },
  {
   "cell_type": "code",
   "execution_count": 44,
   "metadata": {},
   "outputs": [
    {
     "data": {
      "text/plain": [
       "{'source': 'https://docs.chain.link/chainlink-automation/register-upkeep-in-contract/',\n",
       " 'source_type': 'technical_document',\n",
       " 'title': 'Register Upkeeps Programmatically',\n",
       " 'description': 'A guide on how to programmatically register upkeeps within a smart contract for interaction and management.'}"
      ]
     },
     "execution_count": 44,
     "metadata": {},
     "output_type": "execute_result"
    }
   ],
   "source": [
    "res[16]"
   ]
  },
  {
   "cell_type": "code",
   "execution_count": 45,
   "metadata": {},
   "outputs": [
    {
     "data": {
      "text/plain": [
       "{'source': 'https://docs.chain.link/resources/create-a-chainlinked-project/',\n",
       " 'source_type': 'technical_document',\n",
       " 'title': 'Install Frameworks',\n",
       " 'description': 'This context is too vague to provide a specific summary.'}"
      ]
     },
     "execution_count": 45,
     "metadata": {},
     "output_type": "execute_result"
    }
   ],
   "source": [
    "res[17]"
   ]
  },
  {
   "cell_type": "code",
   "execution_count": 46,
   "metadata": {},
   "outputs": [
    {
     "data": {
      "text/plain": [
       "{'source': 'https://docs.chain.link/resources/hackathon-resources/',\n",
       " 'source_type': 'technical_document',\n",
       " 'title': 'Hackathon Resources',\n",
       " 'description': 'This article provides resources for hackathons.'}"
      ]
     },
     "execution_count": 46,
     "metadata": {},
     "output_type": "execute_result"
    }
   ],
   "source": [
    "res[18]"
   ]
  },
  {
   "cell_type": "code",
   "execution_count": 33,
   "metadata": {},
   "outputs": [
    {
     "name": "stdout",
     "output_type": "stream",
     "text": [
      "{'source': 'https://blog.chain.link/how-to-verify-a-smart-contract-on-etherscan/', 'source_type': 'blog', 'title': 'How To Create an NFT Game', 'description': 'The tutorial explains how to create a blockchain-based game using NFTs.'}\n",
      "{'source': 'https://blog.chain.link/announcing-the-winner-of-oracle-olympics-1/', 'source_type': 'blog', 'title': 'How To Create an NFT Game', 'description': 'The tutorial explains how to create a blockchain-based game using NFTs.'}\n",
      "{'source': 'https://blog.chain.link/how-to-create-an-nft-game/', 'source_type': 'blog', 'title': 'Announcing the Chainlink Fall 2021 Hackathon Winners', 'description': 'Chainlink Fall 2021 Hackathon winners announced, with over 7,800 signups and $550k in prizes awarded.'}\n",
      "{'source': 'https://blog.chain.link/chainlink-fall-2021-hackathon-winners/', 'source_type': 'blog', 'title': 'CCIP Officially Launches on Mainnet', 'description': \"Chainlink's Cross-Chain Interoperability Protocol (CCIP) has launched on mainnet with support from various blockchains and DeFi protocols.\"}\n",
      "{'source': 'https://blog.chain.link/ethonline-2020-chainlink-hackathon-winners/', 'source_type': 'blog', 'title': 'Learn Solidity, Full Stack Web3, Javascript, and Blockchain Development', 'description': 'A new course on full-stack Web3, Solidity, and blockchain development is now available on freeCodeCamp.'}\n",
      "{'source': 'https://blog.chain.link/ccip-mainnet-early-access/', 'source_type': 'blog', 'title': 'Learn Solidity, Full Stack Web3, Javascript, and Blockchain Development', 'description': 'A new course on full-stack Web3, Solidity, and blockchain development is now available on freeCodeCamp.'}\n",
      "{'source': 'https://blog.chain.link/learn-blockchain-full-stack-web3-javascript-smart-contract-development/', 'source_type': 'blog', 'title': 'How to Become a Smart Contract Developer', 'description': 'Becoming a smart contract developer offers attractive career prospects due to the transformative impact of the technology and high demand in the talent market.'}\n",
      "{'source': 'https://blog.chain.link/how-to-become-a-smart-contract-developer/', 'source_type': 'blog', 'title': 'The Chainlink Fall 2022 Hackathon: Learn. Build. Win.', 'description': 'Registration is open for the Chainlink Fall 2022 Hackathon, with no participation fee.'}\n",
      "{'source': 'https://blog.chain.link/ethodyssey-hackathon-2021-winners/', 'source_type': 'blog', 'title': 'Build a DeFi Call Option Exchange With Chainlink Price Feeds', 'description': 'This article explains how to use Chainlink Price Feeds to create a decentralized options exchange for call options in Solidity on the Ethereum mainnet.'}\n",
      "{'source': 'https://blog.chain.link/chainlink-fall-2022-hackathon/', 'source_type': 'blog', 'title': 'Build a DeFi Call Option Exchange With Chainlink Price Feeds', 'description': 'This article explains how to use Chainlink Price Feeds to create a decentralized options exchange for call options in Solidity on the Ethereum mainnet.'}\n",
      "{'source': 'https://blog.chain.link/defi-call-option-exchange-in-solidity/', 'source_type': 'blog', 'title': 'How To Build an NFT Marketplace With Solidity and Hardhat', 'description': 'The article discusses how to create an NFT marketplace using Solidity and Hardhat.'}\n",
      "{'source': 'https://blog.chain.link/how-to-build-an-nft-marketplace-with-hardhat-and-solidity/', 'source_type': 'blog', 'title': 'Connect a Smart Contract to the Twitter API', 'description': 'Chainlink allows for the secure connection of Twitter data to smart contracts, bringing transparency and reliability to social media.'}\n",
      "{'source': 'https://blog.chain.link/how-to-use-dapptools/', 'source_type': 'blog', 'title': 'Blockchain Voting Using a Chainlink Alarm Clock Oracle', 'description': 'Using a Chainlink Alarm Clock Oracle allows for timing triggers in blockchain voting smart contracts.'}\n",
      "{'source': 'https://blog.chain.link/connect-smart-contract-to-twitter-api/', 'source_type': 'blog', 'title': 'Blockchain Voting Using a Chainlink Alarm Clock Oracle', 'description': 'Using a Chainlink Alarm Clock Oracle allows for timing triggers in blockchain voting smart contracts.'}\n",
      "{'source': 'https://blog.chain.link/blockchain-voting-using-a-chainlink-alarm-clock-oracle/', 'source_type': 'blog', 'title': 'Upgradable Smart Contracts: What They Are and How To Deploy Your Own', 'description': 'This blog explains the design principles and process of deploying upgradable smart contracts on Ethereum.'}\n",
      "{'source': 'https://blog.chain.link/upgradable-smart-contracts/', 'source_type': 'blog', 'title': 'Craft Whiskey Crypto Payments With Chainlink Oracles', 'description': 'Whiskey MarketMaker, a DeFi platform, uses Chainlink oracles to tokenize and list maturing bottles of whiskey for investors.'}\n",
      "{'source': 'https://blog.chain.link/build-a-marine-insurance-smart-contract-with-chainlink/', 'source_type': 'blog', 'title': 'How to Build Dynamic NFTs on Polygon', 'description': 'The article discusses the process of building dynamic NFTs on the Polygon blockchain using oracles.'}\n",
      "{'source': 'https://blog.chain.link/craft-whiskey-crypto-payments-with-chainlink-oracles/', 'source_type': 'blog', 'title': 'How to Build Dynamic NFTs on Polygon', 'description': 'The article discusses the process of building dynamic NFTs on the Polygon blockchain using oracles.'}\n",
      "{'source': 'https://blog.chain.link/how-to-build-dynamic-nfts-on-polygon/', 'source_type': 'blog', 'title': 'How to Build and Deploy a Smart Contract on the Fantom Blockchain', 'description': 'Fantom blockchain offers high throughput, low transaction costs, and instant finality for scalable and cost-efficient dApp development.'}\n",
      "{'source': 'https://blog.chain.link/how-to-build-and-deploy-a-smart-contract-on-the-fantom-blockchain/', 'source_type': 'blog', 'title': 'Announcing the 2022 Solana Blockchain Developer Bootcamp', 'description': 'Registration is open for the 2022 Solana Blockchain Developer Bootcamp sponsored by Chainlink.'}\n",
      "{'source': 'https://blog.chain.link/random-number-generation-solidity/', 'source_type': 'blog', 'title': 'Build a Real Estate dApp With Chainlink Oracles', 'description': 'Chainlink oracles enable real estate valuations on-chain for DeFi products and markets.'}\n",
      "{'source': 'https://blog.chain.link/2022-solana-blockchain-developer-bootcamp/', 'source_type': 'blog', 'title': 'Build a Real Estate dApp With Chainlink Oracles', 'description': 'Chainlink oracles enable real estate valuations on-chain for DeFi products and markets.'}\n",
      "{'source': 'https://blog.chain.link/build-a-real-estate-dapp-with-chainlink-oracles/', 'source_type': 'blog', 'title': 'SmartCon 2022: Top Developer Announcements', 'description': 'SmartCon 2022 featured developer-focused product announcements and discussions on the latest Chainlink developments.'}\n",
      "{'source': 'https://blog.chain.link/smartcon-2022-developer-announcements/', 'source_type': 'blog', 'title': 'How to Build a Blockchain Lottery', 'description': 'To create a transparent and fair lottery system that is not controlled by a central authority.'}\n",
      "{'source': 'https://blog.chain.link/matic-defi-price-feeds/', 'source_type': 'blog', 'title': 'How To Mint an NFT', 'description': \"NFTs are gaining popularity as unique digital collectibles across various industries, signaling blockchain's expansion beyond cryptocurrencies.\"}\n",
      "{'source': 'https://blog.chain.link/how-to-build-a-blockchain-lottery/', 'source_type': 'blog', 'title': 'How To Mint an NFT', 'description': \"NFTs are gaining popularity as unique digital collectibles across various industries, signaling blockchain's expansion beyond cryptocurrencies.\"}\n"
     ]
    }
   ],
   "source": [
    "for i, doc in enumerate(blog_documents):\n",
    "    print(doc.metadata)\n",
    "\n",
    "    if i == 25:\n",
    "        break"
   ]
  },
  {
   "cell_type": "code",
   "execution_count": 2,
   "metadata": {},
   "outputs": [],
   "source": [
    "import ingest\n",
    "from ingest.blogs import scrap_blogs, get_blog_urls, fetch_url_content, get_blog\n",
    "from concurrent.futures import ThreadPoolExecutor, ProcessPoolExecutor\n",
    "from tqdm import tqdm"
   ]
  },
  {
   "cell_type": "code",
   "execution_count": 3,
   "metadata": {},
   "outputs": [
    {
     "name": "stderr",
     "output_type": "stream",
     "text": [
      "2023-10-13 09:54:18,992 - ingest.blogs - INFO - Scraped 10 blog urls\n",
      "INFO:ingest.blogs:Scraped 10 blog urls\n",
      "2023-10-13 09:54:19,653 - ingest.blogs - INFO - Scraped 20 blog urls\n",
      "INFO:ingest.blogs:Scraped 20 blog urls\n",
      "2023-10-13 09:54:20,843 - ingest.blogs - INFO - Scraped 50 blog urls\n",
      "INFO:ingest.blogs:Scraped 50 blog urls\n",
      "2023-10-13 09:54:22,560 - ingest.blogs - INFO - Scraped 90 blog urls\n",
      "INFO:ingest.blogs:Scraped 90 blog urls\n",
      "2023-10-13 09:55:50,607 - ingest.blogs - ERROR - Failed to click on 'load more'. Error: Message: \n",
      "\n",
      "ERROR:ingest.blogs:Failed to click on 'load more'. Error: Message: \n",
      "\n",
      "2023-10-13 09:55:50,609 - ingest.blogs - INFO - Total number of blog urls: 120\n",
      "INFO:ingest.blogs:Total number of blog urls: 120\n",
      "100%|██████████| 120/120 [02:14<00:00,  1.12s/it]\n",
      "100%|██████████| 120/120 [01:52<00:00,  1.07it/s]\n",
      "2023-10-13 09:59:57,013 - ingest.blogs - INFO - Scraped blog posts\n",
      "INFO:ingest.blogs:Scraped blog posts\n"
     ]
    }
   ],
   "source": [
    "blog_documents = scrap_blogs()"
   ]
  },
  {
   "cell_type": "code",
   "execution_count": 5,
   "metadata": {},
   "outputs": [
    {
     "name": "stdout",
     "output_type": "stream",
     "text": [
      "What Are ABI and Bytecode in Solidity?\n",
      "How To Build Dynamic ERC-721 NFTs Using Three Chainlink Trust-Minimized Services\n",
      "How To Build and Deploy a Smart Contract on Arbitrum\n",
      "How To Build A Crypto Game\n",
      "How to Build a Blockchain Lottery\n",
      "How To Create a BEP-20 Token on BNB Chain\n",
      "How To Verify a Smart Contract on Etherscan\n",
      "How To Create an NFT Game\n",
      "CCIP Officially Launches on Mainnet\n",
      "Build a Marine Insurance Smart Contract With Chainlink\n",
      "Blockchain Voting Using a Chainlink Alarm Clock Oracle\n",
      "Congratulations to the Winners of the Chainlink Virtual Hackathon 2020\n",
      "How To Create NFT Domain Names\n",
      "Easily Sell Your APIs and Data to Any Blockchain via Chainlink\n",
      "The Chainlink Fall 2022 Hackathon: Learn. Build. Win.\n",
      "How to Build and Deploy an Avalanche Smart Contract\n",
      "How to Build and Deploy a Solana Smart Contract\n",
      "Announcing the Winner of Oracle Olympics #1\n",
      "Why Launch a Crypto Startup? Web3 Opportunities and GTM Strategies\n",
      "How To Read A Smart Contract On Etherscan\n",
      "The Top Ways for Smart Contract Developers to Use Chainlink\n",
      "How To Build Timelock Smart Contracts\n",
      "Fetch Commodity Prices in Solidity Smart Contracts\n",
      "How to Build Dynamic NFTs on Polygon\n",
      "Off-Chain Computation: Statistical Analysis With Chainlink\n",
      "Connect a Smart Contract to the Twitter API\n"
     ]
    }
   ],
   "source": [
    "for i, doc in enumerate(blog_documents):\n",
    "    print(doc.metadata['title'])\n",
    "\n",
    "    if i == 25:\n",
    "        break"
   ]
  },
  {
   "cell_type": "code",
   "execution_count": 2,
   "metadata": {},
   "outputs": [
    {
     "ename": "SessionNotCreatedException",
     "evalue": "Message: session not created: This version of ChromeDriver only supports Chrome version 116\nCurrent browser version is 118.0.5993.88 with binary path /Applications/Google Chrome.app/Contents/MacOS/Google Chrome\nStacktrace:\n0   chromedriver                        0x0000000104be265c chromedriver + 4318812\n1   chromedriver                        0x0000000104bdad00 chromedriver + 4287744\n2   chromedriver                        0x000000010480c7ec chromedriver + 296940\n3   chromedriver                        0x000000010483a980 chromedriver + 485760\n4   chromedriver                        0x0000000104836514 chromedriver + 468244\n5   chromedriver                        0x0000000104833ca0 chromedriver + 457888\n6   chromedriver                        0x0000000104873954 chromedriver + 719188\n7   chromedriver                        0x0000000104873120 chromedriver + 717088\n8   chromedriver                        0x000000010483e178 chromedriver + 500088\n9   chromedriver                        0x000000010483efc0 chromedriver + 503744\n10  chromedriver                        0x0000000104ba2c40 chromedriver + 4058176\n11  chromedriver                        0x0000000104ba7160 chromedriver + 4075872\n12  chromedriver                        0x0000000104b6ae68 chromedriver + 3829352\n13  chromedriver                        0x0000000104ba7c4c chromedriver + 4078668\n14  chromedriver                        0x0000000104b7ff08 chromedriver + 3915528\n15  chromedriver                        0x0000000104bc4140 chromedriver + 4194624\n16  chromedriver                        0x0000000104bc42c4 chromedriver + 4195012\n17  chromedriver                        0x0000000104bd44d0 chromedriver + 4261072\n18  libsystem_pthread.dylib             0x00000001852e7fa8 _pthread_start + 148\n19  libsystem_pthread.dylib             0x00000001852e2da0 thread_start + 8\n",
     "output_type": "error",
     "traceback": [
      "\u001b[0;31m---------------------------------------------------------------------------\u001b[0m",
      "\u001b[0;31mSessionNotCreatedException\u001b[0m                Traceback (most recent call last)",
      "Cell \u001b[0;32mIn[2], line 1\u001b[0m\n\u001b[0;32m----> 1\u001b[0m \u001b[39mfrom\u001b[39;00m \u001b[39mingest\u001b[39;00m\u001b[39m.\u001b[39;00m\u001b[39mblogs\u001b[39;00m \u001b[39mimport\u001b[39;00m scrap_blogs\n",
      "File \u001b[0;32m~/play/chainlink-assistant/nbs/../ingest/blogs.py:21\u001b[0m\n\u001b[1;32m     13\u001b[0m \u001b[39mfrom\u001b[39;00m \u001b[39mingest\u001b[39;00m\u001b[39m.\u001b[39;00m\u001b[39mutils\u001b[39;00m \u001b[39mimport\u001b[39;00m (\n\u001b[1;32m     14\u001b[0m     remove_prefix_text,\n\u001b[1;32m     15\u001b[0m     extract_first_n_paragraphs,\n\u001b[1;32m     16\u001b[0m     get_description_chain,\n\u001b[1;32m     17\u001b[0m     get_driver,\n\u001b[1;32m     18\u001b[0m )\n\u001b[1;32m     20\u001b[0m logger \u001b[39m=\u001b[39m get_logger(\u001b[39m__name__\u001b[39m)\n\u001b[0;32m---> 21\u001b[0m driver \u001b[39m=\u001b[39m get_driver()\n\u001b[1;32m     24\u001b[0m \u001b[39mdef\u001b[39;00m \u001b[39mclose_popup\u001b[39m(driver):\n\u001b[1;32m     25\u001b[0m     \u001b[39mtry\u001b[39;00m:\n",
      "File \u001b[0;32m~/play/chainlink-assistant/nbs/../ingest/utils.py:89\u001b[0m, in \u001b[0;36mget_driver\u001b[0;34m()\u001b[0m\n\u001b[1;32m     87\u001b[0m \u001b[39m# Set up the webdriver using the determined path\u001b[39;00m\n\u001b[1;32m     88\u001b[0m s \u001b[39m=\u001b[39m Service(CHROMEDRIVER_PATH)\n\u001b[0;32m---> 89\u001b[0m driver \u001b[39m=\u001b[39m webdriver\u001b[39m.\u001b[39;49mChrome(options\u001b[39m=\u001b[39;49mchrome_options, service\u001b[39m=\u001b[39;49ms)\n\u001b[1;32m     91\u001b[0m \u001b[39mreturn\u001b[39;00m driver\n",
      "File \u001b[0;32m~/miniforge3/envs/chainlink/lib/python3.10/site-packages/selenium/webdriver/chrome/webdriver.py:84\u001b[0m, in \u001b[0;36mWebDriver.__init__\u001b[0;34m(self, executable_path, port, options, service_args, desired_capabilities, service_log_path, chrome_options, service, keep_alive)\u001b[0m\n\u001b[1;32m     81\u001b[0m     service \u001b[39m=\u001b[39m Service(executable_path, port, service_args, service_log_path)\n\u001b[1;32m     82\u001b[0m service\u001b[39m.\u001b[39mpath \u001b[39m=\u001b[39m DriverFinder\u001b[39m.\u001b[39mget_path(service, options)\n\u001b[0;32m---> 84\u001b[0m \u001b[39msuper\u001b[39;49m()\u001b[39m.\u001b[39;49m\u001b[39m__init__\u001b[39;49m(\n\u001b[1;32m     85\u001b[0m     DesiredCapabilities\u001b[39m.\u001b[39;49mCHROME[\u001b[39m\"\u001b[39;49m\u001b[39mbrowserName\u001b[39;49m\u001b[39m\"\u001b[39;49m],\n\u001b[1;32m     86\u001b[0m     \u001b[39m\"\u001b[39;49m\u001b[39mgoog\u001b[39;49m\u001b[39m\"\u001b[39;49m,\n\u001b[1;32m     87\u001b[0m     port,\n\u001b[1;32m     88\u001b[0m     options,\n\u001b[1;32m     89\u001b[0m     service_args,\n\u001b[1;32m     90\u001b[0m     desired_capabilities,\n\u001b[1;32m     91\u001b[0m     service_log_path,\n\u001b[1;32m     92\u001b[0m     service,\n\u001b[1;32m     93\u001b[0m     keep_alive,\n\u001b[1;32m     94\u001b[0m )\n",
      "File \u001b[0;32m~/miniforge3/envs/chainlink/lib/python3.10/site-packages/selenium/webdriver/chromium/webdriver.py:104\u001b[0m, in \u001b[0;36mChromiumDriver.__init__\u001b[0;34m(self, browser_name, vendor_prefix, port, options, service_args, desired_capabilities, service_log_path, service, keep_alive)\u001b[0m\n\u001b[1;32m    101\u001b[0m \u001b[39mself\u001b[39m\u001b[39m.\u001b[39mservice\u001b[39m.\u001b[39mstart()\n\u001b[1;32m    103\u001b[0m \u001b[39mtry\u001b[39;00m:\n\u001b[0;32m--> 104\u001b[0m     \u001b[39msuper\u001b[39;49m()\u001b[39m.\u001b[39;49m\u001b[39m__init__\u001b[39;49m(\n\u001b[1;32m    105\u001b[0m         command_executor\u001b[39m=\u001b[39;49mChromiumRemoteConnection(\n\u001b[1;32m    106\u001b[0m             remote_server_addr\u001b[39m=\u001b[39;49m\u001b[39mself\u001b[39;49m\u001b[39m.\u001b[39;49mservice\u001b[39m.\u001b[39;49mservice_url,\n\u001b[1;32m    107\u001b[0m             browser_name\u001b[39m=\u001b[39;49mbrowser_name,\n\u001b[1;32m    108\u001b[0m             vendor_prefix\u001b[39m=\u001b[39;49mvendor_prefix,\n\u001b[1;32m    109\u001b[0m             keep_alive\u001b[39m=\u001b[39;49mkeep_alive,\n\u001b[1;32m    110\u001b[0m             ignore_proxy\u001b[39m=\u001b[39;49m_ignore_proxy,\n\u001b[1;32m    111\u001b[0m         ),\n\u001b[1;32m    112\u001b[0m         options\u001b[39m=\u001b[39;49moptions,\n\u001b[1;32m    113\u001b[0m     )\n\u001b[1;32m    114\u001b[0m \u001b[39mexcept\u001b[39;00m \u001b[39mException\u001b[39;00m:\n\u001b[1;32m    115\u001b[0m     \u001b[39mself\u001b[39m\u001b[39m.\u001b[39mquit()\n",
      "File \u001b[0;32m~/miniforge3/envs/chainlink/lib/python3.10/site-packages/selenium/webdriver/remote/webdriver.py:286\u001b[0m, in \u001b[0;36mWebDriver.__init__\u001b[0;34m(self, command_executor, desired_capabilities, browser_profile, proxy, keep_alive, file_detector, options)\u001b[0m\n\u001b[1;32m    284\u001b[0m \u001b[39mself\u001b[39m\u001b[39m.\u001b[39m_authenticator_id \u001b[39m=\u001b[39m \u001b[39mNone\u001b[39;00m\n\u001b[1;32m    285\u001b[0m \u001b[39mself\u001b[39m\u001b[39m.\u001b[39mstart_client()\n\u001b[0;32m--> 286\u001b[0m \u001b[39mself\u001b[39;49m\u001b[39m.\u001b[39;49mstart_session(capabilities, browser_profile)\n",
      "File \u001b[0;32m~/miniforge3/envs/chainlink/lib/python3.10/site-packages/selenium/webdriver/remote/webdriver.py:378\u001b[0m, in \u001b[0;36mWebDriver.start_session\u001b[0;34m(self, capabilities, browser_profile)\u001b[0m\n\u001b[1;32m    376\u001b[0m w3c_caps \u001b[39m=\u001b[39m _make_w3c_caps(capabilities)\n\u001b[1;32m    377\u001b[0m parameters \u001b[39m=\u001b[39m {\u001b[39m\"\u001b[39m\u001b[39mcapabilities\u001b[39m\u001b[39m\"\u001b[39m: w3c_caps}\n\u001b[0;32m--> 378\u001b[0m response \u001b[39m=\u001b[39m \u001b[39mself\u001b[39;49m\u001b[39m.\u001b[39;49mexecute(Command\u001b[39m.\u001b[39;49mNEW_SESSION, parameters)\n\u001b[1;32m    379\u001b[0m \u001b[39mif\u001b[39;00m \u001b[39m\"\u001b[39m\u001b[39msessionId\u001b[39m\u001b[39m\"\u001b[39m \u001b[39mnot\u001b[39;00m \u001b[39min\u001b[39;00m response:\n\u001b[1;32m    380\u001b[0m     response \u001b[39m=\u001b[39m response[\u001b[39m\"\u001b[39m\u001b[39mvalue\u001b[39m\u001b[39m\"\u001b[39m]\n",
      "File \u001b[0;32m~/miniforge3/envs/chainlink/lib/python3.10/site-packages/selenium/webdriver/remote/webdriver.py:440\u001b[0m, in \u001b[0;36mWebDriver.execute\u001b[0;34m(self, driver_command, params)\u001b[0m\n\u001b[1;32m    438\u001b[0m response \u001b[39m=\u001b[39m \u001b[39mself\u001b[39m\u001b[39m.\u001b[39mcommand_executor\u001b[39m.\u001b[39mexecute(driver_command, params)\n\u001b[1;32m    439\u001b[0m \u001b[39mif\u001b[39;00m response:\n\u001b[0;32m--> 440\u001b[0m     \u001b[39mself\u001b[39;49m\u001b[39m.\u001b[39;49merror_handler\u001b[39m.\u001b[39;49mcheck_response(response)\n\u001b[1;32m    441\u001b[0m     response[\u001b[39m\"\u001b[39m\u001b[39mvalue\u001b[39m\u001b[39m\"\u001b[39m] \u001b[39m=\u001b[39m \u001b[39mself\u001b[39m\u001b[39m.\u001b[39m_unwrap_value(response\u001b[39m.\u001b[39mget(\u001b[39m\"\u001b[39m\u001b[39mvalue\u001b[39m\u001b[39m\"\u001b[39m, \u001b[39mNone\u001b[39;00m))\n\u001b[1;32m    442\u001b[0m     \u001b[39mreturn\u001b[39;00m response\n",
      "File \u001b[0;32m~/miniforge3/envs/chainlink/lib/python3.10/site-packages/selenium/webdriver/remote/errorhandler.py:245\u001b[0m, in \u001b[0;36mErrorHandler.check_response\u001b[0;34m(self, response)\u001b[0m\n\u001b[1;32m    243\u001b[0m         alert_text \u001b[39m=\u001b[39m value[\u001b[39m\"\u001b[39m\u001b[39malert\u001b[39m\u001b[39m\"\u001b[39m]\u001b[39m.\u001b[39mget(\u001b[39m\"\u001b[39m\u001b[39mtext\u001b[39m\u001b[39m\"\u001b[39m)\n\u001b[1;32m    244\u001b[0m     \u001b[39mraise\u001b[39;00m exception_class(message, screen, stacktrace, alert_text)  \u001b[39m# type: ignore[call-arg]  # mypy is not smart enough here\u001b[39;00m\n\u001b[0;32m--> 245\u001b[0m \u001b[39mraise\u001b[39;00m exception_class(message, screen, stacktrace)\n",
      "\u001b[0;31mSessionNotCreatedException\u001b[0m: Message: session not created: This version of ChromeDriver only supports Chrome version 116\nCurrent browser version is 118.0.5993.88 with binary path /Applications/Google Chrome.app/Contents/MacOS/Google Chrome\nStacktrace:\n0   chromedriver                        0x0000000104be265c chromedriver + 4318812\n1   chromedriver                        0x0000000104bdad00 chromedriver + 4287744\n2   chromedriver                        0x000000010480c7ec chromedriver + 296940\n3   chromedriver                        0x000000010483a980 chromedriver + 485760\n4   chromedriver                        0x0000000104836514 chromedriver + 468244\n5   chromedriver                        0x0000000104833ca0 chromedriver + 457888\n6   chromedriver                        0x0000000104873954 chromedriver + 719188\n7   chromedriver                        0x0000000104873120 chromedriver + 717088\n8   chromedriver                        0x000000010483e178 chromedriver + 500088\n9   chromedriver                        0x000000010483efc0 chromedriver + 503744\n10  chromedriver                        0x0000000104ba2c40 chromedriver + 4058176\n11  chromedriver                        0x0000000104ba7160 chromedriver + 4075872\n12  chromedriver                        0x0000000104b6ae68 chromedriver + 3829352\n13  chromedriver                        0x0000000104ba7c4c chromedriver + 4078668\n14  chromedriver                        0x0000000104b7ff08 chromedriver + 3915528\n15  chromedriver                        0x0000000104bc4140 chromedriver + 4194624\n16  chromedriver                        0x0000000104bc42c4 chromedriver + 4195012\n17  chromedriver                        0x0000000104bd44d0 chromedriver + 4261072\n18  libsystem_pthread.dylib             0x00000001852e7fa8 _pthread_start + 148\n19  libsystem_pthread.dylib             0x00000001852e2da0 thread_start + 8\n"
     ]
    }
   ],
   "source": [
    "from ingest.blogs import scrap_blogs"
   ]
  },
  {
   "cell_type": "code",
   "execution_count": null,
   "metadata": {},
   "outputs": [],
   "source": []
  }
 ],
 "metadata": {
  "kernelspec": {
   "display_name": "chainlink",
   "language": "python",
   "name": "python3"
  },
  "language_info": {
   "codemirror_mode": {
    "name": "ipython",
    "version": 3
   },
   "file_extension": ".py",
   "mimetype": "text/x-python",
   "name": "python",
   "nbconvert_exporter": "python",
   "pygments_lexer": "ipython3",
   "version": "3.10.12"
  },
  "orig_nbformat": 4
 },
 "nbformat": 4,
 "nbformat_minor": 2
}
