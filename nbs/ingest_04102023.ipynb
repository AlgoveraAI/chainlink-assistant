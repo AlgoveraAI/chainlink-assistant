{
 "cells": [
  {
   "cell_type": "code",
   "execution_count": 14,
   "metadata": {},
   "outputs": [],
   "source": [
    "import sys\n",
    "\n",
    "sys.path.append('../')\n",
    "\n",
    "import faiss\n",
    "import pickle\n",
    "from chat.utils import CustomeSplitter\n",
    "from langchain.text_splitter import RecursiveCharacterTextSplitter\n",
    "from langchain.vectorstores import FAISS\n",
    "from langchain.embeddings import OpenAIEmbeddings\n",
    "DATA_DIR = '/Users/arshath/play/chainlink-assistant/data'"
   ]
  },
  {
   "cell_type": "code",
   "execution_count": 2,
   "metadata": {},
   "outputs": [],
   "source": [
    "with open('/Users/arshath/play/chainlink-assistant/data/chain_link_main_documents.pkl', 'rb') as f:\n",
    "    main_documents = pickle.load(f)"
   ]
  },
  {
   "cell_type": "code",
   "execution_count": 4,
   "metadata": {},
   "outputs": [],
   "source": [
    "filtered_main_documents = []\n",
    "for doc in main_documents:\n",
    "    if not 'https://chain.link/terms' in doc.metadata['source']:\n",
    "        filtered_main_documents.append(doc)"
   ]
  },
  {
   "cell_type": "code",
   "execution_count": 5,
   "metadata": {},
   "outputs": [],
   "source": [
    "for doc in filtered_main_documents:\n",
    "    if 'https://chain.link/terms' in doc.metadata['source']:\n",
    "        print(doc.metadata['source'])"
   ]
  },
  {
   "cell_type": "code",
   "execution_count": 6,
   "metadata": {},
   "outputs": [],
   "source": [
    "with open('/Users/arshath/play/chainlink-assistant/data/chain_link_main_documents.pkl', 'wb') as f:\n",
    "    pickle.dump(filtered_main_documents, f)"
   ]
  },
  {
   "cell_type": "code",
   "execution_count": 7,
   "metadata": {},
   "outputs": [],
   "source": [
    "with open('/Users/arshath/play/chainlink-assistant/data/tech_documents.pkl', 'rb') as f:\n",
    "    tech_documents = pickle.load(f)\n",
    "\n",
    "with open('/Users/arshath/play/chainlink-assistant/data/blog_documents.pkl', 'rb') as f:\n",
    "    blog_documents = pickle.load(f)\n",
    "\n",
    "with open('/Users/arshath/play/chainlink-assistant/data/chain_link_main_documents.pkl', 'rb') as f:\n",
    "    main_documents = pickle.load(f)\n",
    "\n",
    "with open('/Users/arshath/play/chainlink-assistant/data/chain_link_you_tube_documents.pkl', 'rb') as f:\n",
    "    you_tube_documents = pickle.load(f)\n",
    "\n",
    "with open('/Users/arshath/play/chainlink-assistant/data/education_documents.pkl', 'rb') as f:\n",
    "    education_documents = pickle.load(f)\n",
    "\n",
    "with open('/Users/arshath/play/chainlink-assistant/data/stackoverflow_documents.pkl', 'rb') as f:\n",
    "    stackoverflow_documents = pickle.load(f)\n",
    "\n",
    "with open('/Users/arshath/play/chainlink-assistant/data/data_documents.pkl', 'rb') as f:\n",
    "    data_documents = pickle.load(f)"
   ]
  },
  {
   "cell_type": "code",
   "execution_count": 9,
   "metadata": {},
   "outputs": [],
   "source": [
    "# Create all documents\n",
    "\n",
    "all_documents = []\n",
    "all_documents.extend(tech_documents)\n",
    "all_documents.extend(blog_documents)\n",
    "all_documents.extend(main_documents)\n",
    "all_documents.extend(you_tube_documents)\n",
    "all_documents.extend(education_documents)\n",
    "all_documents.extend(stackoverflow_documents)\n",
    "\n",
    "with open('/Users/arshath/play/chainlink-assistant/data/documents.pkl', 'wb') as f:\n",
    "    pickle.dump(all_documents, f)"
   ]
  },
  {
   "cell_type": "code",
   "execution_count": 11,
   "metadata": {},
   "outputs": [],
   "source": [
    "for doc in all_documents:\n",
    "    if 'https://chain.link/terms' in doc.metadata['source']:\n",
    "        print(doc.metadata['source'])"
   ]
  },
  {
   "cell_type": "code",
   "execution_count": 15,
   "metadata": {},
   "outputs": [
    {
     "name": "stderr",
     "output_type": "stream",
     "text": [
      "WARNING:langchain.embeddings.openai:Retrying langchain.embeddings.openai.embed_with_retry.<locals>._embed_with_retry in 4.0 seconds as it raised RateLimitError: Rate limit reached for default-text-embedding-ada-002 in organization org-apfNELnY4pAbHrx6LItJCss8 on tokens per min. Limit: 1000000 / min. Current: 800550 / min. Contact us through our help center at help.openai.com if you continue to have issues..\n",
      "WARNING:langchain.embeddings.openai:Retrying langchain.embeddings.openai.embed_with_retry.<locals>._embed_with_retry in 4.0 seconds as it raised RateLimitError: Rate limit reached for default-text-embedding-ada-002 in organization org-apfNELnY4pAbHrx6LItJCss8 on tokens per min. Limit: 1000000 / min. Current: 832657 / min. Contact us through our help center at help.openai.com if you continue to have issues..\n",
      "WARNING:langchain.embeddings.openai:Retrying langchain.embeddings.openai.embed_with_retry.<locals>._embed_with_retry in 4.0 seconds as it raised RateLimitError: Rate limit reached for default-text-embedding-ada-002 in organization org-apfNELnY4pAbHrx6LItJCss8 on tokens per min. Limit: 1000000 / min. Current: 848730 / min. Contact us through our help center at help.openai.com if you continue to have issues..\n"
     ]
    }
   ],
   "source": [
    "# Split documents into chunks for 16k model\n",
    "full_doc_splitter = CustomeSplitter()\n",
    "chunked_full_documents = full_doc_splitter.split(all_documents)\n",
    "\n",
    "splitter = RecursiveCharacterTextSplitter(chunk_size=1200, chunk_overlap=50)\n",
    "split_docs = splitter.split_documents(all_documents)\n",
    "\n",
    "# Create vectorstore for all documents\n",
    "vectorstore_all = FAISS.from_documents(split_docs, embedding=OpenAIEmbeddings())\n",
    "\n",
    "# Split documents into chunks using datadocs\n",
    "split_docs_data = splitter.split_documents(data_documents)\n",
    "\n",
    "# Create vectorstore for datadocs\n",
    "vectorstore_data = FAISS.from_documents(\n",
    "    split_docs_data, embedding=OpenAIEmbeddings()\n",
    ")\n",
    "\n",
    "# Save vectorstores to disk\n",
    "faiss.write_index(vectorstore_all.index, f\"{DATA_DIR}/docs_all.index\")\n",
    "vectorstore_all.index = None\n",
    "with open(f\"{DATA_DIR}/faiss_store_all.pkl\", \"wb\") as f:\n",
    "    pickle.dump(vectorstore_all, f)\n",
    "\n",
    "# Save vectorstore_data\n",
    "faiss.write_index(vectorstore_data.index, f\"{DATA_DIR}/docs_data.index\")\n",
    "vectorstore_data.index = None\n",
    "with open(f\"{DATA_DIR}/faiss_store_data.pkl\", \"wb\") as f:\n",
    "    pickle.dump(vectorstore_data, f)"
   ]
  },
  {
   "cell_type": "code",
   "execution_count": null,
   "metadata": {},
   "outputs": [],
   "source": []
  }
 ],
 "metadata": {
  "kernelspec": {
   "display_name": "chainlink",
   "language": "python",
   "name": "python3"
  },
  "language_info": {
   "codemirror_mode": {
    "name": "ipython",
    "version": 3
   },
   "file_extension": ".py",
   "mimetype": "text/x-python",
   "name": "python",
   "nbconvert_exporter": "python",
   "pygments_lexer": "ipython3",
   "version": "3.10.12"
  },
  "orig_nbformat": 4
 },
 "nbformat": 4,
 "nbformat_minor": 2
}
