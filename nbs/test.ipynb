{
 "cells": [
  {
   "cell_type": "code",
   "execution_count": 2,
   "metadata": {},
   "outputs": [],
   "source": [
    "import pickle\n",
    "import requests\n",
    "\n",
    "import sys\n",
    "sys.path.append(\"../\")\n"
   ]
  },
  {
   "cell_type": "code",
   "execution_count": 3,
   "metadata": {},
   "outputs": [],
   "source": [
    "from datetime import datetime\n",
    "import time"
   ]
  },
  {
   "cell_type": "code",
   "execution_count": 4,
   "metadata": {},
   "outputs": [
    {
     "data": {
      "text/plain": [
       "1695096350"
      ]
     },
     "execution_count": 4,
     "metadata": {},
     "output_type": "execute_result"
    }
   ],
   "source": [
    "# get todays data in this format 1609459200\n",
    "int(datetime.now().timestamp())"
   ]
  },
  {
   "cell_type": "markdown",
   "metadata": {},
   "source": [
    "### Test ingest call"
   ]
  },
  {
   "cell_type": "code",
   "execution_count": 6,
   "metadata": {},
   "outputs": [],
   "source": [
    "res = requests.post(\"http://localhost:8000/ingest\", headers={\"Authorization\": \"Bearer 1234\"})"
   ]
  },
  {
   "cell_type": "markdown",
   "metadata": {},
   "source": [
    "### Test search call"
   ]
  },
  {
   "cell_type": "code",
   "execution_count": 5,
   "metadata": {},
   "outputs": [
    {
     "data": {
      "text/plain": [
       "{'results': [{'title': 'AAVE / USD on Ethereum Mainnet',\n",
       "   'description': 'Details for AAVE / USD on Ethereum Mainnet',\n",
       "   'source_type': 'data',\n",
       "   'source': 'https://data.chain.link/ethereum/mainnet/crypto-usd/aave-usd'},\n",
       "  {'title': 'AAVE / USD on Polygon Mainnet',\n",
       "   'description': 'Details for AAVE / USD on Polygon Mainnet',\n",
       "   'source_type': 'data',\n",
       "   'source': 'https://data.chain.link/polygon/mainnet/crypto-eth/aave-usd'},\n",
       "  {'source': 'https://docs.chain.link/data-feeds/price-feeds/addresses/',\n",
       "   'source_type': 'technical_document',\n",
       "   'title': 'Price Feed Contract Addresses',\n",
       "   'description': 'Addresses for price feed contracts on Ethereum Mainnet, Sepolia Testnet, and Goerli Testnet.'},\n",
       "  {'source': 'https://docs.chain.link/data-feeds/rates-feeds/addresses/',\n",
       "   'source_type': 'technical_document',\n",
       "   'title': 'Rate and Volatility Feed Addresses',\n",
       "   'description': 'Addresses for accessing rate and volatility feed on the Sepolia Testnet.'},\n",
       "  {'source': 'https://docs.chain.link/data-feeds/ens/',\n",
       "   'source_type': 'technical_document',\n",
       "   'title': 'Using ENS with Data Feeds',\n",
       "   'description': 'This article provides an overview of using ENS (Ethereum Name Service) with data feeds.'},\n",
       "  {'source': 'https://chain.link/press/',\n",
       "   'title': 'Latest news about Chainlink',\n",
       "   'description': 'Chainlink is working on unlocking the potential of hybrid smart contracts for a fairer world.',\n",
       "   'source_type': 'main'},\n",
       "  {'source': 'https://docs.chain.link/chainlink-functions/tutorials/api-custom-response/',\n",
       "   'source_type': 'technical_document',\n",
       "   'title': 'Return Custom Data Types',\n",
       "   'description': 'This article provides an overview and tutorial on returning custom data types in programming.'},\n",
       "  {'source': 'https://docs.chain.link/chainlink-functions/tutorials/api-query-parameters/',\n",
       "   'source_type': 'technical_document',\n",
       "   'title': 'Call an API with HTTP Query Parameters',\n",
       "   'description': 'This is a tutorial on how to call an API using HTTP query parameters.'},\n",
       "  {'source': 'https://docs.chain.link/any-api/get-request/examples/single-word-response/',\n",
       "   'source_type': 'technical_document',\n",
       "   'title': 'Single Word Response',\n",
       "   'description': 'Summary'},\n",
       "  {'source': 'https://docs.chain.link/chainlink-nodes/oracle-jobs/v1/adapters/',\n",
       "   'source_type': 'technical_document',\n",
       "   'title': 'Core Adapters [v1]',\n",
       "   'description': 'This is a list of core adapters for a software system.'},\n",
       "  {'source': 'https://docs.chain.link/any-api/get-request/examples/multi-variable-responses/',\n",
       "   'source_type': 'technical_document',\n",
       "   'title': 'Multi-Variable Responses',\n",
       "   'description': 'An overview and example of multi-variable responses.'},\n",
       "  {'source': 'https://docs.chain.link/getting-started/advanced-tutorial/',\n",
       "   'source_type': 'technical_document',\n",
       "   'title': 'API Calls: Using Any API',\n",
       "   'description': 'This article provides an overview of API calls, including how the request and receive cycle works, the concepts of jobs and tasks, and information on external adapters.'},\n",
       "  {'source': 'https://docs.chain.link/getting-started/conceptual-overview/',\n",
       "   'source_type': 'technical_document',\n",
       "   'title': 'Chainlink Overview',\n",
       "   'description': 'This is an overview of Chainlink, including information on smart contracts, hybrid smart contracts, Solidity, LINK token, oracles, Remix, and MetaMask.'},\n",
       "  {'source': 'https://docs.chain.link/getting-started/consuming-data-feeds/',\n",
       "   'source_type': 'technical_document',\n",
       "   'title': 'Consuming Data Feeds',\n",
       "   'description': 'An overview of consuming data feeds.'},\n",
       "  {'source': 'https://docs.chain.link/data-feeds/using-data-feeds/',\n",
       "   'source_type': 'technical_document',\n",
       "   'title': 'Using Data Feeds on EVM Chains',\n",
       "   'description': 'Using data feeds on EVM chains allows for the integration of external data into smart contracts.'},\n",
       "  {'source': 'https://docs.chain.link/chainlink-functions/tutorials/api-use-secrets/',\n",
       "   'source_type': 'technical_document',\n",
       "   'title': 'Using Secrets in Requests',\n",
       "   'description': 'This article provides an overview and tutorial on using secrets in requests.'},\n",
       "  {'source': 'https://docs.chain.link/data-feeds/',\n",
       "   'source_type': 'technical_document',\n",
       "   'title': 'Chainlink Data Feeds',\n",
       "   'description': 'Chainlink Data Feeds provide various types of data, including price feeds, proof of reserve feeds, NFT floor price feeds, rate and volatility feeds, and L2 sequencer uptime feeds, and consist of components such as proxies and aggregators that can be monitored for accuracy and timeliness.'},\n",
       "  {'source': 'https://docs.chain.link/any-api/testnet-oracles/',\n",
       "   'source_type': 'technical_document',\n",
       "   'title': 'Testnet Oracles',\n",
       "   'description': 'This article provides an overview of testnet oracles, operator contracts, jobs, job IDs, and examples.'},\n",
       "  {'source': 'https://docs.chain.link/chainlink-nodes/external-adapters/developers/',\n",
       "   'source_type': 'technical_document',\n",
       "   'title': 'Building External Adapters',\n",
       "   'description': 'This article provides an overview of building external adapters for requesting and returning data in a decentralized oracle network.'},\n",
       "  {'source': 'https://docs.chain.link/chainlink-functions/tutorials/api-multiple-calls/',\n",
       "   'source_type': 'technical_document',\n",
       "   'title': 'Call Multiple Data Sources',\n",
       "   'description': 'This article provides an overview and tutorial on how to call multiple data sources.'},\n",
       "  {'source': 'https://blog.chain.link/chainlink-staking-v0-2-overview/',\n",
       "   'source_type': 'blog',\n",
       "   'title': 'Introducing the Chainlink Staking Platform: v0.2 Upgrade and Launch Details',\n",
       "   'description': 'Chainlink is launching its staking platform to enhance the security of its network and reward participants.'},\n",
       "  {'source': 'https://www.youtube.com/watch?v=zsKuhlbyORs',\n",
       "   'source_type': 'video',\n",
       "   'title': 'Redefining DeFi: Self-Repaying Loans on Alchemix | Chainlink Tech Talk #4',\n",
       "   'description': 'Chainlink Tech Talk #4 will discuss redefining DeFi self-repaying loans on Alchemix, featuring speakers from Alchemix and Chainlink Labs.'}]}"
      ]
     },
     "execution_count": 5,
     "metadata": {},
     "output_type": "execute_result"
    }
   ],
   "source": [
    "res = requests.post(\"http://localhost:8000/search\", json={\"query\": \"aave/usd\"}, headers={\"Authorization\": \"Bearer 1234\"})\n",
    "\n",
    "res.raise_for_status()\n",
    "\n",
    "res.json()"
   ]
  },
  {
   "cell_type": "markdown",
   "metadata": {},
   "source": [
    "### Test refresh"
   ]
  },
  {
   "cell_type": "code",
   "execution_count": 3,
   "metadata": {},
   "outputs": [
    {
     "data": {
      "text/plain": [
       "{'message': 'Refreshed.'}"
      ]
     },
     "execution_count": 3,
     "metadata": {},
     "output_type": "execute_result"
    }
   ],
   "source": [
    "res = requests.post(\"http://localhost:8000/refresh\", headers={\"Authorization\": \"Bearer 1234\"})\n",
    "\n",
    "res.raise_for_status()\n",
    "\n",
    "res.json()"
   ]
  },
  {
   "cell_type": "markdown",
   "metadata": {},
   "source": [
    "### Other tests"
   ]
  },
  {
   "cell_type": "code",
   "execution_count": 26,
   "metadata": {},
   "outputs": [],
   "source": [
    "from search.search import SearchRetriever\n",
    "from config import ROOT_DIR, get_logger\n",
    "\n",
    "logger = get_logger(__name__)"
   ]
  },
  {
   "cell_type": "code",
   "execution_count": 27,
   "metadata": {},
   "outputs": [],
   "source": [
    "folder = f'{ROOT_DIR}/data'\n",
    "# Open blogs document\n",
    "with open(f\"{folder}/blog_documents.pkl\", \"rb\") as f:\n",
    "    blog_documents = pickle.load(f)\n",
    "\n",
    "# Open technical documents\n",
    "with open(f\"{folder}/tech_documents.pkl\", \"rb\") as f:\n",
    "    technical_documents = pickle.load(f)\n",
    "\n",
    "# data documents\n",
    "with open(f\"{folder}/data_documents.pkl\", \"rb\") as f:\n",
    "    data_documents = pickle.load(f)\n",
    "\n",
    "# chain.link documents\n",
    "with open(f\"{folder}/chain_link_main_documents.pkl\", \"rb\") as f:\n",
    "    chain_link_documents = pickle.load(f)\n",
    "\n",
    "# chainlink youtube documents\n",
    "with open(f\"{folder}/chain_link_you_tube_documents.pkl\", \"rb\") as f:\n",
    "    chain_link_youtube_documents = pickle.load(f)\n",
    "\n",
    "\n",
    "chainlink_search_retrevier = SearchRetriever.from_documents(\n",
    "    blog_docs=blog_documents,\n",
    "    tech_docs=technical_documents,\n",
    "    data_docs=data_documents,\n",
    "    chain_link_docs=chain_link_documents,\n",
    "    chain_link_youtube_docs=chain_link_youtube_documents,\n",
    "    k_final=20, \n",
    "    logger=logger\n",
    ")"
   ]
  },
  {
   "cell_type": "code",
   "execution_count": 29,
   "metadata": {},
   "outputs": [
    {
     "name": "stderr",
     "output_type": "stream",
     "text": [
      "2023-09-09 15:07:26,192 - search.search - INFO - Query: eth/usd\n",
      "INFO:search.search:Query: eth/usd\n"
     ]
    },
    {
     "data": {
      "text/plain": [
       "[{'title': 'ETH / USD on Ethereum Mainnet',\n",
       "  'description': 'Details for ETH / USD on Ethereum Mainnet',\n",
       "  'source_type': 'data',\n",
       "  'source': 'https://data.chain.link/ethereum/mainnet/crypto-usd/eth-usd'},\n",
       " {'title': 'stETH / USD on Ethereum Mainnet',\n",
       "  'description': 'Details for stETH / USD on Ethereum Mainnet',\n",
       "  'source_type': 'data',\n",
       "  'source': 'https://data.chain.link/ethereum/mainnet/crypto-usd/steth-usd'},\n",
       " {'source': 'https://blog.chain.link/introducing-the-chainlink-on-chain-data-directory/',\n",
       "  'source_type': 'blog',\n",
       "  'title': 'Introducing the Chainlink On-Chain Data Directory: Data.eth',\n",
       "  'description': 'Chainlink introduces the Chainlink On-Chain Data Directory, Data.eth, to enhance security features for DeFi applications.'},\n",
       " {'source': 'https://docs.chain.link/data-feeds/ens/',\n",
       "  'source_type': 'technical_document',\n",
       "  'title': 'Using ENS with Data Feeds',\n",
       "  'description': 'This article provides an overview of using ENS (Ethereum Name Service) with data feeds.'},\n",
       " {'source': 'https://blog.chain.link/craft-whiskey-crypto-payments-with-chainlink-oracles/',\n",
       "  'source_type': 'blog',\n",
       "  'title': 'Craft Whiskey Crypto Payments With Chainlink Oracles',\n",
       "  'description': 'Whiskey MarketMaker, a DeFi platform, uses Chainlink oracles to tokenize and list maturing bottles of whiskey for investors.'},\n",
       " {'source': 'https://docs.chain.link/data-feeds/rates-feeds/addresses/',\n",
       "  'source_type': 'technical_document',\n",
       "  'title': 'Rate and Volatility Feed Addresses',\n",
       "  'description': 'Addresses for accessing rate and volatility feed on the Sepolia Testnet.'},\n",
       " {'source': 'https://blog.chain.link/congratulations-to-the-winners-of-the-chainlink-virtual-hackathon-2020/',\n",
       "  'source_type': 'blog',\n",
       "  'title': 'Congratulations to the Winners of the Chainlink Virtual Hackathon 2020',\n",
       "  'description': 'The Chainlink Virtual Hackathon 2020 had a large turnout with over 1,000 signups and 70 project submissions from developers in 45+ countries.'},\n",
       " {'source': 'https://docs.chain.link/any-api/get-request/examples/single-word-response/',\n",
       "  'source_type': 'technical_document',\n",
       "  'title': 'Single Word Response',\n",
       "  'description': 'Summary'},\n",
       " {'source': 'https://docs.chain.link/chainlink-functions/tutorials/api-custom-response/',\n",
       "  'source_type': 'technical_document',\n",
       "  'title': 'Return Custom Data Types',\n",
       "  'description': 'This article provides an overview and tutorial on returning custom data types in programming.'},\n",
       " {'source': 'https://docs.chain.link/chainlink-functions/tutorials/api-query-parameters/',\n",
       "  'source_type': 'technical_document',\n",
       "  'title': 'Call an API with HTTP Query Parameters',\n",
       "  'description': 'This is a tutorial on how to call an API using HTTP query parameters.'},\n",
       " {'source': 'https://docs.chain.link/getting-started/advanced-tutorial/',\n",
       "  'source_type': 'technical_document',\n",
       "  'title': 'API Calls: Using Any API',\n",
       "  'description': 'This article provides an overview of API calls, including how the request and receive cycle works, the concepts of jobs and tasks, and information on external adapters.'},\n",
       " {'source': 'https://docs.chain.link/chainlink-nodes/resources/miscellaneous/',\n",
       "  'source_type': 'technical_document',\n",
       "  'title': 'Miscellaneous',\n",
       "  'description': 'This context provides a list of miscellaneous tasks related to Docker, transferring funds, changing passwords, key management, and examples.'},\n",
       " {'source': 'https://docs.chain.link/any-api/get-request/examples/multi-variable-responses/',\n",
       "  'source_type': 'technical_document',\n",
       "  'title': 'Multi-Variable Responses',\n",
       "  'description': 'An overview and example of multi-variable responses.'},\n",
       " {'source': 'https://docs.chain.link/chainlink-nodes/oracle-jobs/v1/adapters/',\n",
       "  'source_type': 'technical_document',\n",
       "  'title': 'Core Adapters [v1]',\n",
       "  'description': 'This is a list of core adapters for a software system.'},\n",
       " {'source': 'https://docs.chain.link/data-feeds/nft-floor-price/addresses/',\n",
       "  'source_type': 'technical_document',\n",
       "  'title': 'NFT Floor Price Feed Addresses',\n",
       "  'description': 'Addresses for NFT floor price feeds on Ethereum Mainnet and Goerli Testnet.'},\n",
       " {'source': 'https://docs.chain.link/getting-started/consuming-data-feeds/',\n",
       "  'source_type': 'technical_document',\n",
       "  'title': 'Consuming Data Feeds',\n",
       "  'description': 'An overview of consuming data feeds.'},\n",
       " {'source': 'https://docs.chain.link/data-feeds/using-data-feeds/',\n",
       "  'source_type': 'technical_document',\n",
       "  'title': 'Using Data Feeds on EVM Chains',\n",
       "  'description': 'Using data feeds on EVM chains allows for the integration of external data into smart contracts.'},\n",
       " {'source': 'https://docs.chain.link/chainlink-nodes/external-adapters/developers/',\n",
       "  'source_type': 'technical_document',\n",
       "  'title': 'Building External Adapters',\n",
       "  'description': 'This article provides an overview of building external adapters for requesting and returning data in a decentralized oracle network.'},\n",
       " {'source': 'https://docs.chain.link/any-api/testnet-oracles/',\n",
       "  'source_type': 'technical_document',\n",
       "  'title': 'Testnet Oracles',\n",
       "  'description': 'This article provides an overview of testnet oracles, operator contracts, jobs, job IDs, and examples.'},\n",
       " {'source': 'https://docs.chain.link/chainlink-nodes/resources/run-an-ethereum-client/',\n",
       "  'source_type': 'technical_document',\n",
       "  'title': 'Run an Ethereum Client',\n",
       "  'description': 'This article provides an overview of different Ethereum clients and external services for running an Ethereum node.'},\n",
       " {'source': 'https://chain.link/techtalks/liquity/',\n",
       "  'title': 'New Frontiers in DeFi: Interest-free Borrowing on the Liquity Protocol',\n",
       "  'description': 'The Liquity Protocol offers interest-free borrowing, expanding possibilities in the decentralized finance (DeFi) space.',\n",
       "  'source_type': 'main'},\n",
       " {'source': 'https://www.youtube.com/watch?v=zsKuhlbyORs',\n",
       "  'source_type': 'video',\n",
       "  'title': 'Redefining DeFi: Self-Repaying Loans on Alchemix | Chainlink Tech Talk #4',\n",
       "  'description': 'Chainlink Tech Talk #4 will discuss redefining DeFi self-repaying loans on Alchemix, featuring speakers from Alchemix and Chainlink Labs.'}]"
      ]
     },
     "execution_count": 29,
     "metadata": {},
     "output_type": "execute_result"
    }
   ],
   "source": [
    "chainlink_search_retrevier.get_relevant_documents(\"eth/usd\", type_='all')"
   ]
  },
  {
   "cell_type": "markdown",
   "metadata": {},
   "source": [
    "## Test Individually"
   ]
  },
  {
   "cell_type": "markdown",
   "metadata": {},
   "source": [
    "### Test technical documents"
   ]
  },
  {
   "cell_type": "code",
   "execution_count": 2,
   "metadata": {},
   "outputs": [
    {
     "name": "stderr",
     "output_type": "stream",
     "text": [
      "2023-09-08 10:45:53,613 - config - INFO - SO_KEY: RBoPt4BA20Ned8AO8Fna*A((\n"
     ]
    }
   ],
   "source": [
    "from ingest.docs import scrap_docs"
   ]
  },
  {
   "cell_type": "code",
   "execution_count": 6,
   "metadata": {},
   "outputs": [
    {
     "name": "stderr",
     "output_type": "stream",
     "text": [
      "100%|██████████| 261/261 [04:23<00:00,  1.01s/it]\n",
      "2023-09-08 10:56:26,969 - ingest.docs - INFO - Scraped technical documents.\n"
     ]
    }
   ],
   "source": [
    "docs = scrap_docs()"
   ]
  },
  {
   "cell_type": "code",
   "execution_count": 14,
   "metadata": {},
   "outputs": [],
   "source": [
    "with open(\"./data/tech_documents.pkl\", \"rb\") as f:\n",
    "    docs_loaded = pickle.load(f)"
   ]
  },
  {
   "cell_type": "code",
   "execution_count": 34,
   "metadata": {},
   "outputs": [
    {
     "data": {
      "text/plain": [
       "{'source': 'https://docs.chain.link/any-api/get-request/introduction/',\n",
       " 'source_type': 'technical_document',\n",
       " 'title': 'Make a GET Request',\n",
       " 'description': 'This article provides information on making a GET request, including examples and handling different types of responses.'}"
      ]
     },
     "execution_count": 34,
     "metadata": {},
     "output_type": "execute_result"
    }
   ],
   "source": [
    "docs_loaded[0].metadata"
   ]
  },
  {
   "cell_type": "code",
   "execution_count": 15,
   "metadata": {},
   "outputs": [],
   "source": [
    "# Make sure doc is unique\n",
    "\n",
    "contents = []\n",
    "\n",
    "for doc in docs_loaded:\n",
    "    if doc.page_content in contents:\n",
    "        print(\"Duplicate\")\n",
    "    else:\n",
    "        contents.append(doc.page_content)"
   ]
  },
  {
   "cell_type": "markdown",
   "metadata": {},
   "source": [
    "### Test blog documents (TODO:)"
   ]
  },
  {
   "cell_type": "code",
   "execution_count": 3,
   "metadata": {},
   "outputs": [
    {
     "name": "stderr",
     "output_type": "stream",
     "text": [
      "2023-09-08 16:25:57,870 - config - INFO - SO_KEY: RBoPt4BA20Ned8AO8Fna*A((\n"
     ]
    }
   ],
   "source": [
    "from ingest.blogs import scrap_blogs, get_blog_urls, fetch_url_content, to_markdown, get_description_chain, remove_prefix_text\n",
    "from concurrent.futures import ProcessPoolExecutor\n",
    "from tqdm import tqdm\n",
    "import re\n"
   ]
  },
  {
   "cell_type": "code",
   "execution_count": 25,
   "metadata": {},
   "outputs": [
    {
     "name": "stderr",
     "output_type": "stream",
     "text": [
      "2023-09-08 15:09:29,390 - ingest.blogs - INFO - Scraped 10 blog urls\n",
      "2023-09-08 15:09:31,882 - ingest.blogs - INFO - Scraped 50 blog urls\n",
      "2023-09-08 15:09:35,802 - ingest.blogs - INFO - Scraped 110 blog urls\n",
      "2023-09-08 15:09:46,242 - ingest.blogs - INFO - Scraped 170 blog urls\n",
      "2023-09-08 15:09:49,984 - ingest.blogs - INFO - Scraped 230 blog urls\n",
      "2023-09-08 15:10:00,283 - ingest.blogs - INFO - Scraped 330 blog urls\n",
      "2023-09-08 15:10:07,607 - ingest.blogs - INFO - Scraped 430 blog urls\n",
      "2023-09-08 15:11:44,713 - ingest.blogs - ERROR - Failed to click on 'load more'. Error: Message: \n",
      "\n"
     ]
    }
   ],
   "source": [
    "# urls = get_blog_urls()\n",
    "# MAX_WORKERS = 10\n",
    "# # Use concurrent.futures to parallelize the fetching of URLs\n",
    "# with ProcessPoolExecutor(max_workers=MAX_WORKERS) as executor:\n",
    "#     soups = list(tqdm(executor.map(fetch_url_content, urls), total=len(urls)))\n",
    "\n",
    "# unsuccessful_urls = [url for url, soup in soups if not soup]\n",
    "# successful_soups = [(url, soup) for url, soup in soups if soup]\n",
    "\n",
    "# # Use concurrent.futures to parallelize the markdown conversion\n",
    "# with ProcessPoolExecutor(max_workers=MAX_WORKERS) as executor:\n",
    "#     blogs = list(tqdm(executor.map(to_markdown, successful_soups), total=len(successful_soups)))\n",
    "\n",
    "# chain_description = get_description_chain()\n",
    "# blogs_documents = []\n",
    "# for url, markdown in tqdm(blogs, total=len(blogs)):\n",
    "#     markdown_content = remove_prefix_text(markdown)\n",
    "#     titles = re.findall(r'^#\\s(.+)$', markdown_content, re.MULTILINE)\n",
    "#     title = titles[0].strip()       "
   ]
  },
  {
   "cell_type": "code",
   "execution_count": 4,
   "metadata": {},
   "outputs": [
    {
     "name": "stderr",
     "output_type": "stream",
     "text": [
      "2023-09-08 16:26:05,402 - ingest.blogs - INFO - Scraped 10 blog urls\n",
      "2023-09-08 16:26:08,514 - ingest.blogs - INFO - Scraped 60 blog urls\n",
      "2023-09-08 16:26:11,135 - ingest.blogs - INFO - Scraped 100 blog urls\n",
      "2023-09-08 16:26:18,096 - ingest.blogs - INFO - Scraped 180 blog urls\n",
      "2023-09-08 16:26:22,860 - ingest.blogs - INFO - Scraped 270 blog urls\n",
      "2023-09-08 16:26:29,743 - ingest.blogs - INFO - Scraped 370 blog urls\n",
      "2023-09-08 16:26:37,134 - ingest.blogs - INFO - Scraped 470 blog urls\n",
      "2023-09-08 16:28:08,280 - ingest.blogs - ERROR - Failed to click on 'load more'. Error: Message: \n",
      "\n",
      "  0%|          | 0/510 [00:00<?, ?it/s]2023-09-08 16:28:20,330 - ingest.blogs - ERROR - Error scraping https://blog.chain.link/zero-knowledge-rollup/: object of type 'NoneType' has no len()\n",
      "2023-09-08 16:28:21,753 - ingest.blogs - ERROR - Error scraping https://blog.chain.link/chainlink-hackathon-champions-reveal-their-winning-projects/: object of type 'NoneType' has no len()\n",
      "2023-09-08 16:28:22,446 - ingest.blogs - ERROR - Error scraping https://blog.chain.link/zkevm/: object of type 'NoneType' has no len()\n",
      "2023-09-08 16:28:23,168 - ingest.blogs - ERROR - Error scraping https://blog.chain.link/protofire-receives-a-chainlink-community-grant-for-an-integration-with-xdai/: ('Connection aborted.', LineTooLong('got more than 65536 bytes when reading status line'))\n",
      "2023-09-08 16:28:23,168 - ingest.blogs - ERROR - Error scraping https://blog.chain.link/esports-blockchain/: ('Connection aborted.', BadStatusLine('ss=\\\\\"alert-cllabs-hexagon-img\\\\\">\\\\n            \\\\u003C/div>\\\\n            \\\\u003Cdiv class=\\\\\"popup-heading\\\\\">\\\\n                \\\\u003Cdiv>SmartCon is LIVE right now. Discover 200+ leading DeFi, NFT, and blockchain projects.\\\\u003Cbr>\\\\u003C/div>\\\\n            \\\\u003C/div>\\\\n            \\\\u003Ca rel=\\\\\"noopener\\\\\" href=\\\\\"https://hopin.com/events/smart-contract-summit-1?ref=99e0a4e499f0\\\\\" target=\\\\\"_blank\\\\\" class=\\\\\"btn btn-secondary btn-small btn-fullwidth w-button\\\\\">Sign up today\\\\u003C/a>\\\\n        \\\\u003C/div>\\\\n        \\\\u003Ca href=\\\\\"https://chn.lk/3DPnocK\\\\\" target=\\\\\"_blank\\\\\" class=\\\\\"popup-smartcon_component w-inline-block\\\\\">\\\\n            \\\\u003Cdiv class=\\\\\"popup-smartcon_content-wrapper\\\\\">\\\\n                \\\\u003Cdiv class=\\\\\"popup-smartcon_content\\\\\">\\\\n                    \\\\u003Cdiv class=\\\\\"popup-smartcon_content-top\\\\\">\\\\n                        \\\\u003Cdiv class=\\\\\"popup-logo\\\\\">\\\\n                            \\\\u003Cimg src=\\\\\"https://blog.chain.link/wp-content/themes/chainlink-astra/assets/images/64d0faae4ec1b96f660c35a8_popup-smartcon-logo.svg\\\\\" loading=\\\\\"lazy\\\\\" alt=\\\\\"\\\\\">\\\\n                        \\\\u003C/div>\\\\n                        \\\\u003Cdiv class=\\\\\"popup-heading\\\\\">\\\\n                            \\\\u003Cdiv class=\\\\\"text-color-white\\\\\">Join us for the Web3 event of the year\\\\u003C/div>\\\\n                        \\\\u003C/div>\\\\n                    \\\\u003C/div>\\\\n                    \\\\u003Cdiv class=\\\\\"popup-smartcon_content-bottom\\\\\">\\\\n                        \\\\u003Cdiv class=\\\\\"popup-footer-cta-text\\\\\">Get tickets\\\\u003C/div>\\\\n                        \\\\u003Cdiv class=\\\\\"icon-1x1-medium w-embed\\\\\">\\\\n                            \\\\u003Csvg width=\\\\\" 100%\\\\\" height=\\\\\" 100%\\\\\" viewBox=\\\\\"0 0 25 24\\\\\" fill=\\\\\"none\\\\\" xmlns=\\\\\"http://www.w3.org/2000/svg\\\\\">\\\\n                                \\\\u003Cpath d=\\\\\"M12.721 22.497C18.52 22.497 23.221 17.796 23.221 11.997C23.221 6.19802 18.52 1.49701 12.721 1.49701C6.92196 1.49701 2.22095 6.19802 2.22095 11.997C2.22095 17.796 6.92196 22.497 12.721 22.497Z\\\\\" stroke=\\\\\"currentColor\\\\\" stroke-width=\\\\\"1.5\\\\\" stroke-linecap=\\\\\"round\\\\\" stroke-linejoin=\\\\\"round\\\\\">\\\\u003C/path>\\\\n                                \\\\u003Cpath d=\\\\\"M17.221 11.997H8.22095\\\\\" stroke=\\\\\"currentColor\\\\\" stroke-width=\\\\\"1.5\\\\\" stroke-linecap=\\\\\"round\\\\\" stroke-linejoin=\\\\\"round\\\\\">\\\\u003C/path>\\\\n                                \\\\u003Cpath d=\\\\\"M13.4709 8.24701L17.2209 11.997L13.4709 15.747\\\\\" stroke=\\\\\"currentColor\\\\\" stroke-width=\\\\\"1.5\\\\\" stroke-linecap=\\\\\"round\\\\\" stroke-linejoin=\\\\\"round\\\\\">\\\\u003C/path>\\\\n                            \\\\u003C/svg>\\\\n                        \\\\u003C/div>\\\\n                    \\\\u003C/div>\\\\n                \\\\u003C/div>\\\\n            \\\\u003C/div>\\\\n        \\\\u003C/a>\\\\n        \\\\u003Cdiv class=\\\\\"clabs-popup-wrapper\\\\\">\\\\n            \\\\u003Cdiv class=\\\\\"popup-logo\\\\\">\\\\n                \\\\u003Cimg src=\\\\\"https://blog.chain.link/wp-content/themes/chainlink-astra/assets/images/5f96ad4bb78078564c12a854_cllabs-hexagon.svg\\\\\" loading=\\\\\"lazy\\\\\" height=\\\\\"24\\\\\" width=\\\\\"22\\\\\" alt=\\\\\"Chainlink Labs logo\\\\\" class=\\\\\"alert-cllabs-hexagon-img\\\\\">\\\\n            \\\\u003C/div>\\\\n            \\\\u003Cdiv class=\\\\\"popup-heading\\\\\">\\\\n                \\\\u003Cdiv>Chainlink Labs is hiring. Come join an industry-leading team.\\\\u003C/div>\\\\n            \\\\u003C/div>\\\\n            \\\\u003Ca rel=\\\\\"noopener\\\\\" href=\\\\\"https://chn.lk/3DPnocK\\\\\" target=\\\\\"_blank\\\\\" class=\\\\\"btn btn-secondary btn-small btn-fullwidth w-button\\\\\">See current openings\\\\u003C/a>\\\\n        \\\\u003C/div>\\\\n        \\\\u003Ca href=\\\\\"javascript:void(0);\\\\\" class=\\\\\"popup-close w-inline-block\\\\\">\\\\n            \\\\u003Cimg src=\\\\\"https://blog.chain.link/wp-content/themes/chainlink-astra/assets/images/6035091b70fc1df2794cf7af_close-icon.svg\\\\\" loading=\\\\\"lazy\\\\\" width=\\\\\"10\\\\\" height=\\\\\"10\\\\\" alt=\\\\\"Close icon\\\\\">\\\\n        \\\\u003C/a>\\\\n    \\\\u003C/div>\\\\n    \\\\u003Cscript>\\\\n        jQuery(function ($) {\\\\n            $(window).load(function () {\\\\n                let delay = $(document).width() \\\\u003C 992 ? 10000 : 2000;\\\\n                setTimeout(function () {\\\\n                    $(\\'.smartcon-popup\\').addClass(\\'open\\');\\\\n                    $(\\'.popup-close\\').off(\\'click\\').on(\\'click\\', function () {\\\\n                        $(\\'.smartcon-popup\\').remove();\\\\n                    });\\\\n                }, delay);\\\\n            });\\\\n        });\\\\n    \\\\u003C/script>\\\\n\\\\t\\\\u003Cscript id=\\\\\"astra-theme-js-js-extra\\\\\">\\\\nvar astra = {\\\\\"break_point\\\\\":\\\\\"921\\\\\",\\\\\"isRtl\\\\\":\\\\\"\\\\\"};\\\\n\\\\u003C/script>\\\\n\\\\u003Cscript src=\\\\\"https://blog.chain.link/wp-content/themes/astra/assets/js/minified/style.min.js?ver=3.4.2\\\\\" id=\\\\\"astra-theme-js-js\\\\\">\\\\u003C/script>\\\\n\\\\u003Cscript src=\\\\\"https://blog.chain.link/wp-content/themes/chainlink-astra/assets/js/enlighterjs.min.js?ver=1.0.105\\\\\" id=\\\\\"enlighterjs-js\\\\\">\\\\u003C/script>\\\\n\\\\u003Cscript id=\\\\\"enlighterjs-js-after\\\\\">\\\\n!function(e,n){if(\\\\\"undefined\\\\\"!=typeof EnlighterJS){var o={\\\\\"selectors\\\\\":{\\\\\"block\\\\\":\\\\\"pre.EnlighterJSRAW\\\\\",\\\\\"inline\\\\\":\\\\\"code.EnlighterJSRAW\\\\\"},\\\\\"options\\\\\":{\\\\\"indent\\\\\":4,\\\\\"ampersandCleanup\\\\\":true,\\\\\"linehover\\\\\":true,\\\\\"rawcodeDbclick\\\\\":false,\\\\\"textOverflow\\\\\":\\\\\"break\\\\\",\\\\\"linenumbers\\\\\":true,\\\\\"theme\\\\\":\\\\\"enlighter\\\\\",\\\\\"language\\\\\":\\\\\"generic\\\\\",\\\\\"retainCssClasses\\\\\":false,\\\\\"collapse\\\\\":false,\\\\\"toolbarOuter\\\\\":\\\\\"\\\\\",\\\\\"toolbarTop\\\\\":\\\\\"{BTN_RAW}{BTN_COPY}{BTN_WINDOW}{BTN_WEBSITE}\\\\\",\\\\\"toolbarBottom\\\\\":\\\\\"\\\\\"}};(e.EnlighterJSINIT=function(){EnlighterJS.init(o.selectors.block,o.selectors.inline,o.options)})()}else{(n&&(n.error||n.log)||function(){})(\\\\\"Error: EnlighterJS resources not loaded yet!\\\\\")}}(window,console);\\\\n\\\\u003C/script>\\\\n\\\\t\\\\t\\\\t\\\\u003Cscript>\\\\n\\\\t\\\\t\\\\t/(trident|msie)/i.test(navigator.userAgent)&&document.getElementById&&window.addEventListener&&window.addEventListener(\\\\\"hashchange\\\\\",function(){var t,e=location.hash.substring(1);/^[A-z0-9_-]+$/.test(e)&&(t=document.getElementById(e))&&(/^(?:a|select|input|button|textarea)$/i.test(t.tagName)||(t.tabIndex=-1),t.focus())},!1);\\\\n\\\\t\\\\t\\\\t\\\\u003C/script>\\\\n\\\\t\\\\t\\\\t\\\\t\\\\u003C!-- Google Tag Manager (noscript) -->\\\\n\\\\t\\\\u003Cnoscript>\\\\u003Ciframe src=\\\\\"https://www.googletagmanager.com/ns.html?id=GTM-KPJ7VWP\\\\\" height=\\\\\"0\\\\\" width=\\\\\"0\\\\\" style=\\\\\"display:none;visibility:hidden\\\\\">\\\\u003C/iframe>\\\\u003C/noscript>\\\\n\\\\t\\\\u003C!-- End Google Tag Manager (noscript) -->\\\\n\\\\t\\\\n\\\\n\\\\n\\\\u003Cscript type=\\\\\"text/javascript\\\\\" async=\\\\\"\\\\\" src=\\\\\"https://cdnjs.cloudflare.com/ajax/libs/mathjax/2.7.1/MathJax.js?config=TeX-MML-AM_CHTML\\\\\">\\\\nMathJax.Hub.Config({\\\\n    tex2jax: {\\\\n        inlineMath: [[\\\\\"$\\\\\", \\\\\"$\\\\\"], [\\\\\"\\\\\\\\\\\\\\\\(\\\\\", \\\\\"\\\\\\\\\\\\\\\\)\\\\\"]],\\\\n        processEscapes: true,\\\\n        displayAlign: \\\\\"left\\\\\"\\\\n    },\\\\n    TeX: { equationNumbers: { autoNumber: \\\\\"AMS\\\\\" } }\\\\n});\\\\n\\\\u003C/script>\\\\n\\\\n\\\\u003Cscript>\\\\njQuery(window).load(function() {\\\\n    post_progress.init();\\\\n    post_progress.update_outline_progress();\\\\n    post_progress.update_post_progress();\\\\n\\\\n    let update_progress_event = function () {\\\\n        post_progress.update_outline_progress();\\\\n        post_progress.update_post_progress();\\\\n    };\\\\n    jQuery(window).scroll(update_progress_event);\\\\n    jQuery(document).keydown(update_progress_event);\\\\n});\\\\n\\\\u003C/script>\\\\n\\\\u003Ciframe owner=\\\\\"archetype\\\\\" title=\\\\\"archetype\\\\\" style=\\\\\"display: none; visibility: hidden;\\\\\">\\\\u003C/iframe>\\\\u003Cscript type=\\\\\"text/javascript\\\\\" id=\\\\\"\\\\\">_hsq.push([\\\\\"trackCustomBehavioralEvent\\\\\",{name:\\\\\"pe20755222_blog_post_viewed\\\\\",properties:{post_name:google_tag_manager[\\\\\"rm\\\\\"][\\\\\"47182611\\\\\"](16)}}]);\\\\u003C/script>\\\\u003Cimg src=\\\\\"https://t.co/1/i/adsct?bci=4&amp;eci=3&amp;event=%7B%7D&amp;event_id=1382e3ad-83dd-46da-865e-484986309412&amp;integration=gtm&amp;p_id=Twitter&amp;p_user_id=0&amp;pl_id=e171f58b-b85e-4c03-89eb-b8e14189ada0&amp;tw_document_href=https%3A%2F%2Fblog.chain.link%2Fzero-knowledge-rollup%2F&amp;tw_iframe_status=0&amp;txn_id=o6xsu&amp;type=javascript&amp;version=2.3.29\\\\\" height=\\\\\"1\\\\\" width=\\\\\"1\\\\\" style=\\\\\"display: none;\\\\\">\\\\u003Cimg src=\\\\\"https://analytics.twitter.com/1/i/adsct?bci=4&amp;eci=3&amp;event=%7B%7D&amp;event_id=1382e3ad-83dd-46da-865e-484986309412&amp;integration=gtm&amp;p_id=Twitter&amp;p_user_id=0&amp;pl_id=e171f58b-b85e-4c03-89eb-b8e14189ada0&amp;tw_document_href=https%3A%2F%2Fblog.chain.link%2Fzero-knowledge-rollup%2F&amp;tw_iframe_status=0&amp;txn_id=o6xsu&amp;type=javascript&amp;version=2.3.29\\\\\" height=\\\\\"1\\\\\" width=\\\\\"1\\\\\" style=\\\\\"display: none;\\\\\">\\\\u003C/body>\\\\u003C/html>\"}HTTP/1.1 200 OK\\r\\n'))\n",
      "2023-09-08 16:28:23,178 - ingest.blogs - ERROR - Error scraping https://blog.chain.link/fetch-ipfs-api-data-token-distribution/: ('Connection aborted.', LineTooLong('got more than 65536 bytes when reading status line'))\n",
      "2023-09-08 16:28:23,188 - ingest.blogs - ERROR - Error scraping https://blog.chain.link/redefining-trust-models-with-chainlinks-decentralized-services/: ('Connection aborted.', BadStatusLine('pe=\\\\\"checkbox\\\\\" data-type=\\\\\"tags\\\\\" value=\\\\\"75\\\\\">\\\\n                                        \\\\u003Cspan>DEX\\\\u003C/span>\\\\n                                    \\\\u003C/label>\\\\n\\\\t\\\\t\\\\t\\\\t\\\\t\\\\t\\\\t\\\\t                                    \\\\u003Clabel class=\\\\\"filter-option\\\\\" data-value=\\\\\"84\\\\\" data-type=\\\\\"tags\\\\\">\\\\n                                        \\\\u003Cinput type=\\\\\"checkbox\\\\\" data-type=\\\\\"tags\\\\\" value=\\\\\"84\\\\\">\\\\n                                        \\\\u003Cspan>Money Markets\\\\u003C/span>\\\\n                                    \\\\u003C/label>\\\\n\\\\t\\\\t\\\\t\\\\t\\\\t\\\\t\\\\t\\\\t                                    \\\\u003Clabel class=\\\\\"filter-option\\\\\" data-value=\\\\\"66\\\\\" data-type=\\\\\"tags\\\\\">\\\\n                                        \\\\u003Cinput type=\\\\\"checkbox\\\\\" data-type=\\\\\"tags\\\\\" value=\\\\\"66\\\\\">\\\\n                                        \\\\u003Cspan>Stablecoins\\\\u003C/span>\\\\n                                    \\\\u003C/label>\\\\n\\\\t\\\\t\\\\t\\\\t\\\\t\\\\t\\\\t\\\\t                                    \\\\u003Clabel class=\\\\\"filter-option\\\\\" data-value=\\\\\"91\\\\\" data-type=\\\\\"tags\\\\\">\\\\n                                        \\\\u003Cinput type=\\\\\"checkbox\\\\\" data-type=\\\\\"tags\\\\\" value=\\\\\"91\\\\\">\\\\n                                        \\\\u003Cspan>Synthetic Assets\\\\u003C/span>\\\\n                                    \\\\u003C/label>\\\\n\\\\t\\\\t\\\\t\\\\t\\\\t\\\\t\\\\t\\\\t                                    \\\\u003Clabel class=\\\\\"filter-option\\\\\" data-value=\\\\\"85\\\\\" data-type=\\\\\"tags\\\\\">\\\\n                                        \\\\u003Cinput type=\\\\\"checkbox\\\\\" data-type=\\\\\"tags\\\\\" value=\\\\\"85\\\\\">\\\\n                                        \\\\u003Cspan>Yield Farming\\\\u003C/span>\\\\n                                    \\\\u003C/label>\\\\n\\\\t\\\\t\\\\t\\\\t\\\\t\\\\t\\\\t\\\\t                                    \\\\u003Clabel class=\\\\\"filter-option\\\\\" data-value=\\\\\"56\\\\\" data-type=\\\\\"tags\\\\\">\\\\n                                        \\\\u003Cinput type=\\\\\"checkbox\\\\\" data-type=\\\\\"tags\\\\\" value=\\\\\"56\\\\\">\\\\n                                        \\\\u003Cspan>Zero-Knowledge\\\\u003C/span>\\\\n                                    \\\\u003C/label>\\\\n\\\\t\\\\t\\\\t\\\\t\\\\t\\\\t\\\\t\\\\t                            \\\\u003C/div>\\\\n                        \\\\u003C/div>\\\\n\\\\t\\\\t\\\\t\\\\t\\\\t                        \\\\u003Cdiv class=\\\\\"filter-group has-caption\\\\\">\\\\n                            \\\\u003Cdiv class=\\\\\"filter-group-label\\\\\">Stack\\\\u003C/div>\\\\n                            \\\\u003Cdiv class=\\\\\"filter-options\\\\\">\\\\n\\\\t\\\\t\\\\t\\\\t\\\\t\\\\t\\\\t\\\\t                                    \\\\u003Clabel class=\\\\\"filter-option\\\\\" data-value=\\\\\"89\\\\\" data-type=\\\\\"tags\\\\\">\\\\n                                        \\\\u003Cinput type=\\\\\"checkbox\\\\\" data-type=\\\\\"tags\\\\\" value=\\\\\"89\\\\\">\\\\n                                        \\\\u003Cspan>Brownie\\\\u003C/span>\\\\n                                    \\\\u003C/label>\\\\n\\\\t\\\\t\\\\t\\\\t\\\\t\\\\t\\\\t\\\\t                                    \\\\u003Clabel class=\\\\\"filter-option\\\\\" data-value=\\\\\"69\\\\\" data-type=\\\\\"tags\\\\\">\\\\n                                        \\\\u003Cinput type=\\\\\"checkbox\\\\\" data-type=\\\\\"tags\\\\\" value=\\\\\"69\\\\\">\\\\n                                        \\\\u003Cspan>Hardhat\\\\u003C/span>\\\\n                                    \\\\u003C/label>\\\\n\\\\t\\\\t\\\\t\\\\t\\\\t\\\\t\\\\t\\\\t                                    \\\\u003Clabel class=\\\\\"filter-option\\\\\" data-value=\\\\\"74\\\\\" data-type=\\\\\"tags\\\\\">\\\\n                                        \\\\u003Cinput type=\\\\\"checkbox\\\\\" data-type=\\\\\"tags\\\\\" value=\\\\\"74\\\\\">\\\\n                                        \\\\u003Cspan>Javascript\\\\u003C/span>\\\\n                                    \\\\u003C/label>\\\\n\\\\t\\\\t\\\\t\\\\t\\\\t\\\\t\\\\t\\\\t                                    \\\\u003Clabel class=\\\\\"filter-option\\\\\" data-value=\\\\\"88\\\\\" data-type=\\\\\"tags\\\\\">\\\\n                                        \\\\u003Cinput type=\\\\\"checkbox\\\\\" data-type=\\\\\"tags\\\\\" value=\\\\\"88\\\\\">\\\\n                                        \\\\u003Cspan>Python\\\\u003C/span>\\\\n                                    \\\\u003C/label>\\\\n\\\\t\\\\t\\\\t\\\\t\\\\t\\\\t\\\\t\\\\t                                    \\\\u003Clabel class=\\\\\"filter-option\\\\\" data-value=\\\\\"67\\\\\" data-type=\\\\\"tags\\\\\">\\\\n                                        \\\\u003Cinput type=\\\\\"checkbox\\\\\" data-type=\\\\\"tags\\\\\" value=\\\\\"67\\\\\">\\\\n                                        \\\\u003Cspan>Solidity\\\\u003C/span>\\\\n                                    \\\\u003C/label>\\\\n\\\\t\\\\t\\\\t\\\\t\\\\t\\\\t\\\\t\\\\t                            \\\\u003C/div>\\\\n                        \\\\u003C/div>\\\\n\\\\t\\\\t\\\\t\\\\t\\\\t                        \\\\u003Cdiv class=\\\\\"filter-group has-caption\\\\\">\\\\n                            \\\\u003Cdiv class=\\\\\"filter-group-label\\\\\">Languages\\\\u003C/div>\\\\n                            \\\\u003Cdiv class=\\\\\"filter-options\\\\\">\\\\n\\\\t\\\\t\\\\t\\\\t\\\\t\\\\t\\\\t\\\\t                                    \\\\u003Clabel class=\\\\\"filter-option\\\\\" data-value=\\\\\"17\\\\\" data-type=\\\\\"tags\\\\\">\\\\n                                        \\\\u003Cinput type=\\\\\"checkbox\\\\\" data-type=\\\\\"tags\\\\\" value=\\\\\"17\\\\\">\\\\n                                        \\\\u003Cspan>Chinese\\\\u003C/span>\\\\n                                    \\\\u003C/label>\\\\n\\\\t\\\\t\\\\t\\\\t\\\\t\\\\t\\\\t\\\\t                                    \\\\u003Clabel class=\\\\\"filter-option\\\\\" data-value=\\\\\"18\\\\\" data-type=\\\\\"tags\\\\\">\\\\n                                        \\\\u003Cinput type=\\\\\"checkbox\\\\\" data-type=\\\\\"tags\\\\\" value=\\\\\"18\\\\\">\\\\n                                        \\\\u003Cspan>Korean\\\\u003C/span>\\\\n                                    \\\\u003C/label>\\\\n\\\\t\\\\t\\\\t\\\\t\\\\t\\\\t\\\\t\\\\t                            \\\\u003C/div>\\\\n                        \\\\u003C/div>\\\\n\\\\t\\\\t\\\\t\\\\t\\\\t                \\\\u003C/div>\\\\n            \\\\u003C/div>\\\\n            \\\\u003Cinput type=\\\\\"hidden\\\\\" name=\\\\\"tags\\\\\" value=\\\\\"\\\\\">\\\\n            \\\\u003Cinput type=\\\\\"hidden\\\\\" name=\\\\\"sortby\\\\\" value=\\\\\"newest\\\\\">\\\\n            \\\\u003C/form>\\\\u003C/aside>\\\\u003C/div>\\\\n        \\\\n        \\\\u003Cscript>\\\\n            jQuery(\\'input[name=\\\\\"s\\\\\"]\\').off(\\'click\\', cl_search_bar.open_live_search_box).on(\\'click\\', cl_search_bar.open_live_search_box);\\\\n            window.loadmore_data = {};\\\\n            jQuery(\\'.dropdown-input\\').click(cl_search_bar.click_filter);\\\\n\\\\t\\\\t\\\\t\\\\t\\\\t\\\\t            window.loadmore_data.categories = \\'\\';\\\\n\\\\t\\\\t\\\\t            window.loadmore_data.services = \\'\\';\\\\n\\\\t\\\\t\\\\t            window.loadmore_data.tags = \\'\\';\\\\n\\\\t\\\\t\\\\t            window.loadmore_data.s = \\'\\';\\\\n\\\\t\\\\t\\\\t            window.loadmore_data.sortby = \\'newest\\';\\\\n\\\\t\\\\t\\\\t            window.loadmore_data.paged = \\'1\\';\\\\n\\\\t\\\\t\\\\t\\\\t\\\\t\\\\t            window.loadmore_data.paged = 2;\\\\n        \\\\u003C/script>\\\\n\\\\t\\\\t\\\\u003C/div>\\\\n\\\\n\\\\u003Csection class=\\\\\"single-post\\\\\" data-gtm-vis-has-fired-47182611_10=\\\\\"1\\\\\">\\\\n    \\\\u003Cdiv class=\\\\\"post-top-header\\\\\">\\\\n    \\\\u003Cdiv class=\\\\\"ast-container\\\\\">\\\\n        \\\\u003Cdiv class=\\\\\"post-top-block\\\\\">\\\\n\\\\t        \\\\u003Cdiv class=\\\\\"post-category\\\\\" id=\\\\\"post-category\\\\\">\\\\u003Cspan class=\\\\\"sub-heading\\\\\">\\\\u003Ca href=\\\\\"https://blog.chain.link/category/education/\\\\\" rel=\\\\\"category tag\\\\\">Education\\\\u003C/a>\\\\u003C/span>\\\\u003C/div>            \\\\u003Ch1 id=\\\\\"post-title\\\\\" class=\\\\\"main-heading\\\\\">What Are Zk-Rollups (Zero-Knowledge Rollups)?\\\\u003C/h1>\\\\n            \\\\u003Cdiv class=\\\\\"post-date-author\\\\\">\\\\n                \\\\u003Cspan id=\\\\\"post-date\\\\\" class=\\\\\"post-date\\\\\">February 27, 2023\\\\u003C/span>\\\\n                \\\\u003Cspan class=\\\\\"post-reading-time\\\\\">\\\\n                    \\\\u003Cspan id=\\\\\"post-reading-time\\\\\">\\\\n                        6 min read                    \\\\u003C/span>\\\\n                \\\\u003C/span>\\\\n\\\\t\\\\t                            \\\\u003Cdiv class=\\\\\"multiple-authors\\\\\">\\\\n                        \\\\u003Cdiv class=\\\\\"multiple-authors-main\\\\\" id=\\\\\"post-author\\\\\">\\\\n\\\\t\\\\t\\\\t\\\\t\\\\t        Author:\\\\n                            \\\\u003Ca href=\\\\\"https://blog.chain.link/author/chainlink/\\\\\">Chainlink\\\\u003C/a>\\\\n                        \\\\u003C/div>\\\\n                    \\\\u003C/div>\\\\n                            \\\\u003C/div>\\\\n        \\\\u003C/div>\\\\n    \\\\u003C/div>\\\\n    \\\\u003C/div>\\\\n\\\\t\\\\u003Cdiv class=\\\\\"ast-container\\\\\">\\\\n        \\\\u003Cdiv class=\\\\\"wrapper\\\\\">\\\\n            \\\\u003Cdiv class=\\\\\"sticky-container--single-post\\\\\">\\\\n                \\\\u003Cdiv class=\\\\\"social-share-icons \\\\\">\\\\n                    \\\\u003Cdiv class=\\\\\"mobile-show\\\\\">\\\\n                        \\\\u003Cdiv class=\\\\\"post-side-block-mobile\\\\\">\\\\n                            \\\\u003Cdiv class=\\\\\"dropdown-select post-outline-list-mobile\\\\\">\\\\n                                \\\\u003Ci class=\\\\\"astra-icon-down_arrow\\\\\">\\\\u003C/i>\\\\n                                \\\\u003Cselect class=\\\\\"post-outline-select\\\\\">\\\\n                                    \\\\u003Coption value=\\\\\"\\\\\">\\\\n\\\\t\\\\t\\\\t\\\\t\\\\t               ort-pages-cta-text\\\\\">\\\\n\\\\t\\\\t\\\\t\\\\t\\\\t    Technical documentation                    \\\\u003C/div>\\\\n\\\\t\\\\t\\\\t                \\\\u003C/div>\\\\n        \\\\u003C/div>\\\\n    \\\\u003C/div>\\\\n\\\\u003C/div>    \\\\u003C/div>\\\\n\\\\u003C/div>        \\\\u003C/div>\\\\n\\\\t\\\\u003C/div>\\\\n\\\\u003C/section>\\\\n\\\\n\\\\u003Cdiv class=\\\\\"progress-line\\\\\">\\\\n    \\\\u003Cdiv class=\\\\\"progress-line-inner\\\\\" style=\\\\\"width: 0%;\\\\\">\\\\u003C/div>\\\\n\\\\u003C/div>\\\\n\\\\n\\\\n\\\\u003Csection class=\\\\\"related-posts\\\\\">\\\\n    \\\\u003Cdiv class=\\\\\"ast-container\\\\\">\\\\n        \\\\u003Cdiv class=\\\\\"wrapper\\\\\">\\\\n            \\\\u003Cdiv class=\\\\\"section-fullwidth-title\\\\\">\\\\n                \\\\u003Ch2 class=\\\\\"main-heading text-center\\\\\">\\\\n                    You might also be interested in                \\\\u003C/h2>\\\\n            \\\\u003C/div>\\\\n            \\\\u003Cdiv class=\\\\\"related-posts-card-section\\\\\">\\\\n                                    \\\\u003Cdiv class=\\\\\"related-posts-item\\\\\">\\\\n                        \\\\u003Cdiv class=\\\\\"post-card\\\\\">\\\\n                            \\\\u003Cdiv class=\\\\\"post-card-content-block\\\\\">\\\\n                                \\\\u003Cdiv class=\\\\\"post-title\\\\\">\\\\n                                    \\\\u003Ch2 class=\\\\\" main-heading medium\\\\\">\\\\n                                        \\\\u003Ca href=\\\\\"https://blog.chain.link/scaling-the-ethereum-ecosystem/\\\\\">The Role of Layer-2 Rollups and Chainlink in Scaling the Ethereum Ecosystem                                        \\\\u003C/a>\\\\n                                    \\\\u003C/h2>\\\\n                                \\\\u003C/div>\\\\n                                \\\\u003Cdiv class=\\\\\"post-detail\\\\\">\\\\n                                    \\\\u003Cp>By aligning with the Ethereum communityâ\\x80\\x99s approach to scaling its ecosystem, Chainlink is helping accelerate the adoption of high-throughput, data-rich dApps.\\\\u003C/p>\\\\n                                \\\\u003C/div>\\\\n                                \\\\u003Cdiv class=\\\\\"post-info\\\\\">\\\\n                                    \\\\u003Cdiv class=\\\\\"post-date-author\\\\\">\\\\n                                        \\\\u003Cspan class=\\\\\"post-date\\\\\">August 23, 2023\\\\u003C/span>\\\\n                                        \\\\u003Cspan class=\\\\\"post-reading-time\\\\\">\\\\n                                        \\\\u003Cspan>9 min read\\\\u003C/span>\\\\n                                    \\\\u003C/span>\\\\n                                    \\\\u003C/div>\\\\n                                \\\\u003C/div>\\\\n                            \\\\u003C/div>\\\\n                        \\\\u003C/div>\\\\n                    \\\\u003C/div>\\\\n                                    \\\\u003Cdiv class=\\\\\"related-posts-item\\\\\">\\\\n                        \\\\u003Cdiv class=\\\\\"post-card\\\\\">\\\\n                            \\\\u003Cdiv class=\\\\\"post-card-content-block\\\\\">\\\\n                                \\\\u003Cdiv class=\\\\\"post-title\\\\\">\\\\n                                    \\\\u003Ch2 class=\\\\\" main-heading medium\\\\\">\\\\n                                        \\\\u003Ca href=\\\\\"https://blog.chain.link/multi-chain/\\\\\">What Is Multi-Chain?                                        \\\\u003C/a>\\\\n                                    \\\\u003C/h2>\\\\n                                \\\\u003C/div>\\\\n                                \\\\u003Cdiv class=\\\\\"post-detail\\\\\">\\\\n                                    \\\\u003Cp>Understand why there are hundreds of blockchains, and how secure cross-chain functionality is supercharging the multi-chain ecosystem.\\\\u003C/p>\\\\n                                \\\\u003C/div>\\\\n                                \\\\u003Cdiv class=\\\\\"post-info\\\\\">\\\\n                                    \\\\u003Cdiv class=\\\\\"post-date-author\\\\\">\\\\n                                        \\\\u003Cspan class=\\\\\"post-date\\\\\">August 14, 2023\\\\u003C/span>\\\\n                                        \\\\u003Cspan class=\\\\\"post-reading-time\\\\\">\\\\n                                        \\\\u003Cspan>8 min read\\\\u003C/span>\\\\n                                    \\\\u003C/span>\\\\n                                    \\\\u003C/div>\\\\n                                \\\\u003C/div>\\\\n                            \\\\u003C/div>\\\\n                        \\\\u003C/div>\\\\n                    \\\\u003C/div>\\\\n                                    \\\\u003Cdiv class=\\\\\"related-posts-item\\\\\">\\\\n                        \\\\u003Cdiv class=\\\\\"post-card\\\\\">\\\\n                            \\\\u003Cdiv class=\\\\\"post-card-content-block\\\\\">\\\\n                                \\\\u003Cdiv class=\\\\\"post-title\\\\\">\\\\n                                    \\\\u003Ch2 class=\\\\\" main-heading medium\\\\\">\\\\n                                        \\\\u003Ca href=\\\\\"https://blog.chain.link/cross-chain-defi/\\\\\">What Is Cross-Chain DeFi?                                        \\\\u003C/a>\\\\n                                    \\\\u003C/h2>\\\\n                                \\\\u003C/div>\\\\n                                \\\\u003Cdiv class=\\\\\"post-detail\\\\\">\\\\n                                    \\\\u003Cp>Cross-chain DeFi apps exist across multiple different blockchain ecosystems and can seamlessly exchange data and tokens between one another.\\\\u003C/p>\\\\n                                \\\\u003C/div>\\\\n                                \\\\u003Cdiv class=\\\\\"post-info\\\\\">\\\\n                                    \\\\u003Cdiv class=\\\\\"post-date-author\\\\\">\\\\n                                        \\\\u003Cspan class=\\\\\"post-date\\\\\">August 1, 2023\\\\u003C/span>\\\\n                                        \\\\u003Cspan class=\\\\\"post-reading-time\\\\\">\\\\n                                        \\\\u003Cspan>7 min read\\\\u003C/span>\\\\n                                    \\\\u003C/span>\\\\n                                    \\\\u003C/div>\\\\n                                \\\\u003C/div>\\\\n                            \\\\u003C/div>\\\\n                        \\\\u003C/div>\\\\n                    \\\\u003C/div>\\\\n                            \\\\u003C/div>\\\\n        \\\\u003C/div>\\\\n    \\\\u003C/div>\\\\n\\\\u003C/section>\\\\n\\\\n\\\\t\\\\t\\\\t\\\\t\\\\n\\\\t\\\\t\\\\t\\\\u003C/div> \\\\u003C!-- ast-container -->\\\\n\\\\n\\\\t\\\\t\\\\u003C/div>\\\\u003C!-- #content -->\\\\n\\\\n\\\\t\\\\t\\\\n\\\\t\\\\t\\\\t\\\\t\\\\u003Csection class=\\\\\"stay-update-section\\\\\">\\\\n\\\\t\\\\t\\\\t\\\\u003Cdiv class=\\\\\"ast-container\\\\\">\\\\n\\\\t\\\\t\\\\t\\\\t\\\\u003Cdiv class=\\\\\"wrapper\\\\\">\\\\n\\\\t\\\\t\\\\t\\\\t\\\\t\\\\u003Cli id=\\\\\"custom_html-4\\\\\" class=\\\\\"widget_text widget widget_custom_html\\\\\">\\\\u003Cdiv class=\\\\\"textwidget custom-html-widget\\\\\">\\\\u003Cdiv class=\\\\\"cta-subscribe-hs\\\\\">\\\\n    \\\\u003Cdiv class=\\\\\"container-hs\\\\\">\\\\n        \\\\u003Ch1 class=\\\\\"cta-subscribe-h1-hs\\\\\">Stay updated on the latest Chainlink news\\\\u003C/h1>\\\\n        \\\\u003C!--[if lte IE 8]>\\\\n        \\\\u003Cscript charset=\\\\\"utf-8\\\\\" type=\\\\\"text/javascript\\\\\" src=\\\\\"//js.hsforms.net/forms/v2-legacy.js\\\\\">\\\\u003C/script>\\\\n        \\\\u003C![endif]-->\\\\n        \\\\u003Cscript charset=\\\\\"utf-8\\\\\" type=\\\\\"text/javascript\\\\\" src=\\\\\"//js.hsforms.net/forms/v2.js\\\\\">\\\\u003C/script>\\\\n        \\\\u003Cscript data-hubspot-rendered=\\\\\"true\\\\\">\\\\n            hbspt.forms.create({\\\\n                region: \\\\\"na1\\\\\",\\\\n                portalId: \\\\\"20755222\\\\\",\\\\n                formId: \\\\\"a695a958-c278-4b0b-bead-006f6255e952\\\\\"\\\\n            });\\\\n        \\\\u003C/script>\\\\u003Cdiv id=\\\\\"hbspt-form-29b6a5a1-b13a-4094-858c-25eda67d1423\\\\\" class=\\\\\"hbspt-form\\\\\">\\\\u003C/div>\\\\n    \\\\u003C/div>\\\\n\\\\u003C/div>\\\\u003C/div>\\\\u003C/li>\\\\t\\\\t\\\\t\\\\t\\\\t\\\\n\\\\t\\\\t\\\\t\\\\t\\\\u003C/div>\\\\n\\\\t\\\\t\\\\t\\\\u003C/div>\\\\n\\\\t\\\\t\\\\u003C/section>\\\\u003Cscript type=\\\\\"text/javascript\\\\\" id=\\\\\"\\\\\">var currentPageURL=document.location.href,cdomain=\\\\\"chain.link\\\\\",now=new Date,time=now.getTime(),expireTime=time+15552E6;now.setTime(expireTime);currentPageURL.includes(\\\\\"utm_medium\\\\\")&&(document.cookie=\\\\\"__wf_campaign_url\\\\\\\\x3d\\\\\"+encodeURIComponent(currentPageURL)+\\\\\";expires\\\\\\\\x3d\\\\\"+now.toUTCString()+\\\\\";path\\\\\\\\x3d/;domain\\\\\\\\x3d\\\\\"+cdomain);\\\\u003C/script>\\\\n\\\\u003Cscript type=\\\\\"text/javascript\\\\\" id=\\\\\"hs-script-loader\\\\\" src=\\\\\"//js.hs-scripts.com/20755222.js\\\\\">\\\\u003C/script>\\\\n\\\\t\\\\t\\\\n\\\\n\\\\t\\\\t\\\\n\\\\t\\\\t\\\\n\\\\t\\\\t\\\\u003Cfooter class=\\\\\"site-footer\\\\\" id=\\\\\"colophon\\\\\" itemtype=\\\\\"https://schema.org/WPFooter\\\\\" itemscope=\\\\\"itemscope\\\\\" itemid=\\\\\"#colophon\\\\\">\\\\n\\\\n\\\\t\\\\t\\\\t\\\\n\\\\t\\\\t\\\\t\\\\n\\\\u003Cdiv class=\\\\\"footer-adv footer-adv-layout-4\\\\\">\\\\n\\\\t\\\\u003Cdiv class=\\\\\"footer-adv-overlay\\\\\">\\\\n\\\\t\\\\t\\\\u003Cdiv class=\\\\\"ast-container\\\\\">\\\\n\\\\t\\\\t\\\\t\\\\u003Cdiv class=\\\\\"ast-row\\\\\">\\\\n\\\\t\\\\t\\\\t\\\\t\\\\u003Cdiv class=\\\\\"footer-colum footer-adv-widget footer-adv-widget-1\\\\\">\\\\n\\\\t\\\\t\\\\t\\\\t\\\\t\\\\u003Cdiv id=\\\\\"nav_menu-2\\\\\" class=\\\\\"widget widget_nav_menu\\\\\">\\\\u003Ch2 class=\\\\\"widget-title\\\\\">Developers\\\\u003C/h2>\\\\u003Cnav class=\\\\\"menu-footer-developer-menu-container\\\\\" aria-label=\\\\\"Developers\\\\\">\\\\u003Cul ;}.ast-page-builder-template.ast-left-sidebar #secondary,.ast-page-builder-template.ast-right-sidebar #secondary{padding-right:20px;padding-left:20px;}.ast-right-sidebar #secondary,.ast-left-sidebar #primary{padding-left:0;}.ast-left-sidebar #secondary{padding-right:0;}}@media (min-width:922px){.ast-separate-container.ast-right-sidebar #primary,.ast-separate-container.ast-left-sidebar #primary{border:0;}.search-no-results.ast-separate-container #primary{margin-bottom:4em;}}@media (min-width:922px){.ast-right-sidebar #primary{border-right:1px solid #eee;}.ast-left-sidebar #primary{border-left:1px solid #eee;}.ast-right-sidebar #secondary{border-left:1px solid #eee;margin-left:-1px;}.ast-left-sidebar #secondary{border-right:1px solid #eee;margin-right:-1px;}.ast-separate-container.ast-two-container.ast-right-sidebar #secondary{padding-left:30px;padding-right:0;}.ast-separate-container.ast-two-container.ast-left-sidebar #secondary{padding-right:30px;padding-left:0;}.ast-separate-container.ast-right-sidebar #secondary,.ast-separate-container.ast-left-sidebar #secondary{border:0;margin-left:auto;margin-right:auto;}.ast-separate-container.ast-two-container #secondary .widget:last-child{margin-bottom:0;}}.wp-block-button .wp-block-button__link,{color:#ffffff;}.wp-block-button .wp-block-button__link:hover,.wp-block-button .wp-block-button__link:focus{color:#ffffff;background-color:#3a3a3a;border-color:#3a3a3a;}.wp-block-button .wp-block-button__link{border-style:solid;border-top-width:0;border-right-width:0;border-left-width:0;border-bottom-width:0;border-color:#375bd2;background-color:#375bd2;color:#ffffff;font-family:inherit;font-weight:inherit;line-height:1;border-radius:2px;padding-top:10px;padding-right:40px;padding-bottom:10px;padding-left:40px;}.menu-toggle,button,.ast-button,.ast-custom-button,.button,input#submit,input[type=\\\\\"button\\\\\"],input[type=\\\\\"submit\\\\\"],input[type=\\\\\"reset\\\\\"]{border-style:solid;border-top-width:0;border-right-width:0;border-left-width:0;border-bottom-width:0;color:#ffffff;border-color:#375bd2;background-color:#375bd2;border-radius:2px;padding-top:10px;padding-right:40px;padding-bottom:10px;padding-left:40px;font-family:inherit;font-weight:inherit;line-height:1;}button:focus,.menu-toggle:hover,button:hover,.ast-button:hover,.ast-custom-button:hover .button:hover,.ast-custom-button:hover ,input[type=reset]:hover,input[type=reset]:focus,input#submit:hover,input#submit:focus,input[type=\\\\\"button\\\\\"]:hover,input[type=\\\\\"button\\\\\"]:focus,input[type=\\\\\"submit\\\\\"]:hover,input[type=\\\\\"submit\\\\\"]:focus{color:#ffffff;background-color:#3a3a3a;border-color:#3a3a3a;}@media (min-width:544px){.ast-container{max-width:100%;}}@media (max-width:544px){.ast-separate-container .ast-article-post,.ast-separate-container .ast-article-single,.ast-separate-container .comments-title,.ast-separate-container .ast-archive-description{padding:1.5em 1em;}.ast-separate-container #content .ast-container{padding-left:0.54em;padding-right:0.54em;}.ast-separate-container .ast-comment-list li.depth-1{padding:1.5em 1em;margin-bottom:1.5em;}.ast-separate-container .ast-comment-list .bypostauthor{padding:.5em;}.ast-search-menu-icon.ast-dropdown-active .search-field{width:170px;}.ast-separate-container #secondary{padding-top:0;}.ast-separate-container.ast-two-container #secondary .widget{margin-bottom:1.5em;padding-left:1em;padding-right:1em;}}@media (max-width:921px){.ast-mobile-header-stack .main-header-bar .ast-search-menu-icon{display:inline-block;}.ast-header-break-point.ast-header-custom-item-outside .ast-mobile-header-stack .main-header-bar .ast-search-icon{margin:0;}.ast-comment-avatar-wrap img{max-width:2.5em;}.ast-separate-container .ast-comment-list li.depth-1{padding:1.5em 2.14em;}.ast-separate-container .comment-respond{padding:2em 2.14em;}.ast-comment-meta{padding:0 1.8888em 1.3333em;}}@media (max-width:921px){.ast-archive-description .ast-archive-title{font-size:40px;}.entry-title{font-size:30px;}h1,.entry-content h1{font-size:30px;}h2,.entry-content h2{font-size:25px;}h3,.entry-content h3{font-size:20px;}.ast-single-post .entry-title,.page-title{font-size:30px;}}@media (max-width:544px){.ast-archive-description .ast-archive-title{font-size:40px;}.entry-title{font-size:30px;}h1,.entry-content h1{font-size:30px;}h2,.entry-content h2{font-size:25px;}h3,.entry-content h3{font-size:20px;}.ast-single-post .entry-title,.page-title{font-size:30px;}}@media (max-width:921px){html{font-size:85.5%;}}@media (max-width:544px){html{font-size:85.5%;}}@media (min-width:922px){.ast-container{max-width:1420px;}}@font-face {font-family: \\\\\"Astra\\\\\";src: url(https://blog.chain.link/wp-content/themes/astra/assets/fonts/astra.woff) format(\\\\\"woff\\\\\"),url(https://blog.chain.link/wp-content/themes/astra/assets/fonts/astra.ttf) format(\\\\\"truetype\\\\\"),url(https://blog.chain.link/wp-content/themes/astra/assets/fonts/astra.svg#astra) format(\\\\\"svg\\\\\");font-weight: normal;font-style: normal;font-display: fallback;}@media (max-width:921px) {.main-header-bar .main-header-bar-navigation{display:none;}}@media (min-width:922px){.single-post .site-content > .ast-container{max-width:1200px;}}.ast-desktop .main-header-menu.submenu-with-border .sub-menu,.ast-desktop .main-header-menu.submenu-with-border .astra-full-megamenu-wrapper{border-color:#375bd2;}.ast-desktop .main-header-menu.submenu-with-border .sub-menu{border-top-width:2px;border-right-width:0px;border-left-width:0px;border-bottom-width:0px;border-style:solid;}.ast-desktop .main-header-menu.submenu-with-border .sub-menu .sub-menu{top:-2px;}.ast-desktop .main-header-menu.submenu-with-border .sub-menu .menu-link,.ast-desktop .main-header-menu.submenu-with-border .children .menu-link{border-bottom-width:0px;border-style:solid;border-color:#eaeaea;}@media (min-width:922px){.main-header-menu .sub-menu .menu-item.ast-left-align-sub-menu:hover > .sub-menu,.main-header-menu .sub-menu .menu-item.ast-left-align-sub-menu.focus > .sub-menu{margin-left:-0px;}}.ast-small-footer{border-top-style:solid;border-top-width:0px;border-top-color:#7a7a7a;}.ast-breadcrumbs .trail-browse,.ast-breadcrumbs .trail-items,.ast-breadcrumbs .trail-items li{display:inline-block;margin:0;padding:0;border:none;background:inherit;text-indent:0;}.ast-breadcrumbs .trail-browse{font-size:inherit;font-style:inherit;font-weight:inherit;color:inherit;}.ast-breadcrumbs .trail-items{list-style:none;}.trail-items li::after{padding:0 0.3em;content:\\\\\"\\\\\\\\00bb\\\\\";}.trail-items li:last-of-type::after{display:none;}.ast-header-break-point .main-header-bar{border-bottom-width:1px;}@media (min-width:922px){.main-header-bar{border-bottom-width:1px;}}@media (min-width:922px){#primary{width:70%;}#secondary{width:30%;}}.ast-safari-browser-less-than-11 .main-header-menu .menu-item, .ast-safari-browser-less-than-11 .main-header-bar .ast-masthead-custom-menu-items{display:block;}.main-header-menu .menu-item, #astra-footer-menu .menu-item, .main-header-bar .ast-masthead-custom-menu-items{-js-display:flex;display:flex;-webkit-box-pack:center;-webkit-justify-content:center;-moz-box-pack:center;-ms-flex-pack:center;justify-content:center;-webkit-box-orient:vertical;-webkit-box-direction:normal;-webkit-flex-direction:column;-moz-box-orient:vertical;-moz-box-direction:normal;-ms-flex-direction:column;flex-direction:column;}.main-header-menu > .menu-item > .menu-link, #astra-footer-menu > .menu-item > .menu-link,{height:100%;-webkit-box-align:center;-webkit-align-items:center;-moz-box-align:center;-ms-flex-align:center;align-items:center;-js-display:flex;display:flex;}.ast-primary-menu-disabled .main-header-bar .ast-masthead-custom-menu-items{flex:unset;}.main-header-menu .sub-menu .menu-item.menu-item-has-children > .menu-link:after{position:absolute;right:1em;top:50%;transform:translate(0,-50%) rotate(270deg);}.ast-header-break-point .main-header-bar .main-header-bar-navigation .page_item_has_children > .ast-menu-toggle::before, .ast-header-break-point .main-header-bar .main-header-bar-navigation .menu-item-has-children > .ast-menu-toggle::before, .ast-mobile-popup-drawer .main-header-bar-navigation .menu-item-has-children>.ast-menu-toggle::before, .ast-header-break-point .ast-mobile-header-wrap .ma     Table of Contents                                    \\\\u003C/option>\\\\n                                    \\\\u003Coption value=\\\\\"0\\\\\">\\\\n\\\\t\\\\t\\\\t\\\\t\\\\t                    What Are Zk-Rollups (Zero-Knowledge Rollups)?                                    \\\\u003C/option>\\\\n\\\\t                                \\\\t\\\\t            \\\\u003Coption value=\\\\\"1\\\\\">\\\\n\\\\t\\\\t\\\\t\\\\tWhat Are Zk-Rollups?            \\\\u003C/option>\\\\n\\\\t\\\\t\\\\t\\\\t\\\\t\\\\t            \\\\u003Coption value=\\\\\"2\\\\\">\\\\n\\\\t\\\\t\\\\t\\\\tHow Do Zk-Rollups Work?            \\\\u003C/option>\\\\n\\\\t\\\\t\\\\t\\\\t\\\\t\\\\t            \\\\u003Coption value=\\\\\"3\\\\\">\\\\n\\\\t\\\\t\\\\t\\\\tZk-Rollup vs. Optimistic Rollup            \\\\u003C/option>\\\\n\\\\t\\\\t\\\\t\\\\t\\\\t\\\\t            \\\\u003Coption value=\\\\\"4\\\\\">\\\\n\\\\t\\\\t\\\\t\\\\tPros and Cons of Zk-Rollups            \\\\u003C/option>\\\\n\\\\t\\\\t\\\\t\\\\t\\\\t\\\\t            \\\\u003Coption value=\\\\\"5\\\\\">\\\\n\\\\t\\\\t\\\\t\\\\tScaling Web3 Through the Power of Zk-Rollups            \\\\u003C/option>\\\\n\\\\t\\\\t\\\\t\\\\t                                \\\\u003C/select>\\\\n                            \\\\u003C/div>\\\\n                            \\\\u003Cdiv class=\\\\\"post-share-icon\\\\\">\\\\n                                \\\\u003Ca title=\\\\\"Share\\\\\" href=\\\\\"javascript:void(0)\\\\\" onclick=\\\\\"post_progress.toggle_mobile_share()\\\\\">\\\\n                                \\\\u003C/a>\\\\n                            \\\\u003C/div>\\\\n                        \\\\u003C/div>\\\\n                    \\\\u003C/div>\\\\n                    \\\\u003Cdiv class=\\\\\"post-mobile-share\\\\\">\\\\n                        \\\\u003Cdiv class=\\\\\"social-share mobile-share\\\\\">\\\\n                            \\\\u003Ca title=\\\\\"Like us on Facebook\\\\\" href=\\\\\"https://www.facebook.com/sharer?u=https://blog.chain.link/zero-knowledge-rollup/&amp;t=What Are Zk-Rollups (Zero-Knowledge Rollups)?\\\\\" target=\\\\\"_blank\\\\\" rel=\\\\\"noopener noreferrer\\\\\">\\\\u003Cimg src=\\\\\"https://blog.chain.link/wp-content/uploads/2021/03/icon-facebook.svg\\\\\" alt=\\\\\"Facebook\\\\\">\\\\u003C/a>\\\\n                            \\\\u003Ca title=\\\\\"Click to share this post on Twitter\\\\\" href=\\\\\"https://www.twitter.com/intent/tweet?text=Currently reading What Are Zk-Rollups (Zero-Knowledge Rollups)?&amp;url=https://blog.chain.link/zero-knowledge-rollup/\\\\\" target=\\\\\"_blank\\\\\" rel=\\\\\"noopener noreferrer\\\\\">\\\\u003Cimg src=\\\\\"https://blog.chain.link/wp-content/uploads/2021/03/icon-twitter.svg\\\\\" alt=\\\\\"Twitter\\\\\">\\\\u003C/a>\\\\n                            \\\\u003Ca title=\\\\\"Share on Linkedin\\\\\" href=\\\\\"https://www.linkedin.com/shareArticle?mini=true&amp;url=https://blog.chain.link/zero-knowledge-rollup/&amp;title=What Are Zk-Rollups (Zero-Knowledge Rollups)?&amp;summary=&amp;source=Chainlink Blog\\\\\" target=\\\\\"_new\\\\\" rel=\\\\\"noopener noreferrer\\\\\">\\\\u003Cimg src=\\\\\"https://blog.chain.link/wp-content/uploads/2021/03/icon-linkedin.svg\\\\\" alt=\\\\\"LinkedIn\\\\\">\\\\u003C/a>\\\\n                        \\\\u003C/div>\\\\n                        \\\\u003Cdiv class=\\\\\"newsletter-block\\\\\">\\\\n                            \\\\u003Ca class=\\\\\"cl-btn cl-btn-secondary sub-newsletter-btn\\\\\" href=\\\\\"https://pages.chain.link/subscribe?utm_medium=referral&amp;utm_source=chainlink-blog&amp;utm_content=post-sidebar\\\\\" target=\\\\\"_blank\\\\\">\\\\n\\\\t\\\\t\\\\t                    Subscribe to newsletter                            \\\\u003C/a>\\\\n                        \\\\u003C/div>\\\\n                    \\\\u003C/div>\\\\n                    \\\\u003Cdiv class=\\\\\"post-side-block mobile-hide\\\\\">\\\\n                        \\\\u003Cdiv class=\\\\\"post-outline\\\\\">\\\\n                            \\\\u003Cul class=\\\\\"post-outline-list\\\\\">\\\\n                                \\\\u003Cli class=\\\\\"post-outline-item active\\\\\" data-outline_id=\\\\\"0\\\\\">\\\\n                                    \\\\u003Ca href=\\\\\"#post-title\\\\\">\\\\n                                        What Are Zk-Rollups (Zero-Knowledge Rollups)?                                    \\\\u003C/a>\\\\n                                \\\\u003C/li>\\\\n\\\\t                            \\\\t\\\\t            \\\\u003Cli class=\\\\\"post-outline-item\\\\\" data-outline_id=\\\\\"1\\\\\">\\\\n                \\\\u003Ca href=\\\\\"#what_are_zk-rollups_\\\\\" data-outline_id=\\\\\"1\\\\\">\\\\n\\\\t\\\\t\\\\t\\\\t\\\\tWhat Are Zk-Rollups?                \\\\u003C/a>\\\\n            \\\\u003C/li>\\\\n\\\\t\\\\t\\\\t\\\\t\\\\t\\\\t            \\\\u003Cli class=\\\\\"post-outline-item\\\\\" data-outline_id=\\\\\"2\\\\\">\\\\n                \\\\u003Ca href=\\\\\"#how_do_zk-rollups_work_\\\\\" data-outline_id=\\\\\"2\\\\\">\\\\n\\\\t\\\\t\\\\t\\\\t\\\\tHow Do Zk-Rollups Work?                \\\\u003C/a>\\\\n            \\\\u003C/li>\\\\n\\\\t\\\\t\\\\t\\\\t\\\\t\\\\t            \\\\u003Cli class=\\\\\"post-outline-item\\\\\" data-outline_id=\\\\\"3\\\\\">\\\\n                \\\\u003Ca href=\\\\\"#zk-rollup_vs._optimistic_rollup\\\\\" data-outline_id=\\\\\"3\\\\\">\\\\n\\\\t\\\\t\\\\t\\\\t\\\\tZk-Rollup vs. Optimistic Rollup                \\\\u003C/a>\\\\n            \\\\u003C/li>\\\\n\\\\t\\\\t\\\\t\\\\t\\\\t\\\\t            \\\\u003Cli class=\\\\\"post-outline-item\\\\\" data-outline_id=\\\\\"4\\\\\">\\\\n                \\\\u003Ca href=\\\\\"#pros_and_cons_of_zk-rollups\\\\\" data-outline_id=\\\\\"4\\\\\">\\\\n\\\\t\\\\t\\\\t\\\\t\\\\tPros and Cons of Zk-Rollups                \\\\u003C/a>\\\\n            \\\\u003C/li>\\\\n\\\\t\\\\t\\\\t\\\\t\\\\t\\\\t            \\\\u003Cli class=\\\\\"post-outline-item\\\\\" data-outline_id=\\\\\"5\\\\\">\\\\n                \\\\u003Ca href=\\\\\"#scaling_web3_through_the_power_of_zk-rollups\\\\\" data-outline_id=\\\\\"5\\\\\">\\\\n\\\\t\\\\t\\\\t\\\\t\\\\tScaling Web3 Through the Power of Zk-Rollups                \\\\u003C/a>\\\\n            \\\\u003C/li>\\\\n\\\\t\\\\t\\\\t\\\\t                            \\\\u003C/ul>\\\\n                        \\\\u003C/div>\\\\n                        \\\\u003Cdiv class=\\\\\"social-share\\\\\">\\\\n                            \\\\u003Ca title=\\\\\"Like us on Facebook\\\\\" href=\\\\\"https://www.facebook.com/sharer?u=https://blog.chain.link/zero-knowledge-rollup/&amp;t=What Are Zk-Rollups (Zero-Knowledge Rollups)?\\\\\" target=\\\\\"_blank\\\\\" rel=\\\\\"noopener noreferrer\\\\\">\\\\u003Cimg src=\\\\\"https://blog.chain.link/wp-content/uploads/2021/03/icon-facebook.svg\\\\\" alt=\\\\\"Facebook\\\\\">\\\\u003C/a>\\\\n                            \\\\u003Ca title=\\\\\"Click to share this post on Twitter\\\\\" href=\\\\\"https://www.twitter.com/intent/tweet?text=Currently reading What Are Zk-Rollups (Zero-Knowledge Rollups)?&amp;url=https://blog.chain.link/zero-knowledge-rollup/\\\\\" target=\\\\\"_blank\\\\\" rel=\\\\\"noopener noreferrer\\\\\">\\\\u003Cimg src=\\\\\"https://blog.chain.link/wp-content/uploads/2021/03/icon-twitter.svg\\\\\" alt=\\\\\"Twitter\\\\\">\\\\u003C/a>\\\\n                            \\\\u003Ca title=\\\\\"Share on Linkedin\\\\\" href=\\\\\"https://www.linkedin.com/shareArticle?mini=true&amp;url=https://blog.chain.link/zero-knowledge-rollup/&amp;title=What Are Zk-Rollups (Zero-Knowledge Rollups)?&amp;summary=&amp;source=Chainlink Blog\\\\\" target=\\\\\"_new\\\\\" rel=\\\\\"noopener noreferrer\\\\\">\\\\u003Cimg src=\\\\\"https://blog.chain.link/wp-content/uploads/2021/03/icon-linkedin.svg\\\\\" alt=\\\\\"LinkedIn\\\\\">\\\\u003C/a>\\\\n                        \\\\u003C/div>\\\\n                        \\\\u003Cdiv class=\\\\\"newsletter-block\\\\\">\\\\n                            \\\\u003Ca class=\\\\\"cl-btn cl-btn-secondary sub-newsletter-btn\\\\\" href=\\\\\"https://pages.chain.link/subscribe?utm_medium=referral&amp;utm_source=chainlink-blog&amp;utm_content=post-sidebar\\\\\" target=\\\\\"_blank\\\\\">\\\\n\\\\t                            Subscribe to newsletter                            \\\\u003C/a>\\\\n                        \\\\u003C/div>\\\\n                    \\\\u003C/div>\\\\n                \\\\u003C/div>\\\\n                \\\\u003Cdiv class=\\\\\"post-header\\\\\">\\\\n                    \\\\u003Cdiv class=\\\\\"post-editor-content\\\\\">\\\\n                        \\\\u003Cp>\\\\u003Ci>\\\\u003Cspan style=\\\\\"font-weight: 400;\\\\\">Zk-rollups support increased blockchain scalability by moving computation and state off-chain while storing transaction data in bundled-up batches on-chain.\\\\u003C/span>\\\\u003C/i>\\\\u003C/p>\\\\n\\\\u003Cp>\\\\u003Cspan style=\\\\\"font-weight: 400;\\\\\">Blockchains have historically struggled to maintain a high degree of \\\\u003C/span>\\\\u003Ca href=\\\\\"https://blog.chain.link/what-is-trust-minimization/\\\\\" target=\\\\\"_blank\\\\\" rel=\\\\\"noopener\\\\\">\\\\u003Cspan style=\\\\\"font-weight: 400;\\\\\">trust-minimization\\\\u003C/span>\\\\u003C/a>\\\\u003Cspan style=\\\\\"font-weight: 400;\\\\\"> for use cases that require high speed and low cost. Reaching the ultimate goal of bringing the benefits of trust-minimization to billions of people requires blockchains to be able to process orders of magnitude more transactions than they currently can while keeping transaction costs sufficiently low for ordinary users to seamlessly enter the Web3 economy.\\\\u003C/span>\\\\u003C/p>\\\\n\\\\u003Cp>\\\\u003Ca href=\\\\\"https://blog.chain.link/blockchain-scalability-approaches/\\\\\" target=\\\\\"_blank\\\\\" rel=\\\\\"noopener\\\\\">\\\\u003Cspan style=\\\\\"font-weight: 400;\\\\\">Blockchain scalabiort-pages-cta-text\\\\\">\\\\n\\\\t\\\\t\\\\t\\\\t\\\\t    Technical documentation                    \\\\u003C/div>\\\\n\\\\t\\\\t\\\\t                \\\\u003C/div>\\\\n        \\\\u003C/div>\\\\n    \\\\u003C/div>\\\\n\\\\u003C/div>    \\\\u003C/div>\\\\n\\\\u003C/div>        \\\\u003C/div>\\\\n\\\\t\\\\u003C/div>\\\\n\\\\u003C/section>\\\\n\\\\n\\\\u003Cdiv class=\\\\\"progress-line\\\\\">\\\\n    \\\\u003Cdiv class=\\\\\"progress-line-inner\\\\\" style=\\\\\"width: 0%;\\\\\">\\\\u003C/div>\\\\n\\\\u003C/div>\\\\n\\\\n\\\\n\\\\u003Csection class=\\\\\"related-posts\\\\\">\\\\n    \\\\u003Cdiv class=\\\\\"ast-container\\\\\">\\\\n        \\\\u003Cdiv class=\\\\\"wrapper\\\\\">\\\\n            \\\\u003Cdiv class=\\\\\"section-fullwidth-title\\\\\">\\\\n                \\\\u003Ch2 class=\\\\\"main-heading text-center\\\\\">\\\\n                    You might also be interested in                \\\\u003C/h2>\\\\n            \\\\u003C/div>\\\\n            \\\\u003Cdiv class=\\\\\"related-posts-card-section\\\\\">\\\\n                                    \\\\u003Cdiv class=\\\\\"related-posts-item\\\\\">\\\\n                        \\\\u003Cdiv class=\\\\\"post-card\\\\\">\\\\n                            \\\\u003Cdiv class=\\\\\"post-card-content-block\\\\\">\\\\n                                \\\\u003Cdiv class=\\\\\"post-title\\\\\">\\\\n                                    \\\\u003Ch2 class=\\\\\" main-heading medium\\\\\">\\\\n                                        \\\\u003Ca href=\\\\\"https://blog.chain.link/scaling-the-ethereum-ecosystem/\\\\\">The Role of Layer-2 Rollups and Chainlink in Scaling the Ethereum Ecosystem                                        \\\\u003C/a>\\\\n                                    \\\\u003C/h2>\\\\n                                \\\\u003C/div>\\\\n                                \\\\u003Cdiv class=\\\\\"post-detail\\\\\">\\\\n                                    \\\\u003Cp>By aligning with the Ethereum communityâ\\x80\\x99s approach to scaling its ecosystem, Chainlink is helping accelerate the adoption of high-throughput, data-rich dApps.\\\\u003C/p>\\\\n                                \\\\u003C/div>\\\\n                                \\\\u003Cdiv class=\\\\\"post-info\\\\\">\\\\n                                    \\\\u003Cdiv class=\\\\\"post-date-author\\\\\">\\\\n                                        \\\\u003Cspan class=\\\\\"post-date\\\\\">August 23, 2023\\\\u003C/span>\\\\n                                        \\\\u003Cspan class=\\\\\"post-reading-time\\\\\">\\\\n                                        \\\\u003Cspan>9 min read\\\\u003C/span>\\\\n                                    \\\\u003C/span>\\\\n                                    \\\\u003C/div>\\\\n                                \\\\u003C/div>\\\\n                            \\\\u003C/div>\\\\n                        \\\\u003C/div>\\\\n                    \\\\u003C/div>\\\\n                                    \\\\u003Cdiv class=\\\\\"related-posts-item\\\\\">\\\\n                        \\\\u003Cdiv class=\\\\\"post-card\\\\\">\\\\n                            \\\\u003Cdiv class=\\\\\"post-card-content-block\\\\\">\\\\n                                \\\\u003Cdiv class=\\\\\"post-title\\\\\">\\\\n                                    \\\\u003Ch2 class=\\\\\" main-heading medium\\\\\">\\\\n                                        \\\\u003Ca href=\\\\\"https://blog.chain.link/multi-chain/\\\\\">What Is Multi-Chain?                                        \\\\u003C/a>\\\\n                                    \\\\u003C/h2>\\\\n                                \\\\u003C/div>\\\\n                                \\\\u003Cdiv class=\\\\\"post-detail\\\\\">\\\\n                                    \\\\u003Cp>Understand why there are hundreds of blockchains, and how secure cross-chain functionality is supercharging the multi-chain ecosystem.\\\\u003C/p>\\\\n                                \\\\u003C/div>\\\\n                                \\\\u003Cdiv class=\\\\\"post-info\\\\\">\\\\n                                    \\\\u003Cdiv class=\\\\\"post-date-author\\\\\">\\\\n                                        \\\\u003Cspan class=\\\\\"post-date\\\\\">August 14, 2023\\\\u003C/span>\\\\n                                        \\\\u003Cspan class=\\\\\"post-reading-time\\\\\">\\\\n                                        \\\\u003Cspan>8 min read\\\\u003C/span>\\\\n                                    \\\\u003C/span>\\\\n                                    \\\\u003C/div>\\\\n                                \\\\u003C/div>\\\\n                            \\\\u003C/div>\\\\n                        \\\\u003C/div>\\\\n                    \\\\u003C/div>\\\\n                                    \\\\u003Cdiv class=\\\\\"related-posts-item\\\\\">\\\\n                        \\\\u003Cdiv class=\\\\\"post-card\\\\\">\\\\n                            \\\\u003Cdiv class=\\\\\"post-card-content-block\\\\\">\\\\n                                \\\\u003Cdiv class=\\\\\"post-title\\\\\">\\\\n                                    \\\\u003Ch2 class=\\\\\" main-heading medium\\\\\">\\\\n                                        \\\\u003Ca href=\\\\\"https://blog.chain.link/cross-chain-defi/\\\\\">What Is Cross-Chain DeFi?                                        \\\\u003C/a>\\\\n                                    \\\\u003C/h2>\\\\n                                \\\\u003C/div>\\\\n                                \\\\u003Cdiv class=\\\\\"post-detail\\\\\">\\\\n                                    \\\\u003Cp>Cross-chain DeFi apps exist across multiple different blockchain ecosystems and can seamlessly exchange data and tokens between one another.\\\\u003C/p>\\\\n                                \\\\u003C/div>\\\\n                                \\\\u003Cdiv class=\\\\\"post-info\\\\\">\\\\n                                    \\\\u003Cdiv class=\\\\\"post-date-author\\\\\">\\\\n                                        \\\\u003Cspan class=\\\\\"post-date\\\\\">August 1, 2023\\\\u003C/span>\\\\n                                        \\\\u003Cspan class=\\\\\"post-reading-time\\\\\">\\\\n                                        \\\\u003Cspan>7 min read\\\\u003C/span>\\\\n                                    \\\\u003C/span>\\\\n                                    \\\\u003C/div>\\\\n                                \\\\u003C/div>\\\\n                            \\\\u003C/div>\\\\n                        \\\\u003C/div>\\\\n                    \\\\u003C/div>\\\\n                            \\\\u003C/div>\\\\n        \\\\u003C/div>\\\\n    \\\\u003C/div>\\\\n\\\\u003C/section>\\\\n\\\\n\\\\t\\\\t\\\\t\\\\t\\\\n\\\\t\\\\t\\\\t\\\\u003C/div> \\\\u003C!-- ast-container -->\\\\n\\\\n\\\\t\\\\t\\\\u003C/div>\\\\u003C!-- #content -->\\\\n\\\\n\\\\t\\\\t\\\\n\\\\t\\\\t\\\\t\\\\t\\\\u003Csection class=\\\\\"stay-update-section\\\\\">\\\\n\\\\t\\\\t\\\\t\\\\u003Cdiv class=\\\\\"ast-container\\\\\">\\\\n\\\\t\\\\t\\\\t\\\\t\\\\u003Cdiv class=\\\\\"wrapper\\\\\">\\\\n\\\\t\\\\t\\\\t\\\\t\\\\t\\\\u003Cli id=\\\\\"custom_html-4\\\\\" class=\\\\\"widget_text widget widget_custom_html\\\\\">\\\\u003Cdiv class=\\\\\"textwidget custom-html-widget\\\\\">\\\\u003Cdiv class=\\\\\"cta-subscribe-hs\\\\\">\\\\n    \\\\u003Cdiv class=\\\\\"container-hs\\\\\">\\\\n        \\\\u003Ch1 class=\\\\\"cta-subscribe-h1-hs\\\\\">Stay updated on the latest Chainlink news\\\\u003C/h1>\\\\n        \\\\u003C!--[if lte IE 8]>\\\\n        \\\\u003Cscript charset=\\\\\"utf-8\\\\\" type=\\\\\"text/javascript\\\\\" src=\\\\\"//js.hsforms.net/forms/v2-legacy.js\\\\\">\\\\u003C/script>\\\\n        \\\\u003C![endif]-->\\\\n        \\\\u003Cscript charset=\\\\\"utf-8\\\\\" type=\\\\\"text/javascript\\\\\" src=\\\\\"//js.hsforms.net/forms/v2.js\\\\\">\\\\u003C/script>\\\\n        \\\\u003Cscript data-hubspot-rendered=\\\\\"true\\\\\">\\\\n            hbspt.forms.create({\\\\n                region: \\\\\"na1\\\\\",\\\\n                portalId: \\\\\"20755222\\\\\",\\\\n                formId: \\\\\"a695a958-c278-4b0b-bead-006f6255e952\\\\\"\\\\n            });\\\\n        \\\\u003C/script>\\\\u003Cdiv id=\\\\\"hbspt-form-29b6a5a1-b13a-4094-858c-25eda67d1423\\\\\" class=\\\\\"hbspt-form\\\\\">\\\\u003C/div>\\\\n    \\\\u003C/div>\\\\n\\\\u003C/div>\\\\u003C/div>\\\\u003C/li>\\\\t\\\\t\\\\t\\\\t\\\\t\\\\n\\\\t\\\\t\\\\t\\\\t\\\\u003C/div>\\\\n\\\\t\\\\t\\\\t\\\\u003C/div>\\\\n\\\\t\\\\t\\\\u003C/section>\\\\u003Cscript type=\\\\\"text/javascript\\\\\" id=\\\\\"\\\\\">var currentPageURL=document.location.href,cdomain=\\\\\"chain.link\\\\\",now=new Date,time=now.getTime(),expireTime=time+15552E6;now.setTime(expireTime);currentPageURL.includes(\\\\\"utm_medium\\\\\")&&(document.cookie=\\\\\"__wf_campaign_url\\\\\\\\x3d\\\\\"+encodeURIComponent(currentPageURL)+\\\\\";expires\\\\\\\\x3d\\\\\"+now.toUTCString()+\\\\\";path\\\\\\\\x3d/;domain\\\\\\\\x3d\\\\\"+cdomain);\\\\u003C/script>\\\\n\\\\u003Cscript type=\\\\\"text/javascript\\\\\" id=\\\\\"hs-script-loader\\\\\" src=\\\\\"//js.hs-scripts.com/20755222.js\\\\\">\\\\u003C/script>\\\\n\\\\t\\\\t\\\\n\\\\n\\\\t\\\\t\\\\n\\\\t\\\\t\\\\n\\\\t\\\\t\\\\u003Cfooter class=\\\\\"site-footer\\\\\" id=\\\\\"colophon\\\\\" itemtype=\\\\\"https://schema.org/WPFooter\\\\\" itemscope=\\\\\"itemscope\\\\\" itemid=\\\\\"#colophon\\\\\">\\\\n\\\\n\\\\t\\\\t\\\\t\\\\n\\\\t\\\\t\\\\t\\\\n\\\\u003Cdiv class=\\\\\"footer-adv footer-adv-layout-4\\\\\">\\\\n\\\\t\\\\u003Cdiv class=\\\\\"footer-adv-overlay\\\\\">\\\\n\\\\t\\\\t\\\\u003Cdiv class=\\\\\"ast-container\\\\\">\\\\n\\\\t\\\\t\\\\t\\\\u003Cdiv class=\\\\\"ast-row\\\\\">\\\\n\\\\t\\\\t\\\\t\\\\t\\\\u003Cdiv class=\\\\\"footer-colum footer-adv-widget footer-adv-widget-1\\\\\">\\\\n\\\\t\\\\t\\\\t\\\\t\\\\t\\\\u003Cdiv id=\\\\\"nav_menu-2\\\\\" class=\\\\\"widget widget_nav_menu\\\\\">\\\\u003Ch2 class=\\\\\"widget-title\\\\\">Developers\\\\u003C/h2>\\\\u003Cnav class=\\\\\"menu-footer-developer-menu-container\\\\\" aria-label=\\\\\"Developers\\\\\">\\\\u003Cul m footer-adv-widget footer-adv-widget-5\\\\\">\\\\n\\\\t\\\\t\\\\t\\\\t\\\\t\\\\u003Cli id=\\\\\"nav_menu-6\\\\\" class=\\\\\"widget widget_nav_menu\\\\\">\\\\u003Ch2 class=\\\\\"widget-title\\\\\">Resources\\\\u003C/h2>\\\\u003Cnav class=\\\\\"menu-footer-resources-menu-container\\\\\" aria-label=\\\\\"Resources\\\\\">\\\\u003Cul id=\\\\\"menu-footer-resources-menu\\\\\" class=\\\\\"menu\\\\\">\\\\u003Cli id=\\\\\"menu-item-2968\\\\\" class=\\\\\"menu-item menu-item-type-custom menu-item-object-custom menu-item-2968\\\\\">\\\\u003Ca href=\\\\\"https://chain.link/whitepaper\\\\\" class=\\\\\"menu-link\\\\\">Whitepaper\\\\u003C/a>\\\\u003C/li>\\\\n\\\\u003Cli id=\\\\\"menu-item-3880\\\\\" class=\\\\\"menu-item menu-item-type-custom menu-item-object-custom menu-item-3880\\\\\">\\\\u003Ca href=\\\\\"https://chain.link/case-studies\\\\\" class=\\\\\"menu-link\\\\\">Case Studies\\\\u003C/a>\\\\u003C/li>\\\\n\\\\u003Cli id=\\\\\"menu-item-3881\\\\\" class=\\\\\"menu-item menu-item-type-custom menu-item-object-custom menu-item-3881\\\\\">\\\\u003Ca href=\\\\\"https://chain.link/techtalks\\\\\" class=\\\\\"menu-link\\\\\">Tech Talks\\\\u003C/a>\\\\u003C/li>\\\\n\\\\u003Cli id=\\\\\"menu-item-2969\\\\\" class=\\\\\"menu-item menu-item-type-custom menu-item-object-custom menu-item-home menu-item-2969\\\\\">\\\\u003Ca href=\\\\\"https://blog.chain.link\\\\\" class=\\\\\"menu-link\\\\\">Blog\\\\u003C/a>\\\\u003C/li>\\\\n\\\\u003Cli id=\\\\\"menu-item-6850\\\\\" class=\\\\\"menu-item menu-item-type-custom menu-item-object-custom menu-item-6850\\\\\">\\\\u003Ca href=\\\\\"https://chain.link/economics\\\\\" class=\\\\\"menu-link\\\\\">Economics 2.0\\\\u003C/a>\\\\u003C/li>\\\\n\\\\u003Cli id=\\\\\"menu-item-6851\\\\\" class=\\\\\"menu-item menu-item-type-custom menu-item-object-custom menu-item-6851\\\\\">\\\\u003Ca href=\\\\\"https://chain.link/economics/staking\\\\\" class=\\\\\"menu-link\\\\\">Staking\\\\u003C/a>\\\\u003C/li>\\\\n\\\\u003Cli id=\\\\\"menu-item-6852\\\\\" class=\\\\\"menu-item menu-item-type-custom menu-item-object-custom menu-item-6852\\\\\">\\\\u003Ca href=\\\\\"https://chain.link/faqs\\\\\" class=\\\\\"menu-link\\\\\">FAQs\\\\u003C/a>\\\\u003C/li>\\\\n\\\\u003Cli id=\\\\\"menu-item-6853\\\\\" class=\\\\\"menu-item menu-item-type-custom menu-item-object-custom menu-item-6853\\\\\">\\\\u003Ca href=\\\\\"https://chain.link/education\\\\\" class=\\\\\"menu-link\\\\\">Education Hub\\\\u003C/a>\\\\u003C/li>\\\\n\\\\u003Cli id=\\\\\"menu-item-6854\\\\\" class=\\\\\"menu-item menu-item-type-custom menu-item-object-custom menu-item-6854\\\\\">\\\\u003Ca href=\\\\\"https://chain.link/education/defi\\\\\" class=\\\\\"menu-link\\\\\">What Is DeFi?\\\\u003C/a>\\\\u003C/li>\\\\n\\\\u003Cli id=\\\\\"menu-item-2971\\\\\" class=\\\\\"menu-item menu-item-type-custom menu-item-object-custom menu-item-2971\\\\\">\\\\u003Ca href=\\\\\"https://chain.link/education/blockchain-oracles\\\\\" class=\\\\\"menu-link\\\\\">What Is an Oracle?\\\\u003C/a>\\\\u003C/li>\\\\n\\\\u003Cli id=\\\\\"menu-item-2972\\\\\" class=\\\\\"menu-item menu-item-type-custom menu-item-object-custom menu-item-2972\\\\\">\\\\u003Ca href=\\\\\"https://chain.link/education/smart-contracts\\\\\" class=\\\\\"menu-link\\\\\">What Is a Smart Contract?\\\\u003C/a>\\\\u003C/li>\\\\n\\\\u003Cli id=\\\\\"menu-item-2973\\\\\" class=\\\\\"menu-item menu-item-type-custom menu-item-object-custom menu-item-2973\\\\\">\\\\u003Ca href=\\\\\"https://chain.link/education/nfts\\\\\" class=\\\\\"menu-link\\\\\">What Is an NFT?\\\\u003C/a>\\\\u003C/li>\\\\n\\\\u003Cli id=\\\\\"menu-item-3556\\\\\" class=\\\\\"menu-item menu-item-type-custom menu-item-object-custom menu-item-3556\\\\\">\\\\u003Ca href=\\\\\"https://chain.link/education/web3\\\\\" class=\\\\\"menu-link\\\\\">What Is Web3?\\\\u003C/a>\\\\u003C/li>\\\\n\\\\u003C/ul>\\\\u003C/nav>\\\\u003C/li>\\\\t\\\\t\\\\t\\\\t\\\\u003C/div>\\\\n\\\\t\\\\t\\\\t\\\\t\\\\u003Cdiv class=\\\\\"footer-colum footer-adv-widget footer-adv-widget-6\\\\\">\\\\n\\\\t\\\\t\\\\t\\\\t\\\\t\\\\u003Cli id=\\\\\"nav_menu-9\\\\\" class=\\\\\"widget widget_nav_menu\\\\\">\\\\u003Ch2 class=\\\\\"widget-title\\\\\">Chainlink\\\\u003C/h2>\\\\u003Cnav class=\\\\\"menu-footer-chainlink-menu-container\\\\\" aria-label=\\\\\"Chainlink\\\\\">\\\\u003Cul id=\\\\\"menu-footer-chainlink-menu\\\\\" class=\\\\\"menu\\\\\">\\\\u003Cli id=\\\\\"menu-item-51\\\\\" class=\\\\\"menu-item menu-item-type-custom menu-item-object-custom menu-item-51\\\\\">\\\\u003Ca href=\\\\\"https://chain.link/ecosystem\\\\\" class=\\\\\"menu-link\\\\\">Ecosystem\\\\u003C/a>\\\\u003C/li>\\\\n\\\\u003Cli id=\\\\\"menu-item-1532\\\\\" class=\\\\\"menu-item menu-item-type-custom menu-item-object-custom menu-item-1532\\\\\">\\\\u003Ca href=\\\\\"https://chain.link/ecosystem/data-providers\\\\\" class=\\\\\"menu-link\\\\\">Data Providers\\\\u003C/a>\\\\u003C/li>\\\\n\\\\u003Cli class=\\\\\"menu-item menu-item-type-custom menu-item-object-custom menu-item-52\\\\\">\\\\u003Ca href=\\\\\"https://chain.link/press\\\\\" class=\\\\\"menu-link\\\\\">Press\\\\u003C/a>\\\\u003C/li>\\\\n\\\\u003Cli id=\\\\\"menu-item-54\\\\\" class=\\\\\"menu-item menu-item-type-custom menu-item-object-custom menu-item-54\\\\\">\\\\u003Ca href=\\\\\"https://chain.link/team\\\\\" class=\\\\\"menu-link\\\\\">Team\\\\u003C/a>\\\\u003C/li>\\\\n\\\\u003Cli id=\\\\\"menu-item-4065\\\\\" class=\\\\\"menu-item menu-item-type-custom menu-item-object-custom menu-item-4065\\\\\">\\\\u003Ca href=\\\\\"https://chain.link/circulating-supply\\\\\" class=\\\\\"menu-link\\\\\">Circulating Supply\\\\u003C/a>\\\\u003C/li>\\\\n\\\\u003Cli class=\\\\\"menu-item menu-item-type-custom menu-item-object-custom menu-item-55\\\\\">\\\\u003Ca href=\\\\\"https://chain.link/brand-assets\\\\\" class=\\\\\"menu-link\\\\\">Brand Assets\\\\u003C/a>\\\\u003C/li>\\\\n\\\\u003Cli class=\\\\\"menu-item menu-item-type-custom menu-item-object-custom menu-item-56\\\\\">\\\\u003Ca href=\\\\\"https://chain.link/badge\\\\\" class=\\\\\"menu-link\\\\\">Chainlink Badging\\\\u003C/a>\\\\u003C/li>\\\\n\\\\u003C/ul>\\\\u003C/nav>\\\\u003C/li>\\\\t\\\\t\\\\t\\\\t\\\\u003C/div>\\\\n\\\\t\\\\t\\\\t\\\\t\\\\u003Cdiv class=\\\\\"footer-colum footer-adv-widget footer-adv-widget-7\\\\\">\\\\n\\\\t\\\\t\\\\t\\\\t\\\\t\\\\u003Cli id=\\\\\"nav_menu-8\\\\\" class=\\\\\"widget widget_nav_menu\\\\\">\\\\u003Ch2 class=\\\\\"widget-title\\\\\">Contact\\\\u003C/h2>\\\\u003Cnav class=\\\\\"menu-footer-contact-menu-container\\\\\" aria-label=\\\\\"Contact\\\\\">\\\\u003Cul id=\\\\\"menu-footer-contact-menu\\\\\" class=\\\\\"menu\\\\\">\\\\u003Cli id=\\\\\"menu-item-1215\\\\\" class=\\\\\"menu-item menu-item-type-custom menu-item-object-custom menu-item-1215\\\\\">\\\\u003Ca href=\\\\\"https://chain.link/contact\\\\\" class=\\\\\"menu-link\\\\\">Talk to an Expert\\\\u003C/a>\\\\u003C/li>\\\\n\\\\u003Cli id=\\\\\"menu-item-57\\\\\" class=\\\\\"menu-item menu-item-type-custom menu-item-object-custom menu-item-57\\\\\">\\\\u003Ca href=\\\\\"https://chain.link/security\\\\\" class=\\\\\"menu-link\\\\\">Security\\\\u003C/a>\\\\u003C/li>\\\\n\\\\u003Cli id=\\\\\"menu-item-58\\\\\" class=\\\\\"menu-item menu-item-type-custom menu-item-object-custom menu-item-58\\\\\">\\\\u003Ca href=\\\\\"mailto:support@chain.link\\\\\" class=\\\\\"menu-link\\\\\">Support\\\\u003C/a>\\\\u003C/li>\\\\n\\\\u003Cli class=\\\\\"menu-item menu-item-type-custom menu-item-object-custom menu-item-59\\\\\">\\\\u003Ca href=\\\\\"mailto:custom@chain.link\\\\\" class=\\\\\"menu-link\\\\\">Custom Chainlinks\\\\u003C/a>\\\\u003C/li>\\\\n\\\\u003Cli class=\\\\\"menu-item menu-item-type-custom menu-item-object-custom menu-item-60\\\\\">\\\\u003Ca href=\\\\\"mailto:press@chain.link\\\\\" class=\\\\\"menu-link\\\\\">Press Inquiries\\\\u003C/a>\\\\u003C/li>\\\\n\\\\u003C/ul>\\\\u003C/nav>\\\\u003C/li>\\\\t\\\\t\\\\t\\\\t\\\\u003C/div>\\\\n\\\\t\\\\t\\\\t\\\\t\\\\u003Cdiv class=\\\\\"footer-colum footer-adv-widget footer-adv-widget-8\\\\\">\\\\n\\\\t\\\\t\\\\t\\\\t\\\\t\\\\u003Cli id=\\\\\"custom_html-8\\\\\" class=\\\\\"widget_text widget widget_custom_html\\\\\">\\\\u003Ch2 class=\\\\\"widget-title\\\\\">Social\\\\u003C/h2>\\\\u003Cdiv class=\\\\\"textwidget custom-html-widget\\\\\">\\\\u003Cul class=\\\\\"social-icon\\\\\">\\\\n\\\\t\\\\u003Cli class=\\\\\"icon-twitter\\\\\">\\\\u003Ca href=\\\\\"https://twitter.com/chainlink\\\\\" target=\\\\\"_blank\\\\\" rel=\\\\\"noopener\\\\\">Twitter\\\\u003C/a>\\\\u003C/li>\\\\n\\\\t\\\\u003Cli class=\\\\\"icon-youtube\\\\\">\\\\u003Ca href=\\\\\"https://www.youtube.com/channel/UCnjkrlqaWEBSnKZQ71gdyFA\\\\\" target=\\\\\"_blank\\\\\" rel=\\\\\"noopener\\\\\">YouTube\\\\u003C/a>\\\\u003C/li>\\\\n\\\\t\\\\u003Cli class=\\\\\"icon-discode\\\\\">\\\\u003Ca href=\\\\\"https://chain.link/discord\\\\\" target=\\\\\"_blank\\\\\" rel=\\\\\"noopener\\\\\">Discord\\\\u003C/a>\\\\u003C/li>\\\\n\\\\t\\\\u003Cli class=\\\\\"icon-telegram\\\\\">\\\\u003Ca href=\\\\\"https://t.me/chainlinkofficial\\\\\" target=\\\\\"_blank\\\\\" rel=\\\\\"noopener\\\\\">Telegram\\\\u003C/a>\\\\u003C/li>\\\\n\\\\t\\\\u003Cli class=\\\\\"icon-wechat\\\\\">\\\\u003Ca href=\\\\\"https://blog.chain.link/chainlink-chinese-communities/\\\\\" target=\\\\\"_blank\\\\\" rel=\\\\\"noopener\\\\\">WeChat\\\\u003C/a>\\\\u003C/li>\\\\n\\\\t\\\\u003Cli class=\\\\\"icon-reddit\\\\\">\\\\u003Ca href=\\\\\"https://www.reddit.com/r/Chainlink/\\\\\" target=\\\\\"_blank\\\\\" rel=\\\\\"noopener\\\\\">Reddit\\\\u003C/a>\\\\u003C/li>\\\\n\\\\t\\\\t\\\\u003Cli class=\\\\\"icon-kakao\\\\\">\\\\u003Ca href=\\\\\"https://open.kakao.com/o/gWXAAf0b\\\\\" target=\\\\\"_blank\\\\\" rel=\\\\\"noopener\\\\\">Kakao\\\\u003C/a>\\\\u003C/li>\\\\n\\\\u003C/ul>\\\\u003C/div>\\\\u003C/li>\\\\t\\\\t\\\\t\\\\t\\\\u003C/div>\\\\n\\\\t\\\\t\\\\t\\\\u003C/div>\\\\u003C!-- .ast-row -->\\\\n\\\\t\\\\t\\\\u003C/div>\\\\u003C!-- .ast-container -->\\\\n\\\\t\\\\u003C/div>\\\\u003C!-- .footer-adv-overlay-->\\\\n\\\\u003C/div>\\\\u003C!-- .ast-theme-footer .footer-adv-layout-4 -->\\\\n\\\\n\\\\u003Cdiv class=\\\\\"ast-small-footer footer-sml-layout-2\\\\\">\\\\n\\\\t\\\\u003Cdiv class=\\\\\"ast-footer-overlay\\\\\">\\\\n\\\\t\\\\t\\\\u003Cdiv class=\\\\\"ast-container\\\\\">\\\\n\\\\t\\\\t\\\\t\\\\u003Cdiv class=\\\\\"ast-small-footer-wrap\\\\\">\\\\n\\\\t\\\\t\\\\t\\\\t\\\\t\\\\u003Cdiv class=\\\\\"ast-row ast-flHTTP/1.1 200 OK\\r\\n'))\n",
      "2023-09-08 16:28:23,197 - ingest.blogs - ERROR - Error scraping https://blog.chain.link/axie-infinity-play-to-earn-gaming-with-chainlink/: ('Connection aborted.', LineTooLong('got more than 65536 bytes when reading status line'))\n",
      "100%|██████████| 510/510 [11:37<00:00,  1.37s/it]\n",
      "100%|██████████| 502/502 [00:21<00:00, 23.25it/s]\n",
      "Processing Blog Entries:  51%|█████     | 256/502 [04:46<04:04,  1.01it/s]"
     ]
    },
    {
     "ename": "KeyboardInterrupt",
     "evalue": "",
     "output_type": "error",
     "traceback": [
      "\u001b[0;31m---------------------------------------------------------------------------\u001b[0m",
      "\u001b[0;31mKeyboardInterrupt\u001b[0m                         Traceback (most recent call last)",
      "Cell \u001b[0;32mIn[4], line 1\u001b[0m\n\u001b[0;32m----> 1\u001b[0m blogs \u001b[39m=\u001b[39m scrap_blogs()\n",
      "File \u001b[0;32m~/play/chainlink/chainlink-assistant/nbs/../ingest/blogs.py:195\u001b[0m, in \u001b[0;36mscrap_blogs\u001b[0;34m()\u001b[0m\n\u001b[1;32m    190\u001b[0m     blogs \u001b[39m=\u001b[39m \u001b[39mlist\u001b[39m(tqdm(executor\u001b[39m.\u001b[39mmap(to_markdown, successful_soups), total\u001b[39m=\u001b[39m\u001b[39mlen\u001b[39m(successful_soups)))\n\u001b[1;32m    192\u001b[0m \u001b[39m# with ProcessPoolExecutor(max_workers=MAX_WORKERS) as executor:\u001b[39;00m\n\u001b[1;32m    193\u001b[0m \u001b[39m#     blogs_documents = list(tqdm(executor.map(process_blog_entry, blogs), total=len(blogs)))\u001b[39;00m\n\u001b[0;32m--> 195\u001b[0m blogs_documents \u001b[39m=\u001b[39m [process_blog_entry(blog) \u001b[39mfor\u001b[39;00m blog \u001b[39min\u001b[39;00m tqdm(blogs, desc\u001b[39m=\u001b[39m\u001b[39m\"\u001b[39m\u001b[39mProcessing Blog Entries\u001b[39m\u001b[39m\"\u001b[39m)]\n\u001b[1;32m    197\u001b[0m \u001b[39m# Remove nones\u001b[39;00m\n\u001b[1;32m    198\u001b[0m blogs_documents \u001b[39m=\u001b[39m [doc \u001b[39mfor\u001b[39;00m doc \u001b[39min\u001b[39;00m blogs_documents \u001b[39mif\u001b[39;00m doc]\n",
      "File \u001b[0;32m~/play/chainlink/chainlink-assistant/nbs/../ingest/blogs.py:195\u001b[0m, in \u001b[0;36m<listcomp>\u001b[0;34m(.0)\u001b[0m\n\u001b[1;32m    190\u001b[0m     blogs \u001b[39m=\u001b[39m \u001b[39mlist\u001b[39m(tqdm(executor\u001b[39m.\u001b[39mmap(to_markdown, successful_soups), total\u001b[39m=\u001b[39m\u001b[39mlen\u001b[39m(successful_soups)))\n\u001b[1;32m    192\u001b[0m \u001b[39m# with ProcessPoolExecutor(max_workers=MAX_WORKERS) as executor:\u001b[39;00m\n\u001b[1;32m    193\u001b[0m \u001b[39m#     blogs_documents = list(tqdm(executor.map(process_blog_entry, blogs), total=len(blogs)))\u001b[39;00m\n\u001b[0;32m--> 195\u001b[0m blogs_documents \u001b[39m=\u001b[39m [process_blog_entry(blog) \u001b[39mfor\u001b[39;00m blog \u001b[39min\u001b[39;00m tqdm(blogs, desc\u001b[39m=\u001b[39m\u001b[39m\"\u001b[39m\u001b[39mProcessing Blog Entries\u001b[39m\u001b[39m\"\u001b[39m)]\n\u001b[1;32m    197\u001b[0m \u001b[39m# Remove nones\u001b[39;00m\n\u001b[1;32m    198\u001b[0m blogs_documents \u001b[39m=\u001b[39m [doc \u001b[39mfor\u001b[39;00m doc \u001b[39min\u001b[39;00m blogs_documents \u001b[39mif\u001b[39;00m doc]\n",
      "File \u001b[0;32m~/play/chainlink/chainlink-assistant/nbs/../ingest/blogs.py:167\u001b[0m, in \u001b[0;36mprocess_blog_entry\u001b[0;34m(blog)\u001b[0m\n\u001b[1;32m    164\u001b[0m     title \u001b[39m=\u001b[39m titles[\u001b[39m0\u001b[39m]\u001b[39m.\u001b[39mstrip() \u001b[39mif\u001b[39;00m titles \u001b[39melse\u001b[39;00m \u001b[39m\"\u001b[39m\u001b[39mNo Title\u001b[39m\u001b[39m\"\u001b[39m\n\u001b[1;32m    166\u001b[0m     para \u001b[39m=\u001b[39m extract_first_n_paragraphs(markdown_content, num_para\u001b[39m=\u001b[39m\u001b[39m2\u001b[39m)\n\u001b[0;32m--> 167\u001b[0m     description \u001b[39m=\u001b[39m chain_description\u001b[39m.\u001b[39;49mpredict(context\u001b[39m=\u001b[39;49mpara)\n\u001b[1;32m    169\u001b[0m     \u001b[39mreturn\u001b[39;00m Document(page_content\u001b[39m=\u001b[39mmarkdown, metadata\u001b[39m=\u001b[39m{\n\u001b[1;32m    170\u001b[0m         \u001b[39m\"\u001b[39m\u001b[39msource\u001b[39m\u001b[39m\"\u001b[39m: url, \n\u001b[1;32m    171\u001b[0m         \u001b[39m\"\u001b[39m\u001b[39msource_type\u001b[39m\u001b[39m\"\u001b[39m: \u001b[39m\"\u001b[39m\u001b[39mblog\u001b[39m\u001b[39m\"\u001b[39m,\n\u001b[1;32m    172\u001b[0m         \u001b[39m\"\u001b[39m\u001b[39mtitle\u001b[39m\u001b[39m\"\u001b[39m: title,\n\u001b[1;32m    173\u001b[0m         \u001b[39m\"\u001b[39m\u001b[39mdescription\u001b[39m\u001b[39m\"\u001b[39m: description})\n\u001b[1;32m    174\u001b[0m \u001b[39mexcept\u001b[39;00m \u001b[39mException\u001b[39;00m \u001b[39mas\u001b[39;00m e:\n",
      "File \u001b[0;32m~/play/chainlink/langchain/langchain/chains/llm.py:218\u001b[0m, in \u001b[0;36mLLMChain.predict\u001b[0;34m(self, callbacks, **kwargs)\u001b[0m\n\u001b[1;32m    203\u001b[0m \u001b[39mdef\u001b[39;00m \u001b[39mpredict\u001b[39m(\u001b[39mself\u001b[39m, callbacks: Callbacks \u001b[39m=\u001b[39m \u001b[39mNone\u001b[39;00m, \u001b[39m*\u001b[39m\u001b[39m*\u001b[39mkwargs: Any) \u001b[39m-\u001b[39m\u001b[39m>\u001b[39m \u001b[39mstr\u001b[39m:\n\u001b[1;32m    204\u001b[0m \u001b[39m    \u001b[39m\u001b[39m\"\"\"Format prompt with kwargs and pass to LLM.\u001b[39;00m\n\u001b[1;32m    205\u001b[0m \n\u001b[1;32m    206\u001b[0m \u001b[39m    Args:\u001b[39;00m\n\u001b[0;32m   (...)\u001b[0m\n\u001b[1;32m    216\u001b[0m \u001b[39m            completion = llm.predict(adjective=\"funny\")\u001b[39;00m\n\u001b[1;32m    217\u001b[0m \u001b[39m    \"\"\"\u001b[39;00m\n\u001b[0;32m--> 218\u001b[0m     \u001b[39mreturn\u001b[39;00m \u001b[39mself\u001b[39;49m(kwargs, callbacks\u001b[39m=\u001b[39;49mcallbacks)[\u001b[39mself\u001b[39m\u001b[39m.\u001b[39moutput_key]\n",
      "File \u001b[0;32m~/play/chainlink/langchain/langchain/chains/base.py:149\u001b[0m, in \u001b[0;36mChain.__call__\u001b[0;34m(self, inputs, return_only_outputs, callbacks, tags, include_run_info)\u001b[0m\n\u001b[1;32m    147\u001b[0m \u001b[39mexcept\u001b[39;00m (\u001b[39mKeyboardInterrupt\u001b[39;00m, \u001b[39mException\u001b[39;00m) \u001b[39mas\u001b[39;00m e:\n\u001b[1;32m    148\u001b[0m     run_manager\u001b[39m.\u001b[39mon_chain_error(e)\n\u001b[0;32m--> 149\u001b[0m     \u001b[39mraise\u001b[39;00m e\n\u001b[1;32m    150\u001b[0m run_manager\u001b[39m.\u001b[39mon_chain_end(outputs)\n\u001b[1;32m    151\u001b[0m final_outputs: Dict[\u001b[39mstr\u001b[39m, Any] \u001b[39m=\u001b[39m \u001b[39mself\u001b[39m\u001b[39m.\u001b[39mprep_outputs(\n\u001b[1;32m    152\u001b[0m     inputs, outputs, return_only_outputs\n\u001b[1;32m    153\u001b[0m )\n",
      "File \u001b[0;32m~/play/chainlink/langchain/langchain/chains/base.py:143\u001b[0m, in \u001b[0;36mChain.__call__\u001b[0;34m(self, inputs, return_only_outputs, callbacks, tags, include_run_info)\u001b[0m\n\u001b[1;32m    137\u001b[0m run_manager \u001b[39m=\u001b[39m callback_manager\u001b[39m.\u001b[39mon_chain_start(\n\u001b[1;32m    138\u001b[0m     dumpd(\u001b[39mself\u001b[39m),\n\u001b[1;32m    139\u001b[0m     inputs,\n\u001b[1;32m    140\u001b[0m )\n\u001b[1;32m    141\u001b[0m \u001b[39mtry\u001b[39;00m:\n\u001b[1;32m    142\u001b[0m     outputs \u001b[39m=\u001b[39m (\n\u001b[0;32m--> 143\u001b[0m         \u001b[39mself\u001b[39;49m\u001b[39m.\u001b[39;49m_call(inputs, run_manager\u001b[39m=\u001b[39;49mrun_manager)\n\u001b[1;32m    144\u001b[0m         \u001b[39mif\u001b[39;00m new_arg_supported\n\u001b[1;32m    145\u001b[0m         \u001b[39melse\u001b[39;00m \u001b[39mself\u001b[39m\u001b[39m.\u001b[39m_call(inputs)\n\u001b[1;32m    146\u001b[0m     )\n\u001b[1;32m    147\u001b[0m \u001b[39mexcept\u001b[39;00m (\u001b[39mKeyboardInterrupt\u001b[39;00m, \u001b[39mException\u001b[39;00m) \u001b[39mas\u001b[39;00m e:\n\u001b[1;32m    148\u001b[0m     run_manager\u001b[39m.\u001b[39mon_chain_error(e)\n",
      "File \u001b[0;32m~/play/chainlink/langchain/langchain/chains/llm.py:74\u001b[0m, in \u001b[0;36mLLMChain._call\u001b[0;34m(self, inputs, run_manager)\u001b[0m\n\u001b[1;32m     69\u001b[0m \u001b[39mdef\u001b[39;00m \u001b[39m_call\u001b[39m(\n\u001b[1;32m     70\u001b[0m     \u001b[39mself\u001b[39m,\n\u001b[1;32m     71\u001b[0m     inputs: Dict[\u001b[39mstr\u001b[39m, Any],\n\u001b[1;32m     72\u001b[0m     run_manager: Optional[CallbackManagerForChainRun] \u001b[39m=\u001b[39m \u001b[39mNone\u001b[39;00m,\n\u001b[1;32m     73\u001b[0m ) \u001b[39m-\u001b[39m\u001b[39m>\u001b[39m Dict[\u001b[39mstr\u001b[39m, \u001b[39mstr\u001b[39m]:\n\u001b[0;32m---> 74\u001b[0m     response \u001b[39m=\u001b[39m \u001b[39mself\u001b[39;49m\u001b[39m.\u001b[39;49mgenerate([inputs], run_manager\u001b[39m=\u001b[39;49mrun_manager)\n\u001b[1;32m     75\u001b[0m     \u001b[39mreturn\u001b[39;00m \u001b[39mself\u001b[39m\u001b[39m.\u001b[39mcreate_outputs(response)[\u001b[39m0\u001b[39m]\n",
      "File \u001b[0;32m~/play/chainlink/langchain/langchain/chains/llm.py:84\u001b[0m, in \u001b[0;36mLLMChain.generate\u001b[0;34m(self, input_list, run_manager)\u001b[0m\n\u001b[1;32m     82\u001b[0m \u001b[39m\u001b[39m\u001b[39m\"\"\"Generate LLM result from inputs.\"\"\"\u001b[39;00m\n\u001b[1;32m     83\u001b[0m prompts, stop \u001b[39m=\u001b[39m \u001b[39mself\u001b[39m\u001b[39m.\u001b[39mprep_prompts(input_list, run_manager\u001b[39m=\u001b[39mrun_manager)\n\u001b[0;32m---> 84\u001b[0m \u001b[39mreturn\u001b[39;00m \u001b[39mself\u001b[39;49m\u001b[39m.\u001b[39;49mllm\u001b[39m.\u001b[39;49mgenerate_prompt(\n\u001b[1;32m     85\u001b[0m     prompts, stop, callbacks\u001b[39m=\u001b[39;49mrun_manager\u001b[39m.\u001b[39;49mget_child() \u001b[39mif\u001b[39;49;00m run_manager \u001b[39melse\u001b[39;49;00m \u001b[39mNone\u001b[39;49;00m\n\u001b[1;32m     86\u001b[0m )\n",
      "File \u001b[0;32m~/play/chainlink/langchain/langchain/chat_models/base.py:154\u001b[0m, in \u001b[0;36mBaseChatModel.generate_prompt\u001b[0;34m(self, prompts, stop, callbacks, **kwargs)\u001b[0m\n\u001b[1;32m    146\u001b[0m \u001b[39mdef\u001b[39;00m \u001b[39mgenerate_prompt\u001b[39m(\n\u001b[1;32m    147\u001b[0m     \u001b[39mself\u001b[39m,\n\u001b[1;32m    148\u001b[0m     prompts: List[PromptValue],\n\u001b[0;32m   (...)\u001b[0m\n\u001b[1;32m    151\u001b[0m     \u001b[39m*\u001b[39m\u001b[39m*\u001b[39mkwargs: Any,\n\u001b[1;32m    152\u001b[0m ) \u001b[39m-\u001b[39m\u001b[39m>\u001b[39m LLMResult:\n\u001b[1;32m    153\u001b[0m     prompt_messages \u001b[39m=\u001b[39m [p\u001b[39m.\u001b[39mto_messages() \u001b[39mfor\u001b[39;00m p \u001b[39min\u001b[39;00m prompts]\n\u001b[0;32m--> 154\u001b[0m     \u001b[39mreturn\u001b[39;00m \u001b[39mself\u001b[39;49m\u001b[39m.\u001b[39;49mgenerate(prompt_messages, stop\u001b[39m=\u001b[39;49mstop, callbacks\u001b[39m=\u001b[39;49mcallbacks, \u001b[39m*\u001b[39;49m\u001b[39m*\u001b[39;49mkwargs)\n",
      "File \u001b[0;32m~/play/chainlink/langchain/langchain/chat_models/base.py:95\u001b[0m, in \u001b[0;36mBaseChatModel.generate\u001b[0;34m(self, messages, stop, callbacks, **kwargs)\u001b[0m\n\u001b[1;32m     93\u001b[0m \u001b[39mexcept\u001b[39;00m (\u001b[39mKeyboardInterrupt\u001b[39;00m, \u001b[39mException\u001b[39;00m) \u001b[39mas\u001b[39;00m e:\n\u001b[1;32m     94\u001b[0m     run_manager\u001b[39m.\u001b[39mon_llm_error(e)\n\u001b[0;32m---> 95\u001b[0m     \u001b[39mraise\u001b[39;00m e\n\u001b[1;32m     96\u001b[0m llm_output \u001b[39m=\u001b[39m \u001b[39mself\u001b[39m\u001b[39m.\u001b[39m_combine_llm_outputs([res\u001b[39m.\u001b[39mllm_output \u001b[39mfor\u001b[39;00m res \u001b[39min\u001b[39;00m results])\n\u001b[1;32m     97\u001b[0m generations \u001b[39m=\u001b[39m [res\u001b[39m.\u001b[39mgenerations \u001b[39mfor\u001b[39;00m res \u001b[39min\u001b[39;00m results]\n",
      "File \u001b[0;32m~/play/chainlink/langchain/langchain/chat_models/base.py:87\u001b[0m, in \u001b[0;36mBaseChatModel.generate\u001b[0;34m(self, messages, stop, callbacks, **kwargs)\u001b[0m\n\u001b[1;32m     83\u001b[0m new_arg_supported \u001b[39m=\u001b[39m inspect\u001b[39m.\u001b[39msignature(\u001b[39mself\u001b[39m\u001b[39m.\u001b[39m_generate)\u001b[39m.\u001b[39mparameters\u001b[39m.\u001b[39mget(\n\u001b[1;32m     84\u001b[0m     \u001b[39m\"\u001b[39m\u001b[39mrun_manager\u001b[39m\u001b[39m\"\u001b[39m\n\u001b[1;32m     85\u001b[0m )\n\u001b[1;32m     86\u001b[0m \u001b[39mtry\u001b[39;00m:\n\u001b[0;32m---> 87\u001b[0m     results \u001b[39m=\u001b[39m [\n\u001b[1;32m     88\u001b[0m         \u001b[39mself\u001b[39m\u001b[39m.\u001b[39m_generate(m, stop\u001b[39m=\u001b[39mstop, run_manager\u001b[39m=\u001b[39mrun_manager, \u001b[39m*\u001b[39m\u001b[39m*\u001b[39mkwargs)\n\u001b[1;32m     89\u001b[0m         \u001b[39mif\u001b[39;00m new_arg_supported\n\u001b[1;32m     90\u001b[0m         \u001b[39melse\u001b[39;00m \u001b[39mself\u001b[39m\u001b[39m.\u001b[39m_generate(m, stop\u001b[39m=\u001b[39mstop)\n\u001b[1;32m     91\u001b[0m         \u001b[39mfor\u001b[39;00m m \u001b[39min\u001b[39;00m messages\n\u001b[1;32m     92\u001b[0m     ]\n\u001b[1;32m     93\u001b[0m \u001b[39mexcept\u001b[39;00m (\u001b[39mKeyboardInterrupt\u001b[39;00m, \u001b[39mException\u001b[39;00m) \u001b[39mas\u001b[39;00m e:\n\u001b[1;32m     94\u001b[0m     run_manager\u001b[39m.\u001b[39mon_llm_error(e)\n",
      "File \u001b[0;32m~/play/chainlink/langchain/langchain/chat_models/base.py:88\u001b[0m, in \u001b[0;36m<listcomp>\u001b[0;34m(.0)\u001b[0m\n\u001b[1;32m     83\u001b[0m new_arg_supported \u001b[39m=\u001b[39m inspect\u001b[39m.\u001b[39msignature(\u001b[39mself\u001b[39m\u001b[39m.\u001b[39m_generate)\u001b[39m.\u001b[39mparameters\u001b[39m.\u001b[39mget(\n\u001b[1;32m     84\u001b[0m     \u001b[39m\"\u001b[39m\u001b[39mrun_manager\u001b[39m\u001b[39m\"\u001b[39m\n\u001b[1;32m     85\u001b[0m )\n\u001b[1;32m     86\u001b[0m \u001b[39mtry\u001b[39;00m:\n\u001b[1;32m     87\u001b[0m     results \u001b[39m=\u001b[39m [\n\u001b[0;32m---> 88\u001b[0m         \u001b[39mself\u001b[39;49m\u001b[39m.\u001b[39;49m_generate(m, stop\u001b[39m=\u001b[39;49mstop, run_manager\u001b[39m=\u001b[39;49mrun_manager, \u001b[39m*\u001b[39;49m\u001b[39m*\u001b[39;49mkwargs)\n\u001b[1;32m     89\u001b[0m         \u001b[39mif\u001b[39;00m new_arg_supported\n\u001b[1;32m     90\u001b[0m         \u001b[39melse\u001b[39;00m \u001b[39mself\u001b[39m\u001b[39m.\u001b[39m_generate(m, stop\u001b[39m=\u001b[39mstop)\n\u001b[1;32m     91\u001b[0m         \u001b[39mfor\u001b[39;00m m \u001b[39min\u001b[39;00m messages\n\u001b[1;32m     92\u001b[0m     ]\n\u001b[1;32m     93\u001b[0m \u001b[39mexcept\u001b[39;00m (\u001b[39mKeyboardInterrupt\u001b[39;00m, \u001b[39mException\u001b[39;00m) \u001b[39mas\u001b[39;00m e:\n\u001b[1;32m     94\u001b[0m     run_manager\u001b[39m.\u001b[39mon_llm_error(e)\n",
      "File \u001b[0;32m~/play/chainlink/langchain/langchain/chat_models/openai.py:354\u001b[0m, in \u001b[0;36mChatOpenAI._generate\u001b[0;34m(self, messages, stop, run_manager, **kwargs)\u001b[0m\n\u001b[1;32m    346\u001b[0m     message \u001b[39m=\u001b[39m _convert_dict_to_message(\n\u001b[1;32m    347\u001b[0m         {\n\u001b[1;32m    348\u001b[0m             \u001b[39m\"\u001b[39m\u001b[39mcontent\u001b[39m\u001b[39m\"\u001b[39m: inner_completion,\n\u001b[0;32m   (...)\u001b[0m\n\u001b[1;32m    351\u001b[0m         }\n\u001b[1;32m    352\u001b[0m     )\n\u001b[1;32m    353\u001b[0m     \u001b[39mreturn\u001b[39;00m ChatResult(generations\u001b[39m=\u001b[39m[ChatGeneration(message\u001b[39m=\u001b[39mmessage)])\n\u001b[0;32m--> 354\u001b[0m response \u001b[39m=\u001b[39m \u001b[39mself\u001b[39;49m\u001b[39m.\u001b[39;49mcompletion_with_retry(messages\u001b[39m=\u001b[39;49mmessage_dicts, \u001b[39m*\u001b[39;49m\u001b[39m*\u001b[39;49mparams)\n\u001b[1;32m    355\u001b[0m \u001b[39mreturn\u001b[39;00m \u001b[39mself\u001b[39m\u001b[39m.\u001b[39m_create_chat_result(response)\n",
      "File \u001b[0;32m~/play/chainlink/langchain/langchain/chat_models/openai.py:302\u001b[0m, in \u001b[0;36mChatOpenAI.completion_with_retry\u001b[0;34m(self, **kwargs)\u001b[0m\n\u001b[1;32m    298\u001b[0m \u001b[39m@retry_decorator\u001b[39m\n\u001b[1;32m    299\u001b[0m \u001b[39mdef\u001b[39;00m \u001b[39m_completion_with_retry\u001b[39m(\u001b[39m*\u001b[39m\u001b[39m*\u001b[39mkwargs: Any) \u001b[39m-\u001b[39m\u001b[39m>\u001b[39m Any:\n\u001b[1;32m    300\u001b[0m     \u001b[39mreturn\u001b[39;00m \u001b[39mself\u001b[39m\u001b[39m.\u001b[39mclient\u001b[39m.\u001b[39mcreate(\u001b[39m*\u001b[39m\u001b[39m*\u001b[39mkwargs)\n\u001b[0;32m--> 302\u001b[0m \u001b[39mreturn\u001b[39;00m _completion_with_retry(\u001b[39m*\u001b[39;49m\u001b[39m*\u001b[39;49mkwargs)\n",
      "File \u001b[0;32m~/anaconda3/envs/chainlink/lib/python3.10/site-packages/tenacity/__init__.py:289\u001b[0m, in \u001b[0;36mBaseRetrying.wraps.<locals>.wrapped_f\u001b[0;34m(*args, **kw)\u001b[0m\n\u001b[1;32m    287\u001b[0m \u001b[39m@functools\u001b[39m\u001b[39m.\u001b[39mwraps(f)\n\u001b[1;32m    288\u001b[0m \u001b[39mdef\u001b[39;00m \u001b[39mwrapped_f\u001b[39m(\u001b[39m*\u001b[39margs: t\u001b[39m.\u001b[39mAny, \u001b[39m*\u001b[39m\u001b[39m*\u001b[39mkw: t\u001b[39m.\u001b[39mAny) \u001b[39m-\u001b[39m\u001b[39m>\u001b[39m t\u001b[39m.\u001b[39mAny:\n\u001b[0;32m--> 289\u001b[0m     \u001b[39mreturn\u001b[39;00m \u001b[39mself\u001b[39;49m(f, \u001b[39m*\u001b[39;49margs, \u001b[39m*\u001b[39;49m\u001b[39m*\u001b[39;49mkw)\n",
      "File \u001b[0;32m~/anaconda3/envs/chainlink/lib/python3.10/site-packages/tenacity/__init__.py:379\u001b[0m, in \u001b[0;36mRetrying.__call__\u001b[0;34m(self, fn, *args, **kwargs)\u001b[0m\n\u001b[1;32m    377\u001b[0m retry_state \u001b[39m=\u001b[39m RetryCallState(retry_object\u001b[39m=\u001b[39m\u001b[39mself\u001b[39m, fn\u001b[39m=\u001b[39mfn, args\u001b[39m=\u001b[39margs, kwargs\u001b[39m=\u001b[39mkwargs)\n\u001b[1;32m    378\u001b[0m \u001b[39mwhile\u001b[39;00m \u001b[39mTrue\u001b[39;00m:\n\u001b[0;32m--> 379\u001b[0m     do \u001b[39m=\u001b[39m \u001b[39mself\u001b[39;49m\u001b[39m.\u001b[39;49miter(retry_state\u001b[39m=\u001b[39;49mretry_state)\n\u001b[1;32m    380\u001b[0m     \u001b[39mif\u001b[39;00m \u001b[39misinstance\u001b[39m(do, DoAttempt):\n\u001b[1;32m    381\u001b[0m         \u001b[39mtry\u001b[39;00m:\n",
      "File \u001b[0;32m~/anaconda3/envs/chainlink/lib/python3.10/site-packages/tenacity/__init__.py:314\u001b[0m, in \u001b[0;36mBaseRetrying.iter\u001b[0;34m(self, retry_state)\u001b[0m\n\u001b[1;32m    312\u001b[0m is_explicit_retry \u001b[39m=\u001b[39m fut\u001b[39m.\u001b[39mfailed \u001b[39mand\u001b[39;00m \u001b[39misinstance\u001b[39m(fut\u001b[39m.\u001b[39mexception(), TryAgain)\n\u001b[1;32m    313\u001b[0m \u001b[39mif\u001b[39;00m \u001b[39mnot\u001b[39;00m (is_explicit_retry \u001b[39mor\u001b[39;00m \u001b[39mself\u001b[39m\u001b[39m.\u001b[39mretry(retry_state)):\n\u001b[0;32m--> 314\u001b[0m     \u001b[39mreturn\u001b[39;00m fut\u001b[39m.\u001b[39;49mresult()\n\u001b[1;32m    316\u001b[0m \u001b[39mif\u001b[39;00m \u001b[39mself\u001b[39m\u001b[39m.\u001b[39mafter \u001b[39mis\u001b[39;00m \u001b[39mnot\u001b[39;00m \u001b[39mNone\u001b[39;00m:\n\u001b[1;32m    317\u001b[0m     \u001b[39mself\u001b[39m\u001b[39m.\u001b[39mafter(retry_state)\n",
      "File \u001b[0;32m~/anaconda3/envs/chainlink/lib/python3.10/concurrent/futures/_base.py:451\u001b[0m, in \u001b[0;36mFuture.result\u001b[0;34m(self, timeout)\u001b[0m\n\u001b[1;32m    449\u001b[0m     \u001b[39mraise\u001b[39;00m CancelledError()\n\u001b[1;32m    450\u001b[0m \u001b[39melif\u001b[39;00m \u001b[39mself\u001b[39m\u001b[39m.\u001b[39m_state \u001b[39m==\u001b[39m FINISHED:\n\u001b[0;32m--> 451\u001b[0m     \u001b[39mreturn\u001b[39;00m \u001b[39mself\u001b[39;49m\u001b[39m.\u001b[39;49m__get_result()\n\u001b[1;32m    453\u001b[0m \u001b[39mself\u001b[39m\u001b[39m.\u001b[39m_condition\u001b[39m.\u001b[39mwait(timeout)\n\u001b[1;32m    455\u001b[0m \u001b[39mif\u001b[39;00m \u001b[39mself\u001b[39m\u001b[39m.\u001b[39m_state \u001b[39min\u001b[39;00m [CANCELLED, CANCELLED_AND_NOTIFIED]:\n",
      "File \u001b[0;32m~/anaconda3/envs/chainlink/lib/python3.10/concurrent/futures/_base.py:403\u001b[0m, in \u001b[0;36mFuture.__get_result\u001b[0;34m(self)\u001b[0m\n\u001b[1;32m    401\u001b[0m \u001b[39mif\u001b[39;00m \u001b[39mself\u001b[39m\u001b[39m.\u001b[39m_exception:\n\u001b[1;32m    402\u001b[0m     \u001b[39mtry\u001b[39;00m:\n\u001b[0;32m--> 403\u001b[0m         \u001b[39mraise\u001b[39;00m \u001b[39mself\u001b[39m\u001b[39m.\u001b[39m_exception\n\u001b[1;32m    404\u001b[0m     \u001b[39mfinally\u001b[39;00m:\n\u001b[1;32m    405\u001b[0m         \u001b[39m# Break a reference cycle with the exception in self._exception\u001b[39;00m\n\u001b[1;32m    406\u001b[0m         \u001b[39mself\u001b[39m \u001b[39m=\u001b[39m \u001b[39mNone\u001b[39;00m\n",
      "File \u001b[0;32m~/anaconda3/envs/chainlink/lib/python3.10/site-packages/tenacity/__init__.py:382\u001b[0m, in \u001b[0;36mRetrying.__call__\u001b[0;34m(self, fn, *args, **kwargs)\u001b[0m\n\u001b[1;32m    380\u001b[0m \u001b[39mif\u001b[39;00m \u001b[39misinstance\u001b[39m(do, DoAttempt):\n\u001b[1;32m    381\u001b[0m     \u001b[39mtry\u001b[39;00m:\n\u001b[0;32m--> 382\u001b[0m         result \u001b[39m=\u001b[39m fn(\u001b[39m*\u001b[39;49margs, \u001b[39m*\u001b[39;49m\u001b[39m*\u001b[39;49mkwargs)\n\u001b[1;32m    383\u001b[0m     \u001b[39mexcept\u001b[39;00m \u001b[39mBaseException\u001b[39;00m:  \u001b[39m# noqa: B902\u001b[39;00m\n\u001b[1;32m    384\u001b[0m         retry_state\u001b[39m.\u001b[39mset_exception(sys\u001b[39m.\u001b[39mexc_info())  \u001b[39m# type: ignore[arg-type]\u001b[39;00m\n",
      "File \u001b[0;32m~/play/chainlink/langchain/langchain/chat_models/openai.py:300\u001b[0m, in \u001b[0;36mChatOpenAI.completion_with_retry.<locals>._completion_with_retry\u001b[0;34m(**kwargs)\u001b[0m\n\u001b[1;32m    298\u001b[0m \u001b[39m@retry_decorator\u001b[39m\n\u001b[1;32m    299\u001b[0m \u001b[39mdef\u001b[39;00m \u001b[39m_completion_with_retry\u001b[39m(\u001b[39m*\u001b[39m\u001b[39m*\u001b[39mkwargs: Any) \u001b[39m-\u001b[39m\u001b[39m>\u001b[39m Any:\n\u001b[0;32m--> 300\u001b[0m     \u001b[39mreturn\u001b[39;00m \u001b[39mself\u001b[39;49m\u001b[39m.\u001b[39;49mclient\u001b[39m.\u001b[39;49mcreate(\u001b[39m*\u001b[39;49m\u001b[39m*\u001b[39;49mkwargs)\n",
      "File \u001b[0;32m~/anaconda3/envs/chainlink/lib/python3.10/site-packages/openai/api_resources/chat_completion.py:25\u001b[0m, in \u001b[0;36mChatCompletion.create\u001b[0;34m(cls, *args, **kwargs)\u001b[0m\n\u001b[1;32m     23\u001b[0m \u001b[39mwhile\u001b[39;00m \u001b[39mTrue\u001b[39;00m:\n\u001b[1;32m     24\u001b[0m     \u001b[39mtry\u001b[39;00m:\n\u001b[0;32m---> 25\u001b[0m         \u001b[39mreturn\u001b[39;00m \u001b[39msuper\u001b[39;49m()\u001b[39m.\u001b[39;49mcreate(\u001b[39m*\u001b[39;49margs, \u001b[39m*\u001b[39;49m\u001b[39m*\u001b[39;49mkwargs)\n\u001b[1;32m     26\u001b[0m     \u001b[39mexcept\u001b[39;00m TryAgain \u001b[39mas\u001b[39;00m e:\n\u001b[1;32m     27\u001b[0m         \u001b[39mif\u001b[39;00m timeout \u001b[39mis\u001b[39;00m \u001b[39mnot\u001b[39;00m \u001b[39mNone\u001b[39;00m \u001b[39mand\u001b[39;00m time\u001b[39m.\u001b[39mtime() \u001b[39m>\u001b[39m start \u001b[39m+\u001b[39m timeout:\n",
      "File \u001b[0;32m~/anaconda3/envs/chainlink/lib/python3.10/site-packages/openai/api_resources/abstract/engine_api_resource.py:153\u001b[0m, in \u001b[0;36mEngineAPIResource.create\u001b[0;34m(cls, api_key, api_base, api_type, request_id, api_version, organization, **params)\u001b[0m\n\u001b[1;32m    127\u001b[0m \u001b[39m@classmethod\u001b[39m\n\u001b[1;32m    128\u001b[0m \u001b[39mdef\u001b[39;00m \u001b[39mcreate\u001b[39m(\n\u001b[1;32m    129\u001b[0m     \u001b[39mcls\u001b[39m,\n\u001b[0;32m   (...)\u001b[0m\n\u001b[1;32m    136\u001b[0m     \u001b[39m*\u001b[39m\u001b[39m*\u001b[39mparams,\n\u001b[1;32m    137\u001b[0m ):\n\u001b[1;32m    138\u001b[0m     (\n\u001b[1;32m    139\u001b[0m         deployment_id,\n\u001b[1;32m    140\u001b[0m         engine,\n\u001b[0;32m   (...)\u001b[0m\n\u001b[1;32m    150\u001b[0m         api_key, api_base, api_type, api_version, organization, \u001b[39m*\u001b[39m\u001b[39m*\u001b[39mparams\n\u001b[1;32m    151\u001b[0m     )\n\u001b[0;32m--> 153\u001b[0m     response, _, api_key \u001b[39m=\u001b[39m requestor\u001b[39m.\u001b[39;49mrequest(\n\u001b[1;32m    154\u001b[0m         \u001b[39m\"\u001b[39;49m\u001b[39mpost\u001b[39;49m\u001b[39m\"\u001b[39;49m,\n\u001b[1;32m    155\u001b[0m         url,\n\u001b[1;32m    156\u001b[0m         params\u001b[39m=\u001b[39;49mparams,\n\u001b[1;32m    157\u001b[0m         headers\u001b[39m=\u001b[39;49mheaders,\n\u001b[1;32m    158\u001b[0m         stream\u001b[39m=\u001b[39;49mstream,\n\u001b[1;32m    159\u001b[0m         request_id\u001b[39m=\u001b[39;49mrequest_id,\n\u001b[1;32m    160\u001b[0m         request_timeout\u001b[39m=\u001b[39;49mrequest_timeout,\n\u001b[1;32m    161\u001b[0m     )\n\u001b[1;32m    163\u001b[0m     \u001b[39mif\u001b[39;00m stream:\n\u001b[1;32m    164\u001b[0m         \u001b[39m# must be an iterator\u001b[39;00m\n\u001b[1;32m    165\u001b[0m         \u001b[39massert\u001b[39;00m \u001b[39mnot\u001b[39;00m \u001b[39misinstance\u001b[39m(response, OpenAIResponse)\n",
      "File \u001b[0;32m~/anaconda3/envs/chainlink/lib/python3.10/site-packages/openai/api_requestor.py:216\u001b[0m, in \u001b[0;36mAPIRequestor.request\u001b[0;34m(self, method, url, params, headers, files, stream, request_id, request_timeout)\u001b[0m\n\u001b[1;32m    205\u001b[0m \u001b[39mdef\u001b[39;00m \u001b[39mrequest\u001b[39m(\n\u001b[1;32m    206\u001b[0m     \u001b[39mself\u001b[39m,\n\u001b[1;32m    207\u001b[0m     method,\n\u001b[0;32m   (...)\u001b[0m\n\u001b[1;32m    214\u001b[0m     request_timeout: Optional[Union[\u001b[39mfloat\u001b[39m, Tuple[\u001b[39mfloat\u001b[39m, \u001b[39mfloat\u001b[39m]]] \u001b[39m=\u001b[39m \u001b[39mNone\u001b[39;00m,\n\u001b[1;32m    215\u001b[0m ) \u001b[39m-\u001b[39m\u001b[39m>\u001b[39m Tuple[Union[OpenAIResponse, Iterator[OpenAIResponse]], \u001b[39mbool\u001b[39m, \u001b[39mstr\u001b[39m]:\n\u001b[0;32m--> 216\u001b[0m     result \u001b[39m=\u001b[39m \u001b[39mself\u001b[39;49m\u001b[39m.\u001b[39;49mrequest_raw(\n\u001b[1;32m    217\u001b[0m         method\u001b[39m.\u001b[39;49mlower(),\n\u001b[1;32m    218\u001b[0m         url,\n\u001b[1;32m    219\u001b[0m         params\u001b[39m=\u001b[39;49mparams,\n\u001b[1;32m    220\u001b[0m         supplied_headers\u001b[39m=\u001b[39;49mheaders,\n\u001b[1;32m    221\u001b[0m         files\u001b[39m=\u001b[39;49mfiles,\n\u001b[1;32m    222\u001b[0m         stream\u001b[39m=\u001b[39;49mstream,\n\u001b[1;32m    223\u001b[0m         request_id\u001b[39m=\u001b[39;49mrequest_id,\n\u001b[1;32m    224\u001b[0m         request_timeout\u001b[39m=\u001b[39;49mrequest_timeout,\n\u001b[1;32m    225\u001b[0m     )\n\u001b[1;32m    226\u001b[0m     resp, got_stream \u001b[39m=\u001b[39m \u001b[39mself\u001b[39m\u001b[39m.\u001b[39m_interpret_response(result, stream)\n\u001b[1;32m    227\u001b[0m     \u001b[39mreturn\u001b[39;00m resp, got_stream, \u001b[39mself\u001b[39m\u001b[39m.\u001b[39mapi_key\n",
      "File \u001b[0;32m~/anaconda3/envs/chainlink/lib/python3.10/site-packages/openai/api_requestor.py:516\u001b[0m, in \u001b[0;36mAPIRequestor.request_raw\u001b[0;34m(self, method, url, params, supplied_headers, files, stream, request_id, request_timeout)\u001b[0m\n\u001b[1;32m    514\u001b[0m     _thread_context\u001b[39m.\u001b[39msession \u001b[39m=\u001b[39m _make_session()\n\u001b[1;32m    515\u001b[0m \u001b[39mtry\u001b[39;00m:\n\u001b[0;32m--> 516\u001b[0m     result \u001b[39m=\u001b[39m _thread_context\u001b[39m.\u001b[39;49msession\u001b[39m.\u001b[39;49mrequest(\n\u001b[1;32m    517\u001b[0m         method,\n\u001b[1;32m    518\u001b[0m         abs_url,\n\u001b[1;32m    519\u001b[0m         headers\u001b[39m=\u001b[39;49mheaders,\n\u001b[1;32m    520\u001b[0m         data\u001b[39m=\u001b[39;49mdata,\n\u001b[1;32m    521\u001b[0m         files\u001b[39m=\u001b[39;49mfiles,\n\u001b[1;32m    522\u001b[0m         stream\u001b[39m=\u001b[39;49mstream,\n\u001b[1;32m    523\u001b[0m         timeout\u001b[39m=\u001b[39;49mrequest_timeout \u001b[39mif\u001b[39;49;00m request_timeout \u001b[39melse\u001b[39;49;00m TIMEOUT_SECS,\n\u001b[1;32m    524\u001b[0m         proxies\u001b[39m=\u001b[39;49m_thread_context\u001b[39m.\u001b[39;49msession\u001b[39m.\u001b[39;49mproxies,\n\u001b[1;32m    525\u001b[0m     )\n\u001b[1;32m    526\u001b[0m \u001b[39mexcept\u001b[39;00m requests\u001b[39m.\u001b[39mexceptions\u001b[39m.\u001b[39mTimeout \u001b[39mas\u001b[39;00m e:\n\u001b[1;32m    527\u001b[0m     \u001b[39mraise\u001b[39;00m error\u001b[39m.\u001b[39mTimeout(\u001b[39m\"\u001b[39m\u001b[39mRequest timed out: \u001b[39m\u001b[39m{}\u001b[39;00m\u001b[39m\"\u001b[39m\u001b[39m.\u001b[39mformat(e)) \u001b[39mfrom\u001b[39;00m \u001b[39me\u001b[39;00m\n",
      "File \u001b[0;32m~/anaconda3/envs/chainlink/lib/python3.10/site-packages/requests/sessions.py:587\u001b[0m, in \u001b[0;36mSession.request\u001b[0;34m(self, method, url, params, data, headers, cookies, files, auth, timeout, allow_redirects, proxies, hooks, stream, verify, cert, json)\u001b[0m\n\u001b[1;32m    582\u001b[0m send_kwargs \u001b[39m=\u001b[39m {\n\u001b[1;32m    583\u001b[0m     \u001b[39m\"\u001b[39m\u001b[39mtimeout\u001b[39m\u001b[39m\"\u001b[39m: timeout,\n\u001b[1;32m    584\u001b[0m     \u001b[39m\"\u001b[39m\u001b[39mallow_redirects\u001b[39m\u001b[39m\"\u001b[39m: allow_redirects,\n\u001b[1;32m    585\u001b[0m }\n\u001b[1;32m    586\u001b[0m send_kwargs\u001b[39m.\u001b[39mupdate(settings)\n\u001b[0;32m--> 587\u001b[0m resp \u001b[39m=\u001b[39m \u001b[39mself\u001b[39;49m\u001b[39m.\u001b[39;49msend(prep, \u001b[39m*\u001b[39;49m\u001b[39m*\u001b[39;49msend_kwargs)\n\u001b[1;32m    589\u001b[0m \u001b[39mreturn\u001b[39;00m resp\n",
      "File \u001b[0;32m~/anaconda3/envs/chainlink/lib/python3.10/site-packages/requests/sessions.py:701\u001b[0m, in \u001b[0;36mSession.send\u001b[0;34m(self, request, **kwargs)\u001b[0m\n\u001b[1;32m    698\u001b[0m start \u001b[39m=\u001b[39m preferred_clock()\n\u001b[1;32m    700\u001b[0m \u001b[39m# Send the request\u001b[39;00m\n\u001b[0;32m--> 701\u001b[0m r \u001b[39m=\u001b[39m adapter\u001b[39m.\u001b[39;49msend(request, \u001b[39m*\u001b[39;49m\u001b[39m*\u001b[39;49mkwargs)\n\u001b[1;32m    703\u001b[0m \u001b[39m# Total elapsed time of the request (approximately)\u001b[39;00m\n\u001b[1;32m    704\u001b[0m elapsed \u001b[39m=\u001b[39m preferred_clock() \u001b[39m-\u001b[39m start\n",
      "File \u001b[0;32m~/anaconda3/envs/chainlink/lib/python3.10/site-packages/requests/adapters.py:487\u001b[0m, in \u001b[0;36mHTTPAdapter.send\u001b[0;34m(self, request, stream, timeout, verify, cert, proxies)\u001b[0m\n\u001b[1;32m    484\u001b[0m     timeout \u001b[39m=\u001b[39m TimeoutSauce(connect\u001b[39m=\u001b[39mtimeout, read\u001b[39m=\u001b[39mtimeout)\n\u001b[1;32m    486\u001b[0m \u001b[39mtry\u001b[39;00m:\n\u001b[0;32m--> 487\u001b[0m     resp \u001b[39m=\u001b[39m conn\u001b[39m.\u001b[39;49murlopen(\n\u001b[1;32m    488\u001b[0m         method\u001b[39m=\u001b[39;49mrequest\u001b[39m.\u001b[39;49mmethod,\n\u001b[1;32m    489\u001b[0m         url\u001b[39m=\u001b[39;49murl,\n\u001b[1;32m    490\u001b[0m         body\u001b[39m=\u001b[39;49mrequest\u001b[39m.\u001b[39;49mbody,\n\u001b[1;32m    491\u001b[0m         headers\u001b[39m=\u001b[39;49mrequest\u001b[39m.\u001b[39;49mheaders,\n\u001b[1;32m    492\u001b[0m         redirect\u001b[39m=\u001b[39;49m\u001b[39mFalse\u001b[39;49;00m,\n\u001b[1;32m    493\u001b[0m         assert_same_host\u001b[39m=\u001b[39;49m\u001b[39mFalse\u001b[39;49;00m,\n\u001b[1;32m    494\u001b[0m         preload_content\u001b[39m=\u001b[39;49m\u001b[39mFalse\u001b[39;49;00m,\n\u001b[1;32m    495\u001b[0m         decode_content\u001b[39m=\u001b[39;49m\u001b[39mFalse\u001b[39;49;00m,\n\u001b[1;32m    496\u001b[0m         retries\u001b[39m=\u001b[39;49m\u001b[39mself\u001b[39;49m\u001b[39m.\u001b[39;49mmax_retries,\n\u001b[1;32m    497\u001b[0m         timeout\u001b[39m=\u001b[39;49mtimeout,\n\u001b[1;32m    498\u001b[0m         chunked\u001b[39m=\u001b[39;49mchunked,\n\u001b[1;32m    499\u001b[0m     )\n\u001b[1;32m    501\u001b[0m \u001b[39mexcept\u001b[39;00m (ProtocolError, \u001b[39mOSError\u001b[39;00m) \u001b[39mas\u001b[39;00m err:\n\u001b[1;32m    502\u001b[0m     \u001b[39mraise\u001b[39;00m \u001b[39mConnectionError\u001b[39;00m(err, request\u001b[39m=\u001b[39mrequest)\n",
      "File \u001b[0;32m~/anaconda3/envs/chainlink/lib/python3.10/site-packages/urllib3/connectionpool.py:703\u001b[0m, in \u001b[0;36mHTTPConnectionPool.urlopen\u001b[0;34m(self, method, url, body, headers, retries, redirect, assert_same_host, timeout, pool_timeout, release_conn, chunked, body_pos, **response_kw)\u001b[0m\n\u001b[1;32m    700\u001b[0m     \u001b[39mself\u001b[39m\u001b[39m.\u001b[39m_prepare_proxy(conn)\n\u001b[1;32m    702\u001b[0m \u001b[39m# Make the request on the httplib connection object.\u001b[39;00m\n\u001b[0;32m--> 703\u001b[0m httplib_response \u001b[39m=\u001b[39m \u001b[39mself\u001b[39;49m\u001b[39m.\u001b[39;49m_make_request(\n\u001b[1;32m    704\u001b[0m     conn,\n\u001b[1;32m    705\u001b[0m     method,\n\u001b[1;32m    706\u001b[0m     url,\n\u001b[1;32m    707\u001b[0m     timeout\u001b[39m=\u001b[39;49mtimeout_obj,\n\u001b[1;32m    708\u001b[0m     body\u001b[39m=\u001b[39;49mbody,\n\u001b[1;32m    709\u001b[0m     headers\u001b[39m=\u001b[39;49mheaders,\n\u001b[1;32m    710\u001b[0m     chunked\u001b[39m=\u001b[39;49mchunked,\n\u001b[1;32m    711\u001b[0m )\n\u001b[1;32m    713\u001b[0m \u001b[39m# If we're going to release the connection in ``finally:``, then\u001b[39;00m\n\u001b[1;32m    714\u001b[0m \u001b[39m# the response doesn't need to know about the connection. Otherwise\u001b[39;00m\n\u001b[1;32m    715\u001b[0m \u001b[39m# it will also try to release it and we'll have a double-release\u001b[39;00m\n\u001b[1;32m    716\u001b[0m \u001b[39m# mess.\u001b[39;00m\n\u001b[1;32m    717\u001b[0m response_conn \u001b[39m=\u001b[39m conn \u001b[39mif\u001b[39;00m \u001b[39mnot\u001b[39;00m release_conn \u001b[39melse\u001b[39;00m \u001b[39mNone\u001b[39;00m\n",
      "File \u001b[0;32m~/anaconda3/envs/chainlink/lib/python3.10/site-packages/urllib3/connectionpool.py:449\u001b[0m, in \u001b[0;36mHTTPConnectionPool._make_request\u001b[0;34m(self, conn, method, url, timeout, chunked, **httplib_request_kw)\u001b[0m\n\u001b[1;32m    444\u001b[0m             httplib_response \u001b[39m=\u001b[39m conn\u001b[39m.\u001b[39mgetresponse()\n\u001b[1;32m    445\u001b[0m         \u001b[39mexcept\u001b[39;00m \u001b[39mBaseException\u001b[39;00m \u001b[39mas\u001b[39;00m e:\n\u001b[1;32m    446\u001b[0m             \u001b[39m# Remove the TypeError from the exception chain in\u001b[39;00m\n\u001b[1;32m    447\u001b[0m             \u001b[39m# Python 3 (including for exceptions like SystemExit).\u001b[39;00m\n\u001b[1;32m    448\u001b[0m             \u001b[39m# Otherwise it looks like a bug in the code.\u001b[39;00m\n\u001b[0;32m--> 449\u001b[0m             six\u001b[39m.\u001b[39;49mraise_from(e, \u001b[39mNone\u001b[39;49;00m)\n\u001b[1;32m    450\u001b[0m \u001b[39mexcept\u001b[39;00m (SocketTimeout, BaseSSLError, SocketError) \u001b[39mas\u001b[39;00m e:\n\u001b[1;32m    451\u001b[0m     \u001b[39mself\u001b[39m\u001b[39m.\u001b[39m_raise_timeout(err\u001b[39m=\u001b[39me, url\u001b[39m=\u001b[39murl, timeout_value\u001b[39m=\u001b[39mread_timeout)\n",
      "File \u001b[0;32m<string>:3\u001b[0m, in \u001b[0;36mraise_from\u001b[0;34m(value, from_value)\u001b[0m\n",
      "File \u001b[0;32m~/anaconda3/envs/chainlink/lib/python3.10/site-packages/urllib3/connectionpool.py:444\u001b[0m, in \u001b[0;36mHTTPConnectionPool._make_request\u001b[0;34m(self, conn, method, url, timeout, chunked, **httplib_request_kw)\u001b[0m\n\u001b[1;32m    441\u001b[0m \u001b[39mexcept\u001b[39;00m \u001b[39mTypeError\u001b[39;00m:\n\u001b[1;32m    442\u001b[0m     \u001b[39m# Python 3\u001b[39;00m\n\u001b[1;32m    443\u001b[0m     \u001b[39mtry\u001b[39;00m:\n\u001b[0;32m--> 444\u001b[0m         httplib_response \u001b[39m=\u001b[39m conn\u001b[39m.\u001b[39;49mgetresponse()\n\u001b[1;32m    445\u001b[0m     \u001b[39mexcept\u001b[39;00m \u001b[39mBaseException\u001b[39;00m \u001b[39mas\u001b[39;00m e:\n\u001b[1;32m    446\u001b[0m         \u001b[39m# Remove the TypeError from the exception chain in\u001b[39;00m\n\u001b[1;32m    447\u001b[0m         \u001b[39m# Python 3 (including for exceptions like SystemExit).\u001b[39;00m\n\u001b[1;32m    448\u001b[0m         \u001b[39m# Otherwise it looks like a bug in the code.\u001b[39;00m\n\u001b[1;32m    449\u001b[0m         six\u001b[39m.\u001b[39mraise_from(e, \u001b[39mNone\u001b[39;00m)\n",
      "File \u001b[0;32m~/anaconda3/envs/chainlink/lib/python3.10/http/client.py:1375\u001b[0m, in \u001b[0;36mHTTPConnection.getresponse\u001b[0;34m(self)\u001b[0m\n\u001b[1;32m   1373\u001b[0m \u001b[39mtry\u001b[39;00m:\n\u001b[1;32m   1374\u001b[0m     \u001b[39mtry\u001b[39;00m:\n\u001b[0;32m-> 1375\u001b[0m         response\u001b[39m.\u001b[39;49mbegin()\n\u001b[1;32m   1376\u001b[0m     \u001b[39mexcept\u001b[39;00m \u001b[39mConnectionError\u001b[39;00m:\n\u001b[1;32m   1377\u001b[0m         \u001b[39mself\u001b[39m\u001b[39m.\u001b[39mclose()\n",
      "File \u001b[0;32m~/anaconda3/envs/chainlink/lib/python3.10/http/client.py:318\u001b[0m, in \u001b[0;36mHTTPResponse.begin\u001b[0;34m(self)\u001b[0m\n\u001b[1;32m    316\u001b[0m \u001b[39m# read until we get a non-100 response\u001b[39;00m\n\u001b[1;32m    317\u001b[0m \u001b[39mwhile\u001b[39;00m \u001b[39mTrue\u001b[39;00m:\n\u001b[0;32m--> 318\u001b[0m     version, status, reason \u001b[39m=\u001b[39m \u001b[39mself\u001b[39;49m\u001b[39m.\u001b[39;49m_read_status()\n\u001b[1;32m    319\u001b[0m     \u001b[39mif\u001b[39;00m status \u001b[39m!=\u001b[39m CONTINUE:\n\u001b[1;32m    320\u001b[0m         \u001b[39mbreak\u001b[39;00m\n",
      "File \u001b[0;32m~/anaconda3/envs/chainlink/lib/python3.10/http/client.py:279\u001b[0m, in \u001b[0;36mHTTPResponse._read_status\u001b[0;34m(self)\u001b[0m\n\u001b[1;32m    278\u001b[0m \u001b[39mdef\u001b[39;00m \u001b[39m_read_status\u001b[39m(\u001b[39mself\u001b[39m):\n\u001b[0;32m--> 279\u001b[0m     line \u001b[39m=\u001b[39m \u001b[39mstr\u001b[39m(\u001b[39mself\u001b[39;49m\u001b[39m.\u001b[39;49mfp\u001b[39m.\u001b[39;49mreadline(_MAXLINE \u001b[39m+\u001b[39;49m \u001b[39m1\u001b[39;49m), \u001b[39m\"\u001b[39m\u001b[39miso-8859-1\u001b[39m\u001b[39m\"\u001b[39m)\n\u001b[1;32m    280\u001b[0m     \u001b[39mif\u001b[39;00m \u001b[39mlen\u001b[39m(line) \u001b[39m>\u001b[39m _MAXLINE:\n\u001b[1;32m    281\u001b[0m         \u001b[39mraise\u001b[39;00m LineTooLong(\u001b[39m\"\u001b[39m\u001b[39mstatus line\u001b[39m\u001b[39m\"\u001b[39m)\n",
      "File \u001b[0;32m~/anaconda3/envs/chainlink/lib/python3.10/socket.py:705\u001b[0m, in \u001b[0;36mSocketIO.readinto\u001b[0;34m(self, b)\u001b[0m\n\u001b[1;32m    703\u001b[0m \u001b[39mwhile\u001b[39;00m \u001b[39mTrue\u001b[39;00m:\n\u001b[1;32m    704\u001b[0m     \u001b[39mtry\u001b[39;00m:\n\u001b[0;32m--> 705\u001b[0m         \u001b[39mreturn\u001b[39;00m \u001b[39mself\u001b[39;49m\u001b[39m.\u001b[39;49m_sock\u001b[39m.\u001b[39;49mrecv_into(b)\n\u001b[1;32m    706\u001b[0m     \u001b[39mexcept\u001b[39;00m timeout:\n\u001b[1;32m    707\u001b[0m         \u001b[39mself\u001b[39m\u001b[39m.\u001b[39m_timeout_occurred \u001b[39m=\u001b[39m \u001b[39mTrue\u001b[39;00m\n",
      "File \u001b[0;32m~/anaconda3/envs/chainlink/lib/python3.10/ssl.py:1274\u001b[0m, in \u001b[0;36mSSLSocket.recv_into\u001b[0;34m(self, buffer, nbytes, flags)\u001b[0m\n\u001b[1;32m   1270\u001b[0m     \u001b[39mif\u001b[39;00m flags \u001b[39m!=\u001b[39m \u001b[39m0\u001b[39m:\n\u001b[1;32m   1271\u001b[0m         \u001b[39mraise\u001b[39;00m \u001b[39mValueError\u001b[39;00m(\n\u001b[1;32m   1272\u001b[0m           \u001b[39m\"\u001b[39m\u001b[39mnon-zero flags not allowed in calls to recv_into() on \u001b[39m\u001b[39m%s\u001b[39;00m\u001b[39m\"\u001b[39m \u001b[39m%\u001b[39m\n\u001b[1;32m   1273\u001b[0m           \u001b[39mself\u001b[39m\u001b[39m.\u001b[39m\u001b[39m__class__\u001b[39m)\n\u001b[0;32m-> 1274\u001b[0m     \u001b[39mreturn\u001b[39;00m \u001b[39mself\u001b[39;49m\u001b[39m.\u001b[39;49mread(nbytes, buffer)\n\u001b[1;32m   1275\u001b[0m \u001b[39melse\u001b[39;00m:\n\u001b[1;32m   1276\u001b[0m     \u001b[39mreturn\u001b[39;00m \u001b[39msuper\u001b[39m()\u001b[39m.\u001b[39mrecv_into(buffer, nbytes, flags)\n",
      "File \u001b[0;32m~/anaconda3/envs/chainlink/lib/python3.10/ssl.py:1130\u001b[0m, in \u001b[0;36mSSLSocket.read\u001b[0;34m(self, len, buffer)\u001b[0m\n\u001b[1;32m   1128\u001b[0m \u001b[39mtry\u001b[39;00m:\n\u001b[1;32m   1129\u001b[0m     \u001b[39mif\u001b[39;00m buffer \u001b[39mis\u001b[39;00m \u001b[39mnot\u001b[39;00m \u001b[39mNone\u001b[39;00m:\n\u001b[0;32m-> 1130\u001b[0m         \u001b[39mreturn\u001b[39;00m \u001b[39mself\u001b[39;49m\u001b[39m.\u001b[39;49m_sslobj\u001b[39m.\u001b[39;49mread(\u001b[39mlen\u001b[39;49m, buffer)\n\u001b[1;32m   1131\u001b[0m     \u001b[39melse\u001b[39;00m:\n\u001b[1;32m   1132\u001b[0m         \u001b[39mreturn\u001b[39;00m \u001b[39mself\u001b[39m\u001b[39m.\u001b[39m_sslobj\u001b[39m.\u001b[39mread(\u001b[39mlen\u001b[39m)\n",
      "\u001b[0;31mKeyboardInterrupt\u001b[0m: "
     ]
    }
   ],
   "source": [
    "blogs = scrap_blogs()"
   ]
  },
  {
   "cell_type": "code",
   "execution_count": 16,
   "metadata": {},
   "outputs": [],
   "source": [
    "with open(\"./data/blog_documents.pkl\", \"rb\") as f:\n",
    "    blogs_loaded = pickle.load(f)"
   ]
  },
  {
   "cell_type": "code",
   "execution_count": 17,
   "metadata": {},
   "outputs": [],
   "source": [
    "# Make sure all blogs are unique\n",
    "contents = []\n",
    "for blog in blogs_loaded:\n",
    "    if blog.page_content in contents:\n",
    "        print(\"Duplicate\")\n",
    "    else:\n",
    "        contents.append(blog.page_content)"
   ]
  },
  {
   "cell_type": "markdown",
   "metadata": {},
   "source": [
    "### Test chain.link"
   ]
  },
  {
   "cell_type": "code",
   "execution_count": 4,
   "metadata": {},
   "outputs": [
    {
     "name": "stderr",
     "output_type": "stream",
     "text": [
      "2023-09-08 12:28:09,898 - config - INFO - SO_KEY: RBoPt4BA20Ned8AO8Fna*A((\n"
     ]
    }
   ],
   "source": [
    "from ingest.chain_link import scrap_chain_link"
   ]
  },
  {
   "cell_type": "code",
   "execution_count": null,
   "metadata": {},
   "outputs": [],
   "source": [
    "docs = scrap_chain_link()"
   ]
  },
  {
   "cell_type": "code",
   "execution_count": 8,
   "metadata": {},
   "outputs": [
    {
     "data": {
      "text/plain": [
       "(152, 19)"
      ]
     },
     "execution_count": 8,
     "metadata": {},
     "output_type": "execute_result"
    }
   ],
   "source": [
    "len(docs[0]), len(docs[1])"
   ]
  },
  {
   "cell_type": "code",
   "execution_count": 13,
   "metadata": {},
   "outputs": [
    {
     "data": {
      "text/plain": [
       "(155, 19)"
      ]
     },
     "execution_count": 13,
     "metadata": {},
     "output_type": "execute_result"
    }
   ],
   "source": [
    "with open('/home/marshath/play/chainlink/chainlink-assistant/data/today/chain_link_main_documents.pkl', 'rb') as f:\n",
    "    docs_loaded_0 = pickle.load(f)\n",
    "\n",
    "with open('/home/marshath/play/chainlink/chainlink-assistant/data/today/chain_link_you_tube_documents.pkl', 'rb') as f:\n",
    "    blogs_loaded_1 = pickle.load(f)\n",
    "\n",
    "len(docs_loaded_0), len(blogs_loaded_1)"
   ]
  },
  {
   "cell_type": "code",
   "execution_count": 18,
   "metadata": {},
   "outputs": [
    {
     "data": {
      "text/plain": [
       "(152, 19)"
      ]
     },
     "execution_count": 18,
     "metadata": {},
     "output_type": "execute_result"
    }
   ],
   "source": [
    "with open('/home/marshath/play/chainlink/chainlink-assistant/nbs/data/chain_link_main_documents.pkl', 'rb') as f:\n",
    "    docs_loaded_0 = pickle.load(f)\n",
    "\n",
    "with open('/home/marshath/play/chainlink/chainlink-assistant/nbs/data/chain_link_you_tube_documents.pkl', 'rb') as f:\n",
    "    blogs_loaded_1 = pickle.load(f)\n",
    "\n",
    "len(docs_loaded_0), len(blogs_loaded_1)"
   ]
  },
  {
   "cell_type": "code",
   "execution_count": 37,
   "metadata": {},
   "outputs": [
    {
     "data": {
      "text/plain": [
       "{'source': 'https://chain.link/resources/blockchain-oracle-security/',\n",
       " 'title': 'The Ultimate Guide to Blockchain Oracle Security',\n",
       " 'description': 'The guide discusses security risks in blockchain oracles and how the right infrastructure can mitigate them.',\n",
       " 'source_type': 'main'}"
      ]
     },
     "execution_count": 37,
     "metadata": {},
     "output_type": "execute_result"
    }
   ],
   "source": [
    "docs_loaded_0[0].metadata"
   ]
  },
  {
   "cell_type": "code",
   "execution_count": 38,
   "metadata": {},
   "outputs": [
    {
     "data": {
      "text/plain": [
       "{'source': 'https://www.youtube.com/watch?v=flHWMXLDHD4',\n",
       " 'source_type': 'video',\n",
       " 'title': 'How bZx Automates Smart Contracts with Chainlink Automation | Chainlink Tech Talk #1',\n",
       " 'description': 'BZX automates their smart contracts with Chainlink Keepers to overcome the limitations of smart contracts not being fully automated.'}"
      ]
     },
     "execution_count": 38,
     "metadata": {},
     "output_type": "execute_result"
    }
   ],
   "source": [
    "blogs_loaded_1[0].metadata"
   ]
  },
  {
   "cell_type": "code",
   "execution_count": 19,
   "metadata": {},
   "outputs": [
    {
     "name": "stdout",
     "output_type": "stream",
     "text": [
      "Duplicate\n",
      "Duplicate\n",
      "Duplicate\n",
      "Duplicate\n",
      "Duplicate\n"
     ]
    }
   ],
   "source": [
    "# Make sure all doc and blogs are unique\n",
    "\n",
    "contents = []\n",
    "for doc in docs_loaded_0:\n",
    "    if doc.page_content in contents:\n",
    "        print(\"Duplicate\")\n",
    "    else:\n",
    "        contents.append(doc.page_content)\n",
    "\n",
    "contents = []\n",
    "for blog in blogs_loaded_1:\n",
    "    if blog.page_content in contents:\n",
    "        print(\"Duplicate\")\n",
    "    else:\n",
    "        contents.append(blog.page_content)"
   ]
  },
  {
   "cell_type": "markdown",
   "metadata": {},
   "source": [
    "### Test eduction"
   ]
  },
  {
   "cell_type": "code",
   "execution_count": 17,
   "metadata": {},
   "outputs": [],
   "source": [
    "from ingest.education import scrap_education_docs"
   ]
  },
  {
   "cell_type": "code",
   "execution_count": 18,
   "metadata": {},
   "outputs": [
    {
     "name": "stderr",
     "output_type": "stream",
     "text": [
      "Cloning into '.'...\n",
      "2023-09-08 12:33:49,740 - ingest.education - INFO - Scrapped chainlink education documents.\n"
     ]
    }
   ],
   "source": [
    "docs = scrap_education_docs()"
   ]
  },
  {
   "cell_type": "code",
   "execution_count": 20,
   "metadata": {},
   "outputs": [
    {
     "data": {
      "text/plain": [
       "51"
      ]
     },
     "execution_count": 20,
     "metadata": {},
     "output_type": "execute_result"
    }
   ],
   "source": [
    "len(docs)"
   ]
  },
  {
   "cell_type": "code",
   "execution_count": 20,
   "metadata": {},
   "outputs": [],
   "source": [
    "with open('/home/marshath/play/chainlink/chainlink-assistant/nbs/data/education_documents.pkl', 'rb') as f:\n",
    "    edu_docs = pickle.load(f)"
   ]
  },
  {
   "cell_type": "code",
   "execution_count": 40,
   "metadata": {},
   "outputs": [
    {
     "data": {
      "text/plain": [
       "{'source': 'https://github.com/oceanByte/chainlink-education/blob/a0b8886bd664423b40c8bd3661fdb7d61e975ea2/src/api/src/shared/course/courses/vrfIntroduction/Chapters/Chapter-6/course.md',\n",
       " 'type': 'education'}"
      ]
     },
     "execution_count": 40,
     "metadata": {},
     "output_type": "execute_result"
    }
   ],
   "source": [
    "edu_docs[0].metadata"
   ]
  },
  {
   "cell_type": "code",
   "execution_count": 21,
   "metadata": {},
   "outputs": [],
   "source": [
    "contents = []\n",
    "for doc in edu_docs:\n",
    "    if doc.page_content in contents:\n",
    "        print(\"Duplicate\")\n",
    "    else:\n",
    "        contents.append(doc.page_content)"
   ]
  },
  {
   "cell_type": "markdown",
   "metadata": {},
   "source": [
    "### Test stackoverflow"
   ]
  },
  {
   "cell_type": "code",
   "execution_count": 24,
   "metadata": {},
   "outputs": [],
   "source": [
    "from ingest.stackoverflow import scrap_stackoverflow\n",
    "from ingest_script import get_access_token"
   ]
  },
  {
   "cell_type": "code",
   "execution_count": 25,
   "metadata": {},
   "outputs": [
    {
     "name": "stderr",
     "output_type": "stream",
     "text": [
      "2023-09-08 12:35:08,112 - ingest_script - INFO - Initial get code response: 302\n",
      "2023-09-08 12:35:08,113 - ingest_script - INFO - Initial get code response headers: /users/login?returnurl=https%3a%2f%2fstackoverflow.com%2foauth%3fclient_id%3d27148%26scope%3dread_inbox%26redirect_uri%3dhttp%3a%2f%2flocalhost\n",
      "2023-09-08 12:35:09,457 - ingest_script - INFO - Login response: 200\n",
      "2023-09-08 12:35:09,710 - ingest_script - INFO - Second get code response: 302\n",
      "2023-09-08 12:35:09,711 - ingest_script - INFO - Second get code response headers: http://localhost/?code=ib02w7aDzomkYkI2WA302w))\n"
     ]
    }
   ],
   "source": [
    "access_token = get_access_token()"
   ]
  },
  {
   "cell_type": "code",
   "execution_count": 27,
   "metadata": {},
   "outputs": [
    {
     "data": {
      "text/plain": [
       "'Wu(beJ5kE1fbgm7MvjyEDg))'"
      ]
     },
     "execution_count": 27,
     "metadata": {},
     "output_type": "execute_result"
    }
   ],
   "source": [
    "access_token['access_token']"
   ]
  },
  {
   "cell_type": "code",
   "execution_count": 28,
   "metadata": {},
   "outputs": [
    {
     "name": "stderr",
     "output_type": "stream",
     "text": [
      "2023-09-08 12:35:30,784 - ingest.stackoverflow - INFO - Key: RBoPt4BA20Ned8AO8Fna*A((\n",
      "2023-09-08 12:35:30,788 - ingest.stackoverflow - INFO - Wu(beJ5kE1fbgm7MvjyEDg))\n",
      "100%|██████████| 154/154 [02:50<00:00,  1.11s/it]\n",
      "2023-09-08 12:38:40,762 - ingest.stackoverflow - INFO - Scrapped stackoverflow\n",
      "2023-09-08 12:38:40,763 - ingest.stackoverflow - INFO - First document SO: page_content='Question: (Asked on: 2023-05-15 09:46:33)\\nFind price feed contracts Addresses of chainlink within smart contracts\\nURL: https://stackoverflow.com/questions/76252825/find-price-feed-contracts-addresses-of-chainlink-within-smart-contracts\\n\\nQuestion Body:\\nI am developing a contract in which I have to check whether the incoming token\\nis paired with USD to get the price feed of Chainlink from the smart contract.\\nOnly such tokens are going to be added to my smart contract. Does Chainlink\\nhave any functions to get the verified or registered list of pairs from a\\nsmart contract?\\n\\nI have gone through <https://docs.chain.link/data-feeds/feed-registry>, which\\nsupports only a few tokens on the Ethereum Mainnet. I am developing my\\napplication on the Polygon mainnet.\\n\\n  1. I have to only accept tokens that are verified feed pairs with USD on the Polygon Mainnet.\\n  2. Query Chainlink data feeds of such pairs from asset addresses directly from the smart contract.\\n\\n\\n\\nAnswers:\\n(Answered on: 2023-05-18 10:06:40)\\n\\n\\nThe [Feed Registry](https://docs.chain.link/data-feeds/feed-registry) is only\\navaiable on [Ethereum Mainnet](https://docs.chain.link/data-feeds/feed-\\nregistry#contract-addresses)\\n\\nI suggest you create your own table to manage it on Polygon.\\n\\n\\n\\n' metadata={'source': 'https://stackoverflow.com/questions/76252825/find-price-feed-contracts-addresses-of-chainlink-within-smart-contracts', 'type': 'stackoverflow'}\n",
      "2023-09-08 12:38:40,766 - ingest.stackoverflow - INFO - Scrapped stackoverflow\n"
     ]
    }
   ],
   "source": [
    "docs = scrap_stackoverflow(access_token=access_token['access_token'])"
   ]
  },
  {
   "cell_type": "code",
   "execution_count": 31,
   "metadata": {},
   "outputs": [
    {
     "data": {
      "text/plain": [
       "{'source': 'https://stackoverflow.com/questions/76252825/find-price-feed-contracts-addresses-of-chainlink-within-smart-contracts',\n",
       " 'type': 'stackoverflow'}"
      ]
     },
     "execution_count": 31,
     "metadata": {},
     "output_type": "execute_result"
    }
   ],
   "source": [
    "docs[0].metadata"
   ]
  },
  {
   "cell_type": "markdown",
   "metadata": {},
   "source": [
    "### Test data"
   ]
  },
  {
   "cell_type": "code",
   "execution_count": 4,
   "metadata": {},
   "outputs": [
    {
     "name": "stderr",
     "output_type": "stream",
     "text": [
      "2023-09-08 14:23:23,393 - config - INFO - SO_KEY: RBoPt4BA20Ned8AO8Fna*A((\n"
     ]
    }
   ],
   "source": [
    "from ingest.data import scrap_data"
   ]
  },
  {
   "cell_type": "code",
   "execution_count": 5,
   "metadata": {},
   "outputs": [
    {
     "name": "stderr",
     "output_type": "stream",
     "text": [
      "Base URLs:   0%|          | 0/11 [00:00<?, ?it/s]2023-09-08 14:23:23,433 - ingest.data - INFO - Scraping https://data.chain.link/ethereum/mainnet\n",
      "2023-09-08 14:24:37,318 - ingest.data - INFO - Total links: 175\n",
      "2023-09-08 14:26:44,326 - ingest.data - INFO - Scraping https://data.chain.link/ethereum/mainnet done\n",
      "Base URLs:   9%|▉         | 1/11 [03:20<33:28, 200.89s/it]2023-09-08 14:26:44,328 - ingest.data - INFO - Scraping https://data.chain.link/polygon/mainnet\n",
      "2023-09-08 14:27:57,352 - ingest.data - INFO - Total links: 95\n",
      "2023-09-08 14:29:18,236 - ingest.data - INFO - Scraping https://data.chain.link/polygon/mainnet done\n",
      "Base URLs:  18%|█▊        | 2/11 [05:54<25:59, 173.26s/it]2023-09-08 14:29:18,240 - ingest.data - INFO - Scraping https://data.chain.link/optimism/mainnet\n",
      "2023-09-08 14:30:30,186 - ingest.data - INFO - Total links: 85\n",
      "2023-09-08 14:31:25,655 - ingest.data - INFO - Scraping https://data.chain.link/optimism/mainnet done\n",
      "Base URLs:  27%|██▋       | 3/11 [08:02<20:18, 152.33s/it]2023-09-08 14:31:25,656 - ingest.data - INFO - Scraping https://data.chain.link/fantom/mainnet\n",
      "2023-09-08 14:32:37,781 - ingest.data - INFO - Total links: 24\n",
      "2023-09-08 14:33:00,230 - ingest.data - INFO - Scraping https://data.chain.link/fantom/mainnet done\n",
      "Base URLs:  36%|███▋      | 4/11 [09:36<15:06, 129.53s/it]2023-09-08 14:33:00,233 - ingest.data - INFO - Scraping https://data.chain.link/moonriver/mainnet\n",
      "2023-09-08 14:34:11,797 - ingest.data - INFO - Total links: 15\n",
      "2023-09-08 14:34:30,019 - ingest.data - INFO - Scraping https://data.chain.link/moonriver/mainnet done\n",
      "Base URLs:  45%|████▌     | 5/11 [11:06<11:31, 115.20s/it]2023-09-08 14:34:30,021 - ingest.data - INFO - Scraping https://data.chain.link/metis/mainnet\n",
      "2023-09-08 14:35:41,414 - ingest.data - INFO - Total links: 7\n",
      "2023-09-08 14:35:49,556 - ingest.data - INFO - Scraping https://data.chain.link/metis/mainnet done\n",
      "Base URLs:  55%|█████▍    | 6/11 [12:26<08:35, 103.07s/it]2023-09-08 14:35:49,558 - ingest.data - INFO - Scraping https://data.chain.link/bsc/mainnet\n",
      "2023-09-08 14:37:01,448 - ingest.data - INFO - Total links: 101\n",
      "2023-09-08 14:38:26,726 - ingest.data - INFO - Scraping https://data.chain.link/bsc/mainnet done\n",
      "Base URLs:  64%|██████▎   | 7/11 [15:03<08:03, 120.76s/it]2023-09-08 14:38:26,728 - ingest.data - INFO - Scraping https://data.chain.link/arbitrum/mainnet\n",
      "2023-09-08 14:39:38,900 - ingest.data - INFO - Total links: 77\n",
      "2023-09-08 14:40:32,055 - ingest.data - INFO - Scraping https://data.chain.link/arbitrum/mainnet done\n",
      "Base URLs:  73%|███████▎  | 8/11 [17:08<06:06, 122.21s/it]2023-09-08 14:40:32,057 - ingest.data - INFO - Scraping https://data.chain.link/avalanche/mainnet\n",
      "2023-09-08 14:41:44,225 - ingest.data - INFO - Total links: 52\n",
      "2023-09-08 14:42:28,647 - ingest.data - INFO - Scraping https://data.chain.link/avalanche/mainnet done\n",
      "Base URLs:  82%|████████▏ | 9/11 [19:05<04:00, 120.46s/it]2023-09-08 14:42:28,649 - ingest.data - INFO - Scraping https://data.chain.link/harmony/mainnet\n",
      "2023-09-08 14:43:40,336 - ingest.data - INFO - Total links: 23\n",
      "2023-09-08 14:44:07,500 - ingest.data - INFO - Scraping https://data.chain.link/harmony/mainnet done\n",
      "Base URLs:  91%|█████████ | 10/11 [20:44<01:53, 113.79s/it]2023-09-08 14:44:07,504 - ingest.data - INFO - Scraping https://data.chain.link/moonbeam/mainnet\n",
      "2023-09-08 14:45:19,543 - ingest.data - INFO - Total links: 12\n",
      "2023-09-08 14:45:20,911 - ingest.data - ERROR - Failed to get details for https://data.chain.link/moonbeam/mainnet/stablecoins/usdc-usd\n",
      "2023-09-08 14:45:20,912 - ingest.data - ERROR - Message: unknown error: session deleted because of page crash\n",
      "from tab crashed\n",
      "  (Session info: headless chrome=114.0.5735.90)\n",
      "Stacktrace:\n",
      "#0 0x56083a4134e3 <unknown>\n",
      "#1 0x56083a142b00 <unknown>\n",
      "#2 0x56083a12db69 <unknown>\n",
      "#3 0x56083a12d066 <unknown>\n",
      "#4 0x56083a12c168 <unknown>\n",
      "#5 0x56083a12bfa0 <unknown>\n",
      "#6 0x56083a12b7ca <unknown>\n",
      "#7 0x56083a14c810 <unknown>\n",
      "#8 0x56083a1b6523 <unknown>\n",
      "#9 0x56083a19dde3 <unknown>\n",
      "#10 0x56083a1732dd <unknown>\n",
      "#11 0x56083a17434e <unknown>\n",
      "#12 0x56083a3d33e4 <unknown>\n",
      "#13 0x56083a3d73d7 <unknown>\n",
      "#14 0x56083a3e1b20 <unknown>\n",
      "#15 0x56083a3d8023 <unknown>\n",
      "#16 0x56083a3a61aa <unknown>\n",
      "#17 0x56083a3fc6b8 <unknown>\n",
      "#18 0x56083a3fc847 <unknown>\n",
      "#19 0x56083a40c243 <unknown>\n",
      "#20 0x7f45f20876db start_thread\n",
      "\n",
      "2023-09-08 14:45:20,941 - ingest.data - ERROR - Failed to get details for https://data.chain.link/moonbeam/mainnet/crypto-usd/eth-usd\n",
      "2023-09-08 14:45:20,957 - ingest.data - ERROR - Message: invalid session id\n",
      "Stacktrace:\n",
      "#0 0x56083a4134e3 <unknown>\n",
      "#1 0x56083a142b00 <unknown>\n",
      "#2 0x56083a172de4 <unknown>\n",
      "#3 0x56083a17434e <unknown>\n",
      "#4 0x56083a3d33e4 <unknown>\n",
      "#5 0x56083a3d73d7 <unknown>\n",
      "#6 0x56083a3e1b20 <unknown>\n",
      "#7 0x56083a3d8023 <unknown>\n",
      "#8 0x56083a3a61aa <unknown>\n",
      "#9 0x56083a3fc6b8 <unknown>\n",
      "#10 0x56083a3fc847 <unknown>\n",
      "#11 0x56083a40c243 <unknown>\n",
      "#12 0x7f45f20876db start_thread\n",
      "\n",
      "2023-09-08 14:45:20,971 - ingest.data - ERROR - Failed to get details for https://data.chain.link/moonbeam/mainnet/stablecoins/dai-usd\n",
      "2023-09-08 14:45:20,976 - ingest.data - ERROR - Message: invalid session id\n",
      "Stacktrace:\n",
      "#0 0x56083a4134e3 <unknown>\n",
      "#1 0x56083a142b00 <unknown>\n",
      "#2 0x56083a172919 <unknown>\n",
      "#3 0x56083a19df16 <unknown>\n",
      "#4 0x56083a19a17a <unknown>\n",
      "#5 0x56083a1998a6 <unknown>\n",
      "#6 0x56083a112263 <unknown>\n",
      "#7 0x56083a3d33e4 <unknown>\n",
      "#8 0x56083a3d73d7 <unknown>\n",
      "#9 0x56083a3e1b20 <unknown>\n",
      "#10 0x56083a3d8023 <unknown>\n",
      "#11 0x56083a3a61aa <unknown>\n",
      "#12 0x56083a110a43 <unknown>\n",
      "#13 0x7f45f0a0bc87 __libc_start_main\n",
      "\n",
      "2023-09-08 14:45:21,010 - ingest.data - ERROR - Failed to get details for https://data.chain.link/moonbeam/mainnet/fiat/brl-usd\n",
      "2023-09-08 14:45:21,012 - ingest.data - ERROR - Message: unknown error: session deleted because of page crash\n",
      "from unknown error: cannot determine loading status\n",
      "from tab crashed\n",
      "  (Session info: headless chrome=114.0.5735.90)\n",
      "Stacktrace:\n",
      "#0 0x5609f69024e3 <unknown>\n",
      "#1 0x5609f6631b00 <unknown>\n",
      "#2 0x5609f661cb69 <unknown>\n",
      "#3 0x5609f661c066 <unknown>\n",
      "#4 0x5609f661b168 <unknown>\n",
      "#5 0x5609f661afa0 <unknown>\n",
      "#6 0x5609f66199bf <unknown>\n",
      "#7 0x5609f661a162 <unknown>\n",
      "#8 0x5609f66280d5 <unknown>\n",
      "#9 0x5609f6629222 <unknown>\n",
      "#10 0x5609f663bbcb <unknown>\n",
      "#11 0x5609f66403ab <unknown>\n",
      "#12 0x5609f661a703 <unknown>\n",
      "#13 0x5609f663b810 <unknown>\n",
      "#14 0x5609f66a5523 <unknown>\n",
      "#15 0x5609f668cde3 <unknown>\n",
      "#16 0x5609f66622dd <unknown>\n",
      "#17 0x5609f666334e <unknown>\n",
      "#18 0x5609f68c23e4 <unknown>\n",
      "#19 0x5609f68c63d7 <unknown>\n",
      "#20 0x5609f68d0b20 <unknown>\n",
      "#21 0x5609f68c7023 <unknown>\n",
      "#22 0x5609f68951aa <unknown>\n",
      "#23 0x5609f68eb6b8 <unknown>\n",
      "#24 0x5609f68eb847 <unknown>\n",
      "#25 0x5609f68fb243 <unknown>\n",
      "#26 0x7fba9ae6d6db start_thread\n",
      "\n",
      "2023-09-08 14:45:21,031 - ingest.data - ERROR - Failed to get details for https://data.chain.link/moonbeam/mainnet/crypto-usd/btc-usd\n",
      "2023-09-08 14:45:21,034 - ingest.data - ERROR - Message: unknown error: session deleted because of page crash\n",
      "from unknown error: cannot determine loading status\n",
      "from tab crashed\n",
      "  (Session info: headless chrome=114.0.5735.90)\n",
      "Stacktrace:\n",
      "#0 0x55d92afd54e3 <unknown>\n",
      "#1 0x55d92ad04b00 <unknown>\n",
      "#2 0x55d92acefb69 <unknown>\n",
      "#3 0x55d92acef066 <unknown>\n",
      "#4 0x55d92acee168 <unknown>\n",
      "#5 0x55d92acedfa0 <unknown>\n",
      "#6 0x55d92acec9bf <unknown>\n",
      "#7 0x55d92aced162 <unknown>\n",
      "#8 0x55d92acfb0d5 <unknown>\n",
      "#9 0x55d92acfc222 <unknown>\n",
      "#10 0x55d92ad0ebcb <unknown>\n",
      "#11 0x55d92ad133ab <unknown>\n",
      "#12 0x55d92aced703 <unknown>\n",
      "#13 0x55d92ad0e810 <unknown>\n",
      "#14 0x55d92ad78523 <unknown>\n",
      "#15 0x55d92ad5fde3 <unknown>\n",
      "#16 0x55d92ad352dd <unknown>\n",
      "#17 0x55d92ad3634e <unknown>\n",
      "#18 0x55d92af953e4 <unknown>\n",
      "#19 0x55d92af993d7 <unknown>\n",
      "#20 0x55d92afa3b20 <unknown>\n",
      "#21 0x55d92af9a023 <unknown>\n",
      "#22 0x55d92af681aa <unknown>\n",
      "#23 0x55d92afbe6b8 <unknown>\n",
      "#24 0x55d92afbe847 <unknown>\n",
      "#25 0x55d92afce243 <unknown>\n",
      "#26 0x7f24136b56db start_thread\n",
      "\n",
      "2023-09-08 14:45:21,141 - ingest.data - ERROR - Failed to get details for https://data.chain.link/moonbeam/mainnet/stablecoins/busd-usd\n",
      "2023-09-08 14:45:21,143 - ingest.data - ERROR - Message: unknown error: session deleted because of page crash\n",
      "from unknown error: cannot determine loading status\n",
      "from tab crashed\n",
      "  (Session info: headless chrome=114.0.5735.90)\n",
      "Stacktrace:\n",
      "#0 0x5628a72f04e3 <unknown>\n",
      "#1 0x5628a701fb00 <unknown>\n",
      "#2 0x5628a700ab69 <unknown>\n",
      "#3 0x5628a700a066 <unknown>\n",
      "#4 0x5628a7009168 <unknown>\n",
      "#5 0x5628a7008fa0 <unknown>\n",
      "#6 0x5628a70079bf <unknown>\n",
      "#7 0x5628a7008162 <unknown>\n",
      "#8 0x5628a70160d5 <unknown>\n",
      "#9 0x5628a7017222 <unknown>\n",
      "#10 0x5628a7029bcb <unknown>\n",
      "#11 0x5628a702e3ab <unknown>\n",
      "#12 0x5628a7008703 <unknown>\n",
      "#13 0x5628a7029810 <unknown>\n",
      "#14 0x5628a7093523 <unknown>\n",
      "#15 0x5628a707ade3 <unknown>\n",
      "#16 0x5628a70502dd <unknown>\n",
      "#17 0x5628a705134e <unknown>\n",
      "#18 0x5628a72b03e4 <unknown>\n",
      "#19 0x5628a72b43d7 <unknown>\n",
      "#20 0x5628a72beb20 <unknown>\n",
      "#21 0x5628a72b5023 <unknown>\n",
      "#22 0x5628a72831aa <unknown>\n",
      "#23 0x5628a72d96b8 <unknown>\n",
      "#24 0x5628a72d9847 <unknown>\n",
      "#25 0x5628a72e9243 <unknown>\n",
      "#26 0x7f765630c6db start_thread\n",
      "\n",
      "2023-09-08 14:45:21,267 - ingest.data - ERROR - Failed to get details for https://data.chain.link/moonbeam/mainnet/crypto-usd/cake-usd\n",
      "2023-09-08 14:45:21,269 - ingest.data - ERROR - Message: unknown error: session deleted because of page crash\n",
      "from unknown error: cannot determine loading status\n",
      "from tab crashed\n",
      "  (Session info: headless chrome=114.0.5735.90)\n",
      "Stacktrace:\n",
      "#0 0x5573557434e3 <unknown>\n",
      "#1 0x557355472b00 <unknown>\n",
      "#2 0x55735545db69 <unknown>\n",
      "#3 0x55735545d066 <unknown>\n",
      "#4 0x55735545c168 <unknown>\n",
      "#5 0x55735545bfa0 <unknown>\n",
      "#6 0x55735545a9bf <unknown>\n",
      "#7 0x55735545b162 <unknown>\n",
      "#8 0x5573554690d5 <unknown>\n",
      "#9 0x55735546a222 <unknown>\n",
      "#10 0x55735547cbcb <unknown>\n",
      "#11 0x5573554813ab <unknown>\n",
      "#12 0x55735545b703 <unknown>\n",
      "#13 0x55735547c810 <unknown>\n",
      "#14 0x5573554e6523 <unknown>\n",
      "#15 0x5573554cdde3 <unknown>\n",
      "#16 0x5573554a32dd <unknown>\n",
      "#17 0x5573554a434e <unknown>\n",
      "#18 0x5573557033e4 <unknown>\n",
      "#19 0x5573557073d7 <unknown>\n",
      "#20 0x557355711b20 <unknown>\n",
      "#21 0x557355708023 <unknown>\n",
      "#22 0x5573556d61aa <unknown>\n",
      "#23 0x55735572c6b8 <unknown>\n",
      "#24 0x55735572c847 <unknown>\n",
      "#25 0x55735573c243 <unknown>\n",
      "#26 0x7f1011b7a6db start_thread\n",
      "\n",
      "2023-09-08 14:45:21,280 - ingest.data - ERROR - Failed to get details for https://data.chain.link/moonbeam/mainnet/crypto-usd/atom-usd\n",
      "2023-09-08 14:45:21,283 - ingest.data - ERROR - Message: unknown error: session deleted because of page crash\n",
      "from unknown error: cannot determine loading status\n",
      "from tab crashed\n",
      "  (Session info: headless chrome=114.0.5735.90)\n",
      "Stacktrace:\n",
      "#0 0x5557c29d34e3 <unknown>\n",
      "#1 0x5557c2702b00 <unknown>\n",
      "#2 0x5557c26edb69 <unknown>\n",
      "#3 0x5557c26ed066 <unknown>\n",
      "#4 0x5557c26ec168 <unknown>\n",
      "#5 0x5557c26ebfa0 <unknown>\n",
      "#6 0x5557c26ea9bf <unknown>\n",
      "#7 0x5557c26eb162 <unknown>\n",
      "#8 0x5557c26f90d5 <unknown>\n",
      "#9 0x5557c26fa222 <unknown>\n",
      "#10 0x5557c270cbcb <unknown>\n",
      "#11 0x5557c27113ab <unknown>\n",
      "#12 0x5557c26eb703 <unknown>\n",
      "#13 0x5557c270c810 <unknown>\n",
      "#14 0x5557c2776523 <unknown>\n",
      "#15 0x5557c275dde3 <unknown>\n",
      "#16 0x5557c27332dd <unknown>\n",
      "#17 0x5557c273434e <unknown>\n",
      "#18 0x5557c29933e4 <unknown>\n",
      "#19 0x5557c29973d7 <unknown>\n",
      "#20 0x5557c29a1b20 <unknown>\n",
      "#21 0x5557c2998023 <unknown>\n",
      "#22 0x5557c29661aa <unknown>\n",
      "#23 0x5557c29bc6b8 <unknown>\n",
      "#24 0x5557c29bc847 <unknown>\n",
      "#25 0x5557c29cc243 <unknown>\n",
      "#26 0x7f699ef286db start_thread\n",
      "\n",
      "2023-09-08 14:45:26,669 - ingest.data - INFO - Scraping https://data.chain.link/moonbeam/mainnet done\n",
      "Base URLs: 100%|██████████| 11/11 [22:03<00:00, 120.29s/it]\n"
     ]
    }
   ],
   "source": [
    "docs = scrap_data()"
   ]
  },
  {
   "cell_type": "code",
   "execution_count": 6,
   "metadata": {},
   "outputs": [],
   "source": [
    "from IPython.display import display, HTML, Markdown"
   ]
  },
  {
   "cell_type": "code",
   "execution_count": 7,
   "metadata": {},
   "outputs": [
    {
     "data": {
      "text/markdown": [
       "The following is the details for the pair RAI / USD which operates on the Ethereum Mainnet. This asset is named \"RAI Reflex Index\". and falls under the \"Crypto\" asset class. It has a tier status of \"Monitored\". The deviation threshold for this asset is set at 0.5%. 19 / 19 oracles carries and support this asset. You can find its contract at the address \"0x483d36f6a1d063d580c7a24f9a42b346f3a69fbb , and its ENS address is \"rai-usd.data.eth\"."
      ],
      "text/plain": [
       "<IPython.core.display.Markdown object>"
      ]
     },
     "execution_count": 7,
     "metadata": {},
     "output_type": "execute_result"
    }
   ],
   "source": [
    "Markdown(docs[0].page_content)"
   ]
  },
  {
   "cell_type": "code",
   "execution_count": 8,
   "metadata": {},
   "outputs": [
    {
     "data": {
      "text/markdown": [
       "The following is the details for the pair XCN / USD which operates on the Ethereum Mainnet. This asset is named \"Chain\". and falls under the \"Crypto\" asset class. It has a tier status of \"Verified\". The deviation threshold for this asset is set at 2%. 16 / 16 oracles carries and support this asset. You can find its contract at the address \"0xeb988b77b94c186053282bfcd8b7ed55142d3cab , and its ENS address is \"xcn-usd.data.eth\"."
      ],
      "text/plain": [
       "<IPython.core.display.Markdown object>"
      ]
     },
     "execution_count": 8,
     "metadata": {},
     "output_type": "execute_result"
    }
   ],
   "source": [
    "Markdown(docs[1].page_content)"
   ]
  },
  {
   "cell_type": "code",
   "execution_count": 9,
   "metadata": {},
   "outputs": [
    {
     "data": {
      "text/plain": [
       "{'title': 'RAI / USD on Ethereum Mainnet',\n",
       " 'description': 'Details for RAI / USD on Ethereum Mainnet',\n",
       " 'source_type': 'data',\n",
       " 'source': 'https://data.chain.link/ethereum/mainnet/stablecoins/rai-usd'}"
      ]
     },
     "execution_count": 9,
     "metadata": {},
     "output_type": "execute_result"
    }
   ],
   "source": [
    "docs[0].metadata"
   ]
  },
  {
   "cell_type": "code",
   "execution_count": 11,
   "metadata": {},
   "outputs": [
    {
     "data": {
      "text/plain": [
       "658"
      ]
     },
     "execution_count": 11,
     "metadata": {},
     "output_type": "execute_result"
    }
   ],
   "source": [
    "len(docs)"
   ]
  },
  {
   "cell_type": "code",
   "execution_count": 12,
   "metadata": {},
   "outputs": [],
   "source": [
    "# make source all title is unique\n",
    "titles = []\n",
    "for doc in docs:\n",
    "    if doc.metadata['title'] in titles:\n",
    "        raise Exception(\"Title already exists\")\n",
    "    titles.append(doc.metadata['title'])"
   ]
  },
  {
   "cell_type": "code",
   "execution_count": null,
   "metadata": {},
   "outputs": [],
   "source": []
  }
 ],
 "metadata": {
  "kernelspec": {
   "display_name": "chainlink",
   "language": "python",
   "name": "python3"
  },
  "language_info": {
   "codemirror_mode": {
    "name": "ipython",
    "version": 3
   },
   "file_extension": ".py",
   "mimetype": "text/x-python",
   "name": "python",
   "nbconvert_exporter": "python",
   "pygments_lexer": "ipython3",
   "version": "3.10.12"
  },
  "orig_nbformat": 4
 },
 "nbformat": 4,
 "nbformat_minor": 2
}
