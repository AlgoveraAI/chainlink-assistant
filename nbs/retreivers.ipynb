{
 "cells": [
  {
   "cell_type": "code",
   "execution_count": 38,
   "metadata": {},
   "outputs": [],
   "source": [
    "from IPython.display import display, HTML, Markdown"
   ]
  },
  {
   "cell_type": "code",
   "execution_count": 23,
   "metadata": {},
   "outputs": [],
   "source": [
    "import pickle\n",
    "import re\n",
    "import tiktoken\n",
    "from pydantic import BaseModel\n",
    "from typing import Any, Dict, List\n",
    "from langchain.chains import LLMChain\n",
    "from langchain.vectorstores import FAISS\n",
    "from langchain.schema import BaseRetriever\n",
    "from langchain.chat_models import ChatOpenAI\n",
    "from langchain.docstore.document import Document\n",
    "from langchain.embeddings import OpenAIEmbeddings\n",
    "from langchain.callbacks.manager import AsyncCallbackManager\n",
    "from langchain.text_splitter import TokenTextSplitter, RecursiveCharacterTextSplitter\n",
    "from langchain.chains import RetrievalQAWithSourcesChain\n",
    "import logging\n",
    "\n",
    "logger = logging.getLogger(__name__)"
   ]
  },
  {
   "cell_type": "markdown",
   "metadata": {},
   "source": [
    "### Test data docs in retriever "
   ]
  },
  {
   "cell_type": "code",
   "execution_count": 6,
   "metadata": {},
   "outputs": [],
   "source": [
    "with open(\"/home/marshath/play/chainlink/chainlink-assistant/data/datadocs_2023-08-16.pkl\", \"rb\") as f:\n",
    "    data_docs = pickle.load(f)\n",
    "    "
   ]
  },
  {
   "cell_type": "code",
   "execution_count": 16,
   "metadata": {},
   "outputs": [],
   "source": [
    "splitter = RecursiveCharacterTextSplitter(chunk_size=1200, chunk_overlap=100)\n",
    "split_docs = splitter.split_documents(data_docs)\n",
    "vectorstrore = FAISS.from_documents(split_docs, OpenAIEmbeddings())"
   ]
  },
  {
   "cell_type": "code",
   "execution_count": 25,
   "metadata": {},
   "outputs": [],
   "source": [
    "ret = vectorstrore.as_retriever(search_kwargs={\"k\":4})\n",
    "\n",
    "llm = ChatOpenAI(temperature=0.)\n",
    "chain = RetrievalQAWithSourcesChain.from_chain_type(llm=llm, chain_type=\"stuff\", retriever=ret)"
   ]
  },
  {
   "cell_type": "code",
   "execution_count": 73,
   "metadata": {},
   "outputs": [
    {
     "data": {
      "text/markdown": [
       "The contract address for ATOM / USD on the Moonbeam network is \"0x4f152d143c97b5e8d2293bc5b2380600f274a5dd\".\n"
      ],
      "text/plain": [
       "<IPython.core.display.Markdown object>"
      ]
     },
     "execution_count": 73,
     "metadata": {},
     "output_type": "execute_result"
    }
   ],
   "source": [
    "ques = \"what is the contract address for ATOM / USD on moonbeam network?\"\n",
    "r_docs = ret.get_relevant_documents(ques)\n",
    "answer = chain(ques)\n",
    "Markdown(answer[\"answer\"])"
   ]
  },
  {
   "cell_type": "code",
   "execution_count": 69,
   "metadata": {},
   "outputs": [
    {
     "data": {
      "text/markdown": [
       "The following is the details for the pair AAVE / USD which operates on the Metis Mainnet. This asset is named \"Aave\". and falls under the \"Crypto\" asset class. It has a tier status of \"Verified\". The deviation threshold for this asset is set at 0.5%. 15 / 15 oracles carries and support this asset. You can find its contract at the address \"0x54389e89a5ec1d4312d5b5c48055d6e56a177bf9"
      ],
      "text/plain": [
       "<IPython.core.display.Markdown object>"
      ]
     },
     "execution_count": 69,
     "metadata": {},
     "output_type": "execute_result"
    }
   ],
   "source": [
    "Markdown(r_docs[0].page_content)"
   ]
  },
  {
   "cell_type": "markdown",
   "metadata": {},
   "source": [
    "# Retriever"
   ]
  },
  {
   "cell_type": "code",
   "execution_count": 2,
   "metadata": {},
   "outputs": [],
   "source": [
    "class CustomeSplitter:\n",
    "    def __init__(self, chunk_threshold=6000, chunk_size=6000, chunk_overlap=50):\n",
    "        self.chunk_threshold = chunk_threshold\n",
    "        self.chunk_size = chunk_size\n",
    "        self.chunk_overlap = chunk_overlap\n",
    "        self.enc = tiktoken.get_encoding(\"cl100k_base\")\n",
    "        self.splitter = TokenTextSplitter(\n",
    "            chunk_size=chunk_size, \n",
    "            chunk_overlap=chunk_overlap\n",
    "        )\n",
    "\n",
    "    def token_counter(self, document):\n",
    "        tokens = self.enc.encode(document.page_content)\n",
    "        return len(tokens)\n",
    "\n",
    "    def split(self, documents):\n",
    "        chunked_documents = []\n",
    "        for i, doc in enumerate(documents):\n",
    "            try:\n",
    "                if self.token_counter(doc) > self.chunk_threshold:\n",
    "                    chunks = self.splitter.split_documents([doc])\n",
    "                    chunks = [\n",
    "                        Document(\n",
    "                            page_content=chunk.page_content,\n",
    "                            metadata={\n",
    "                                \"source\": f\"{chunk.metadata['source']} chunk {i}\"\n",
    "                            },\n",
    "                        )\n",
    "                        for i, chunk in enumerate(chunks)\n",
    "                    ]\n",
    "                    chunked_documents.extend(chunks)\n",
    "                else:\n",
    "                    chunked_documents.append(doc)\n",
    "            except Exception as e:\n",
    "                chunked_documents.append(doc)\n",
    "                print(f\"Error on document {i}\")\n",
    "                print(e)\n",
    "                print(doc.metadata[\"source\"])\n",
    "\n",
    "        return chunked_documents\n",
    "\n",
    "\n",
    "class CustomRetriever(BaseRetriever, BaseModel):\n",
    "    full_docs: List[Document]\n",
    "    base_retriever: BaseRetriever = None\n",
    "    k_final: int = 4\n",
    "\n",
    "    logger: Any = None\n",
    "\n",
    "    class Config:\n",
    "        \"\"\"Configuration for this pydantic object.\"\"\"\n",
    "\n",
    "        arbitrary_types_allowed = True\n",
    "\n",
    "    @classmethod\n",
    "    def from_documents(\n",
    "        cls,\n",
    "        full_docs: List[Document],\n",
    "        vector_store: FAISS,\n",
    "        search_kwargs: Dict[str, Any] = {},\n",
    "        k_initial: int = 10,\n",
    "        k_final: int = 4,\n",
    "        logger: Any = None,\n",
    "        **kwargs: Any,\n",
    "    ):\n",
    "        # splitter = RecursiveCharacterTextSplitter(chunk_size=1500, chunk_overlap=50)\n",
    "        # split_docs = splitter.split_documents(full_docs)\n",
    "        # vector_store = FAISS.from_documents(split_docs, embedding=OpenAIEmbeddings())\n",
    "\n",
    "        return cls(\n",
    "            full_docs=full_docs,\n",
    "            base_retriever=vector_store.as_retriever(search_kwargs={\"k\": k_initial}),\n",
    "            logger=logger,\n",
    "        )\n",
    "\n",
    "    def get_relevant_documents(self, query: str, workflow:int=1) -> List[Document]:\n",
    "\n",
    "        results =  self.base_retriever.get_relevant_documents(query=query)\n",
    "        self.logger.info(f\"Retrieved {len(results)} documents\")\n",
    "        self.logger.info(f\"Worflow: {workflow}\")\n",
    "        \n",
    "        if workflow == 2:\n",
    "            doc_ids = [doc.metadata[\"source\"] for doc in results]\n",
    "\n",
    "            # make it a set but keep the order\n",
    "            doc_ids = list(dict.fromkeys(doc_ids))[:self.k_final]\n",
    "\n",
    "            # log to the logger\n",
    "            self.logger.info(f\"Retrieved {len(doc_ids)} unique documents\")\n",
    "\n",
    "            # get upto 4 documents\n",
    "            full_retrieved_docs = [d for d in self.full_docs if d.metadata[\"source\"] in doc_ids]\n",
    "\n",
    "            return self.prepare_source(full_retrieved_docs)\n",
    "\n",
    "        full_retrieved_docs = results[:self.k_final]\n",
    "        return self.prepare_source(full_retrieved_docs)\n",
    "        \n",
    "    async def aget_relevant_documents(self, query: str) -> List[Document]:\n",
    "        raise NotImplementedError\n",
    "\n",
    "    def prepare_source(self, documents: List[Document]) -> List[Document]:\n",
    "        \n",
    "        for doc in documents:\n",
    "            source = doc.metadata[\"source\"]\n",
    "            if \"chunk\" in source:\n",
    "                source = source.split(\"chunk\")[0].strip()\n",
    "                doc.metadata[\"source\"] = source\n",
    "\n",
    "        return documents"
   ]
  },
  {
   "cell_type": "code",
   "execution_count": 3,
   "metadata": {},
   "outputs": [],
   "source": [
    "with open(\"/home/marshath/play/chainlink/chainlink-assistant/data/documents_2023-08-14.pkl\", \"rb\") as f:\n",
    "    documents = pickle.load(f)"
   ]
  },
  {
   "cell_type": "code",
   "execution_count": 5,
   "metadata": {},
   "outputs": [
    {
     "name": "stderr",
     "output_type": "stream",
     "text": [
      "Retrying langchain.embeddings.openai.embed_with_retry.<locals>._embed_with_retry in 4.0 seconds as it raised RateLimitError: Rate limit reached for default-text-embedding-ada-002 in organization org-apfNELnY4pAbHrx6LItJCss8 on tokens per min. Limit: 1000000 / min. Current: 793893 / min. Contact us through our help center at help.openai.com if you continue to have issues..\n"
     ]
    }
   ],
   "source": [
    "full_doc_splitter = CustomeSplitter()\n",
    "chunked_full_documents = full_doc_splitter.split(documents)\n",
    "\n",
    "splitter = RecursiveCharacterTextSplitter(chunk_size=1200, chunk_overlap=50)\n",
    "split_docs = splitter.split_documents(documents)\n",
    "\n",
    "vectorstore = FAISS.from_documents(split_docs, embedding=OpenAIEmbeddings())"
   ]
  },
  {
   "cell_type": "code",
   "execution_count": 6,
   "metadata": {},
   "outputs": [],
   "source": [
    "with open(\"/home/marshath/play/chainlink/assistant/data/vectorstore.pkl\", \"wb\") as f:\n",
    "    pickle.dump(vectorstore, f)"
   ]
  },
  {
   "cell_type": "code",
   "execution_count": 7,
   "metadata": {},
   "outputs": [],
   "source": [
    "with open(\"/home/marshath/play/chainlink/assistant/data/vectorstore.pkl\", \"rb\") as f:\n",
    "    vectorstore = pickle.load(f)"
   ]
  },
  {
   "cell_type": "code",
   "execution_count": 8,
   "metadata": {},
   "outputs": [],
   "source": [
    "retriever = CustomRetriever.from_documents(\n",
    "    chunked_full_documents, \n",
    "    vector_store=vectorstore,\n",
    "    k_initial=10, \n",
    "    k_final=4, \n",
    "    logger=logger\n",
    ")"
   ]
  },
  {
   "cell_type": "code",
   "execution_count": 51,
   "metadata": {},
   "outputs": [
    {
     "ename": "TypeError",
     "evalue": "TFIDFRetriever.get_relevant_documents() got an unexpected keyword argument 'workflow'",
     "output_type": "error",
     "traceback": [
      "\u001b[0;31m---------------------------------------------------------------------------\u001b[0m",
      "\u001b[0;31mTypeError\u001b[0m                                 Traceback (most recent call last)",
      "Cell \u001b[0;32mIn[51], line 1\u001b[0m\n\u001b[0;32m----> 1\u001b[0m r \u001b[39m=\u001b[39m retriever\u001b[39m.\u001b[39;49mget_relevant_documents(\u001b[39m\"\u001b[39;49m\u001b[39mora\u001b[39;49m\u001b[39m\"\u001b[39;49m, workflow\u001b[39m=\u001b[39;49m\u001b[39m2\u001b[39;49m)\n",
      "\u001b[0;31mTypeError\u001b[0m: TFIDFRetriever.get_relevant_documents() got an unexpected keyword argument 'workflow'"
     ]
    }
   ],
   "source": [
    "r = retriever.get_relevant_documents(\"ora\", workflow=2)"
   ]
  },
  {
   "cell_type": "code",
   "execution_count": 52,
   "metadata": {},
   "outputs": [
    {
     "name": "stdout",
     "output_type": "stream",
     "text": [
      "https://blog.chain.link/introducing-the-cross-chain-interoperability-protocol-ccip/\n",
      "https://blog.chain.link/chainlink-enterprise-blockchain-middleware/\n",
      "https://blog.chain.link/breaking-down-mixicles-and-its-potential-to-unlock-enterprise-demand-for-defi-applications-on-public-blockchains/\n"
     ]
    }
   ],
   "source": [
    "for e in r:\n",
    "    print(e.metadata['source'])"
   ]
  },
  {
   "cell_type": "markdown",
   "metadata": {},
   "source": [
    "# Search"
   ]
  },
  {
   "cell_type": "code",
   "execution_count": 15,
   "metadata": {},
   "outputs": [],
   "source": [
    "from langchain.retrievers import TFIDFRetriever"
   ]
  },
  {
   "cell_type": "code",
   "execution_count": 29,
   "metadata": {},
   "outputs": [],
   "source": [
    "with open(\"/home/marshath/play/chainlink/chainlink-assistant/data/blog_2023-08-14.pkl\", \"rb\") as f:\n",
    "    blogs = pickle.load(f)"
   ]
  },
  {
   "cell_type": "code",
   "execution_count": 30,
   "metadata": {},
   "outputs": [],
   "source": [
    "with open(\"/home/marshath/play/chainlink/chainlink-assistant/data/techdocs_2023-08-14.pkl\", \"rb\") as f:\n",
    "    techdocs = pickle.load(f)"
   ]
  },
  {
   "cell_type": "code",
   "execution_count": 32,
   "metadata": {},
   "outputs": [],
   "source": [
    "blog_ret = TFIDFRetriever.from_documents(blogs, k=30)\n",
    "techdocs_ret = TFIDFRetriever.from_documents(techdocs, k=30)"
   ]
  },
  {
   "cell_type": "code",
   "execution_count": 48,
   "metadata": {},
   "outputs": [],
   "source": [
    "class SearchRetriever(BaseRetriever, BaseModel):\n",
    "    # blog_docs: List[Document]\n",
    "    # tech_docs: List[Document]\n",
    "    blog_retriever: BaseRetriever = None\n",
    "    tech_retriever: BaseRetriever = None\n",
    "    k_final: int = 4\n",
    "    logger: Any = None\n",
    "\n",
    "    class Config:\n",
    "        \"\"\"Configuration for this pydantic object.\"\"\"\n",
    "\n",
    "        arbitrary_types_allowed = True\n",
    "\n",
    "    @classmethod\n",
    "    def from_documents(\n",
    "        cls,\n",
    "        blog_docs: List[Document],\n",
    "        tech_docs: List[Document],\n",
    "        k_final: int = 4,\n",
    "        logger: Any = None,\n",
    "        **kwargs: Any,\n",
    "    ):\n",
    "        blog_ret = TFIDFRetriever.from_documents(blog_docs, k=30)\n",
    "        tech_ret = TFIDFRetriever.from_documents(tech_docs, k=30)\n",
    "\n",
    "        return cls(\n",
    "            blog_retriever=blog_ret,\n",
    "            tech_retriever=tech_ret,\n",
    "            k_final=k_final,\n",
    "            logger=logger,\n",
    "        )\n",
    "\n",
    "    def get_relevant_documents(self, query: str, type_:str='all') -> List[Document]:\n",
    "        \"\"\"\n",
    "        Get relevant documents for a given query.\n",
    "\n",
    "        param query: The query to search for.\n",
    "        param type_: The type of documents to search for. Can be 'blog', 'tech', or 'all'.\n",
    "        \"\"\"\n",
    "\n",
    "        if type_ == \"blog\":\n",
    "            r_docs = self.blog_retriever.get_relevant_documents(query)\n",
    "\n",
    "            # Get only the metadata from the original documents\n",
    "            r_docs = [doc.metadata for doc in r_docs][:self.k_final]\n",
    "\n",
    "            return r_docs\n",
    "\n",
    "        if type_ == \"technical_document\":\n",
    "            r_docs = self.tech_retriever.get_relevant_documents(query)\n",
    "\n",
    "            # Get only the metadata from the original documents\n",
    "            r_docs = [doc.metadata for doc in r_docs][:self.k_final]\n",
    "\n",
    "            return r_docs\n",
    "\n",
    "        if type_ == \"all\":\n",
    "            r_docs_1 = self.blog_retriever.get_relevant_documents(query)\n",
    "            r_docs_2 = self.tech_retriever.get_relevant_documents(query)\n",
    "\n",
    "            # Merge the two lists; one object per document\n",
    "            r_docs = []\n",
    "            for doc1, doc2 in zip(r_docs_1, r_docs_2):\n",
    "                r_docs.append(doc1.metadata)\n",
    "                r_docs.append(doc2.metadata)\n",
    "\n",
    "            return r_docs[:self.k_final]\n",
    "\n",
    "        raise ValueError(\"type_ must be one of 'blog', 'technical_document', or 'all'\")\n",
    "    \n",
    "    def aget_relevant_documents(self):\n",
    "        raise NotImplementedError(\"This method is not implemented yet.\")"
   ]
  },
  {
   "cell_type": "code",
   "execution_count": 49,
   "metadata": {},
   "outputs": [],
   "source": [
    "ret = SearchRetriever.from_documents(blog_docs=blogs, tech_docs=techdocs, k_final=10, logger=logger)"
   ]
  },
  {
   "cell_type": "code",
   "execution_count": 59,
   "metadata": {},
   "outputs": [
    {
     "data": {
      "text/plain": [
       "[{'source': 'https://docs.chain.link/architecture-overview/architecture-request-model/',\n",
       "  'type': 'technical_document'},\n",
       " {'source': 'https://docs.chain.link/getting-started/advanced-tutorial/',\n",
       "  'type': 'technical_document'},\n",
       " {'source': 'https://docs.chain.link/any-api/find-oracle/',\n",
       "  'type': 'technical_document'},\n",
       " {'source': 'https://docs.chain.link/any-api/api-reference/',\n",
       "  'type': 'technical_document'},\n",
       " {'source': 'https://docs.chain.link/any-api/get-request/examples/large-responses/',\n",
       "  'type': 'technical_document'},\n",
       " {'source': 'https://docs.chain.link/architecture-overview/architecture-decentralized-model/',\n",
       "  'type': 'technical_document'},\n",
       " {'source': 'https://docs.chain.link/any-api/get-request/examples/existing-job-request/',\n",
       "  'type': 'technical_document'},\n",
       " {'source': 'https://docs.chain.link/chainlink-functions/api-reference/functions-client/',\n",
       "  'type': 'technical_document'},\n",
       " {'source': 'https://docs.chain.link/chainlink-nodes/oracle-jobs/jobs/',\n",
       "  'type': 'technical_document'},\n",
       " {'source': 'https://docs.chain.link/chainlink-functions/resources/concepts/',\n",
       "  'type': 'technical_document'}]"
      ]
     },
     "execution_count": 59,
     "metadata": {},
     "output_type": "execute_result"
    }
   ],
   "source": [
    "ret.get_relevant_documents(\"oracle\", type_=\"technical_document\")"
   ]
  },
  {
   "cell_type": "code",
   "execution_count": null,
   "metadata": {},
   "outputs": [],
   "source": []
  }
 ],
 "metadata": {
  "kernelspec": {
   "display_name": "chainlink",
   "language": "python",
   "name": "python3"
  },
  "language_info": {
   "codemirror_mode": {
    "name": "ipython",
    "version": 3
   },
   "file_extension": ".py",
   "mimetype": "text/x-python",
   "name": "python",
   "nbconvert_exporter": "python",
   "pygments_lexer": "ipython3",
   "version": "3.10.11"
  },
  "orig_nbformat": 4
 },
 "nbformat": 4,
 "nbformat_minor": 2
}
