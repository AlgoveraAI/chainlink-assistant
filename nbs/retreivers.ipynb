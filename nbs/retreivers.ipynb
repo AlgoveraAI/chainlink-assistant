{
 "cells": [
  {
   "cell_type": "code",
   "execution_count": 22,
   "metadata": {},
   "outputs": [],
   "source": [
    "import pickle\n",
    "import re\n",
    "import tiktoken\n",
    "from pydantic import BaseModel\n",
    "from typing import Any, Dict, List\n",
    "from langchain.chains import LLMChain\n",
    "from langchain.vectorstores import FAISS\n",
    "from langchain.schema import BaseRetriever\n",
    "from langchain.chat_models import ChatOpenAI\n",
    "from langchain.docstore.document import Document\n",
    "from langchain.embeddings import OpenAIEmbeddings\n",
    "from langchain.callbacks.manager import AsyncCallbackManager\n",
    "from langchain.text_splitter import TokenTextSplitter, RecursiveCharacterTextSplitter\n",
    "\n",
    "import logging\n",
    "\n",
    "logger = logging.getLogger(__name__)"
   ]
  },
  {
   "cell_type": "code",
   "execution_count": 67,
   "metadata": {},
   "outputs": [],
   "source": [
    "class CustomeSplitter:\n",
    "    def __init__(self, chunk_threshold=6000, chunk_size=6000, chunk_overlap=50):\n",
    "        self.chunk_threshold = chunk_threshold\n",
    "        self.chunk_size = chunk_size\n",
    "        self.chunk_overlap = chunk_overlap\n",
    "        self.enc = tiktoken.get_encoding(\"cl100k_base\")\n",
    "        self.splitter = TokenTextSplitter(\n",
    "            chunk_size=chunk_size, \n",
    "            chunk_overlap=chunk_overlap\n",
    "        )\n",
    "\n",
    "    def token_counter(self, document):\n",
    "        tokens = self.enc.encode(document.page_content)\n",
    "        return len(tokens)\n",
    "\n",
    "    def split(self, documents):\n",
    "        chunked_documents = []\n",
    "        for i, doc in enumerate(documents):\n",
    "            try:\n",
    "                if self.token_counter(doc) > self.chunk_threshold:\n",
    "                    chunks = self.splitter.split_documents([doc])\n",
    "                    chunks = [\n",
    "                        Document(\n",
    "                            page_content=chunk.page_content,\n",
    "                            metadata={\n",
    "                                \"source\": f\"{chunk.metadata['source']} chunk {i}\"\n",
    "                            },\n",
    "                        )\n",
    "                        for i, chunk in enumerate(chunks)\n",
    "                    ]\n",
    "                    chunked_documents.extend(chunks)\n",
    "                else:\n",
    "                    chunked_documents.append(doc)\n",
    "            except Exception as e:\n",
    "                chunked_documents.append(doc)\n",
    "                print(f\"Error on document {i}\")\n",
    "                print(e)\n",
    "                print(doc.metadata[\"source\"])\n",
    "\n",
    "        return chunked_documents\n",
    "\n",
    "\n",
    "class CustomRetriever(BaseRetriever, BaseModel):\n",
    "    full_docs: List[Document]\n",
    "    base_retriever: BaseRetriever = None\n",
    "    k_final: int = 4\n",
    "\n",
    "    logger: Any = None\n",
    "\n",
    "    class Config:\n",
    "        \"\"\"Configuration for this pydantic object.\"\"\"\n",
    "\n",
    "        arbitrary_types_allowed = True\n",
    "\n",
    "    @classmethod\n",
    "    def from_documents(\n",
    "        cls,\n",
    "        full_docs: List[Document],\n",
    "        vector_store: FAISS,\n",
    "        search_kwargs: Dict[str, Any] = {},\n",
    "        k_initial: int = 10,\n",
    "        k_final: int = 4,\n",
    "        logger: Any = None,\n",
    "        **kwargs: Any,\n",
    "    ):\n",
    "        # splitter = RecursiveCharacterTextSplitter(chunk_size=1500, chunk_overlap=50)\n",
    "        # split_docs = splitter.split_documents(full_docs)\n",
    "        # vector_store = FAISS.from_documents(split_docs, embedding=OpenAIEmbeddings())\n",
    "\n",
    "        return cls(\n",
    "            full_docs=full_docs,\n",
    "            base_retriever=vector_store.as_retriever(search_kwargs={\"k\": k_initial}),\n",
    "            logger=logger,\n",
    "        )\n",
    "\n",
    "    def get_relevant_documents(self, query: str, workflow:int=1) -> List[Document]:\n",
    "\n",
    "        results =  self.base_retriever.get_relevant_documents(query=query)\n",
    "        self.logger.info(f\"Retrieved {len(results)} documents\")\n",
    "        self.logger.info(f\"Worflow: {workflow}\")\n",
    "        \n",
    "        if workflow == 2:\n",
    "            doc_ids = [doc.metadata[\"source\"] for doc in results]\n",
    "\n",
    "            # make it a set but keep the order\n",
    "            doc_ids = list(dict.fromkeys(doc_ids))[:self.k_final]\n",
    "\n",
    "            # log to the logger\n",
    "            self.logger.info(f\"Retrieved {len(doc_ids)} unique documents\")\n",
    "\n",
    "            # get upto 4 documents\n",
    "            full_retrieved_docs = [d for d in self.full_docs if d.metadata[\"source\"] in doc_ids]\n",
    "\n",
    "            return self.prepare_source(full_retrieved_docs)\n",
    "\n",
    "        full_retrieved_docs = results[:self.k_final]\n",
    "        return self.prepare_source(full_retrieved_docs)\n",
    "        \n",
    "    async def aget_relevant_documents(self, query: str) -> List[Document]:\n",
    "        raise NotImplementedError\n",
    "\n",
    "    def prepare_source(self, documents: List[Document]) -> List[Document]:\n",
    "        \n",
    "        for doc in documents:\n",
    "            source = doc.metadata[\"source\"]\n",
    "            if \"chunk\" in source:\n",
    "                source = source.split(\"chunk\")[0].strip()\n",
    "                doc.metadata[\"source\"] = source\n",
    "\n",
    "        return documents"
   ]
  },
  {
   "cell_type": "code",
   "execution_count": 68,
   "metadata": {},
   "outputs": [],
   "source": [
    "with open(\"/home/marshath/play/chainlink/assistant/data/stackoverflow_documents.pkl\", \"rb\") as f:\n",
    "    so_docs = pickle.load(f)\n",
    "\n",
    "so_docs = list(so_docs.values())\n",
    "\n",
    "final_docs = []\n",
    "for doc in documents:\n",
    "    if isinstance(doc, Document):\n",
    "        final_docs.append(doc)\n",
    "\n",
    "\n",
    "final_docs.extend(so_docs)"
   ]
  },
  {
   "cell_type": "code",
   "execution_count": 69,
   "metadata": {},
   "outputs": [
    {
     "name": "stderr",
     "output_type": "stream",
     "text": [
      "Retrying langchain.embeddings.openai.embed_with_retry.<locals>._embed_with_retry in 4.0 seconds as it raised RateLimitError: Rate limit reached for default-text-embedding-ada-002 in organization org-apfNELnY4pAbHrx6LItJCss8 on tokens per min. Limit: 1000000 / min. Current: 808816 / min. Contact us through our help center at help.openai.com if you continue to have issues..\n"
     ]
    }
   ],
   "source": [
    "full_doc_splitter = CustomeSplitter()\n",
    "chunked_full_documents = full_doc_splitter.split(final_docs)\n",
    "\n",
    "splitter = RecursiveCharacterTextSplitter(chunk_size=1200, chunk_overlap=50)\n",
    "split_docs = splitter.split_documents(final_docs)\n",
    "\n",
    "vectorstore = FAISS.from_documents(split_docs, embedding=OpenAIEmbeddings())"
   ]
  },
  {
   "cell_type": "code",
   "execution_count": 58,
   "metadata": {},
   "outputs": [],
   "source": [
    "with open(\"/home/marshath/play/chainlink/assistant/data/vectorstore.pkl\", \"wb\") as f:\n",
    "    pickle.dump(vectorstore, f)"
   ]
  },
  {
   "cell_type": "code",
   "execution_count": 59,
   "metadata": {},
   "outputs": [],
   "source": [
    "with open(\"/home/marshath/play/chainlink/assistant/data/vectorstore.pkl\", \"rb\") as f:\n",
    "    vectorstore = pickle.load(f)"
   ]
  },
  {
   "cell_type": "code",
   "execution_count": 60,
   "metadata": {},
   "outputs": [],
   "source": [
    "retriever = CustomRetriever.from_documents(\n",
    "    chunked_full_documents, \n",
    "    vector_store=vectorstore,\n",
    "    k_initial=10, \n",
    "    k_final=4, \n",
    "    logger=logger\n",
    ")"
   ]
  },
  {
   "cell_type": "code",
   "execution_count": 65,
   "metadata": {},
   "outputs": [],
   "source": [
    "r = retriever.get_relevant_documents(\"what is chainlink\", workflow=2)"
   ]
  },
  {
   "cell_type": "code",
   "execution_count": 66,
   "metadata": {},
   "outputs": [
    {
     "name": "stdout",
     "output_type": "stream",
     "text": [
      "https://blog.chain.link/chainlink-enterprise-blockchain-middleware/\n",
      "https://blog.chain.link/introducing-the-cross-chain-interoperability-protocol-ccip/\n",
      "https://blog.chain.link/smart-contract-use-cases/\n",
      "https://blog.chain.link/smart-contract-use-cases/\n",
      "https://blog.chain.link/smart-contract-use-cases/\n",
      "https://blog.chain.link/smart-contract-use-cases/\n",
      "https://blog.chain.link/breaking-down-mixicles-and-its-potential-to-unlock-enterprise-demand-for-defi-applications-on-public-blockchains/\n"
     ]
    }
   ],
   "source": [
    "for e in r:\n",
    "    print(e.metadata['source'])"
   ]
  },
  {
   "cell_type": "code",
   "execution_count": null,
   "metadata": {},
   "outputs": [],
   "source": []
  }
 ],
 "metadata": {
  "kernelspec": {
   "display_name": "chainlink",
   "language": "python",
   "name": "python3"
  },
  "language_info": {
   "codemirror_mode": {
    "name": "ipython",
    "version": 3
   },
   "file_extension": ".py",
   "mimetype": "text/x-python",
   "name": "python",
   "nbconvert_exporter": "python",
   "pygments_lexer": "ipython3",
   "version": "3.10.11"
  },
  "orig_nbformat": 4
 },
 "nbformat": 4,
 "nbformat_minor": 2
}
