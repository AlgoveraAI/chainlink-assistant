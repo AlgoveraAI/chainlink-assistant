{
 "cells": [
  {
   "cell_type": "code",
   "execution_count": 1,
   "metadata": {},
   "outputs": [],
   "source": [
    "from dotenv import load_dotenv\n",
    "load_dotenv(\"/home/marshath/play/chainlink/algovate/.env\")"
   ]
  },
  {
   "cell_type": "code",
   "execution_count": 100,
   "metadata": {},
   "outputs": [],
   "source": [
    "import time\n",
    "import pickle\n",
    "import pandas as pd\n",
    "from IPython.display import display, Markdown\n",
    "\n",
    "with open('/home/marshath/play/chainlink/algovate/algovate/data/documents.pkl', 'rb') as f:\n",
    "    lc_docs = pickle.load(f)"
   ]
  },
  {
   "cell_type": "code",
   "execution_count": 157,
   "metadata": {},
   "outputs": [],
   "source": [
    "from llama_index.data_structs.node import Node, DocumentRelationship\n",
    "from llama_index.node_parser import SimpleNodeParser\n",
    "from llama_index import GPTVectorStoreIndex, ResponseSynthesizer\n",
    "from llama_index import Document\n",
    "\n",
    "from llama_index import LLMPredictor, GPTVectorStoreIndex, PromptHelper, ServiceContext\n",
    "from langchain.chat_models import ChatOpenAI\n",
    "from llama_index.retrievers import VectorIndexRetriever\n",
    "from llama_index.query_engine import RetrieverQueryEngine\n",
    "from llama_index.indices.postprocessor import SimilarityPostprocessor\n",
    "from algovate.llama.evaluate import run_experiment, grade_model_answer, grade_model_retrieval\n",
    "\n",
    "from langchain.docstore.document import Document as LCDocument\n",
    "from langchain.prompts import PromptTemplate\n",
    "from langchain.chat_models import ChatOpenAI\n",
    "from langchain.chains import LLMChain"
   ]
  },
  {
   "attachments": {},
   "cell_type": "markdown",
   "metadata": {},
   "source": [
    "##### Design a node without parsing"
   ]
  },
  {
   "cell_type": "code",
   "execution_count": 102,
   "metadata": {},
   "outputs": [],
   "source": [
    "documents = []\n",
    "for doc in lc_docs:\n",
    "    documents.append(Document(text=doc.page_content, extra_info=doc.metadata))"
   ]
  },
  {
   "cell_type": "code",
   "execution_count": 103,
   "metadata": {},
   "outputs": [],
   "source": [
    "parser = SimpleNodeParser()\n",
    "nodes = parser.get_nodes_from_documents(documents)"
   ]
  },
  {
   "cell_type": "code",
   "execution_count": 72,
   "metadata": {},
   "outputs": [],
   "source": [
    "llm_predictor = LLMPredictor(llm=ChatOpenAI(temperature=0.,))\n",
    "max_input_size = 4096\n",
    "num_output = 256\n",
    "max_chunk_overlap = 20\n",
    "prompt_helper = PromptHelper(max_input_size, num_output, max_chunk_overlap)\n",
    "service_context = ServiceContext.from_defaults(llm_predictor=llm_predictor, prompt_helper=prompt_helper)\n",
    "\n",
    "index = GPTVectorStoreIndex.from_documents(documents)\n",
    "\n",
    "retriever = VectorIndexRetriever(\n",
    "    index=index, \n",
    "    similarity_top_k=1,\n",
    ")"
   ]
  },
  {
   "cell_type": "code",
   "execution_count": 153,
   "metadata": {},
   "outputs": [
    {
     "data": {
      "text/plain": [
       "'c71b2a0a-bf54-4fc0-be72-dc76009c97ce'"
      ]
     },
     "execution_count": 153,
     "metadata": {},
     "output_type": "execute_result"
    }
   ],
   "source": [
    "question = \"give me a sample solidity contract to use Proof of Reserve Feeds?\"\n",
    "retrieved_node = retriever.retrieve(question)\n",
    "retrieved_node[0].node.doc_id"
   ]
  },
  {
   "cell_type": "code",
   "execution_count": 138,
   "metadata": {},
   "outputs": [
    {
     "data": {
      "text/plain": [
       "<NodeType.TEXT: '1'>"
      ]
     },
     "execution_count": 138,
     "metadata": {},
     "output_type": "execute_result"
    }
   ],
   "source": [
    "retrieved_node[0].node.get_type()"
   ]
  },
  {
   "cell_type": "code",
   "execution_count": 140,
   "metadata": {},
   "outputs": [],
   "source": [
    "retrieved_node = retriever.retrieve(\"give me a sample solidity contract to use Proof of Reserve Feeds?\")\n",
    "retrieved_node[0].node.doc_id\n",
    "retrieved_doc = None\n",
    "for doc in documents:\n",
    "    if retrieved_node[0].node.text in doc.text:\n",
    "        retrieved_doc = LCDocument(page_content= doc.text)\n",
    "splitter = TokenTextSplitter()\n",
    "retrieved_docs = splitter.split_documents([retrieved_doc])"
   ]
  },
  {
   "cell_type": "code",
   "execution_count": 146,
   "metadata": {},
   "outputs": [],
   "source": [
    "# t = \"\"\n",
    "# for doc in retrieved_docs:\n",
    "#     t += doc.page_content\n",
    "\n",
    "# Markdown(t)"
   ]
  },
  {
   "cell_type": "code",
   "execution_count": 189,
   "metadata": {},
   "outputs": [],
   "source": [
    "template = \"\"\"\n",
    "As an AI assistant specialized in ChainLink documentation, your mission is to effectively answer inquiries concerning ChainLink. Remember, if any questions deviate from this topic, kindly redirect the conversation by responding with, \"Kindly focus your questions on ChainLink.\"\n",
    "\n",
    "In the event you are uncertain about an answer, honesty is paramount. Please express that you don't have the necessary information instead of fabricating an answer.\n",
    "\n",
    "Rely solely on the provided context for your responses. To aid your response generation, you have been provided with potential answers based on previous context. Write you answer in Markdown format.\n",
    "\n",
    "Incoming Question: {question}\n",
    "\n",
    "==========================\n",
    "Provided Context: {context}\n",
    "==========================\n",
    "Suggested Answer: {answer}\n",
    "Final Answer:\n",
    "\"\"\"\n",
    "\n",
    "summary_template = \"\"\"\n",
    "Given the following question, summarize the provided context to best answer it.\n",
    "\n",
    "Incoming Question: {question}\n",
    "\n",
    "Provided Context: {context}\n",
    "\"\"\""
   ]
  },
  {
   "cell_type": "code",
   "execution_count": 190,
   "metadata": {},
   "outputs": [],
   "source": [
    "prompt_template = PromptTemplate(template=template, input_variables=[\"question\", \"context\", \"answer\"])\n",
    "summary_template = PromptTemplate(template=summary_template, input_variables=[\"question\", \"context\"])"
   ]
  },
  {
   "cell_type": "code",
   "execution_count": 191,
   "metadata": {},
   "outputs": [],
   "source": [
    "llm = ChatOpenAI(temperature=0.0)\n",
    "chain = LLMChain(llm=llm, prompt=prompt_template)\n",
    "summary_chain = LLMChain(llm=llm, prompt=summary_template)"
   ]
  },
  {
   "cell_type": "code",
   "execution_count": 192,
   "metadata": {},
   "outputs": [
    {
     "name": "stdout",
     "output_type": "stream",
     "text": [
      "The provided context explains the concept of Proof of Reserve Feeds, which provide the status of reserves for different assets. The context also describes the types of Proof of Reserve Feeds, including off-chain and cross-chain reserves, and the methods used to provide data for each type. To use Proof of Reserve Feeds in a Solidity contract, the contract should reference AggregatorV3Interface, which defines the external functions implemented by Data Feeds. However, the context does not provide a sample Solidity contract for using Proof of Reserve Feeds.\n",
      "The provided context includes a sample Solidity contract that uses Proof of Reserve Feeds. The contract references the AggregatorV3Interface and includes a constructor that specifies the address of the feed. The contract also includes a function that returns the latest reserve value. The context includes a disclaimer that users should be careful with the configuration of the feeds used by their smart contracts and assume full responsibility for any loss caused by their use of the feeds. Links to learn more about reading answers from data feeds, getting historical price data, finding contract addresses for Proof of Reserve Feeds, and the Data Feeds API Reference are also provided.\n"
     ]
    }
   ],
   "source": [
    "summary = \"\"\n",
    "for doc in retrieved_docs:\n",
    "    p = prompt_template.format_prompt(question=question, context=doc.page_content, answer=\"\")\n",
    "    res = summary_chain.predict(context=doc.page_content, question=question)\n",
    "    summary += res\n",
    "    print(res)"
   ]
  },
  {
   "cell_type": "code",
   "execution_count": 180,
   "metadata": {},
   "outputs": [
    {
     "data": {
      "text/markdown": [
       "# Proof of Reserve Feeds\n",
       "\n",
       "  * Overview\n",
       "  * Types of Proof of Reserve Feeds\n",
       "  * Off-chain reserves\n",
       "  * Cross-chain reserves\n",
       "  * Using Proof of Reserve Feeds\n",
       "\n",
       "Chainlink Proof of Reserve Feeds provide the status of the reserves for\n",
       "several assets. You can read these feeds the same way that you read other Data\n",
       "Feeds. Specify the [Proof of Reserve Feed Address](/data-feeds/proof-of-reserve/addresses) that you want to read instead of specifying a Price Feed\n",
       "address. See the [Using Data Feeds](/data-feeds/using-data-feeds) page to\n",
       "learn more.\n",
       "\n",
       "To find a list of available Proof of Reserve Feeds, see the [Proof of Reserve\n",
       "Feed Addresses](/data-feeds/proof-of-reserve/addresses) page.\n",
       "\n",
       "## Types of Proof of Reserve Feeds\n",
       "\n",
       "Reserves are available for both cross-chain assets and off-chain assets. This\n",
       "categorization describes the data attestation variations of Proof of Reserve\n",
       "feeds and helps highlight some of the inherent market risks surrounding the\n",
       "data quality of these feeds.\n",
       "\n",
       "Reserves are available for both off-chain assets and cross-chain assets. Token\n",
       "issuers prove the reserves for their assets through several different methods.\n",
       "\n",
       "### Off-chain reserves\n",
       "\n",
       "Off-Chain reserves are sourced from APIs through an [external\n",
       "adapter](/chainlink-nodes/external-adapters/external-adapters).\n",
       "\n",
       "Off-chain reserves provide their data using the following methods:\n",
       "\n",
       "  * Third-party: An auditor, accounting firm, or other third party attests to reserves. This is done by combining both fiat and investment assets into a numeric value that is reported against the token.\n",
       "  * Custodian: Reserves data are pulled directly from the bank or custodian. The custodian has direct access to the bank or vault holding the assets. Generally, this works when the underlying asset pulled requires no additional valuation and is simply reported on-chain.\n",
       "  * ⚠️ Self-attested: Reserve data is read from an API that the token issuer hosts. Self-attested feeds carry additional risk.\n",
       "\n",
       "### Cross-chain reserves\n",
       "\n",
       "Cross-chain reserves are sourced from the network where the reserves are held.\n",
       "Chainlink node operators can report cross-chain reserves by running an\n",
       "[external adapter](/chainlink-nodes/external-adapters/external-adapters) and\n",
       "querying the source-chain client directly. In some instances, the reserves are\n",
       "composed of a dynamic list of IDs or addresses using a composite adapter.\n",
       "\n",
       "Cross-chain reserves provide their data using the following methods:\n",
       "\n",
       "  * Wallet address manager: The project uses the [IPoRAddressList](https://github.com/smartcontractkit/chainlink/blob/develop/contracts/src/v0.8/interfaces/PoRAddressList.sol) wallet address manager contract and self-attests to which addresses they own.\n",
       "  * Wallet address: The project attests which addresses they own through a self-hosted API.\n",
       "\n",
       "## Using Proof of Reserve Feeds\n",
       "\n",
       "Read answers from Proof of Reserve Feeds the same way that you read other Data\n",
       "Feeds. Specify the [Proof of Reserve Feed Address](/data-feeds/proof-of-reserve/addresses) that you want to read instead of specifying a Price Feed\n",
       "address. See the [Using Data Feeds](/data-feeds/using-data-feeds) page to\n",
       "learn more.\n",
       "\n",
       "Using Solidity, your smart contract should reference\n",
       "[`AggregatorV3Interface`](https://github.com/smartcontractkit/chainlink/blob/master/contracts/src/v0.8/interfaces/AggregatorV3Interface.sol),\n",
       "which defines the external functions implemented by Data Feeds.\n",
       "\n",
       "\n",
       "    // SPDX-License-Identifier: MIT\n",
       "    pragma solidity ^0.8.7;\n",
       "    \n",
       "    import \"@chainlink/contracts/src/v0.8/interfaces/AggregatorV3Interface.sol\";\n",
       "    \n",
       "    contract"
      ],
      "text/plain": [
       "<IPython.core.display.Markdown object>"
      ]
     },
     "execution_count": 180,
     "metadata": {},
     "output_type": "execute_result"
    }
   ],
   "source": [
    "Markdown(retrieved_docs[0].page_content)"
   ]
  },
  {
   "cell_type": "code",
   "execution_count": null,
   "metadata": {},
   "outputs": [],
   "source": []
  }
 ],
 "metadata": {
  "kernelspec": {
   "display_name": "chainlink",
   "language": "python",
   "name": "python3"
  },
  "language_info": {
   "codemirror_mode": {
    "name": "ipython",
    "version": 3
   },
   "file_extension": ".py",
   "mimetype": "text/x-python",
   "name": "python",
   "nbconvert_exporter": "python",
   "pygments_lexer": "ipython3",
   "version": "3.10.11"
  },
  "orig_nbformat": 4
 },
 "nbformat": 4,
 "nbformat_minor": 2
}
