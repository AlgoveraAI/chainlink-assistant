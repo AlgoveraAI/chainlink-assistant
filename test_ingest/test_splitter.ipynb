{
 "cells": [
  {
   "cell_type": "code",
   "execution_count": 76,
   "metadata": {},
   "outputs": [
    {
     "name": "stderr",
     "output_type": "stream",
     "text": [
      "Python-dotenv could not parse statement starting at line 4\n"
     ]
    },
    {
     "data": {
      "text/plain": [
       "True"
      ]
     },
     "execution_count": 76,
     "metadata": {},
     "output_type": "execute_result"
    }
   ],
   "source": [
    "from dotenv import load_dotenv\n",
    "load_dotenv()"
   ]
  },
  {
   "cell_type": "code",
   "execution_count": 77,
   "metadata": {},
   "outputs": [],
   "source": [
    "import pickle\n",
    "import tiktoken\n",
    "import pandas as pd\n",
    "import numpy as np\n",
    "\n",
    "from llama_index import Document\n",
    "from llama_index.node_parser import SimpleNodeParser\n",
    "from llama_index.indices.postprocessor import LLMRerank\n",
    "\n",
    "from langchain.chat_models import ChatOpenAI\n",
    "from langchain.text_splitter import RecursiveCharacterTextSplitter, Language\n",
    "from llama_index import LLMPredictor, GPTVectorStoreIndex, PromptHelper, ServiceContext"
   ]
  },
  {
   "cell_type": "code",
   "execution_count": 114,
   "metadata": {},
   "outputs": [],
   "source": [
    "from IPython.display import display, Markdown\n",
    "import ipywidgets as widgets\n"
   ]
  },
  {
   "cell_type": "code",
   "execution_count": 78,
   "metadata": {},
   "outputs": [],
   "source": [
    "with open(\"../algovate/data/documents.pkl\", \"rb\") as f:\n",
    "    lc_documents = pickle.load(f)\n",
    "\n",
    "enc = tiktoken.get_encoding(\"cl100k_base\")\n"
   ]
  },
  {
   "cell_type": "code",
   "execution_count": 112,
   "metadata": {},
   "outputs": [],
   "source": [
    "def evaluate_dataframe_answer(df):\n",
    "    # Add right_or_wrong column if it doesn't exist\n",
    "    if 'right_or_wrong' not in df.columns:\n",
    "        df['right_or_wrong'] = ''\n",
    "\n",
    "    # Widgets\n",
    "    button_right = widgets.Button(description=\"Right\")\n",
    "    button_wrong = widgets.Button(description=\"Wrong\")\n",
    "    button_partial = widgets.Button(description=\"partial\")\n",
    "    out = widgets.Output()\n",
    "\n",
    "    # Starting index\n",
    "    index = [0]  # Use list to allow mutation inside functions\n",
    "\n",
    "    def display_row(row):\n",
    "        \"\"\"\n",
    "        Display the row data in markdown\n",
    "        \"\"\"\n",
    "        with out:\n",
    "            display(Markdown(f\"**Question**: {row['question']}\"))\n",
    "            display(Markdown(f\"**Answer**: {row['answer']}\"))\n",
    "            display(Markdown(f\"**Result**: {row['result']}\\n\"))\n",
    "\n",
    "    def on_button_right_clicked(b):\n",
    "        \"\"\"\n",
    "        Update right_or_wrong column with 'right' and go to next row\n",
    "        \"\"\"\n",
    "        df.at[index[0], 'right_or_wrong'] = 'right'\n",
    "        index[0] += 1\n",
    "        out.clear_output()\n",
    "        if index[0] < len(df):\n",
    "            display_row(df.iloc[index[0]])\n",
    "\n",
    "    def on_button_wrong_clicked(b):\n",
    "        \"\"\"\n",
    "        Update right_or_wrong column with 'wrong' and go to next row\n",
    "        \"\"\"\n",
    "        df.at[index[0], 'right_or_wrong'] = 'wrong'\n",
    "        index[0] += 1\n",
    "        out.clear_output()\n",
    "        if index[0] < len(df):\n",
    "            display_row(df.iloc[index[0]])\n",
    "\n",
    "    def on_button_partial_clicked(b):\n",
    "        \"\"\"\n",
    "        Update right_or_wrong column with 'partial' and go to next row\n",
    "        \"\"\"\n",
    "        df.at[index[0], 'right_or_wrong'] = 'partial'\n",
    "        index[0] += 1\n",
    "        out.clear_output()\n",
    "        if index[0] < len(df):\n",
    "            display_row(df.iloc[index[0]])\n",
    "\n",
    "    button_right.on_click(on_button_right_clicked)\n",
    "    button_wrong.on_click(on_button_wrong_clicked)\n",
    "    button_partial.on_click(on_button_partial_clicked)\n",
    "\n",
    "    display(out)\n",
    "    display(button_right, button_wrong, button_partial)\n",
    "\n",
    "    # Start by displaying the first row\n",
    "    display_row(df.iloc[0])"
   ]
  },
  {
   "attachments": {},
   "cell_type": "markdown",
   "metadata": {},
   "source": [
    "### Markdown Splitter"
   ]
  },
  {
   "cell_type": "code",
   "execution_count": 79,
   "metadata": {},
   "outputs": [
    {
     "data": {
      "text/plain": [
       "<Axes: >"
      ]
     },
     "execution_count": 79,
     "metadata": {},
     "output_type": "execute_result"
    },
    {
     "data": {
      "image/png": "[encoded data removed]",
      "text/plain": [
       "<Figure size 640x480 with 1 Axes>"
      ]
     },
     "metadata": {},
     "output_type": "display_data"
    }
   ],
   "source": [
    "splitter = RecursiveCharacterTextSplitter(chunk_size=(700*5), chunk_overlap=100)\n",
    "split_docs = splitter.split_documents(lc_documents)\n",
    "lens = []\n",
    "for doc in split_docs:\n",
    "    d = doc.page_content\n",
    "    lens.append(\n",
    "        len(enc.encode(d))\n",
    "    )\n",
    "pd.Series(lens).hist(bins=100)"
   ]
  },
  {
   "cell_type": "code",
   "execution_count": 67,
   "metadata": {},
   "outputs": [],
   "source": [
    "splitter_markdown = RecursiveCharacterTextSplitter.from_language(language=Language.MARKDOWN, chunk_size=(700*5), chunk_overlap=100)\n",
    "#(chunk_size=1000, chunk_overlap=100, language=Language.MARKDOWN)\n",
    "\n",
    "split_docs_markdown = splitter_markdown.split_documents(lc_documents)\n",
    "\n",
    "lens_markdown = []\n",
    "for doc in split_docs_markdown:\n",
    "    d = doc.page_content\n",
    "    lens_markdown.append(\n",
    "        len(enc.encode(d))\n",
    "    )\n",
    "\n",
    "# pd.Series(lens_markdown).hist(bins=100)"
   ]
  },
  {
   "cell_type": "code",
   "execution_count": 68,
   "metadata": {},
   "outputs": [
    {
     "data": {
      "text/plain": [
       "(779, 611)"
      ]
     },
     "execution_count": 68,
     "metadata": {},
     "output_type": "execute_result"
    }
   ],
   "source": [
    "len(lens_markdown), len(lens)"
   ]
  },
  {
   "attachments": {},
   "cell_type": "markdown",
   "metadata": {},
   "source": [
    "### Node Parser"
   ]
  },
  {
   "cell_type": "code",
   "execution_count": 105,
   "metadata": {},
   "outputs": [],
   "source": [
    "# load the ground truths\n",
    "with open(\"/home/marshath/play/chainlink/algovate/algovate/data/ground_truths.pkl\", \"rb\") as f:\n",
    "    ground_truths = pickle.load(f)\n",
    "\n",
    "df = pd.DataFrame(ground_truths)"
   ]
  },
  {
   "cell_type": "code",
   "execution_count": 80,
   "metadata": {},
   "outputs": [],
   "source": [
    "documents = []\n",
    "for doc in lc_documents:\n",
    "    documents.append(\n",
    "        Document(\n",
    "            text=doc.page_content, \n",
    "            extra_info=doc.metadata\n",
    "        )\n",
    "    )\n",
    "\n",
    "parser = SimpleNodeParser(\n",
    "    text_splitter=RecursiveCharacterTextSplitter.from_language(\n",
    "                            language=Language.MARKDOWN, \n",
    "                            chunk_size=(700*5), \n",
    "                            chunk_overlap=100\n",
    "    )\n",
    ") \n",
    "nodes = parser.get_nodes_from_documents(documents)"
   ]
  },
  {
   "cell_type": "code",
   "execution_count": 81,
   "metadata": {},
   "outputs": [],
   "source": [
    "llm_predictor = LLMPredictor(\n",
    "    llm=ChatOpenAI(\n",
    "        temperature=0, \n",
    "        model_name=\"gpt-3.5-turbo\"\n",
    "    )\n",
    ")"
   ]
  },
  {
   "cell_type": "code",
   "execution_count": 84,
   "metadata": {},
   "outputs": [],
   "source": [
    "service_context = ServiceContext.from_defaults(llm_predictor=llm_predictor, node_parser=parser)\n",
    "reranker = LLMRerank(choice_batch_size=5, top_n=3, service_context=service_context)"
   ]
  },
  {
   "cell_type": "code",
   "execution_count": 107,
   "metadata": {},
   "outputs": [],
   "source": [
    "index = GPTVectorStoreIndex.from_documents(\n",
    "    documents=documents, \n",
    "    service_context=service_context\n",
    ")\n",
    "\n",
    "query_engine = index.as_query_engine(\n",
    "    similarity_top_k=10,\n",
    "    node_postprocessors=[reranker],\n",
    ")"
   ]
  },
  {
   "cell_type": "code",
   "execution_count": 109,
   "metadata": {},
   "outputs": [
    {
     "name": "stdout",
     "output_type": "stream",
     "text": [
      "This model's maximum context length is 4097 tokens. However, your messages resulted in 4429 tokens. Please reduce the length of the messages.\n",
      "This model's maximum context length is 4097 tokens. However, your messages resulted in 5243 tokens. Please reduce the length of the messages.\n",
      "This model's maximum context length is 4097 tokens. However, your messages resulted in 5063 tokens. Please reduce the length of the messages.\n",
      "This model's maximum context length is 4097 tokens. However, your messages resulted in 4328 tokens. Please reduce the length of the messages.\n",
      "invalid literal for int() with base 10: 'Both documents are relevant'\n",
      "list index out of range\n"
     ]
    }
   ],
   "source": [
    "df2 = df.copy()\n",
    "for i, gt in df2.iterrows():\n",
    "    try:\n",
    "        df2.loc[i, \"result\"] = query_engine.query(gt.question)\n",
    "    except Exception as e:\n",
    "        print(e)\n",
    "        df2.loc[i, \"result\"] = \"ERROR\""
   ]
  },
  {
   "cell_type": "code",
   "execution_count": 110,
   "metadata": {},
   "outputs": [
    {
     "data": {
      "text/html": [
       "<div>\n",
       "<style scoped>\n",
       "    .dataframe tbody tr th:only-of-type {\n",
       "        vertical-align: middle;\n",
       "    }\n",
       "\n",
       "    .dataframe tbody tr th {\n",
       "        vertical-align: top;\n",
       "    }\n",
       "\n",
       "    .dataframe thead th {\n",
       "        text-align: right;\n",
       "    }\n",
       "</style>\n",
       "<table border=\"1\" class=\"dataframe\">\n",
       "  <thead>\n",
       "    <tr style=\"text-align: right;\">\n",
       "      <th></th>\n",
       "      <th>question</th>\n",
       "      <th>answer</th>\n",
       "      <th>result</th>\n",
       "    </tr>\n",
       "  </thead>\n",
       "  <tbody>\n",
       "    <tr>\n",
       "      <th>0</th>\n",
       "      <td>give me a sample solidity contract to use Chai...</td>\n",
       "      <td>// SPDX-License-Identifier: MIT\\npragma solidi...</td>\n",
       "      <td>Here is a sample Solidity contract to use Chai...</td>\n",
       "    </tr>\n",
       "    <tr>\n",
       "      <th>1</th>\n",
       "      <td>give me a sample solidity contract to use Chai...</td>\n",
       "      <td>// SPDX-License-Identifier: MIT\\npragma solidi...</td>\n",
       "      <td>For this example, you can use the `VRFD20.sol`...</td>\n",
       "    </tr>\n",
       "    <tr>\n",
       "      <th>2</th>\n",
       "      <td>give me a sample solidity contract to use NFT ...</td>\n",
       "      <td>// SPDX-License-Identifier: MIT\\npragma solidi...</td>\n",
       "      <td>Here is a sample Solidity contract to use NFT ...</td>\n",
       "    </tr>\n",
       "    <tr>\n",
       "      <th>3</th>\n",
       "      <td>give me a sample solidity contract to use Proo...</td>\n",
       "      <td>// SPDX-License-Identifier: MIT\\npragma solidi...</td>\n",
       "      <td>Here is a sample Solidity contract to use Proo...</td>\n",
       "    </tr>\n",
       "    <tr>\n",
       "      <th>4</th>\n",
       "      <td>Give sample code for an example contract that ...</td>\n",
       "      <td>// SPDX-License-Identifier: MIT\\npragma solidi...</td>\n",
       "      <td>```\\n// SPDX-License-Identifier: MIT\\npragma s...</td>\n",
       "    </tr>\n",
       "    <tr>\n",
       "      <th>5</th>\n",
       "      <td>Give code examples to demonstrate how to deplo...</td>\n",
       "      <td>// SPDX-License-Identifier: MIT\\npragma solidi...</td>\n",
       "      <td>Solidity and Vyper code examples are provided ...</td>\n",
       "    </tr>\n",
       "    <tr>\n",
       "      <th>6</th>\n",
       "      <td>Write code to show how to use web3.js to retri...</td>\n",
       "      <td>/**\\n * THIS IS EXAMPLE CODE THAT USES HARDCOD...</td>\n",
       "      <td>Here is an example code that uses web3.js to r...</td>\n",
       "    </tr>\n",
       "    <tr>\n",
       "      <th>7</th>\n",
       "      <td>What is the LINK token contract on ethereum ma...</td>\n",
       "      <td>0x514910771AF9Ca656af840dff83E8264EcF986CA</td>\n",
       "      <td>The LINK token contract on Ethereum mainnet ha...</td>\n",
       "    </tr>\n",
       "    <tr>\n",
       "      <th>8</th>\n",
       "      <td>What is the chainlink price feed address for 1...</td>\n",
       "      <td>0x72AFAECF99C9d9C8215fF44C77B94B99C28741e8</td>\n",
       "      <td>ERROR</td>\n",
       "    </tr>\n",
       "    <tr>\n",
       "      <th>9</th>\n",
       "      <td>What is the proof of reserve address for Cache...</td>\n",
       "      <td>Not provided in the context</td>\n",
       "      <td>The context information states the proof of re...</td>\n",
       "    </tr>\n",
       "    <tr>\n",
       "      <th>10</th>\n",
       "      <td>What is the rate and Volatility Feed Address f...</td>\n",
       "      <td>0xceA6Aa74E6A86a7f85B571Ce1C34f1A60B77CD29</td>\n",
       "      <td>ERROR</td>\n",
       "    </tr>\n",
       "    <tr>\n",
       "      <th>11</th>\n",
       "      <td>What is the NFT floor price address for Bored ...</td>\n",
       "      <td>0x352f2Bc3039429fC2fe62004a1575aE74001CfcE</td>\n",
       "      <td>ERROR</td>\n",
       "    </tr>\n",
       "    <tr>\n",
       "      <th>12</th>\n",
       "      <td>What is Chainlink?</td>\n",
       "      <td>Chainlink is a decentralized oracle network th...</td>\n",
       "      <td>Chainlink is a decentralized oracle network th...</td>\n",
       "    </tr>\n",
       "    <tr>\n",
       "      <th>13</th>\n",
       "      <td>What is a runlog initiator in chainlink?</td>\n",
       "      <td>The RunLog initiator is an integral component ...</td>\n",
       "      <td>A runlog initiator in Chainlink is a type of i...</td>\n",
       "    </tr>\n",
       "    <tr>\n",
       "      <th>14</th>\n",
       "      <td>What are Chainlink data feeds?</td>\n",
       "      <td>Chainlink Price Feeds, often just called Chain...</td>\n",
       "      <td>Chainlink Data Feeds are a way to connect smar...</td>\n",
       "    </tr>\n",
       "    <tr>\n",
       "      <th>15</th>\n",
       "      <td>What is a Chainlink subscription account?</td>\n",
       "      <td>An account that holds LINK tokens and makes th...</td>\n",
       "      <td>A Chainlink subscription account is an account...</td>\n",
       "    </tr>\n",
       "    <tr>\n",
       "      <th>16</th>\n",
       "      <td>How can i request data from a public API in a ...</td>\n",
       "      <td>Here are the general steps to request data fro...</td>\n",
       "      <td>ERROR</td>\n",
       "    </tr>\n",
       "    <tr>\n",
       "      <th>17</th>\n",
       "      <td>What is an adapter in chainlink?</td>\n",
       "      <td>Core adapters are the built-in functionality t...</td>\n",
       "      <td>An adapter in Chainlink is a service that enab...</td>\n",
       "    </tr>\n",
       "    <tr>\n",
       "      <th>18</th>\n",
       "      <td>What is a task in chainlink?</td>\n",
       "      <td>In the Chainlink ecosystem, a \"task\" refers to...</td>\n",
       "      <td>In Chainlink, a task is a replacement for core...</td>\n",
       "    </tr>\n",
       "    <tr>\n",
       "      <th>19</th>\n",
       "      <td>What is The request and receive cycle in chain...</td>\n",
       "      <td>The request and receive cycle in Chainlink des...</td>\n",
       "      <td>The request and receive cycle in Chainlink des...</td>\n",
       "    </tr>\n",
       "    <tr>\n",
       "      <th>20</th>\n",
       "      <td>What are jobs in Chainlink?</td>\n",
       "      <td>In the Chainlink ecosystem, a \"job\" refers to ...</td>\n",
       "      <td>ERROR</td>\n",
       "    </tr>\n",
       "    <tr>\n",
       "      <th>21</th>\n",
       "      <td>How can i Acquire testnet LINK from Chainlink?</td>\n",
       "      <td>you can acquire testnet LINK tokens for Chainl...</td>\n",
       "      <td>To acquire testnet LINK from Chainlink, you ca...</td>\n",
       "    </tr>\n",
       "    <tr>\n",
       "      <th>22</th>\n",
       "      <td>What is the decentralized data model in Chainl...</td>\n",
       "      <td>The decentralized data model in Chainlink refe...</td>\n",
       "      <td>The decentralized data model in Chainlink invo...</td>\n",
       "    </tr>\n",
       "    <tr>\n",
       "      <th>23</th>\n",
       "      <td>What data types are available for Rate and Vol...</td>\n",
       "      <td>The following data types are available:\\n\\nBit...</td>\n",
       "      <td>The available data types for Rate and Volatili...</td>\n",
       "    </tr>\n",
       "    <tr>\n",
       "      <th>24</th>\n",
       "      <td>What is a Chainlink NFT Floor Price Feed?</td>\n",
       "      <td>Chainlink NFT Floor Price Feeds provide a cons...</td>\n",
       "      <td>A Chainlink NFT Floor Price Feed is a data fee...</td>\n",
       "    </tr>\n",
       "    <tr>\n",
       "      <th>25</th>\n",
       "      <td>How can I Select Quality Data Feeds on Chainlink?</td>\n",
       "      <td>Selecting quality data feeds on Chainlink invo...</td>\n",
       "      <td>To select quality data feeds on Chainlink, one...</td>\n",
       "    </tr>\n",
       "    <tr>\n",
       "      <th>26</th>\n",
       "      <td>What are verified feeds on Chainlink?</td>\n",
       "      <td>These are data feeds that follow a standardize...</td>\n",
       "      <td>ERROR</td>\n",
       "    </tr>\n",
       "  </tbody>\n",
       "</table>\n",
       "</div>"
      ],
      "text/plain": [
       "                                             question  \\\n",
       "0   give me a sample solidity contract to use Chai...   \n",
       "1   give me a sample solidity contract to use Chai...   \n",
       "2   give me a sample solidity contract to use NFT ...   \n",
       "3   give me a sample solidity contract to use Proo...   \n",
       "4   Give sample code for an example contract that ...   \n",
       "5   Give code examples to demonstrate how to deplo...   \n",
       "6   Write code to show how to use web3.js to retri...   \n",
       "7   What is the LINK token contract on ethereum ma...   \n",
       "8   What is the chainlink price feed address for 1...   \n",
       "9   What is the proof of reserve address for Cache...   \n",
       "10  What is the rate and Volatility Feed Address f...   \n",
       "11  What is the NFT floor price address for Bored ...   \n",
       "12                                 What is Chainlink?   \n",
       "13           What is a runlog initiator in chainlink?   \n",
       "14                     What are Chainlink data feeds?   \n",
       "15          What is a Chainlink subscription account?   \n",
       "16  How can i request data from a public API in a ...   \n",
       "17                   What is an adapter in chainlink?   \n",
       "18                       What is a task in chainlink?   \n",
       "19  What is The request and receive cycle in chain...   \n",
       "20                        What are jobs in Chainlink?   \n",
       "21     How can i Acquire testnet LINK from Chainlink?   \n",
       "22  What is the decentralized data model in Chainl...   \n",
       "23  What data types are available for Rate and Vol...   \n",
       "24          What is a Chainlink NFT Floor Price Feed?   \n",
       "25  How can I Select Quality Data Feeds on Chainlink?   \n",
       "26              What are verified feeds on Chainlink?   \n",
       "\n",
       "                                               answer  \\\n",
       "0   // SPDX-License-Identifier: MIT\\npragma solidi...   \n",
       "1   // SPDX-License-Identifier: MIT\\npragma solidi...   \n",
       "2   // SPDX-License-Identifier: MIT\\npragma solidi...   \n",
       "3   // SPDX-License-Identifier: MIT\\npragma solidi...   \n",
       "4   // SPDX-License-Identifier: MIT\\npragma solidi...   \n",
       "5   // SPDX-License-Identifier: MIT\\npragma solidi...   \n",
       "6   /**\\n * THIS IS EXAMPLE CODE THAT USES HARDCOD...   \n",
       "7          0x514910771AF9Ca656af840dff83E8264EcF986CA   \n",
       "8          0x72AFAECF99C9d9C8215fF44C77B94B99C28741e8   \n",
       "9                         Not provided in the context   \n",
       "10         0xceA6Aa74E6A86a7f85B571Ce1C34f1A60B77CD29   \n",
       "11         0x352f2Bc3039429fC2fe62004a1575aE74001CfcE   \n",
       "12  Chainlink is a decentralized oracle network th...   \n",
       "13  The RunLog initiator is an integral component ...   \n",
       "14  Chainlink Price Feeds, often just called Chain...   \n",
       "15  An account that holds LINK tokens and makes th...   \n",
       "16  Here are the general steps to request data fro...   \n",
       "17  Core adapters are the built-in functionality t...   \n",
       "18  In the Chainlink ecosystem, a \"task\" refers to...   \n",
       "19  The request and receive cycle in Chainlink des...   \n",
       "20  In the Chainlink ecosystem, a \"job\" refers to ...   \n",
       "21  you can acquire testnet LINK tokens for Chainl...   \n",
       "22  The decentralized data model in Chainlink refe...   \n",
       "23  The following data types are available:\\n\\nBit...   \n",
       "24  Chainlink NFT Floor Price Feeds provide a cons...   \n",
       "25  Selecting quality data feeds on Chainlink invo...   \n",
       "26  These are data feeds that follow a standardize...   \n",
       "\n",
       "                                               result  \n",
       "0   Here is a sample Solidity contract to use Chai...  \n",
       "1   For this example, you can use the `VRFD20.sol`...  \n",
       "2   Here is a sample Solidity contract to use NFT ...  \n",
       "3   Here is a sample Solidity contract to use Proo...  \n",
       "4   ```\\n// SPDX-License-Identifier: MIT\\npragma s...  \n",
       "5   Solidity and Vyper code examples are provided ...  \n",
       "6   Here is an example code that uses web3.js to r...  \n",
       "7   The LINK token contract on Ethereum mainnet ha...  \n",
       "8                                               ERROR  \n",
       "9   The context information states the proof of re...  \n",
       "10                                              ERROR  \n",
       "11                                              ERROR  \n",
       "12  Chainlink is a decentralized oracle network th...  \n",
       "13  A runlog initiator in Chainlink is a type of i...  \n",
       "14  Chainlink Data Feeds are a way to connect smar...  \n",
       "15  A Chainlink subscription account is an account...  \n",
       "16                                              ERROR  \n",
       "17  An adapter in Chainlink is a service that enab...  \n",
       "18  In Chainlink, a task is a replacement for core...  \n",
       "19  The request and receive cycle in Chainlink des...  \n",
       "20                                              ERROR  \n",
       "21  To acquire testnet LINK from Chainlink, you ca...  \n",
       "22  The decentralized data model in Chainlink invo...  \n",
       "23  The available data types for Rate and Volatili...  \n",
       "24  A Chainlink NFT Floor Price Feed is a data fee...  \n",
       "25  To select quality data feeds on Chainlink, one...  \n",
       "26                                              ERROR  "
      ]
     },
     "execution_count": 110,
     "metadata": {},
     "output_type": "execute_result"
    }
   ],
   "source": [
    "df2"
   ]
  },
  {
   "cell_type": "code",
   "execution_count": 115,
   "metadata": {},
   "outputs": [
    {
     "data": {
      "application/vnd.jupyter.widget-view+json": {
       "model_id": "a22d18550fc34db4a39dee5feeacd28d",
       "version_major": 2,
       "version_minor": 0
      },
      "text/plain": [
       "Output()"
      ]
     },
     "metadata": {},
     "output_type": "display_data"
    },
    {
     "data": {
      "application/vnd.jupyter.widget-view+json": {
       "model_id": "2e5e0323eca3412f846150f761140a85",
       "version_major": 2,
       "version_minor": 0
      },
      "text/plain": [
       "Button(description='Right', style=ButtonStyle())"
      ]
     },
     "metadata": {},
     "output_type": "display_data"
    },
    {
     "data": {
      "application/vnd.jupyter.widget-view+json": {
       "model_id": "4741adb640c14304844bbac48b4ba347",
       "version_major": 2,
       "version_minor": 0
      },
      "text/plain": [
       "Button(description='Wrong', style=ButtonStyle())"
      ]
     },
     "metadata": {},
     "output_type": "display_data"
    },
    {
     "data": {
      "application/vnd.jupyter.widget-view+json": {
       "model_id": "7dfbd5b2c7374f4882e7b22c2cc33a8b",
       "version_major": 2,
       "version_minor": 0
      },
      "text/plain": [
       "Button(description='partial', style=ButtonStyle())"
      ]
     },
     "metadata": {},
     "output_type": "display_data"
    }
   ],
   "source": [
    "evaluate_dataframe_answer(df2)"
   ]
  },
  {
   "cell_type": "code",
   "execution_count": null,
   "metadata": {},
   "outputs": [],
   "source": []
  }
 ],
 "metadata": {
  "kernelspec": {
   "display_name": "chainlink",
   "language": "python",
   "name": "python3"
  },
  "language_info": {
   "codemirror_mode": {
    "name": "ipython",
    "version": 3
   },
   "file_extension": ".py",
   "mimetype": "text/x-python",
   "name": "python",
   "nbconvert_exporter": "python",
   "pygments_lexer": "ipython3",
   "version": "3.10.11"
  },
  "orig_nbformat": 4
 },
 "nbformat": 4,
 "nbformat_minor": 2
}
